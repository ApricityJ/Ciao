{
 "cells": [
  {
   "cell_type": "code",
   "execution_count": 1,
   "metadata": {
    "collapsed": true,
    "ExecuteTime": {
     "start_time": "2024-03-06T16:12:22.188208Z",
     "end_time": "2024-03-06T16:12:28.034448Z"
    }
   },
   "outputs": [],
   "source": [
    "import warnings\n",
    "import os\n",
    "from glob import glob\n",
    "from pathlib import Path\n",
    "import operator\n",
    "\n",
    "import pandas as pd\n",
    "import polars as pl\n",
    "import polars.selectors as cs\n",
    "from sklearn import preprocessing\n",
    "from category_encoders import OneHotEncoder\n",
    "from category_encoders.target_encoder import TargetEncoder\n",
    "\n",
    "pd.set_option('display.float_format',lambda x : '%.6f' % x)\n",
    "warnings.filterwarnings('ignore')"
   ]
  },
  {
   "cell_type": "code",
   "execution_count": 2,
   "outputs": [],
   "source": [
    "def set_table_dtypes(df):\n",
    "    for col in df.columns:\n",
    "        if col in [\"case_id\", \"WEEK_NUM\", \"num_group1\", \"num_group2\", \"target\"]:\n",
    "            df = df.with_columns(pl.col(col).cast(pl.Int64))\n",
    "        elif col in [\"date_decision\"]:\n",
    "            df = df.with_columns(pl.col(col).cast(pl.Date))\n",
    "        elif col[-1] in (\"P\", \"A\"):\n",
    "            df = df.with_columns(pl.col(col).cast(pl.Float64))\n",
    "        elif col[-1] in (\"M\",):\n",
    "            df = df.with_columns(pl.col(col).cast(pl.String))\n",
    "        elif col[-1] in (\"D\",):\n",
    "            df = df.with_columns(pl.col(col).cast(pl.Date))\n",
    "\n",
    "    return df"
   ],
   "metadata": {
    "collapsed": false,
    "ExecuteTime": {
     "start_time": "2024-03-06T16:12:32.784299Z",
     "end_time": "2024-03-06T16:12:32.801560Z"
    }
   }
  },
  {
   "cell_type": "code",
   "execution_count": 3,
   "outputs": [],
   "source": [
    "def read_file(path, depth=None):\n",
    "    df = pl.read_parquet(path)\n",
    "    df = df.pipe(set_table_dtypes)\n",
    "    return df\n",
    "\n",
    "def read_files(regex_path, depth=None):\n",
    "    chunks = []\n",
    "    for path in glob(str(regex_path)):\n",
    "        chunks.append(pl.read_parquet(path).pipe(set_table_dtypes))\n",
    "\n",
    "    df = pl.concat(chunks, how=\"vertical_relaxed\")\n",
    "    return df"
   ],
   "metadata": {
    "collapsed": false,
    "ExecuteTime": {
     "start_time": "2024-03-06T16:12:37.275634Z",
     "end_time": "2024-03-06T16:12:37.285691Z"
    }
   }
  },
  {
   "cell_type": "code",
   "execution_count": 4,
   "outputs": [],
   "source": [
    "train_dir_path = \"/Users/sophie/workspace/data/kaggle/home-credit-credit-risk-model-stability/parquet_files/train\"\n",
    "test_dir_path = \"/Users/sophie/workspace/data/kaggle/home-credit-credit-risk-model-stability/parquet_files/test\"\n",
    "train_file = 'train_person_2.parquet'\n",
    "test_file = 'test_person_2.parquet'\n",
    "train_file_path = Path(os.path.join(train_dir_path, train_file))\n",
    "test_file_path = Path(os.path.join(test_dir_path, test_file))\n",
    "\n",
    "target_file = 'train_base.parquet'\n",
    "target_file_path = Path(os.path.join(train_dir_path, target_file))\n",
    "target_file_test = 'test_base.parquet'\n",
    "target_file_test_path = Path(os.path.join(test_dir_path, target_file_test))"
   ],
   "metadata": {
    "collapsed": false,
    "ExecuteTime": {
     "start_time": "2024-03-06T16:13:07.075570Z",
     "end_time": "2024-03-06T16:13:07.078931Z"
    }
   }
  },
  {
   "cell_type": "code",
   "execution_count": 5,
   "outputs": [],
   "source": [
    "df_base_train = read_file(target_file_path)\n",
    "df_base_train = df_base_train.with_columns(IS_TRAIN = pl.lit(1))\n",
    "df_train = read_file(train_file_path)\n",
    "df_train = df_base_train.join(df_train, how=\"left\", on=\"case_id\")"
   ],
   "metadata": {
    "collapsed": false,
    "ExecuteTime": {
     "start_time": "2024-03-06T16:14:06.155874Z",
     "end_time": "2024-03-06T16:14:06.559396Z"
    }
   }
  },
  {
   "cell_type": "code",
   "execution_count": 6,
   "outputs": [],
   "source": [
    "df_base_test = read_file(target_file_test_path)\n",
    "df_base_test = df_base_test.with_columns(target = None)\n",
    "df_base_test = df_base_test.with_columns(IS_TRAIN = pl.lit(0))\n",
    "df_test = read_file(test_file_path)\n",
    "df_test = df_base_test.join(df_test, how=\"left\", on=\"case_id\")"
   ],
   "metadata": {
    "collapsed": false,
    "ExecuteTime": {
     "start_time": "2024-03-06T16:14:19.722177Z",
     "end_time": "2024-03-06T16:14:19.730601Z"
    }
   }
  },
  {
   "cell_type": "code",
   "execution_count": 7,
   "outputs": [],
   "source": [
    "data = pl.concat([df_train, df_test], how=\"vertical_relaxed\")"
   ],
   "metadata": {
    "collapsed": false,
    "ExecuteTime": {
     "start_time": "2024-03-06T16:14:20.719950Z",
     "end_time": "2024-03-06T16:14:20.892044Z"
    }
   }
  },
  {
   "cell_type": "code",
   "execution_count": 8,
   "outputs": [],
   "source": [
    "data_base = pl.concat([df_base_train, df_base_test], how=\"vertical_relaxed\")"
   ],
   "metadata": {
    "collapsed": false,
    "ExecuteTime": {
     "start_time": "2024-03-06T16:14:21.675682Z",
     "end_time": "2024-03-06T16:14:21.711363Z"
    }
   }
  },
  {
   "cell_type": "code",
   "execution_count": 28,
   "outputs": [],
   "source": [
    "del df_train, df_test"
   ],
   "metadata": {
    "collapsed": false,
    "ExecuteTime": {
     "start_time": "2024-03-04T15:29:57.636722Z",
     "end_time": "2024-03-04T15:29:57.638784Z"
    }
   }
  },
  {
   "cell_type": "code",
   "execution_count": 9,
   "outputs": [
    {
     "data": {
      "text/plain": "(1734974, 16)"
     },
     "execution_count": 9,
     "metadata": {},
     "output_type": "execute_result"
    }
   ],
   "source": [
    "data.shape"
   ],
   "metadata": {
    "collapsed": false,
    "ExecuteTime": {
     "start_time": "2024-03-06T16:14:24.101896Z",
     "end_time": "2024-03-06T16:14:24.115709Z"
    }
   }
  },
  {
   "cell_type": "code",
   "execution_count": 14,
   "outputs": [
    {
     "data": {
      "text/plain": "shape: (100, 16)\n┌─────────┬────────────┬────────┬──────────┬───┬────────────┬────────────┬────────────┬────────────┐\n│ case_id ┆ date_decis ┆ MONTH  ┆ WEEK_NUM ┆ … ┆ empls_empl ┆ num_group1 ┆ num_group2 ┆ relatedper │\n│ ---     ┆ ion        ┆ ---    ┆ ---      ┆   ┆ oyer_name_ ┆ ---        ┆ ---        ┆ sons_role_ │\n│ i64     ┆ ---        ┆ i64    ┆ i64      ┆   ┆ 740M       ┆ i64        ┆ i64        ┆ 762T       │\n│         ┆ date       ┆        ┆          ┆   ┆ ---        ┆            ┆            ┆ ---        │\n│         ┆            ┆        ┆          ┆   ┆ str        ┆            ┆            ┆ str        │\n╞═════════╪════════════╪════════╪══════════╪═══╪════════════╪════════════╪════════════╪════════════╡\n│ 0       ┆ 2019-01-03 ┆ 201901 ┆ 0        ┆ … ┆ null       ┆ null       ┆ null       ┆ null       │\n│ 1       ┆ 2019-01-03 ┆ 201901 ┆ 0        ┆ … ┆ null       ┆ null       ┆ null       ┆ null       │\n│ 2       ┆ 2019-01-04 ┆ 201901 ┆ 0        ┆ … ┆ null       ┆ null       ┆ null       ┆ null       │\n│ 3       ┆ 2019-01-03 ┆ 201901 ┆ 0        ┆ … ┆ null       ┆ null       ┆ null       ┆ null       │\n│ 4       ┆ 2019-01-04 ┆ 201901 ┆ 0        ┆ … ┆ null       ┆ null       ┆ null       ┆ null       │\n│ …       ┆ …          ┆ …      ┆ …        ┆ … ┆ …          ┆ …          ┆ …          ┆ …          │\n│ 77      ┆ 2019-01-03 ┆ 201901 ┆ 0        ┆ … ┆ a55475b1   ┆ 0          ┆ 0          ┆ null       │\n│ 78      ┆ 2019-01-03 ┆ 201901 ┆ 0        ┆ … ┆ a55475b1   ┆ 0          ┆ 0          ┆ null       │\n│ 79      ┆ 2019-01-03 ┆ 201901 ┆ 0        ┆ … ┆ a55475b1   ┆ 0          ┆ 0          ┆ null       │\n│ 80      ┆ 2019-01-03 ┆ 201901 ┆ 0        ┆ … ┆ a55475b1   ┆ 0          ┆ 0          ┆ null       │\n│ 81      ┆ 2019-01-03 ┆ 201901 ┆ 0        ┆ … ┆ a55475b1   ┆ 0          ┆ 0          ┆ null       │\n└─────────┴────────────┴────────┴──────────┴───┴────────────┴────────────┴────────────┴────────────┘",
      "text/html": "<div><style>\n.dataframe > thead > tr,\n.dataframe > tbody > tr {\n  text-align: right;\n  white-space: pre-wrap;\n}\n</style>\n<small>shape: (100, 16)</small><table border=\"1\" class=\"dataframe\"><thead><tr><th>case_id</th><th>date_decision</th><th>MONTH</th><th>WEEK_NUM</th><th>target</th><th>IS_TRAIN</th><th>addres_district_368M</th><th>addres_role_871L</th><th>addres_zip_823M</th><th>conts_role_79M</th><th>empls_economicalst_849M</th><th>empls_employedfrom_796D</th><th>empls_employer_name_740M</th><th>num_group1</th><th>num_group2</th><th>relatedpersons_role_762T</th></tr><tr><td>i64</td><td>date</td><td>i64</td><td>i64</td><td>i64</td><td>i32</td><td>str</td><td>str</td><td>str</td><td>str</td><td>str</td><td>date</td><td>str</td><td>i64</td><td>i64</td><td>str</td></tr></thead><tbody><tr><td>0</td><td>2019-01-03</td><td>201901</td><td>0</td><td>0</td><td>1</td><td>null</td><td>null</td><td>null</td><td>null</td><td>null</td><td>null</td><td>null</td><td>null</td><td>null</td><td>null</td></tr><tr><td>1</td><td>2019-01-03</td><td>201901</td><td>0</td><td>0</td><td>1</td><td>null</td><td>null</td><td>null</td><td>null</td><td>null</td><td>null</td><td>null</td><td>null</td><td>null</td><td>null</td></tr><tr><td>2</td><td>2019-01-04</td><td>201901</td><td>0</td><td>0</td><td>1</td><td>null</td><td>null</td><td>null</td><td>null</td><td>null</td><td>null</td><td>null</td><td>null</td><td>null</td><td>null</td></tr><tr><td>3</td><td>2019-01-03</td><td>201901</td><td>0</td><td>0</td><td>1</td><td>null</td><td>null</td><td>null</td><td>null</td><td>null</td><td>null</td><td>null</td><td>null</td><td>null</td><td>null</td></tr><tr><td>4</td><td>2019-01-04</td><td>201901</td><td>0</td><td>1</td><td>1</td><td>null</td><td>null</td><td>null</td><td>null</td><td>null</td><td>null</td><td>null</td><td>null</td><td>null</td><td>null</td></tr><tr><td>5</td><td>2019-01-02</td><td>201901</td><td>0</td><td>0</td><td>1</td><td>&quot;a55475b1&quot;</td><td>null</td><td>&quot;a55475b1&quot;</td><td>&quot;a55475b1&quot;</td><td>&quot;a55475b1&quot;</td><td>null</td><td>&quot;a55475b1&quot;</td><td>0</td><td>0</td><td>null</td></tr><tr><td>6</td><td>2019-01-03</td><td>201901</td><td>0</td><td>0</td><td>1</td><td>&quot;P55_110_32&quot;</td><td>&quot;CONTACT&quot;</td><td>&quot;P10_68_40&quot;</td><td>&quot;P38_92_157&quot;</td><td>&quot;P164_110_33&quot;</td><td>null</td><td>&quot;a55475b1&quot;</td><td>0</td><td>0</td><td>null</td></tr><tr><td>6</td><td>2019-01-03</td><td>201901</td><td>0</td><td>0</td><td>1</td><td>&quot;P55_110_32&quot;</td><td>&quot;PERMANENT&quot;</td><td>&quot;P10_68_40&quot;</td><td>&quot;a55475b1&quot;</td><td>&quot;a55475b1&quot;</td><td>null</td><td>&quot;a55475b1&quot;</td><td>0</td><td>1</td><td>null</td></tr><tr><td>6</td><td>2019-01-03</td><td>201901</td><td>0</td><td>0</td><td>1</td><td>&quot;P204_92_178&quot;</td><td>&quot;CONTACT&quot;</td><td>&quot;P65_136_169&quot;</td><td>&quot;P38_92_157&quot;</td><td>&quot;P164_110_33&quot;</td><td>null</td><td>&quot;a55475b1&quot;</td><td>1</td><td>0</td><td>&quot;OTHER_RELATIVE…</td></tr><tr><td>6</td><td>2019-01-03</td><td>201901</td><td>0</td><td>0</td><td>1</td><td>&quot;P191_109_75&quot;</td><td>&quot;CONTACT&quot;</td><td>&quot;P10_68_40&quot;</td><td>&quot;P7_147_157&quot;</td><td>&quot;a55475b1&quot;</td><td>null</td><td>&quot;a55475b1&quot;</td><td>1</td><td>1</td><td>&quot;OTHER_RELATIVE…</td></tr><tr><td>6</td><td>2019-01-03</td><td>201901</td><td>0</td><td>0</td><td>1</td><td>&quot;P204_92_178&quot;</td><td>&quot;CONTACT&quot;</td><td>&quot;P164_28_170&quot;</td><td>&quot;P38_92_157&quot;</td><td>&quot;a55475b1&quot;</td><td>null</td><td>&quot;a55475b1&quot;</td><td>1</td><td>2</td><td>null</td></tr><tr><td>6</td><td>2019-01-03</td><td>201901</td><td>0</td><td>0</td><td>1</td><td>&quot;P55_110_32&quot;</td><td>&quot;PERMANENT&quot;</td><td>&quot;P10_68_40&quot;</td><td>&quot;P38_92_157&quot;</td><td>&quot;a55475b1&quot;</td><td>null</td><td>&quot;a55475b1&quot;</td><td>1</td><td>3</td><td>null</td></tr><tr><td>&hellip;</td><td>&hellip;</td><td>&hellip;</td><td>&hellip;</td><td>&hellip;</td><td>&hellip;</td><td>&hellip;</td><td>&hellip;</td><td>&hellip;</td><td>&hellip;</td><td>&hellip;</td><td>&hellip;</td><td>&hellip;</td><td>&hellip;</td><td>&hellip;</td><td>&hellip;</td></tr><tr><td>70</td><td>2019-01-03</td><td>201901</td><td>0</td><td>0</td><td>1</td><td>&quot;a55475b1&quot;</td><td>null</td><td>&quot;a55475b1&quot;</td><td>&quot;a55475b1&quot;</td><td>&quot;a55475b1&quot;</td><td>null</td><td>&quot;a55475b1&quot;</td><td>0</td><td>0</td><td>null</td></tr><tr><td>71</td><td>2019-01-03</td><td>201901</td><td>0</td><td>0</td><td>1</td><td>&quot;a55475b1&quot;</td><td>null</td><td>&quot;a55475b1&quot;</td><td>&quot;a55475b1&quot;</td><td>&quot;a55475b1&quot;</td><td>null</td><td>&quot;a55475b1&quot;</td><td>0</td><td>0</td><td>null</td></tr><tr><td>72</td><td>2019-01-03</td><td>201901</td><td>0</td><td>0</td><td>1</td><td>&quot;a55475b1&quot;</td><td>null</td><td>&quot;a55475b1&quot;</td><td>&quot;a55475b1&quot;</td><td>&quot;a55475b1&quot;</td><td>null</td><td>&quot;a55475b1&quot;</td><td>0</td><td>0</td><td>null</td></tr><tr><td>73</td><td>2019-01-03</td><td>201901</td><td>0</td><td>0</td><td>1</td><td>null</td><td>null</td><td>null</td><td>null</td><td>null</td><td>null</td><td>null</td><td>null</td><td>null</td><td>null</td></tr><tr><td>74</td><td>2019-01-03</td><td>201901</td><td>0</td><td>0</td><td>1</td><td>&quot;a55475b1&quot;</td><td>null</td><td>&quot;a55475b1&quot;</td><td>&quot;a55475b1&quot;</td><td>&quot;a55475b1&quot;</td><td>null</td><td>&quot;a55475b1&quot;</td><td>0</td><td>0</td><td>null</td></tr><tr><td>75</td><td>2019-01-03</td><td>201901</td><td>0</td><td>0</td><td>1</td><td>&quot;a55475b1&quot;</td><td>null</td><td>&quot;a55475b1&quot;</td><td>&quot;a55475b1&quot;</td><td>&quot;a55475b1&quot;</td><td>null</td><td>&quot;a55475b1&quot;</td><td>0</td><td>0</td><td>null</td></tr><tr><td>76</td><td>2019-01-03</td><td>201901</td><td>0</td><td>0</td><td>1</td><td>&quot;a55475b1&quot;</td><td>null</td><td>&quot;a55475b1&quot;</td><td>&quot;a55475b1&quot;</td><td>&quot;a55475b1&quot;</td><td>null</td><td>&quot;a55475b1&quot;</td><td>0</td><td>0</td><td>null</td></tr><tr><td>77</td><td>2019-01-03</td><td>201901</td><td>0</td><td>0</td><td>1</td><td>&quot;a55475b1&quot;</td><td>null</td><td>&quot;a55475b1&quot;</td><td>&quot;a55475b1&quot;</td><td>&quot;a55475b1&quot;</td><td>null</td><td>&quot;a55475b1&quot;</td><td>0</td><td>0</td><td>null</td></tr><tr><td>78</td><td>2019-01-03</td><td>201901</td><td>0</td><td>0</td><td>1</td><td>&quot;a55475b1&quot;</td><td>null</td><td>&quot;a55475b1&quot;</td><td>&quot;a55475b1&quot;</td><td>&quot;a55475b1&quot;</td><td>null</td><td>&quot;a55475b1&quot;</td><td>0</td><td>0</td><td>null</td></tr><tr><td>79</td><td>2019-01-03</td><td>201901</td><td>0</td><td>0</td><td>1</td><td>&quot;a55475b1&quot;</td><td>null</td><td>&quot;a55475b1&quot;</td><td>&quot;a55475b1&quot;</td><td>&quot;a55475b1&quot;</td><td>null</td><td>&quot;a55475b1&quot;</td><td>0</td><td>0</td><td>null</td></tr><tr><td>80</td><td>2019-01-03</td><td>201901</td><td>0</td><td>0</td><td>1</td><td>&quot;a55475b1&quot;</td><td>null</td><td>&quot;a55475b1&quot;</td><td>&quot;a55475b1&quot;</td><td>&quot;a55475b1&quot;</td><td>null</td><td>&quot;a55475b1&quot;</td><td>0</td><td>0</td><td>null</td></tr><tr><td>81</td><td>2019-01-03</td><td>201901</td><td>0</td><td>0</td><td>1</td><td>&quot;a55475b1&quot;</td><td>null</td><td>&quot;a55475b1&quot;</td><td>&quot;a55475b1&quot;</td><td>&quot;a55475b1&quot;</td><td>null</td><td>&quot;a55475b1&quot;</td><td>0</td><td>0</td><td>null</td></tr></tbody></table></div>"
     },
     "execution_count": 14,
     "metadata": {},
     "output_type": "execute_result"
    }
   ],
   "source": [
    "data.head(100)"
   ],
   "metadata": {
    "collapsed": false,
    "ExecuteTime": {
     "start_time": "2024-03-06T16:23:55.656052Z",
     "end_time": "2024-03-06T16:23:55.667368Z"
    }
   }
  },
  {
   "cell_type": "code",
   "execution_count": 11,
   "outputs": [
    {
     "data": {
      "text/plain": "1526669"
     },
     "execution_count": 11,
     "metadata": {},
     "output_type": "execute_result"
    }
   ],
   "source": [
    "data['case_id'].n_unique()"
   ],
   "metadata": {
    "collapsed": false,
    "ExecuteTime": {
     "start_time": "2024-03-06T16:16:55.757934Z",
     "end_time": "2024-03-06T16:16:55.761957Z"
    }
   }
  },
  {
   "cell_type": "code",
   "execution_count": 12,
   "outputs": [
    {
     "data": {
      "text/plain": "(91557, 16)"
     },
     "execution_count": 12,
     "metadata": {},
     "output_type": "execute_result"
    }
   ],
   "source": [
    "# df_train.filter(pl.col(\"case_id\") == 57633)\n",
    "# data.select(['case_id', 'num_group1', 'target']).filter(pl.col('num_group1').is_not_null())\n",
    "data.filter(pl.col('num_group1').is_null()).shape\n",
    "# df_train.shape"
   ],
   "metadata": {
    "collapsed": false,
    "ExecuteTime": {
     "start_time": "2024-03-06T16:23:30.860155Z",
     "end_time": "2024-03-06T16:23:30.926321Z"
    }
   }
  },
  {
   "cell_type": "code",
   "execution_count": 13,
   "outputs": [],
   "source": [
    "data = data.sort('case_id', 'num_group1', 'num_group2')"
   ],
   "metadata": {
    "collapsed": false,
    "ExecuteTime": {
     "start_time": "2024-03-06T16:23:47.098478Z",
     "end_time": "2024-03-06T16:23:47.310863Z"
    }
   }
  },
  {
   "cell_type": "code",
   "execution_count": 15,
   "outputs": [],
   "source": [
    "class Aggregator:\n",
    "    @staticmethod\n",
    "    def num_expr(df):\n",
    "        cols = [col for col in df.columns if col[-1] in (\"P\", \"A\")]\n",
    "\n",
    "        expr_num = []\n",
    "        # expr_num.extend([pl.max(col).alias(f\"max_{col}\") for col in cols])\n",
    "        # expr_num.extend([pl.min(col).alias(f\"min_{col}\") for col in cols])\n",
    "        # expr_num.extend([pl.mean(col).alias(f\"mean_{col}\") for col in cols])\n",
    "        # expr_num.extend([pl.count(col).alias(f\"count_{col}\") for col in cols])\n",
    "        expr_num.extend([pl.var(col).alias(f\"var_{col}\") for col in cols])\n",
    "        expr_num.extend([pl.last(col).alias(f\"last_{col}\") for col in cols])\n",
    "        expr_num.extend([pl.first(col).alias(f\"first_{col}\") for col in cols])\n",
    "\n",
    "        return expr_num\n",
    "\n",
    "    @staticmethod\n",
    "    def date_expr(df):\n",
    "        cols = [col for col in df.columns if col[-1] in (\"D\",)]\n",
    "\n",
    "        expr_date = []\n",
    "        expr_date.extend([pl.max(col).alias(f\"max_{col}\") for col in cols])\n",
    "        expr_date.extend([pl.min(col).alias(f\"min_{col}\") for col in cols])\n",
    "\n",
    "        return expr_date\n",
    "\n",
    "    @staticmethod\n",
    "    def str_expr(df):\n",
    "        cols = [col for col in df.columns if col[-1] in (\"M\",)]\n",
    "        cols.remove('WEEK_NUM')\n",
    "\n",
    "        expr_str = []\n",
    "        expr_str.extend([pl.last(col).alias(f\"last_{col}\") for col in cols])\n",
    "        expr_str.extend([pl.first(col).alias(f\"first_{col}\") for col in cols])\n",
    "        expr_str.extend([pl.n_unique(col).alias(f\"n_unique_{col}\") for col in cols])\n",
    "\n",
    "        return expr_str\n",
    "\n",
    "    @staticmethod\n",
    "    def other_expr(df):\n",
    "        cols = [col for col in df.columns if col[-1] in (\"T\", \"L\")]\n",
    "        expr_other = []\n",
    "        for col in cols:\n",
    "            if df[col].dtype == pl.String or df[col].dtype == pl.Boolean:\n",
    "                expr_other.append(pl.last(col).alias(f\"last_{col}\"))\n",
    "                expr_other.append(pl.first(col).alias(f\"first_{col}\"))\n",
    "                expr_other.append(pl.n_unique(col).alias(f\"n_unique_{col}\"))\n",
    "            elif df[col].dtype == pl.Int64 or df[col].dtype == pl.Float64:\n",
    "                expr_other.append(pl.mean(col).alias(f\"mean_{col}\"))\n",
    "                expr_other.append(pl.var(col).alias(f\"var_{col}\"))\n",
    "                expr_other.append(pl.last(col).alias(f\"last_{col}\"))\n",
    "                expr_other.append(pl.first(col).alias(f\"first_{col}\"))\n",
    "\n",
    "        return expr_other\n",
    "\n",
    "    @staticmethod\n",
    "    def count_expr(df):\n",
    "        cols = [col for col in df.columns if \"num_group\" in col]\n",
    "\n",
    "        expr_count = [pl.max(col).alias(f\"max_{col}\") for col in cols]\n",
    "\n",
    "        return expr_count\n",
    "\n",
    "    @staticmethod\n",
    "    def get_exprs(df):\n",
    "        exprs = Aggregator.num_expr(df) + \\\n",
    "                Aggregator.date_expr(df) + \\\n",
    "                Aggregator.str_expr(df) + \\\n",
    "                Aggregator.other_expr(df) + \\\n",
    "                Aggregator.count_expr(df)\n",
    "\n",
    "        return exprs"
   ],
   "metadata": {
    "collapsed": false,
    "ExecuteTime": {
     "start_time": "2024-03-06T16:25:45.690046Z",
     "end_time": "2024-03-06T16:25:45.692157Z"
    }
   }
  },
  {
   "cell_type": "code",
   "execution_count": 16,
   "outputs": [],
   "source": [
    "fea_agg = data.group_by(\"case_id\").agg(Aggregator.get_exprs(data))"
   ],
   "metadata": {
    "collapsed": false,
    "ExecuteTime": {
     "start_time": "2024-03-06T16:25:52.009499Z",
     "end_time": "2024-03-06T16:25:53.820158Z"
    }
   }
  },
  {
   "cell_type": "code",
   "execution_count": 17,
   "outputs": [
    {
     "data": {
      "text/plain": "(1526669, 26)"
     },
     "execution_count": 17,
     "metadata": {},
     "output_type": "execute_result"
    }
   ],
   "source": [
    "fea_agg.shape"
   ],
   "metadata": {
    "collapsed": false,
    "ExecuteTime": {
     "start_time": "2024-03-06T16:25:55.778595Z",
     "end_time": "2024-03-06T16:25:55.789337Z"
    }
   }
  },
  {
   "cell_type": "code",
   "execution_count": 18,
   "outputs": [
    {
     "data": {
      "text/plain": "shape: (20, 26)\n┌─────────┬────────────┬───────────┬───────────┬───┬───────────┬───────────┬───────────┬───────────┐\n│ case_id ┆ max_empls_ ┆ min_empls ┆ last_addr ┆ … ┆ first_rel ┆ n_unique_ ┆ max_num_g ┆ max_num_g │\n│ ---     ┆ employedfr ┆ _employed ┆ es_distri ┆   ┆ atedperso ┆ relatedpe ┆ roup1     ┆ roup2     │\n│ i64     ┆ om_796D    ┆ from_796D ┆ ct_368M   ┆   ┆ ns_role_7 ┆ rsons_rol ┆ ---       ┆ ---       │\n│         ┆ ---        ┆ ---       ┆ ---       ┆   ┆ 62T       ┆ e_762…    ┆ i64       ┆ i64       │\n│         ┆ date       ┆ date      ┆ str       ┆   ┆ ---       ┆ ---       ┆           ┆           │\n│         ┆            ┆           ┆           ┆   ┆ str       ┆ u32       ┆           ┆           │\n╞═════════╪════════════╪═══════════╪═══════════╪═══╪═══════════╪═══════════╪═══════════╪═══════════╡\n│ 0       ┆ null       ┆ null      ┆ null      ┆ … ┆ null      ┆ 1         ┆ null      ┆ null      │\n│ 1       ┆ null       ┆ null      ┆ null      ┆ … ┆ null      ┆ 1         ┆ null      ┆ null      │\n│ 2       ┆ null       ┆ null      ┆ null      ┆ … ┆ null      ┆ 1         ┆ null      ┆ null      │\n│ 3       ┆ null       ┆ null      ┆ null      ┆ … ┆ null      ┆ 1         ┆ null      ┆ null      │\n│ 4       ┆ null       ┆ null      ┆ null      ┆ … ┆ null      ┆ 1         ┆ null      ┆ null      │\n│ …       ┆ …          ┆ …         ┆ …         ┆ … ┆ …         ┆ …         ┆ …         ┆ …         │\n│ 15      ┆ null       ┆ null      ┆ a55475b1  ┆ … ┆ null      ┆ 1         ┆ 0         ┆ 0         │\n│ 16      ┆ null       ┆ null      ┆ a55475b1  ┆ … ┆ null      ┆ 1         ┆ 0         ┆ 0         │\n│ 17      ┆ null       ┆ null      ┆ a55475b1  ┆ … ┆ null      ┆ 1         ┆ 0         ┆ 0         │\n│ 18      ┆ null       ┆ null      ┆ a55475b1  ┆ … ┆ null      ┆ 1         ┆ 0         ┆ 0         │\n│ 19      ┆ null       ┆ null      ┆ a55475b1  ┆ … ┆ null      ┆ 1         ┆ 0         ┆ 0         │\n└─────────┴────────────┴───────────┴───────────┴───┴───────────┴───────────┴───────────┴───────────┘",
      "text/html": "<div><style>\n.dataframe > thead > tr,\n.dataframe > tbody > tr {\n  text-align: right;\n  white-space: pre-wrap;\n}\n</style>\n<small>shape: (20, 26)</small><table border=\"1\" class=\"dataframe\"><thead><tr><th>case_id</th><th>max_empls_employedfrom_796D</th><th>min_empls_employedfrom_796D</th><th>last_addres_district_368M</th><th>last_addres_zip_823M</th><th>last_conts_role_79M</th><th>last_empls_economicalst_849M</th><th>last_empls_employer_name_740M</th><th>first_addres_district_368M</th><th>first_addres_zip_823M</th><th>first_conts_role_79M</th><th>first_empls_economicalst_849M</th><th>first_empls_employer_name_740M</th><th>n_unique_addres_district_368M</th><th>n_unique_addres_zip_823M</th><th>n_unique_conts_role_79M</th><th>n_unique_empls_economicalst_849M</th><th>n_unique_empls_employer_name_740M</th><th>last_addres_role_871L</th><th>first_addres_role_871L</th><th>n_unique_addres_role_871L</th><th>last_relatedpersons_role_762T</th><th>first_relatedpersons_role_762T</th><th>n_unique_relatedpersons_role_762T</th><th>max_num_group1</th><th>max_num_group2</th></tr><tr><td>i64</td><td>date</td><td>date</td><td>str</td><td>str</td><td>str</td><td>str</td><td>str</td><td>str</td><td>str</td><td>str</td><td>str</td><td>str</td><td>u32</td><td>u32</td><td>u32</td><td>u32</td><td>u32</td><td>str</td><td>str</td><td>u32</td><td>str</td><td>str</td><td>u32</td><td>i64</td><td>i64</td></tr></thead><tbody><tr><td>0</td><td>null</td><td>null</td><td>null</td><td>null</td><td>null</td><td>null</td><td>null</td><td>null</td><td>null</td><td>null</td><td>null</td><td>null</td><td>1</td><td>1</td><td>1</td><td>1</td><td>1</td><td>null</td><td>null</td><td>1</td><td>null</td><td>null</td><td>1</td><td>null</td><td>null</td></tr><tr><td>1</td><td>null</td><td>null</td><td>null</td><td>null</td><td>null</td><td>null</td><td>null</td><td>null</td><td>null</td><td>null</td><td>null</td><td>null</td><td>1</td><td>1</td><td>1</td><td>1</td><td>1</td><td>null</td><td>null</td><td>1</td><td>null</td><td>null</td><td>1</td><td>null</td><td>null</td></tr><tr><td>2</td><td>null</td><td>null</td><td>null</td><td>null</td><td>null</td><td>null</td><td>null</td><td>null</td><td>null</td><td>null</td><td>null</td><td>null</td><td>1</td><td>1</td><td>1</td><td>1</td><td>1</td><td>null</td><td>null</td><td>1</td><td>null</td><td>null</td><td>1</td><td>null</td><td>null</td></tr><tr><td>3</td><td>null</td><td>null</td><td>null</td><td>null</td><td>null</td><td>null</td><td>null</td><td>null</td><td>null</td><td>null</td><td>null</td><td>null</td><td>1</td><td>1</td><td>1</td><td>1</td><td>1</td><td>null</td><td>null</td><td>1</td><td>null</td><td>null</td><td>1</td><td>null</td><td>null</td></tr><tr><td>4</td><td>null</td><td>null</td><td>null</td><td>null</td><td>null</td><td>null</td><td>null</td><td>null</td><td>null</td><td>null</td><td>null</td><td>null</td><td>1</td><td>1</td><td>1</td><td>1</td><td>1</td><td>null</td><td>null</td><td>1</td><td>null</td><td>null</td><td>1</td><td>null</td><td>null</td></tr><tr><td>5</td><td>null</td><td>null</td><td>&quot;a55475b1&quot;</td><td>&quot;a55475b1&quot;</td><td>&quot;a55475b1&quot;</td><td>&quot;a55475b1&quot;</td><td>&quot;a55475b1&quot;</td><td>&quot;a55475b1&quot;</td><td>&quot;a55475b1&quot;</td><td>&quot;a55475b1&quot;</td><td>&quot;a55475b1&quot;</td><td>&quot;a55475b1&quot;</td><td>1</td><td>1</td><td>1</td><td>1</td><td>1</td><td>null</td><td>null</td><td>1</td><td>null</td><td>null</td><td>1</td><td>0</td><td>0</td></tr><tr><td>6</td><td>null</td><td>null</td><td>&quot;P204_92_178&quot;</td><td>&quot;P164_28_170&quot;</td><td>&quot;a55475b1&quot;</td><td>&quot;a55475b1&quot;</td><td>&quot;a55475b1&quot;</td><td>&quot;P55_110_32&quot;</td><td>&quot;P10_68_40&quot;</td><td>&quot;P38_92_157&quot;</td><td>&quot;P164_110_33&quot;</td><td>&quot;a55475b1&quot;</td><td>3</td><td>3</td><td>3</td><td>2</td><td>1</td><td>&quot;PERMANENT&quot;</td><td>&quot;CONTACT&quot;</td><td>2</td><td>null</td><td>null</td><td>2</td><td>1</td><td>5</td></tr><tr><td>7</td><td>null</td><td>null</td><td>&quot;a55475b1&quot;</td><td>&quot;a55475b1&quot;</td><td>&quot;a55475b1&quot;</td><td>&quot;a55475b1&quot;</td><td>&quot;a55475b1&quot;</td><td>&quot;a55475b1&quot;</td><td>&quot;a55475b1&quot;</td><td>&quot;a55475b1&quot;</td><td>&quot;a55475b1&quot;</td><td>&quot;a55475b1&quot;</td><td>1</td><td>1</td><td>1</td><td>1</td><td>1</td><td>null</td><td>null</td><td>1</td><td>null</td><td>null</td><td>1</td><td>0</td><td>0</td></tr><tr><td>8</td><td>null</td><td>null</td><td>&quot;a55475b1&quot;</td><td>&quot;a55475b1&quot;</td><td>&quot;a55475b1&quot;</td><td>&quot;a55475b1&quot;</td><td>&quot;a55475b1&quot;</td><td>&quot;a55475b1&quot;</td><td>&quot;a55475b1&quot;</td><td>&quot;a55475b1&quot;</td><td>&quot;a55475b1&quot;</td><td>&quot;a55475b1&quot;</td><td>1</td><td>1</td><td>1</td><td>1</td><td>1</td><td>null</td><td>null</td><td>1</td><td>null</td><td>null</td><td>1</td><td>0</td><td>0</td></tr><tr><td>9</td><td>null</td><td>null</td><td>&quot;a55475b1&quot;</td><td>&quot;a55475b1&quot;</td><td>&quot;a55475b1&quot;</td><td>&quot;a55475b1&quot;</td><td>&quot;a55475b1&quot;</td><td>&quot;a55475b1&quot;</td><td>&quot;a55475b1&quot;</td><td>&quot;a55475b1&quot;</td><td>&quot;a55475b1&quot;</td><td>&quot;a55475b1&quot;</td><td>1</td><td>1</td><td>1</td><td>1</td><td>1</td><td>null</td><td>null</td><td>1</td><td>null</td><td>null</td><td>1</td><td>0</td><td>0</td></tr><tr><td>10</td><td>null</td><td>null</td><td>&quot;a55475b1&quot;</td><td>&quot;a55475b1&quot;</td><td>&quot;a55475b1&quot;</td><td>&quot;a55475b1&quot;</td><td>&quot;a55475b1&quot;</td><td>&quot;a55475b1&quot;</td><td>&quot;a55475b1&quot;</td><td>&quot;a55475b1&quot;</td><td>&quot;a55475b1&quot;</td><td>&quot;a55475b1&quot;</td><td>1</td><td>1</td><td>1</td><td>1</td><td>1</td><td>null</td><td>null</td><td>1</td><td>null</td><td>null</td><td>1</td><td>0</td><td>0</td></tr><tr><td>11</td><td>null</td><td>null</td><td>&quot;a55475b1&quot;</td><td>&quot;a55475b1&quot;</td><td>&quot;a55475b1&quot;</td><td>&quot;a55475b1&quot;</td><td>&quot;a55475b1&quot;</td><td>&quot;a55475b1&quot;</td><td>&quot;a55475b1&quot;</td><td>&quot;a55475b1&quot;</td><td>&quot;a55475b1&quot;</td><td>&quot;a55475b1&quot;</td><td>1</td><td>1</td><td>1</td><td>1</td><td>1</td><td>null</td><td>null</td><td>1</td><td>null</td><td>null</td><td>1</td><td>0</td><td>0</td></tr><tr><td>12</td><td>null</td><td>null</td><td>&quot;a55475b1&quot;</td><td>&quot;a55475b1&quot;</td><td>&quot;a55475b1&quot;</td><td>&quot;a55475b1&quot;</td><td>&quot;a55475b1&quot;</td><td>&quot;a55475b1&quot;</td><td>&quot;a55475b1&quot;</td><td>&quot;a55475b1&quot;</td><td>&quot;a55475b1&quot;</td><td>&quot;a55475b1&quot;</td><td>1</td><td>1</td><td>1</td><td>1</td><td>1</td><td>null</td><td>null</td><td>1</td><td>null</td><td>null</td><td>1</td><td>0</td><td>0</td></tr><tr><td>13</td><td>null</td><td>null</td><td>&quot;a55475b1&quot;</td><td>&quot;a55475b1&quot;</td><td>&quot;a55475b1&quot;</td><td>&quot;a55475b1&quot;</td><td>&quot;a55475b1&quot;</td><td>&quot;a55475b1&quot;</td><td>&quot;a55475b1&quot;</td><td>&quot;a55475b1&quot;</td><td>&quot;a55475b1&quot;</td><td>&quot;a55475b1&quot;</td><td>1</td><td>1</td><td>1</td><td>1</td><td>1</td><td>null</td><td>null</td><td>1</td><td>null</td><td>null</td><td>1</td><td>0</td><td>0</td></tr><tr><td>14</td><td>null</td><td>null</td><td>&quot;a55475b1&quot;</td><td>&quot;a55475b1&quot;</td><td>&quot;a55475b1&quot;</td><td>&quot;a55475b1&quot;</td><td>&quot;a55475b1&quot;</td><td>&quot;a55475b1&quot;</td><td>&quot;a55475b1&quot;</td><td>&quot;a55475b1&quot;</td><td>&quot;a55475b1&quot;</td><td>&quot;a55475b1&quot;</td><td>1</td><td>1</td><td>1</td><td>1</td><td>1</td><td>null</td><td>null</td><td>1</td><td>null</td><td>null</td><td>1</td><td>0</td><td>0</td></tr><tr><td>15</td><td>null</td><td>null</td><td>&quot;a55475b1&quot;</td><td>&quot;a55475b1&quot;</td><td>&quot;a55475b1&quot;</td><td>&quot;a55475b1&quot;</td><td>&quot;a55475b1&quot;</td><td>&quot;a55475b1&quot;</td><td>&quot;a55475b1&quot;</td><td>&quot;a55475b1&quot;</td><td>&quot;a55475b1&quot;</td><td>&quot;a55475b1&quot;</td><td>1</td><td>1</td><td>1</td><td>1</td><td>1</td><td>null</td><td>null</td><td>1</td><td>null</td><td>null</td><td>1</td><td>0</td><td>0</td></tr><tr><td>16</td><td>null</td><td>null</td><td>&quot;a55475b1&quot;</td><td>&quot;a55475b1&quot;</td><td>&quot;a55475b1&quot;</td><td>&quot;a55475b1&quot;</td><td>&quot;a55475b1&quot;</td><td>&quot;a55475b1&quot;</td><td>&quot;a55475b1&quot;</td><td>&quot;a55475b1&quot;</td><td>&quot;a55475b1&quot;</td><td>&quot;a55475b1&quot;</td><td>1</td><td>1</td><td>1</td><td>1</td><td>1</td><td>null</td><td>null</td><td>1</td><td>null</td><td>null</td><td>1</td><td>0</td><td>0</td></tr><tr><td>17</td><td>null</td><td>null</td><td>&quot;a55475b1&quot;</td><td>&quot;a55475b1&quot;</td><td>&quot;a55475b1&quot;</td><td>&quot;a55475b1&quot;</td><td>&quot;a55475b1&quot;</td><td>&quot;a55475b1&quot;</td><td>&quot;a55475b1&quot;</td><td>&quot;a55475b1&quot;</td><td>&quot;a55475b1&quot;</td><td>&quot;a55475b1&quot;</td><td>1</td><td>1</td><td>1</td><td>1</td><td>1</td><td>null</td><td>null</td><td>1</td><td>null</td><td>null</td><td>1</td><td>0</td><td>0</td></tr><tr><td>18</td><td>null</td><td>null</td><td>&quot;a55475b1&quot;</td><td>&quot;a55475b1&quot;</td><td>&quot;a55475b1&quot;</td><td>&quot;a55475b1&quot;</td><td>&quot;a55475b1&quot;</td><td>&quot;a55475b1&quot;</td><td>&quot;a55475b1&quot;</td><td>&quot;a55475b1&quot;</td><td>&quot;a55475b1&quot;</td><td>&quot;a55475b1&quot;</td><td>1</td><td>1</td><td>1</td><td>1</td><td>1</td><td>null</td><td>null</td><td>1</td><td>null</td><td>null</td><td>1</td><td>0</td><td>0</td></tr><tr><td>19</td><td>null</td><td>null</td><td>&quot;a55475b1&quot;</td><td>&quot;a55475b1&quot;</td><td>&quot;a55475b1&quot;</td><td>&quot;a55475b1&quot;</td><td>&quot;a55475b1&quot;</td><td>&quot;a55475b1&quot;</td><td>&quot;a55475b1&quot;</td><td>&quot;a55475b1&quot;</td><td>&quot;a55475b1&quot;</td><td>&quot;a55475b1&quot;</td><td>1</td><td>1</td><td>1</td><td>1</td><td>1</td><td>null</td><td>null</td><td>1</td><td>null</td><td>null</td><td>1</td><td>0</td><td>0</td></tr></tbody></table></div>"
     },
     "execution_count": 18,
     "metadata": {},
     "output_type": "execute_result"
    }
   ],
   "source": [
    "fea_agg.head(20)"
   ],
   "metadata": {
    "collapsed": false,
    "ExecuteTime": {
     "start_time": "2024-03-06T16:25:58.251482Z",
     "end_time": "2024-03-06T16:25:58.269858Z"
    }
   }
  },
  {
   "cell_type": "code",
   "execution_count": 19,
   "outputs": [],
   "source": [
    "data = data_base.join(fea_agg, how=\"left\", on=\"case_id\")"
   ],
   "metadata": {
    "collapsed": false,
    "ExecuteTime": {
     "start_time": "2024-03-06T16:28:28.027756Z",
     "end_time": "2024-03-06T16:28:28.329249Z"
    }
   }
  },
  {
   "cell_type": "code",
   "execution_count": 20,
   "outputs": [
    {
     "data": {
      "text/plain": "shape: (10, 31)\n┌─────────┬────────────┬────────┬──────────┬───┬────────────┬────────────┬────────────┬────────────┐\n│ case_id ┆ date_decis ┆ MONTH  ┆ WEEK_NUM ┆ … ┆ first_rela ┆ n_unique_r ┆ max_num_gr ┆ max_num_gr │\n│ ---     ┆ ion        ┆ ---    ┆ ---      ┆   ┆ tedpersons ┆ elatedpers ┆ oup1       ┆ oup2       │\n│ i64     ┆ ---        ┆ i64    ┆ i64      ┆   ┆ _role_762T ┆ ons_role_7 ┆ ---        ┆ ---        │\n│         ┆ date       ┆        ┆          ┆   ┆ ---        ┆ 62…        ┆ i64        ┆ i64        │\n│         ┆            ┆        ┆          ┆   ┆ str        ┆ ---        ┆            ┆            │\n│         ┆            ┆        ┆          ┆   ┆            ┆ u32        ┆            ┆            │\n╞═════════╪════════════╪════════╪══════════╪═══╪════════════╪════════════╪════════════╪════════════╡\n│ 0       ┆ 2019-01-03 ┆ 201901 ┆ 0        ┆ … ┆ null       ┆ 1          ┆ null       ┆ null       │\n│ 1       ┆ 2019-01-03 ┆ 201901 ┆ 0        ┆ … ┆ null       ┆ 1          ┆ null       ┆ null       │\n│ 2       ┆ 2019-01-04 ┆ 201901 ┆ 0        ┆ … ┆ null       ┆ 1          ┆ null       ┆ null       │\n│ 3       ┆ 2019-01-03 ┆ 201901 ┆ 0        ┆ … ┆ null       ┆ 1          ┆ null       ┆ null       │\n│ 4       ┆ 2019-01-04 ┆ 201901 ┆ 0        ┆ … ┆ null       ┆ 1          ┆ null       ┆ null       │\n│ 5       ┆ 2019-01-02 ┆ 201901 ┆ 0        ┆ … ┆ null       ┆ 1          ┆ 0          ┆ 0          │\n│ 6       ┆ 2019-01-03 ┆ 201901 ┆ 0        ┆ … ┆ null       ┆ 2          ┆ 1          ┆ 5          │\n│ 7       ┆ 2019-01-03 ┆ 201901 ┆ 0        ┆ … ┆ null       ┆ 1          ┆ 0          ┆ 0          │\n│ 8       ┆ 2019-01-03 ┆ 201901 ┆ 0        ┆ … ┆ null       ┆ 1          ┆ 0          ┆ 0          │\n│ 9       ┆ 2019-01-03 ┆ 201901 ┆ 0        ┆ … ┆ null       ┆ 1          ┆ 0          ┆ 0          │\n└─────────┴────────────┴────────┴──────────┴───┴────────────┴────────────┴────────────┴────────────┘",
      "text/html": "<div><style>\n.dataframe > thead > tr,\n.dataframe > tbody > tr {\n  text-align: right;\n  white-space: pre-wrap;\n}\n</style>\n<small>shape: (10, 31)</small><table border=\"1\" class=\"dataframe\"><thead><tr><th>case_id</th><th>date_decision</th><th>MONTH</th><th>WEEK_NUM</th><th>target</th><th>IS_TRAIN</th><th>max_empls_employedfrom_796D</th><th>min_empls_employedfrom_796D</th><th>last_addres_district_368M</th><th>last_addres_zip_823M</th><th>last_conts_role_79M</th><th>last_empls_economicalst_849M</th><th>last_empls_employer_name_740M</th><th>first_addres_district_368M</th><th>first_addres_zip_823M</th><th>first_conts_role_79M</th><th>first_empls_economicalst_849M</th><th>first_empls_employer_name_740M</th><th>n_unique_addres_district_368M</th><th>n_unique_addres_zip_823M</th><th>n_unique_conts_role_79M</th><th>n_unique_empls_economicalst_849M</th><th>n_unique_empls_employer_name_740M</th><th>last_addres_role_871L</th><th>first_addres_role_871L</th><th>n_unique_addres_role_871L</th><th>last_relatedpersons_role_762T</th><th>first_relatedpersons_role_762T</th><th>n_unique_relatedpersons_role_762T</th><th>max_num_group1</th><th>max_num_group2</th></tr><tr><td>i64</td><td>date</td><td>i64</td><td>i64</td><td>i64</td><td>i32</td><td>date</td><td>date</td><td>str</td><td>str</td><td>str</td><td>str</td><td>str</td><td>str</td><td>str</td><td>str</td><td>str</td><td>str</td><td>u32</td><td>u32</td><td>u32</td><td>u32</td><td>u32</td><td>str</td><td>str</td><td>u32</td><td>str</td><td>str</td><td>u32</td><td>i64</td><td>i64</td></tr></thead><tbody><tr><td>0</td><td>2019-01-03</td><td>201901</td><td>0</td><td>0</td><td>1</td><td>null</td><td>null</td><td>null</td><td>null</td><td>null</td><td>null</td><td>null</td><td>null</td><td>null</td><td>null</td><td>null</td><td>null</td><td>1</td><td>1</td><td>1</td><td>1</td><td>1</td><td>null</td><td>null</td><td>1</td><td>null</td><td>null</td><td>1</td><td>null</td><td>null</td></tr><tr><td>1</td><td>2019-01-03</td><td>201901</td><td>0</td><td>0</td><td>1</td><td>null</td><td>null</td><td>null</td><td>null</td><td>null</td><td>null</td><td>null</td><td>null</td><td>null</td><td>null</td><td>null</td><td>null</td><td>1</td><td>1</td><td>1</td><td>1</td><td>1</td><td>null</td><td>null</td><td>1</td><td>null</td><td>null</td><td>1</td><td>null</td><td>null</td></tr><tr><td>2</td><td>2019-01-04</td><td>201901</td><td>0</td><td>0</td><td>1</td><td>null</td><td>null</td><td>null</td><td>null</td><td>null</td><td>null</td><td>null</td><td>null</td><td>null</td><td>null</td><td>null</td><td>null</td><td>1</td><td>1</td><td>1</td><td>1</td><td>1</td><td>null</td><td>null</td><td>1</td><td>null</td><td>null</td><td>1</td><td>null</td><td>null</td></tr><tr><td>3</td><td>2019-01-03</td><td>201901</td><td>0</td><td>0</td><td>1</td><td>null</td><td>null</td><td>null</td><td>null</td><td>null</td><td>null</td><td>null</td><td>null</td><td>null</td><td>null</td><td>null</td><td>null</td><td>1</td><td>1</td><td>1</td><td>1</td><td>1</td><td>null</td><td>null</td><td>1</td><td>null</td><td>null</td><td>1</td><td>null</td><td>null</td></tr><tr><td>4</td><td>2019-01-04</td><td>201901</td><td>0</td><td>1</td><td>1</td><td>null</td><td>null</td><td>null</td><td>null</td><td>null</td><td>null</td><td>null</td><td>null</td><td>null</td><td>null</td><td>null</td><td>null</td><td>1</td><td>1</td><td>1</td><td>1</td><td>1</td><td>null</td><td>null</td><td>1</td><td>null</td><td>null</td><td>1</td><td>null</td><td>null</td></tr><tr><td>5</td><td>2019-01-02</td><td>201901</td><td>0</td><td>0</td><td>1</td><td>null</td><td>null</td><td>&quot;a55475b1&quot;</td><td>&quot;a55475b1&quot;</td><td>&quot;a55475b1&quot;</td><td>&quot;a55475b1&quot;</td><td>&quot;a55475b1&quot;</td><td>&quot;a55475b1&quot;</td><td>&quot;a55475b1&quot;</td><td>&quot;a55475b1&quot;</td><td>&quot;a55475b1&quot;</td><td>&quot;a55475b1&quot;</td><td>1</td><td>1</td><td>1</td><td>1</td><td>1</td><td>null</td><td>null</td><td>1</td><td>null</td><td>null</td><td>1</td><td>0</td><td>0</td></tr><tr><td>6</td><td>2019-01-03</td><td>201901</td><td>0</td><td>0</td><td>1</td><td>null</td><td>null</td><td>&quot;P204_92_178&quot;</td><td>&quot;P164_28_170&quot;</td><td>&quot;a55475b1&quot;</td><td>&quot;a55475b1&quot;</td><td>&quot;a55475b1&quot;</td><td>&quot;P55_110_32&quot;</td><td>&quot;P10_68_40&quot;</td><td>&quot;P38_92_157&quot;</td><td>&quot;P164_110_33&quot;</td><td>&quot;a55475b1&quot;</td><td>3</td><td>3</td><td>3</td><td>2</td><td>1</td><td>&quot;PERMANENT&quot;</td><td>&quot;CONTACT&quot;</td><td>2</td><td>null</td><td>null</td><td>2</td><td>1</td><td>5</td></tr><tr><td>7</td><td>2019-01-03</td><td>201901</td><td>0</td><td>0</td><td>1</td><td>null</td><td>null</td><td>&quot;a55475b1&quot;</td><td>&quot;a55475b1&quot;</td><td>&quot;a55475b1&quot;</td><td>&quot;a55475b1&quot;</td><td>&quot;a55475b1&quot;</td><td>&quot;a55475b1&quot;</td><td>&quot;a55475b1&quot;</td><td>&quot;a55475b1&quot;</td><td>&quot;a55475b1&quot;</td><td>&quot;a55475b1&quot;</td><td>1</td><td>1</td><td>1</td><td>1</td><td>1</td><td>null</td><td>null</td><td>1</td><td>null</td><td>null</td><td>1</td><td>0</td><td>0</td></tr><tr><td>8</td><td>2019-01-03</td><td>201901</td><td>0</td><td>0</td><td>1</td><td>null</td><td>null</td><td>&quot;a55475b1&quot;</td><td>&quot;a55475b1&quot;</td><td>&quot;a55475b1&quot;</td><td>&quot;a55475b1&quot;</td><td>&quot;a55475b1&quot;</td><td>&quot;a55475b1&quot;</td><td>&quot;a55475b1&quot;</td><td>&quot;a55475b1&quot;</td><td>&quot;a55475b1&quot;</td><td>&quot;a55475b1&quot;</td><td>1</td><td>1</td><td>1</td><td>1</td><td>1</td><td>null</td><td>null</td><td>1</td><td>null</td><td>null</td><td>1</td><td>0</td><td>0</td></tr><tr><td>9</td><td>2019-01-03</td><td>201901</td><td>0</td><td>0</td><td>1</td><td>null</td><td>null</td><td>&quot;a55475b1&quot;</td><td>&quot;a55475b1&quot;</td><td>&quot;a55475b1&quot;</td><td>&quot;a55475b1&quot;</td><td>&quot;a55475b1&quot;</td><td>&quot;a55475b1&quot;</td><td>&quot;a55475b1&quot;</td><td>&quot;a55475b1&quot;</td><td>&quot;a55475b1&quot;</td><td>&quot;a55475b1&quot;</td><td>1</td><td>1</td><td>1</td><td>1</td><td>1</td><td>null</td><td>null</td><td>1</td><td>null</td><td>null</td><td>1</td><td>0</td><td>0</td></tr></tbody></table></div>"
     },
     "execution_count": 20,
     "metadata": {},
     "output_type": "execute_result"
    }
   ],
   "source": [
    "data.head(10)"
   ],
   "metadata": {
    "collapsed": false,
    "ExecuteTime": {
     "start_time": "2024-03-06T16:28:29.959765Z",
     "end_time": "2024-03-06T16:28:29.976306Z"
    }
   }
  },
  {
   "cell_type": "code",
   "execution_count": null,
   "outputs": [],
   "source": [
    "# def derived_features_between_cols(df, cols_list):\n",
    "#     for item in cols_list:\n",
    "#         print(item)\n",
    "#         col1 = item[0]\n",
    "#         col2 = item[1]\n",
    "#\n",
    "#         df = df.with_columns((pl.col(col2) - pl.col(col1)).alias(col2 + '_minus_' + col1))\n",
    "#         df = df.with_columns(operator.truediv(pl.col(col2), pl.col(col1)).alias(col2 + '_div_' + col1))\n",
    "#\n",
    "#     return df\n",
    "#\n",
    "# data = derived_features_between_cols(data, derive_list)"
   ],
   "metadata": {
    "collapsed": false
   }
  },
  {
   "cell_type": "code",
   "execution_count": 21,
   "outputs": [],
   "source": [
    "def handle_date(df):\n",
    "    for col in df.columns:\n",
    "        if col[-1] in (\"D\",) and df[col].dtype == pl.Date:\n",
    "            print(f'col [{col}] is date...')\n",
    "            df = df.with_columns(pl.col(col) - pl.col(\"date_decision\"))\n",
    "            df = df.with_columns(pl.col(col).dt.total_days())\n",
    "\n",
    "    # df = df.drop(\"date_decision\", \"MONTH\")\n",
    "    return df\n",
    "\n",
    "\n",
    "def handle_category(df):\n",
    "    dt_train = df.filter(pl.col('IS_TRAIN') == 1)\n",
    "    cols_list = df.columns\n",
    "    for col in cols_list:\n",
    "        if ((col[-1] in (\"M\",)) and ('WEEK_NUM' not in col) and (not col.startswith('n_unique'))) \\\n",
    "                or (col[-1] in (\"L\", \"P\") and (df[col].dtype == pl.String) or df[col].dtype == pl.Boolean):\n",
    "            freq = dt_train[col].n_unique()\n",
    "            if freq <= 10:\n",
    "                print(f'col [{col}] one hot encoded...')\n",
    "                encoder = OneHotEncoder(cols=[col], handle_unknown='indicator', handle_missing='indicator', use_cat_names=True)\n",
    "                encoder.fit(dt_train[col].to_pandas())\n",
    "                res_df = pl.from_pandas(encoder.transform(df[col].to_pandas()))\n",
    "                df = pl.concat([df, res_df], how=\"horizontal\")\n",
    "                df = df.drop(col)\n",
    "            else:\n",
    "                print(f'col [{col}] target encoded...')\n",
    "                encoder = TargetEncoder(cols=[col], handle_unknown='value', handle_missing='value') \\\n",
    "                            .fit(dt_train[col].to_pandas(), dt_train['target'].to_pandas())\n",
    "                df = df.with_columns(pl.from_pandas(encoder.transform(df[col].to_pandas())).to_series().alias(col + '_target_encoder'))\n",
    "                df = df.drop(col)\n",
    "\n",
    "    return df"
   ],
   "metadata": {
    "collapsed": false,
    "ExecuteTime": {
     "start_time": "2024-03-06T16:28:48.146358Z",
     "end_time": "2024-03-06T16:28:48.173324Z"
    }
   }
  },
  {
   "cell_type": "code",
   "execution_count": 22,
   "outputs": [
    {
     "name": "stdout",
     "output_type": "stream",
     "text": [
      "col [last_addres_district_368M] target encoded...\n",
      "col [last_addres_zip_823M] target encoded...\n",
      "col [last_conts_role_79M] target encoded...\n",
      "col [last_empls_economicalst_849M] one hot encoded...\n",
      "col [last_empls_employer_name_740M] one hot encoded...\n",
      "col [first_addres_district_368M] target encoded...\n",
      "col [first_addres_zip_823M] target encoded...\n",
      "col [first_conts_role_79M] one hot encoded...\n",
      "col [first_empls_economicalst_849M] one hot encoded...\n",
      "col [first_empls_employer_name_740M] one hot encoded...\n",
      "col [last_addres_role_871L] one hot encoded...\n",
      "col [first_addres_role_871L] one hot encoded...\n"
     ]
    }
   ],
   "source": [
    "data = data.pipe(handle_category)"
   ],
   "metadata": {
    "collapsed": false,
    "ExecuteTime": {
     "start_time": "2024-03-06T16:28:51.095441Z",
     "end_time": "2024-03-06T16:29:03.931970Z"
    }
   }
  },
  {
   "cell_type": "code",
   "execution_count": 23,
   "outputs": [
    {
     "name": "stdout",
     "output_type": "stream",
     "text": [
      "col [max_empls_employedfrom_796D] is date...\n",
      "col [min_empls_employedfrom_796D] is date...\n"
     ]
    }
   ],
   "source": [
    "data = data.pipe(handle_date)"
   ],
   "metadata": {
    "collapsed": false,
    "ExecuteTime": {
     "start_time": "2024-03-06T16:29:10.003831Z",
     "end_time": "2024-03-06T16:29:10.058087Z"
    }
   }
  },
  {
   "cell_type": "code",
   "execution_count": 24,
   "outputs": [
    {
     "data": {
      "text/plain": "(1526669, 63)"
     },
     "execution_count": 24,
     "metadata": {},
     "output_type": "execute_result"
    }
   ],
   "source": [
    "data.shape"
   ],
   "metadata": {
    "collapsed": false,
    "ExecuteTime": {
     "start_time": "2024-03-06T16:29:13.011223Z",
     "end_time": "2024-03-06T16:29:13.019798Z"
    }
   }
  },
  {
   "cell_type": "code",
   "execution_count": 25,
   "outputs": [],
   "source": [
    "def filter_cols(df):\n",
    "    dt_train = df.filter(pl.col('IS_TRAIN') == 1)\n",
    "    for col in df.columns:\n",
    "        if col not in [\"case_id\", \"WEEK_NUM\", \"date_decision\", \"MONTH\", \"IS_TRAIN\", \"target\"]:\n",
    "            isnull = dt_train[col].is_null().mean()\n",
    "\n",
    "            if isnull > 0.95:\n",
    "                print(f'col [{col}] to be null dropped...')\n",
    "                num_positive = dt_train.filter(pl.col(col).is_not_null() & pl.col(\"target\") == 1).shape[0]\n",
    "                if num_positive < 1000:\n",
    "                    df = df.drop(col)\n",
    "                    print(f'col [{col}] null dropped...')\n",
    "\n",
    "    for col in df.columns:\n",
    "        if (col not in [\"case_id\", \"WEEK_NUM\", \"date_decision\", \"MONTH\", \"IS_TRAIN\", \"target\"]) & (df[col].dtype == pl.String):\n",
    "            freq = dt_train[col].n_unique()\n",
    "\n",
    "            if freq == 1:\n",
    "                df = df.drop(col)\n",
    "                print(f'col [{col}] freq dropped...')\n",
    "\n",
    "    return df"
   ],
   "metadata": {
    "collapsed": false,
    "ExecuteTime": {
     "start_time": "2024-03-06T16:29:23.306260Z",
     "end_time": "2024-03-06T16:29:23.314004Z"
    }
   }
  },
  {
   "cell_type": "code",
   "execution_count": 26,
   "outputs": [
    {
     "name": "stdout",
     "output_type": "stream",
     "text": [
      "col [max_empls_employedfrom_796D] to be null dropped...\n",
      "col [max_empls_employedfrom_796D] null dropped...\n",
      "col [min_empls_employedfrom_796D] to be null dropped...\n",
      "col [min_empls_employedfrom_796D] null dropped...\n",
      "col [last_relatedpersons_role_762T] to be null dropped...\n",
      "col [last_relatedpersons_role_762T] null dropped...\n",
      "col [first_relatedpersons_role_762T] to be null dropped...\n",
      "col [first_relatedpersons_role_762T] null dropped...\n"
     ]
    }
   ],
   "source": [
    "data = data.pipe(filter_cols)"
   ],
   "metadata": {
    "collapsed": false,
    "ExecuteTime": {
     "start_time": "2024-03-06T16:29:25.476428Z",
     "end_time": "2024-03-06T16:29:26.015182Z"
    }
   }
  },
  {
   "cell_type": "code",
   "execution_count": 30,
   "outputs": [
    {
     "data": {
      "text/plain": "shape: (10, 55)\n┌─────────┬──────────┬────────────┬────────────┬───┬───────────┬───────────┬───────────┬───────────┐\n│ case_id ┆ IS_TRAIN ┆ n_unique_a ┆ n_unique_a ┆ … ┆ first_add ┆ first_add ┆ first_add ┆ first_add │\n│ ---     ┆ ---      ┆ ddres_dist ┆ ddres_zip_ ┆   ┆ res_role_ ┆ res_role_ ┆ res_role_ ┆ res_role_ │\n│ i64     ┆ i32      ┆ rict_368M  ┆ 823M       ┆   ┆ 871L_nan  ┆ 871L_CONT ┆ 871L_PERM ┆ 871L_-1   │\n│         ┆          ┆ ---        ┆ ---        ┆   ┆ ---       ┆ ACT       ┆ ANENT     ┆ ---       │\n│         ┆          ┆ u32        ┆ u32        ┆   ┆ i64       ┆ ---       ┆ ---       ┆ i64       │\n│         ┆          ┆            ┆            ┆   ┆           ┆ i64       ┆ i64       ┆           │\n╞═════════╪══════════╪════════════╪════════════╪═══╪═══════════╪═══════════╪═══════════╪═══════════╡\n│ 0       ┆ 1        ┆ 1          ┆ 1          ┆ … ┆ 1         ┆ 0         ┆ 0         ┆ 0         │\n│ 1       ┆ 1        ┆ 1          ┆ 1          ┆ … ┆ 1         ┆ 0         ┆ 0         ┆ 0         │\n│ 2       ┆ 1        ┆ 1          ┆ 1          ┆ … ┆ 1         ┆ 0         ┆ 0         ┆ 0         │\n│ 3       ┆ 1        ┆ 1          ┆ 1          ┆ … ┆ 1         ┆ 0         ┆ 0         ┆ 0         │\n│ 4       ┆ 1        ┆ 1          ┆ 1          ┆ … ┆ 1         ┆ 0         ┆ 0         ┆ 0         │\n│ 5       ┆ 1        ┆ 1          ┆ 1          ┆ … ┆ 1         ┆ 0         ┆ 0         ┆ 0         │\n│ 6       ┆ 1        ┆ 3          ┆ 3          ┆ … ┆ 0         ┆ 1         ┆ 0         ┆ 0         │\n│ 7       ┆ 1        ┆ 1          ┆ 1          ┆ … ┆ 1         ┆ 0         ┆ 0         ┆ 0         │\n│ 8       ┆ 1        ┆ 1          ┆ 1          ┆ … ┆ 1         ┆ 0         ┆ 0         ┆ 0         │\n│ 9       ┆ 1        ┆ 1          ┆ 1          ┆ … ┆ 1         ┆ 0         ┆ 0         ┆ 0         │\n└─────────┴──────────┴────────────┴────────────┴───┴───────────┴───────────┴───────────┴───────────┘",
      "text/html": "<div><style>\n.dataframe > thead > tr,\n.dataframe > tbody > tr {\n  text-align: right;\n  white-space: pre-wrap;\n}\n</style>\n<small>shape: (10, 55)</small><table border=\"1\" class=\"dataframe\"><thead><tr><th>case_id</th><th>IS_TRAIN</th><th>n_unique_addres_district_368M</th><th>n_unique_addres_zip_823M</th><th>n_unique_conts_role_79M</th><th>n_unique_empls_economicalst_849M</th><th>n_unique_empls_employer_name_740M</th><th>n_unique_addres_role_871L</th><th>n_unique_relatedpersons_role_762T</th><th>max_num_group1</th><th>max_num_group2</th><th>last_addres_district_368M_target_encoder</th><th>last_addres_zip_823M_target_encoder</th><th>last_conts_role_79M_target_encoder</th><th>last_empls_economicalst_849M_nan</th><th>last_empls_economicalst_849M_a55475b1</th><th>last_empls_economicalst_849M_P22_131_138</th><th>last_empls_economicalst_849M_P28_32_178</th><th>last_empls_economicalst_849M_P148_57_109</th><th>last_empls_economicalst_849M_P164_110_33</th><th>last_empls_economicalst_849M_P112_86_147</th><th>last_empls_economicalst_849M_-1</th><th>last_empls_employer_name_740M_nan</th><th>last_empls_employer_name_740M_a55475b1</th><th>last_empls_employer_name_740M_-1</th><th>first_addres_district_368M_target_encoder</th><th>first_addres_zip_823M_target_encoder</th><th>first_conts_role_79M_nan</th><th>first_conts_role_79M_a55475b1</th><th>first_conts_role_79M_P38_92_157</th><th>first_conts_role_79M_P177_137_98</th><th>first_conts_role_79M_P125_14_176</th><th>first_conts_role_79M_-1</th><th>first_empls_economicalst_849M_nan</th><th>first_empls_economicalst_849M_a55475b1</th><th>first_empls_economicalst_849M_P164_110_33</th><th>first_empls_economicalst_849M_P22_131_138</th><th>first_empls_economicalst_849M_P148_57_109</th><th>first_empls_economicalst_849M_P28_32_178</th><th>first_empls_economicalst_849M_P7_47_145</th><th>first_empls_economicalst_849M_P164_122_65</th><th>first_empls_economicalst_849M_P112_86_147</th><th>first_empls_economicalst_849M_P191_80_124</th><th>first_empls_economicalst_849M_-1</th><th>first_empls_employer_name_740M_nan</th><th>first_empls_employer_name_740M_a55475b1</th><th>first_empls_employer_name_740M_P207_71_72</th><th>first_empls_employer_name_740M_-1</th><th>last_addres_role_871L_nan</th><th>last_addres_role_871L_PERMANENT</th><th>last_addres_role_871L_-1</th><th>first_addres_role_871L_nan</th><th>first_addres_role_871L_CONTACT</th><th>first_addres_role_871L_PERMANENT</th><th>first_addres_role_871L_-1</th></tr><tr><td>i64</td><td>i32</td><td>u32</td><td>u32</td><td>u32</td><td>u32</td><td>u32</td><td>u32</td><td>u32</td><td>i64</td><td>i64</td><td>f64</td><td>f64</td><td>f64</td><td>i64</td><td>i64</td><td>i64</td><td>i64</td><td>i64</td><td>i64</td><td>i64</td><td>i64</td><td>i64</td><td>i64</td><td>i64</td><td>f64</td><td>f64</td><td>i64</td><td>i64</td><td>i64</td><td>i64</td><td>i64</td><td>i64</td><td>i64</td><td>i64</td><td>i64</td><td>i64</td><td>i64</td><td>i64</td><td>i64</td><td>i64</td><td>i64</td><td>i64</td><td>i64</td><td>i64</td><td>i64</td><td>i64</td><td>i64</td><td>i64</td><td>i64</td><td>i64</td><td>i64</td><td>i64</td><td>i64</td><td>i64</td></tr></thead><tbody><tr><td>0</td><td>1</td><td>1</td><td>1</td><td>1</td><td>1</td><td>1</td><td>1</td><td>1</td><td>null</td><td>null</td><td>0.03658</td><td>0.03658</td><td>0.03658</td><td>1</td><td>0</td><td>0</td><td>0</td><td>0</td><td>0</td><td>0</td><td>0</td><td>1</td><td>0</td><td>0</td><td>0.03658</td><td>0.03658</td><td>1</td><td>0</td><td>0</td><td>0</td><td>0</td><td>0</td><td>1</td><td>0</td><td>0</td><td>0</td><td>0</td><td>0</td><td>0</td><td>0</td><td>0</td><td>0</td><td>0</td><td>1</td><td>0</td><td>0</td><td>0</td><td>1</td><td>0</td><td>0</td><td>1</td><td>0</td><td>0</td><td>0</td></tr><tr><td>1</td><td>1</td><td>1</td><td>1</td><td>1</td><td>1</td><td>1</td><td>1</td><td>1</td><td>null</td><td>null</td><td>0.03658</td><td>0.03658</td><td>0.03658</td><td>1</td><td>0</td><td>0</td><td>0</td><td>0</td><td>0</td><td>0</td><td>0</td><td>1</td><td>0</td><td>0</td><td>0.03658</td><td>0.03658</td><td>1</td><td>0</td><td>0</td><td>0</td><td>0</td><td>0</td><td>1</td><td>0</td><td>0</td><td>0</td><td>0</td><td>0</td><td>0</td><td>0</td><td>0</td><td>0</td><td>0</td><td>1</td><td>0</td><td>0</td><td>0</td><td>1</td><td>0</td><td>0</td><td>1</td><td>0</td><td>0</td><td>0</td></tr><tr><td>2</td><td>1</td><td>1</td><td>1</td><td>1</td><td>1</td><td>1</td><td>1</td><td>1</td><td>null</td><td>null</td><td>0.03658</td><td>0.03658</td><td>0.03658</td><td>1</td><td>0</td><td>0</td><td>0</td><td>0</td><td>0</td><td>0</td><td>0</td><td>1</td><td>0</td><td>0</td><td>0.03658</td><td>0.03658</td><td>1</td><td>0</td><td>0</td><td>0</td><td>0</td><td>0</td><td>1</td><td>0</td><td>0</td><td>0</td><td>0</td><td>0</td><td>0</td><td>0</td><td>0</td><td>0</td><td>0</td><td>1</td><td>0</td><td>0</td><td>0</td><td>1</td><td>0</td><td>0</td><td>1</td><td>0</td><td>0</td><td>0</td></tr><tr><td>3</td><td>1</td><td>1</td><td>1</td><td>1</td><td>1</td><td>1</td><td>1</td><td>1</td><td>null</td><td>null</td><td>0.03658</td><td>0.03658</td><td>0.03658</td><td>1</td><td>0</td><td>0</td><td>0</td><td>0</td><td>0</td><td>0</td><td>0</td><td>1</td><td>0</td><td>0</td><td>0.03658</td><td>0.03658</td><td>1</td><td>0</td><td>0</td><td>0</td><td>0</td><td>0</td><td>1</td><td>0</td><td>0</td><td>0</td><td>0</td><td>0</td><td>0</td><td>0</td><td>0</td><td>0</td><td>0</td><td>1</td><td>0</td><td>0</td><td>0</td><td>1</td><td>0</td><td>0</td><td>1</td><td>0</td><td>0</td><td>0</td></tr><tr><td>4</td><td>1</td><td>1</td><td>1</td><td>1</td><td>1</td><td>1</td><td>1</td><td>1</td><td>null</td><td>null</td><td>0.03658</td><td>0.03658</td><td>0.03658</td><td>1</td><td>0</td><td>0</td><td>0</td><td>0</td><td>0</td><td>0</td><td>0</td><td>1</td><td>0</td><td>0</td><td>0.03658</td><td>0.03658</td><td>1</td><td>0</td><td>0</td><td>0</td><td>0</td><td>0</td><td>1</td><td>0</td><td>0</td><td>0</td><td>0</td><td>0</td><td>0</td><td>0</td><td>0</td><td>0</td><td>0</td><td>1</td><td>0</td><td>0</td><td>0</td><td>1</td><td>0</td><td>0</td><td>1</td><td>0</td><td>0</td><td>0</td></tr><tr><td>5</td><td>1</td><td>1</td><td>1</td><td>1</td><td>1</td><td>1</td><td>1</td><td>1</td><td>0</td><td>0</td><td>0.031096</td><td>0.031097</td><td>0.031118</td><td>0</td><td>1</td><td>0</td><td>0</td><td>0</td><td>0</td><td>0</td><td>0</td><td>0</td><td>1</td><td>0</td><td>0.031098</td><td>0.031093</td><td>0</td><td>1</td><td>0</td><td>0</td><td>0</td><td>0</td><td>0</td><td>1</td><td>0</td><td>0</td><td>0</td><td>0</td><td>0</td><td>0</td><td>0</td><td>0</td><td>0</td><td>0</td><td>1</td><td>0</td><td>0</td><td>1</td><td>0</td><td>0</td><td>1</td><td>0</td><td>0</td><td>0</td></tr><tr><td>6</td><td>1</td><td>3</td><td>3</td><td>3</td><td>2</td><td>1</td><td>2</td><td>2</td><td>1</td><td>5</td><td>0.022982</td><td>0.027347</td><td>0.031118</td><td>0</td><td>1</td><td>0</td><td>0</td><td>0</td><td>0</td><td>0</td><td>0</td><td>0</td><td>1</td><td>0</td><td>0.024931</td><td>0.027347</td><td>0</td><td>0</td><td>1</td><td>0</td><td>0</td><td>0</td><td>0</td><td>0</td><td>1</td><td>0</td><td>0</td><td>0</td><td>0</td><td>0</td><td>0</td><td>0</td><td>0</td><td>0</td><td>1</td><td>0</td><td>0</td><td>0</td><td>1</td><td>0</td><td>0</td><td>1</td><td>0</td><td>0</td></tr><tr><td>7</td><td>1</td><td>1</td><td>1</td><td>1</td><td>1</td><td>1</td><td>1</td><td>1</td><td>0</td><td>0</td><td>0.031096</td><td>0.031097</td><td>0.031118</td><td>0</td><td>1</td><td>0</td><td>0</td><td>0</td><td>0</td><td>0</td><td>0</td><td>0</td><td>1</td><td>0</td><td>0.031098</td><td>0.031093</td><td>0</td><td>1</td><td>0</td><td>0</td><td>0</td><td>0</td><td>0</td><td>1</td><td>0</td><td>0</td><td>0</td><td>0</td><td>0</td><td>0</td><td>0</td><td>0</td><td>0</td><td>0</td><td>1</td><td>0</td><td>0</td><td>1</td><td>0</td><td>0</td><td>1</td><td>0</td><td>0</td><td>0</td></tr><tr><td>8</td><td>1</td><td>1</td><td>1</td><td>1</td><td>1</td><td>1</td><td>1</td><td>1</td><td>0</td><td>0</td><td>0.031096</td><td>0.031097</td><td>0.031118</td><td>0</td><td>1</td><td>0</td><td>0</td><td>0</td><td>0</td><td>0</td><td>0</td><td>0</td><td>1</td><td>0</td><td>0.031098</td><td>0.031093</td><td>0</td><td>1</td><td>0</td><td>0</td><td>0</td><td>0</td><td>0</td><td>1</td><td>0</td><td>0</td><td>0</td><td>0</td><td>0</td><td>0</td><td>0</td><td>0</td><td>0</td><td>0</td><td>1</td><td>0</td><td>0</td><td>1</td><td>0</td><td>0</td><td>1</td><td>0</td><td>0</td><td>0</td></tr><tr><td>9</td><td>1</td><td>1</td><td>1</td><td>1</td><td>1</td><td>1</td><td>1</td><td>1</td><td>0</td><td>0</td><td>0.031096</td><td>0.031097</td><td>0.031118</td><td>0</td><td>1</td><td>0</td><td>0</td><td>0</td><td>0</td><td>0</td><td>0</td><td>0</td><td>1</td><td>0</td><td>0.031098</td><td>0.031093</td><td>0</td><td>1</td><td>0</td><td>0</td><td>0</td><td>0</td><td>0</td><td>1</td><td>0</td><td>0</td><td>0</td><td>0</td><td>0</td><td>0</td><td>0</td><td>0</td><td>0</td><td>0</td><td>1</td><td>0</td><td>0</td><td>1</td><td>0</td><td>0</td><td>1</td><td>0</td><td>0</td><td>0</td></tr></tbody></table></div>"
     },
     "execution_count": 30,
     "metadata": {},
     "output_type": "execute_result"
    }
   ],
   "source": [
    "data.head(10)"
   ],
   "metadata": {
    "collapsed": false,
    "ExecuteTime": {
     "start_time": "2024-03-06T16:29:48.713665Z",
     "end_time": "2024-03-06T16:29:48.721989Z"
    }
   }
  },
  {
   "cell_type": "code",
   "execution_count": 28,
   "outputs": [],
   "source": [
    "data = data.drop('date_decision', 'MONTH', 'WEEK_NUM', 'target')"
   ],
   "metadata": {
    "collapsed": false,
    "ExecuteTime": {
     "start_time": "2024-03-06T16:29:45.080334Z",
     "end_time": "2024-03-06T16:29:45.133831Z"
    }
   }
  },
  {
   "cell_type": "code",
   "execution_count": 29,
   "outputs": [
    {
     "data": {
      "text/plain": "(1526669, 55)"
     },
     "execution_count": 29,
     "metadata": {},
     "output_type": "execute_result"
    }
   ],
   "source": [
    "data.shape"
   ],
   "metadata": {
    "collapsed": false,
    "ExecuteTime": {
     "start_time": "2024-03-06T16:29:46.371154Z",
     "end_time": "2024-03-06T16:29:46.378089Z"
    }
   }
  },
  {
   "cell_type": "code",
   "execution_count": 31,
   "outputs": [],
   "source": [
    "preprocess_dir_path = \"/Users/sophie/workspace/data/kaggle/home-credit-credit-risk-model-stability/preprocess\"\n",
    "preprocess_file = 'person_2.parquet'\n",
    "preprocess_file_path = Path(os.path.join(preprocess_dir_path, preprocess_file))\n",
    "data.write_parquet(preprocess_file_path)"
   ],
   "metadata": {
    "collapsed": false,
    "ExecuteTime": {
     "start_time": "2024-03-06T16:30:16.571530Z",
     "end_time": "2024-03-06T16:30:17.200688Z"
    }
   }
  },
  {
   "cell_type": "code",
   "execution_count": null,
   "outputs": [],
   "source": [],
   "metadata": {
    "collapsed": false
   }
  }
 ],
 "metadata": {
  "kernelspec": {
   "display_name": "Python 3",
   "language": "python",
   "name": "python3"
  },
  "language_info": {
   "codemirror_mode": {
    "name": "ipython",
    "version": 2
   },
   "file_extension": ".py",
   "mimetype": "text/x-python",
   "name": "python",
   "nbconvert_exporter": "python",
   "pygments_lexer": "ipython2",
   "version": "2.7.6"
  }
 },
 "nbformat": 4,
 "nbformat_minor": 0
}
