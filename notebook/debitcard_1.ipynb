{
 "cells": [
  {
   "cell_type": "code",
   "execution_count": 1,
   "metadata": {
    "collapsed": true,
    "ExecuteTime": {
     "start_time": "2024-03-05T15:55:24.726949Z",
     "end_time": "2024-03-05T15:55:25.584800Z"
    }
   },
   "outputs": [],
   "source": [
    "import warnings\n",
    "import os\n",
    "from glob import glob\n",
    "from pathlib import Path\n",
    "import operator\n",
    "\n",
    "import pandas as pd\n",
    "import polars as pl\n",
    "import polars.selectors as cs\n",
    "from sklearn import preprocessing\n",
    "from category_encoders import OneHotEncoder\n",
    "from category_encoders.target_encoder import TargetEncoder\n",
    "\n",
    "pd.set_option('display.float_format',lambda x : '%.6f' % x)\n",
    "warnings.filterwarnings('ignore')"
   ]
  },
  {
   "cell_type": "code",
   "execution_count": 2,
   "outputs": [],
   "source": [
    "def set_table_dtypes(df):\n",
    "    for col in df.columns:\n",
    "        if col in [\"case_id\", \"WEEK_NUM\", \"num_group1\", \"num_group2\", \"target\"]:\n",
    "            df = df.with_columns(pl.col(col).cast(pl.Int64))\n",
    "        elif col in [\"date_decision\"]:\n",
    "            df = df.with_columns(pl.col(col).cast(pl.Date))\n",
    "        elif col[-1] in (\"P\", \"A\"):\n",
    "            df = df.with_columns(pl.col(col).cast(pl.Float64))\n",
    "        elif col[-1] in (\"M\",):\n",
    "            df = df.with_columns(pl.col(col).cast(pl.String))\n",
    "        elif col[-1] in (\"D\",):\n",
    "            df = df.with_columns(pl.col(col).cast(pl.Date))\n",
    "\n",
    "    return df"
   ],
   "metadata": {
    "collapsed": false,
    "ExecuteTime": {
     "start_time": "2024-03-05T15:55:32.294095Z",
     "end_time": "2024-03-05T15:55:32.303576Z"
    }
   }
  },
  {
   "cell_type": "code",
   "execution_count": 3,
   "outputs": [],
   "source": [
    "def read_file(path, depth=None):\n",
    "    df = pl.read_parquet(path)\n",
    "    df = df.pipe(set_table_dtypes)\n",
    "    return df\n",
    "\n",
    "def read_files(regex_path, depth=None):\n",
    "    chunks = []\n",
    "    for path in glob(str(regex_path)):\n",
    "        chunks.append(pl.read_parquet(path).pipe(set_table_dtypes))\n",
    "\n",
    "    df = pl.concat(chunks, how=\"vertical_relaxed\")\n",
    "    return df"
   ],
   "metadata": {
    "collapsed": false,
    "ExecuteTime": {
     "start_time": "2024-03-05T15:55:55.195119Z",
     "end_time": "2024-03-05T15:55:55.202014Z"
    }
   }
  },
  {
   "cell_type": "code",
   "execution_count": 4,
   "outputs": [],
   "source": [
    "train_dir_path = \"/Users/sophie/workspace/data/kaggle/home-credit-credit-risk-model-stability/parquet_files/train\"\n",
    "test_dir_path = \"/Users/sophie/workspace/data/kaggle/home-credit-credit-risk-model-stability/parquet_files/test\"\n",
    "train_file = 'train_debitcard_1.parquet'\n",
    "test_file = 'test_debitcard_1.parquet'\n",
    "train_file_path = Path(os.path.join(train_dir_path, train_file))\n",
    "test_file_path = Path(os.path.join(test_dir_path, test_file))\n",
    "\n",
    "target_file = 'train_base.parquet'\n",
    "target_file_path = Path(os.path.join(train_dir_path, target_file))\n",
    "target_file_test = 'test_base.parquet'\n",
    "target_file_test_path = Path(os.path.join(test_dir_path, target_file_test))"
   ],
   "metadata": {
    "collapsed": false,
    "ExecuteTime": {
     "start_time": "2024-03-05T15:56:26.178553Z",
     "end_time": "2024-03-05T15:56:26.183731Z"
    }
   }
  },
  {
   "cell_type": "code",
   "execution_count": 5,
   "outputs": [],
   "source": [
    "df_base_train = read_file(target_file_path)\n",
    "df_base_train = df_base_train.with_columns(IS_TRAIN = pl.lit(1))\n",
    "df_train = read_file(train_file_path)\n",
    "df_train = df_base_train.join(df_train, how=\"left\", on=\"case_id\")"
   ],
   "metadata": {
    "collapsed": false,
    "ExecuteTime": {
     "start_time": "2024-03-05T15:56:28.951196Z",
     "end_time": "2024-03-05T15:56:29.191816Z"
    }
   }
  },
  {
   "cell_type": "code",
   "execution_count": 6,
   "outputs": [],
   "source": [
    "df_base_test = read_file(target_file_test_path)\n",
    "df_base_test = df_base_test.with_columns(target = None)\n",
    "df_base_test = df_base_test.with_columns(IS_TRAIN = pl.lit(0))\n",
    "df_test = read_file(test_file_path)\n",
    "df_test = df_base_test.join(df_test, how=\"left\", on=\"case_id\")"
   ],
   "metadata": {
    "collapsed": false,
    "ExecuteTime": {
     "start_time": "2024-03-05T15:56:32.748277Z",
     "end_time": "2024-03-05T15:56:32.763567Z"
    }
   }
  },
  {
   "cell_type": "code",
   "execution_count": 35,
   "outputs": [],
   "source": [
    "data = pl.concat([df_train, df_test], how=\"vertical_relaxed\")"
   ],
   "metadata": {
    "collapsed": false,
    "ExecuteTime": {
     "start_time": "2024-03-05T16:34:44.695701Z",
     "end_time": "2024-03-05T16:34:44.745364Z"
    }
   }
  },
  {
   "cell_type": "code",
   "execution_count": 36,
   "outputs": [],
   "source": [
    "data_base = pl.concat([df_base_train, df_base_test], how=\"vertical_relaxed\")"
   ],
   "metadata": {
    "collapsed": false,
    "ExecuteTime": {
     "start_time": "2024-03-05T16:34:46.636516Z",
     "end_time": "2024-03-05T16:34:46.682825Z"
    }
   }
  },
  {
   "cell_type": "code",
   "execution_count": 28,
   "outputs": [],
   "source": [
    "del df_train, df_test"
   ],
   "metadata": {
    "collapsed": false,
    "ExecuteTime": {
     "start_time": "2024-03-04T15:29:57.636722Z",
     "end_time": "2024-03-04T15:29:57.638784Z"
    }
   }
  },
  {
   "cell_type": "code",
   "execution_count": 37,
   "outputs": [
    {
     "data": {
      "text/plain": "(1572199, 11)"
     },
     "execution_count": 37,
     "metadata": {},
     "output_type": "execute_result"
    }
   ],
   "source": [
    "data.shape"
   ],
   "metadata": {
    "collapsed": false,
    "ExecuteTime": {
     "start_time": "2024-03-05T16:34:48.897023Z",
     "end_time": "2024-03-05T16:34:48.909405Z"
    }
   }
  },
  {
   "cell_type": "code",
   "execution_count": null,
   "outputs": [],
   "source": [
    "# null的比较多"
   ],
   "metadata": {
    "collapsed": false
   }
  },
  {
   "cell_type": "code",
   "execution_count": 38,
   "outputs": [
    {
     "data": {
      "text/plain": "shape: (50, 11)\n┌─────────┬────────────┬────────┬──────────┬───┬────────────┬────────────┬────────────┬────────────┐\n│ case_id ┆ date_decis ┆ MONTH  ┆ WEEK_NUM ┆ … ┆ last180day ┆ last30dayt ┆ num_group1 ┆ openingdat │\n│ ---     ┆ ion        ┆ ---    ┆ ---      ┆   ┆ turnover_1 ┆ urnover_65 ┆ ---        ┆ e_857D     │\n│ i64     ┆ ---        ┆ i64    ┆ i64      ┆   ┆ 134A       ┆ 1A         ┆ i64        ┆ ---        │\n│         ┆ date       ┆        ┆          ┆   ┆ ---        ┆ ---        ┆            ┆ date       │\n│         ┆            ┆        ┆          ┆   ┆ f64        ┆ f64        ┆            ┆            │\n╞═════════╪════════════╪════════╪══════════╪═══╪════════════╪════════════╪════════════╪════════════╡\n│ 0       ┆ 2019-01-03 ┆ 201901 ┆ 0        ┆ … ┆ null       ┆ null       ┆ null       ┆ null       │\n│ 1       ┆ 2019-01-03 ┆ 201901 ┆ 0        ┆ … ┆ null       ┆ null       ┆ null       ┆ null       │\n│ 2       ┆ 2019-01-04 ┆ 201901 ┆ 0        ┆ … ┆ null       ┆ null       ┆ null       ┆ null       │\n│ 3       ┆ 2019-01-03 ┆ 201901 ┆ 0        ┆ … ┆ null       ┆ null       ┆ null       ┆ null       │\n│ 4       ┆ 2019-01-04 ┆ 201901 ┆ 0        ┆ … ┆ null       ┆ null       ┆ null       ┆ null       │\n│ …       ┆ …          ┆ …      ┆ …        ┆ … ┆ …          ┆ …          ┆ …          ┆ …          │\n│ 45      ┆ 2019-01-03 ┆ 201901 ┆ 0        ┆ … ┆ null       ┆ null       ┆ null       ┆ null       │\n│ 46      ┆ 2019-01-03 ┆ 201901 ┆ 0        ┆ … ┆ null       ┆ null       ┆ null       ┆ null       │\n│ 47      ┆ 2019-01-03 ┆ 201901 ┆ 0        ┆ … ┆ null       ┆ null       ┆ null       ┆ null       │\n│ 48      ┆ 2019-01-03 ┆ 201901 ┆ 0        ┆ … ┆ null       ┆ null       ┆ null       ┆ null       │\n│ 49      ┆ 2019-01-03 ┆ 201901 ┆ 0        ┆ … ┆ null       ┆ null       ┆ null       ┆ null       │\n└─────────┴────────────┴────────┴──────────┴───┴────────────┴────────────┴────────────┴────────────┘",
      "text/html": "<div><style>\n.dataframe > thead > tr,\n.dataframe > tbody > tr {\n  text-align: right;\n  white-space: pre-wrap;\n}\n</style>\n<small>shape: (50, 11)</small><table border=\"1\" class=\"dataframe\"><thead><tr><th>case_id</th><th>date_decision</th><th>MONTH</th><th>WEEK_NUM</th><th>target</th><th>IS_TRAIN</th><th>last180dayaveragebalance_704A</th><th>last180dayturnover_1134A</th><th>last30dayturnover_651A</th><th>num_group1</th><th>openingdate_857D</th></tr><tr><td>i64</td><td>date</td><td>i64</td><td>i64</td><td>i64</td><td>i32</td><td>f64</td><td>f64</td><td>f64</td><td>i64</td><td>date</td></tr></thead><tbody><tr><td>0</td><td>2019-01-03</td><td>201901</td><td>0</td><td>0</td><td>1</td><td>null</td><td>null</td><td>null</td><td>null</td><td>null</td></tr><tr><td>1</td><td>2019-01-03</td><td>201901</td><td>0</td><td>0</td><td>1</td><td>null</td><td>null</td><td>null</td><td>null</td><td>null</td></tr><tr><td>2</td><td>2019-01-04</td><td>201901</td><td>0</td><td>0</td><td>1</td><td>null</td><td>null</td><td>null</td><td>null</td><td>null</td></tr><tr><td>3</td><td>2019-01-03</td><td>201901</td><td>0</td><td>0</td><td>1</td><td>null</td><td>null</td><td>null</td><td>null</td><td>null</td></tr><tr><td>4</td><td>2019-01-04</td><td>201901</td><td>0</td><td>1</td><td>1</td><td>null</td><td>null</td><td>null</td><td>null</td><td>null</td></tr><tr><td>5</td><td>2019-01-02</td><td>201901</td><td>0</td><td>0</td><td>1</td><td>null</td><td>null</td><td>null</td><td>null</td><td>null</td></tr><tr><td>6</td><td>2019-01-03</td><td>201901</td><td>0</td><td>0</td><td>1</td><td>null</td><td>null</td><td>null</td><td>null</td><td>null</td></tr><tr><td>7</td><td>2019-01-03</td><td>201901</td><td>0</td><td>0</td><td>1</td><td>null</td><td>null</td><td>null</td><td>null</td><td>null</td></tr><tr><td>8</td><td>2019-01-03</td><td>201901</td><td>0</td><td>0</td><td>1</td><td>null</td><td>null</td><td>null</td><td>null</td><td>null</td></tr><tr><td>9</td><td>2019-01-03</td><td>201901</td><td>0</td><td>0</td><td>1</td><td>null</td><td>null</td><td>null</td><td>null</td><td>null</td></tr><tr><td>10</td><td>2019-01-03</td><td>201901</td><td>0</td><td>0</td><td>1</td><td>null</td><td>null</td><td>null</td><td>null</td><td>null</td></tr><tr><td>11</td><td>2019-01-03</td><td>201901</td><td>0</td><td>0</td><td>1</td><td>null</td><td>null</td><td>null</td><td>null</td><td>null</td></tr><tr><td>&hellip;</td><td>&hellip;</td><td>&hellip;</td><td>&hellip;</td><td>&hellip;</td><td>&hellip;</td><td>&hellip;</td><td>&hellip;</td><td>&hellip;</td><td>&hellip;</td><td>&hellip;</td></tr><tr><td>38</td><td>2019-01-03</td><td>201901</td><td>0</td><td>0</td><td>1</td><td>null</td><td>null</td><td>null</td><td>null</td><td>null</td></tr><tr><td>39</td><td>2019-01-03</td><td>201901</td><td>0</td><td>0</td><td>1</td><td>null</td><td>null</td><td>null</td><td>null</td><td>null</td></tr><tr><td>40</td><td>2019-01-03</td><td>201901</td><td>0</td><td>0</td><td>1</td><td>null</td><td>null</td><td>null</td><td>null</td><td>null</td></tr><tr><td>41</td><td>2019-01-03</td><td>201901</td><td>0</td><td>0</td><td>1</td><td>null</td><td>null</td><td>null</td><td>null</td><td>null</td></tr><tr><td>42</td><td>2019-01-03</td><td>201901</td><td>0</td><td>0</td><td>1</td><td>null</td><td>null</td><td>null</td><td>null</td><td>null</td></tr><tr><td>43</td><td>2019-01-03</td><td>201901</td><td>0</td><td>0</td><td>1</td><td>null</td><td>null</td><td>null</td><td>null</td><td>null</td></tr><tr><td>44</td><td>2019-01-03</td><td>201901</td><td>0</td><td>0</td><td>1</td><td>null</td><td>null</td><td>null</td><td>null</td><td>null</td></tr><tr><td>45</td><td>2019-01-03</td><td>201901</td><td>0</td><td>0</td><td>1</td><td>null</td><td>null</td><td>null</td><td>null</td><td>null</td></tr><tr><td>46</td><td>2019-01-03</td><td>201901</td><td>0</td><td>0</td><td>1</td><td>null</td><td>null</td><td>null</td><td>null</td><td>null</td></tr><tr><td>47</td><td>2019-01-03</td><td>201901</td><td>0</td><td>0</td><td>1</td><td>null</td><td>null</td><td>null</td><td>null</td><td>null</td></tr><tr><td>48</td><td>2019-01-03</td><td>201901</td><td>0</td><td>0</td><td>1</td><td>null</td><td>null</td><td>null</td><td>null</td><td>null</td></tr><tr><td>49</td><td>2019-01-03</td><td>201901</td><td>0</td><td>0</td><td>1</td><td>null</td><td>null</td><td>null</td><td>null</td><td>null</td></tr></tbody></table></div>"
     },
     "execution_count": 38,
     "metadata": {},
     "output_type": "execute_result"
    }
   ],
   "source": [
    "data.head(50)"
   ],
   "metadata": {
    "collapsed": false,
    "ExecuteTime": {
     "start_time": "2024-03-05T16:34:50.685774Z",
     "end_time": "2024-03-05T16:34:50.692000Z"
    }
   }
  },
  {
   "cell_type": "code",
   "execution_count": 39,
   "outputs": [
    {
     "data": {
      "text/plain": "shape: (157_302, 11)\n┌─────────┬────────────┬────────┬──────────┬───┬────────────┬────────────┬────────────┬────────────┐\n│ case_id ┆ date_decis ┆ MONTH  ┆ WEEK_NUM ┆ … ┆ last180day ┆ last30dayt ┆ num_group1 ┆ openingdat │\n│ ---     ┆ ion        ┆ ---    ┆ ---      ┆   ┆ turnover_1 ┆ urnover_65 ┆ ---        ┆ e_857D     │\n│ i64     ┆ ---        ┆ i64    ┆ i64      ┆   ┆ 134A       ┆ 1A         ┆ i64        ┆ ---        │\n│         ┆ date       ┆        ┆          ┆   ┆ ---        ┆ ---        ┆            ┆ date       │\n│         ┆            ┆        ┆          ┆   ┆ f64        ┆ f64        ┆            ┆            │\n╞═════════╪════════════╪════════╪══════════╪═══╪════════════╪════════════╪════════════╪════════════╡\n│ 225     ┆ 2019-01-04 ┆ 201901 ┆ 0        ┆ … ┆ null       ┆ null       ┆ 0          ┆ 2016-08-16 │\n│ 331     ┆ 2019-01-05 ┆ 201901 ┆ 0        ┆ … ┆ null       ┆ null       ┆ 0          ┆ 2015-03-19 │\n│ 358     ┆ 2019-01-05 ┆ 201901 ┆ 0        ┆ … ┆ null       ┆ null       ┆ 0          ┆ 2014-09-02 │\n│ 390     ┆ 2019-01-07 ┆ 201901 ┆ 0        ┆ … ┆ null       ┆ null       ┆ 0          ┆ 2014-07-23 │\n│ 390     ┆ 2019-01-07 ┆ 201901 ┆ 0        ┆ … ┆ null       ┆ null       ┆ 2          ┆ 2016-06-08 │\n│ …       ┆ …          ┆ …      ┆ …        ┆ … ┆ …          ┆ …          ┆ …          ┆ …          │\n│ 2703430 ┆ 2020-10-05 ┆ 202010 ┆ 91       ┆ … ┆ null       ┆ null       ┆ 8          ┆ 2016-11-26 │\n│ 2703430 ┆ 2020-10-05 ┆ 202010 ┆ 91       ┆ … ┆ null       ┆ null       ┆ 2          ┆ 2014-02-14 │\n│ 2703439 ┆ 2020-10-05 ┆ 202010 ┆ 91       ┆ … ┆ null       ┆ null       ┆ 0          ┆ 2016-11-25 │\n│ 2703453 ┆ 2020-10-05 ┆ 202010 ┆ 91       ┆ … ┆ null       ┆ null       ┆ 1          ┆ 2015-05-29 │\n│ 2703453 ┆ 2020-10-05 ┆ 202010 ┆ 91       ┆ … ┆ null       ┆ null       ┆ 0          ┆ 2014-08-18 │\n└─────────┴────────────┴────────┴──────────┴───┴────────────┴────────────┴────────────┴────────────┘",
      "text/html": "<div><style>\n.dataframe > thead > tr,\n.dataframe > tbody > tr {\n  text-align: right;\n  white-space: pre-wrap;\n}\n</style>\n<small>shape: (157_302, 11)</small><table border=\"1\" class=\"dataframe\"><thead><tr><th>case_id</th><th>date_decision</th><th>MONTH</th><th>WEEK_NUM</th><th>target</th><th>IS_TRAIN</th><th>last180dayaveragebalance_704A</th><th>last180dayturnover_1134A</th><th>last30dayturnover_651A</th><th>num_group1</th><th>openingdate_857D</th></tr><tr><td>i64</td><td>date</td><td>i64</td><td>i64</td><td>i64</td><td>i32</td><td>f64</td><td>f64</td><td>f64</td><td>i64</td><td>date</td></tr></thead><tbody><tr><td>225</td><td>2019-01-04</td><td>201901</td><td>0</td><td>0</td><td>1</td><td>null</td><td>null</td><td>null</td><td>0</td><td>2016-08-16</td></tr><tr><td>331</td><td>2019-01-05</td><td>201901</td><td>0</td><td>0</td><td>1</td><td>null</td><td>null</td><td>null</td><td>0</td><td>2015-03-19</td></tr><tr><td>358</td><td>2019-01-05</td><td>201901</td><td>0</td><td>0</td><td>1</td><td>null</td><td>null</td><td>null</td><td>0</td><td>2014-09-02</td></tr><tr><td>390</td><td>2019-01-07</td><td>201901</td><td>0</td><td>0</td><td>1</td><td>null</td><td>null</td><td>null</td><td>0</td><td>2014-07-23</td></tr><tr><td>390</td><td>2019-01-07</td><td>201901</td><td>0</td><td>0</td><td>1</td><td>null</td><td>null</td><td>null</td><td>2</td><td>2016-06-08</td></tr><tr><td>390</td><td>2019-01-07</td><td>201901</td><td>0</td><td>0</td><td>1</td><td>null</td><td>null</td><td>null</td><td>1</td><td>2015-10-01</td></tr><tr><td>445</td><td>2019-01-08</td><td>201901</td><td>1</td><td>0</td><td>1</td><td>null</td><td>null</td><td>null</td><td>4</td><td>2016-07-19</td></tr><tr><td>445</td><td>2019-01-08</td><td>201901</td><td>1</td><td>0</td><td>1</td><td>null</td><td>null</td><td>null</td><td>1</td><td>2015-08-01</td></tr><tr><td>445</td><td>2019-01-08</td><td>201901</td><td>1</td><td>0</td><td>1</td><td>null</td><td>null</td><td>null</td><td>3</td><td>2016-02-22</td></tr><tr><td>445</td><td>2019-01-08</td><td>201901</td><td>1</td><td>0</td><td>1</td><td>null</td><td>null</td><td>null</td><td>0</td><td>2015-04-27</td></tr><tr><td>445</td><td>2019-01-08</td><td>201901</td><td>1</td><td>0</td><td>1</td><td>null</td><td>null</td><td>null</td><td>2</td><td>2015-12-10</td></tr><tr><td>450</td><td>2019-01-08</td><td>201901</td><td>1</td><td>0</td><td>1</td><td>null</td><td>null</td><td>null</td><td>0</td><td>2015-07-08</td></tr><tr><td>&hellip;</td><td>&hellip;</td><td>&hellip;</td><td>&hellip;</td><td>&hellip;</td><td>&hellip;</td><td>&hellip;</td><td>&hellip;</td><td>&hellip;</td><td>&hellip;</td><td>&hellip;</td></tr><tr><td>2703430</td><td>2020-10-05</td><td>202010</td><td>91</td><td>0</td><td>1</td><td>null</td><td>null</td><td>null</td><td>6</td><td>2015-12-11</td></tr><tr><td>2703430</td><td>2020-10-05</td><td>202010</td><td>91</td><td>0</td><td>1</td><td>null</td><td>null</td><td>null</td><td>4</td><td>2015-03-19</td></tr><tr><td>2703430</td><td>2020-10-05</td><td>202010</td><td>91</td><td>0</td><td>1</td><td>null</td><td>null</td><td>null</td><td>1</td><td>2013-09-02</td></tr><tr><td>2703430</td><td>2020-10-05</td><td>202010</td><td>91</td><td>0</td><td>1</td><td>null</td><td>null</td><td>null</td><td>7</td><td>2016-02-25</td></tr><tr><td>2703430</td><td>2020-10-05</td><td>202010</td><td>91</td><td>0</td><td>1</td><td>null</td><td>null</td><td>null</td><td>3</td><td>2015-03-19</td></tr><tr><td>2703430</td><td>2020-10-05</td><td>202010</td><td>91</td><td>0</td><td>1</td><td>null</td><td>null</td><td>null</td><td>0</td><td>2015-02-13</td></tr><tr><td>2703430</td><td>2020-10-05</td><td>202010</td><td>91</td><td>0</td><td>1</td><td>null</td><td>null</td><td>null</td><td>5</td><td>2015-08-25</td></tr><tr><td>2703430</td><td>2020-10-05</td><td>202010</td><td>91</td><td>0</td><td>1</td><td>null</td><td>null</td><td>null</td><td>8</td><td>2016-11-26</td></tr><tr><td>2703430</td><td>2020-10-05</td><td>202010</td><td>91</td><td>0</td><td>1</td><td>null</td><td>null</td><td>null</td><td>2</td><td>2014-02-14</td></tr><tr><td>2703439</td><td>2020-10-05</td><td>202010</td><td>91</td><td>0</td><td>1</td><td>null</td><td>null</td><td>null</td><td>0</td><td>2016-11-25</td></tr><tr><td>2703453</td><td>2020-10-05</td><td>202010</td><td>91</td><td>0</td><td>1</td><td>null</td><td>null</td><td>null</td><td>1</td><td>2015-05-29</td></tr><tr><td>2703453</td><td>2020-10-05</td><td>202010</td><td>91</td><td>0</td><td>1</td><td>null</td><td>null</td><td>null</td><td>0</td><td>2014-08-18</td></tr></tbody></table></div>"
     },
     "execution_count": 39,
     "metadata": {},
     "output_type": "execute_result"
    }
   ],
   "source": [
    "# df_train.filter(pl.col(\"case_id\") == 57633)\n",
    "# data.select(['case_id', 'num_group1', 'target']).filter(pl.col('num_group1').is_not_null())\n",
    "data.filter(pl.col('num_group1').is_not_null())\n",
    "# df_train.shape"
   ],
   "metadata": {
    "collapsed": false,
    "ExecuteTime": {
     "start_time": "2024-03-05T16:34:59.013717Z",
     "end_time": "2024-03-05T16:34:59.073817Z"
    }
   }
  },
  {
   "cell_type": "code",
   "execution_count": 40,
   "outputs": [],
   "source": [
    "data = data.sort('case_id', 'num_group1')"
   ],
   "metadata": {
    "collapsed": false,
    "ExecuteTime": {
     "start_time": "2024-03-05T16:44:52.745807Z",
     "end_time": "2024-03-05T16:44:52.843319Z"
    }
   }
  },
  {
   "cell_type": "code",
   "execution_count": 41,
   "outputs": [],
   "source": [
    "class Aggregator:\n",
    "    @staticmethod\n",
    "    def num_expr(df):\n",
    "        cols = [col for col in df.columns if col[-1] in (\"P\", \"A\")]\n",
    "\n",
    "        expr_num = []\n",
    "        # expr_num.extend([pl.max(col).alias(f\"max_{col}\") for col in cols])\n",
    "        # expr_num.extend([pl.min(col).alias(f\"min_{col}\") for col in cols])\n",
    "        # expr_num.extend([pl.mean(col).alias(f\"mean_{col}\") for col in cols])\n",
    "        # expr_num.extend([pl.count(col).alias(f\"count_{col}\") for col in cols])\n",
    "        # expr_num.extend([pl.var(col).alias(f\"var_{col}\") for col in cols])\n",
    "        expr_num.extend([pl.last(col).alias(f\"last_{col}\") for col in cols])\n",
    "        # expr_num.extend([pl.first(col).alias(f\"first_{col}\") for col in cols])\n",
    "\n",
    "        return expr_num\n",
    "\n",
    "    @staticmethod\n",
    "    def date_expr(df):\n",
    "        cols = [col for col in df.columns if col[-1] in (\"D\",)]\n",
    "\n",
    "        expr_date = []\n",
    "        expr_date.extend([pl.max(col).alias(f\"max_{col}\") for col in cols])\n",
    "        expr_date.extend([pl.min(col).alias(f\"min_{col}\") for col in cols])\n",
    "\n",
    "        return expr_date\n",
    "\n",
    "    @staticmethod\n",
    "    def str_expr(df):\n",
    "        cols = [col for col in df.columns if col[-1] in (\"M\",)]\n",
    "        cols.remove('WEEK_NUM')\n",
    "\n",
    "        expr_str = []\n",
    "        expr_str.extend([pl.last(col).alias(f\"last_{col}\") for col in cols])\n",
    "        expr_str.extend([pl.first(col).alias(f\"first_{col}\") for col in cols])\n",
    "        expr_str.extend([pl.n_unique(col).alias(f\"n_unique_{col}\") for col in cols])\n",
    "\n",
    "        return expr_str\n",
    "\n",
    "    @staticmethod\n",
    "    def other_expr(df):\n",
    "        cols = [col for col in df.columns if col[-1] in (\"T\", \"L\")]\n",
    "\n",
    "        expr_other = []\n",
    "        expr_other.extend([pl.max(col).alias(f\"max_{col}\") for col in cols])\n",
    "        expr_other.extend([pl.min(col).alias(f\"min_{col}\") for col in cols])\n",
    "        expr_other.extend([pl.mean(col).alias(f\"mean_{col}\") for col in cols])\n",
    "        expr_other.extend([pl.var(col).alias(f\"var_{col}\") for col in cols])\n",
    "        expr_other.extend([pl.last(col).alias(f\"last_{col}\") for col in cols])\n",
    "        expr_other.extend([pl.first(col).alias(f\"first_{col}\") for col in cols])\n",
    "\n",
    "        return expr_other\n",
    "\n",
    "    @staticmethod\n",
    "    def count_expr(df):\n",
    "        cols = [col for col in df.columns if \"num_group\" in col]\n",
    "\n",
    "        expr_count = [pl.max(col).alias(f\"max_{col}\") for col in cols]\n",
    "\n",
    "        return expr_count\n",
    "\n",
    "    @staticmethod\n",
    "    def get_exprs(df):\n",
    "        exprs = Aggregator.num_expr(df) + \\\n",
    "                Aggregator.date_expr(df) + \\\n",
    "                Aggregator.str_expr(df) + \\\n",
    "                Aggregator.other_expr(df) + \\\n",
    "                Aggregator.count_expr(df)\n",
    "\n",
    "        return exprs"
   ],
   "metadata": {
    "collapsed": false,
    "ExecuteTime": {
     "start_time": "2024-03-05T16:45:34.520829Z",
     "end_time": "2024-03-05T16:45:34.528530Z"
    }
   }
  },
  {
   "cell_type": "code",
   "execution_count": 42,
   "outputs": [],
   "source": [
    "fea_agg = data.group_by(\"case_id\").agg(Aggregator.get_exprs(data))"
   ],
   "metadata": {
    "collapsed": false,
    "ExecuteTime": {
     "start_time": "2024-03-05T16:45:54.637980Z",
     "end_time": "2024-03-05T16:45:54.737837Z"
    }
   }
  },
  {
   "cell_type": "code",
   "execution_count": 43,
   "outputs": [
    {
     "data": {
      "text/plain": "(1526669, 7)"
     },
     "execution_count": 43,
     "metadata": {},
     "output_type": "execute_result"
    }
   ],
   "source": [
    "fea_agg.shape"
   ],
   "metadata": {
    "collapsed": false,
    "ExecuteTime": {
     "start_time": "2024-03-05T16:45:57.210675Z",
     "end_time": "2024-03-05T16:45:57.217627Z"
    }
   }
  },
  {
   "cell_type": "code",
   "execution_count": 44,
   "outputs": [
    {
     "data": {
      "text/plain": "shape: (20, 7)\n┌─────────┬──────────────┬──────────────┬──────────────┬──────────────┬──────────────┬─────────────┐\n│ case_id ┆ last_last180 ┆ last_last180 ┆ last_last30d ┆ max_openingd ┆ min_openingd ┆ max_num_gro │\n│ ---     ┆ dayaverageba ┆ dayturnover_ ┆ ayturnover_6 ┆ ate_857D     ┆ ate_857D     ┆ up1         │\n│ i64     ┆ lance_70…    ┆ 1134A        ┆ 51A          ┆ ---          ┆ ---          ┆ ---         │\n│         ┆ ---          ┆ ---          ┆ ---          ┆ date         ┆ date         ┆ i64         │\n│         ┆ f64          ┆ f64          ┆ f64          ┆              ┆              ┆             │\n╞═════════╪══════════════╪══════════════╪══════════════╪══════════════╪══════════════╪═════════════╡\n│ 0       ┆ null         ┆ null         ┆ null         ┆ null         ┆ null         ┆ null        │\n│ 1       ┆ null         ┆ null         ┆ null         ┆ null         ┆ null         ┆ null        │\n│ 2       ┆ null         ┆ null         ┆ null         ┆ null         ┆ null         ┆ null        │\n│ 3       ┆ null         ┆ null         ┆ null         ┆ null         ┆ null         ┆ null        │\n│ 4       ┆ null         ┆ null         ┆ null         ┆ null         ┆ null         ┆ null        │\n│ …       ┆ …            ┆ …            ┆ …            ┆ …            ┆ …            ┆ …           │\n│ 15      ┆ null         ┆ null         ┆ null         ┆ null         ┆ null         ┆ null        │\n│ 16      ┆ null         ┆ null         ┆ null         ┆ null         ┆ null         ┆ null        │\n│ 17      ┆ null         ┆ null         ┆ null         ┆ null         ┆ null         ┆ null        │\n│ 18      ┆ null         ┆ null         ┆ null         ┆ null         ┆ null         ┆ null        │\n│ 19      ┆ null         ┆ null         ┆ null         ┆ null         ┆ null         ┆ null        │\n└─────────┴──────────────┴──────────────┴──────────────┴──────────────┴──────────────┴─────────────┘",
      "text/html": "<div><style>\n.dataframe > thead > tr,\n.dataframe > tbody > tr {\n  text-align: right;\n  white-space: pre-wrap;\n}\n</style>\n<small>shape: (20, 7)</small><table border=\"1\" class=\"dataframe\"><thead><tr><th>case_id</th><th>last_last180dayaveragebalance_704A</th><th>last_last180dayturnover_1134A</th><th>last_last30dayturnover_651A</th><th>max_openingdate_857D</th><th>min_openingdate_857D</th><th>max_num_group1</th></tr><tr><td>i64</td><td>f64</td><td>f64</td><td>f64</td><td>date</td><td>date</td><td>i64</td></tr></thead><tbody><tr><td>0</td><td>null</td><td>null</td><td>null</td><td>null</td><td>null</td><td>null</td></tr><tr><td>1</td><td>null</td><td>null</td><td>null</td><td>null</td><td>null</td><td>null</td></tr><tr><td>2</td><td>null</td><td>null</td><td>null</td><td>null</td><td>null</td><td>null</td></tr><tr><td>3</td><td>null</td><td>null</td><td>null</td><td>null</td><td>null</td><td>null</td></tr><tr><td>4</td><td>null</td><td>null</td><td>null</td><td>null</td><td>null</td><td>null</td></tr><tr><td>5</td><td>null</td><td>null</td><td>null</td><td>null</td><td>null</td><td>null</td></tr><tr><td>6</td><td>null</td><td>null</td><td>null</td><td>null</td><td>null</td><td>null</td></tr><tr><td>7</td><td>null</td><td>null</td><td>null</td><td>null</td><td>null</td><td>null</td></tr><tr><td>8</td><td>null</td><td>null</td><td>null</td><td>null</td><td>null</td><td>null</td></tr><tr><td>9</td><td>null</td><td>null</td><td>null</td><td>null</td><td>null</td><td>null</td></tr><tr><td>10</td><td>null</td><td>null</td><td>null</td><td>null</td><td>null</td><td>null</td></tr><tr><td>11</td><td>null</td><td>null</td><td>null</td><td>null</td><td>null</td><td>null</td></tr><tr><td>12</td><td>null</td><td>null</td><td>null</td><td>null</td><td>null</td><td>null</td></tr><tr><td>13</td><td>null</td><td>null</td><td>null</td><td>null</td><td>null</td><td>null</td></tr><tr><td>14</td><td>null</td><td>null</td><td>null</td><td>null</td><td>null</td><td>null</td></tr><tr><td>15</td><td>null</td><td>null</td><td>null</td><td>null</td><td>null</td><td>null</td></tr><tr><td>16</td><td>null</td><td>null</td><td>null</td><td>null</td><td>null</td><td>null</td></tr><tr><td>17</td><td>null</td><td>null</td><td>null</td><td>null</td><td>null</td><td>null</td></tr><tr><td>18</td><td>null</td><td>null</td><td>null</td><td>null</td><td>null</td><td>null</td></tr><tr><td>19</td><td>null</td><td>null</td><td>null</td><td>null</td><td>null</td><td>null</td></tr></tbody></table></div>"
     },
     "execution_count": 44,
     "metadata": {},
     "output_type": "execute_result"
    }
   ],
   "source": [
    "fea_agg.head(20)"
   ],
   "metadata": {
    "collapsed": false,
    "ExecuteTime": {
     "start_time": "2024-03-05T16:46:00.306631Z",
     "end_time": "2024-03-05T16:46:00.316682Z"
    }
   }
  },
  {
   "cell_type": "code",
   "execution_count": 45,
   "outputs": [],
   "source": [
    "data = data_base.join(fea_agg, how=\"left\", on=\"case_id\")"
   ],
   "metadata": {
    "collapsed": false,
    "ExecuteTime": {
     "start_time": "2024-03-05T16:46:17.876408Z",
     "end_time": "2024-03-05T16:46:17.972965Z"
    }
   }
  },
  {
   "cell_type": "code",
   "execution_count": 59,
   "outputs": [
    {
     "data": {
      "text/plain": "shape: (10, 12)\n┌─────────┬────────────┬────────┬──────────┬───┬────────────┬────────────┬────────────┬────────────┐\n│ case_id ┆ date_decis ┆ MONTH  ┆ WEEK_NUM ┆ … ┆ last_last3 ┆ max_openin ┆ min_openin ┆ max_num_gr │\n│ ---     ┆ ion        ┆ ---    ┆ ---      ┆   ┆ 0dayturnov ┆ gdate_857D ┆ gdate_857D ┆ oup1       │\n│ i64     ┆ ---        ┆ i64    ┆ i64      ┆   ┆ er_651A    ┆ ---        ┆ ---        ┆ ---        │\n│         ┆ date       ┆        ┆          ┆   ┆ ---        ┆ date       ┆ date       ┆ i64        │\n│         ┆            ┆        ┆          ┆   ┆ i32        ┆            ┆            ┆            │\n╞═════════╪════════════╪════════╪══════════╪═══╪════════════╪════════════╪════════════╪════════════╡\n│ 0       ┆ 2019-01-03 ┆ 201901 ┆ 0        ┆ … ┆ 0          ┆ null       ┆ null       ┆ null       │\n│ 1       ┆ 2019-01-03 ┆ 201901 ┆ 0        ┆ … ┆ 0          ┆ null       ┆ null       ┆ null       │\n│ 2       ┆ 2019-01-04 ┆ 201901 ┆ 0        ┆ … ┆ 0          ┆ null       ┆ null       ┆ null       │\n│ 3       ┆ 2019-01-03 ┆ 201901 ┆ 0        ┆ … ┆ 0          ┆ null       ┆ null       ┆ null       │\n│ 4       ┆ 2019-01-04 ┆ 201901 ┆ 0        ┆ … ┆ 0          ┆ null       ┆ null       ┆ null       │\n│ 5       ┆ 2019-01-02 ┆ 201901 ┆ 0        ┆ … ┆ 0          ┆ null       ┆ null       ┆ null       │\n│ 6       ┆ 2019-01-03 ┆ 201901 ┆ 0        ┆ … ┆ 0          ┆ null       ┆ null       ┆ null       │\n│ 7       ┆ 2019-01-03 ┆ 201901 ┆ 0        ┆ … ┆ 0          ┆ null       ┆ null       ┆ null       │\n│ 8       ┆ 2019-01-03 ┆ 201901 ┆ 0        ┆ … ┆ 0          ┆ null       ┆ null       ┆ null       │\n│ 9       ┆ 2019-01-03 ┆ 201901 ┆ 0        ┆ … ┆ 0          ┆ null       ┆ null       ┆ null       │\n└─────────┴────────────┴────────┴──────────┴───┴────────────┴────────────┴────────────┴────────────┘",
      "text/html": "<div><style>\n.dataframe > thead > tr,\n.dataframe > tbody > tr {\n  text-align: right;\n  white-space: pre-wrap;\n}\n</style>\n<small>shape: (10, 12)</small><table border=\"1\" class=\"dataframe\"><thead><tr><th>case_id</th><th>date_decision</th><th>MONTH</th><th>WEEK_NUM</th><th>target</th><th>IS_TRAIN</th><th>last_last180dayaveragebalance_704A</th><th>last_last180dayturnover_1134A</th><th>last_last30dayturnover_651A</th><th>max_openingdate_857D</th><th>min_openingdate_857D</th><th>max_num_group1</th></tr><tr><td>i64</td><td>date</td><td>i64</td><td>i64</td><td>i64</td><td>i32</td><td>i32</td><td>i32</td><td>i32</td><td>date</td><td>date</td><td>i64</td></tr></thead><tbody><tr><td>0</td><td>2019-01-03</td><td>201901</td><td>0</td><td>0</td><td>1</td><td>0</td><td>0</td><td>0</td><td>null</td><td>null</td><td>null</td></tr><tr><td>1</td><td>2019-01-03</td><td>201901</td><td>0</td><td>0</td><td>1</td><td>0</td><td>0</td><td>0</td><td>null</td><td>null</td><td>null</td></tr><tr><td>2</td><td>2019-01-04</td><td>201901</td><td>0</td><td>0</td><td>1</td><td>0</td><td>0</td><td>0</td><td>null</td><td>null</td><td>null</td></tr><tr><td>3</td><td>2019-01-03</td><td>201901</td><td>0</td><td>0</td><td>1</td><td>0</td><td>0</td><td>0</td><td>null</td><td>null</td><td>null</td></tr><tr><td>4</td><td>2019-01-04</td><td>201901</td><td>0</td><td>1</td><td>1</td><td>0</td><td>0</td><td>0</td><td>null</td><td>null</td><td>null</td></tr><tr><td>5</td><td>2019-01-02</td><td>201901</td><td>0</td><td>0</td><td>1</td><td>0</td><td>0</td><td>0</td><td>null</td><td>null</td><td>null</td></tr><tr><td>6</td><td>2019-01-03</td><td>201901</td><td>0</td><td>0</td><td>1</td><td>0</td><td>0</td><td>0</td><td>null</td><td>null</td><td>null</td></tr><tr><td>7</td><td>2019-01-03</td><td>201901</td><td>0</td><td>0</td><td>1</td><td>0</td><td>0</td><td>0</td><td>null</td><td>null</td><td>null</td></tr><tr><td>8</td><td>2019-01-03</td><td>201901</td><td>0</td><td>0</td><td>1</td><td>0</td><td>0</td><td>0</td><td>null</td><td>null</td><td>null</td></tr><tr><td>9</td><td>2019-01-03</td><td>201901</td><td>0</td><td>0</td><td>1</td><td>0</td><td>0</td><td>0</td><td>null</td><td>null</td><td>null</td></tr></tbody></table></div>"
     },
     "execution_count": 59,
     "metadata": {},
     "output_type": "execute_result"
    }
   ],
   "source": [
    "data.head(10)"
   ],
   "metadata": {
    "collapsed": false,
    "ExecuteTime": {
     "start_time": "2024-03-05T17:00:02.741155Z",
     "end_time": "2024-03-05T17:00:02.757344Z"
    }
   }
  },
  {
   "cell_type": "code",
   "execution_count": 55,
   "outputs": [],
   "source": [
    "data = data.with_columns( pl.when(data['last_last180dayaveragebalance_704A'].is_null()).then(0).otherwise(1).alias('last_last180dayaveragebalance_704A') )"
   ],
   "metadata": {
    "collapsed": false,
    "ExecuteTime": {
     "start_time": "2024-03-05T16:58:58.116734Z",
     "end_time": "2024-03-05T16:58:58.128100Z"
    }
   }
  },
  {
   "cell_type": "code",
   "execution_count": 57,
   "outputs": [],
   "source": [
    "data = data.with_columns( pl.when(data['last_last180dayturnover_1134A'].is_null()).then(0).otherwise(1).alias('last_last180dayturnover_1134A') )"
   ],
   "metadata": {
    "collapsed": false,
    "ExecuteTime": {
     "start_time": "2024-03-05T16:59:50.953093Z",
     "end_time": "2024-03-05T16:59:50.971758Z"
    }
   }
  },
  {
   "cell_type": "code",
   "execution_count": 58,
   "outputs": [],
   "source": [
    "data = data.with_columns( pl.when(data['last_last30dayturnover_651A'].is_null()).then(0).otherwise(1).alias('last_last30dayturnover_651A') )"
   ],
   "metadata": {
    "collapsed": false,
    "ExecuteTime": {
     "start_time": "2024-03-05T17:00:00.669688Z",
     "end_time": "2024-03-05T17:00:00.677698Z"
    }
   }
  },
  {
   "cell_type": "code",
   "execution_count": 14,
   "outputs": [],
   "source": [
    "# derive_list = [('last180dayturnover_1134A', 'last30dayturnover_651A'), ('last180dayturnover_1134A', 'last180dayaveragebalance_704A')]"
   ],
   "metadata": {
    "collapsed": false
   }
  },
  {
   "cell_type": "code",
   "execution_count": 15,
   "outputs": [
    {
     "name": "stdout",
     "output_type": "stream",
     "text": [
      "('last180dayturnover_1134A', 'last30dayturnover_651A')\n",
      "('last180dayturnover_1134A', 'last180dayaveragebalance_704A')\n"
     ]
    }
   ],
   "source": [
    "# def derived_features_between_cols(df, cols_list):\n",
    "#     for item in cols_list:\n",
    "#         print(item)\n",
    "#         col1 = item[0]\n",
    "#         col2 = item[1]\n",
    "#\n",
    "#         df = df.with_columns((pl.col(col2) - pl.col(col1)).alias(col2 + '_minus_' + col1))\n",
    "#         df = df.with_columns(operator.truediv(pl.col(col2), pl.col(col1)).alias(col2 + '_div_' + col1))\n",
    "#\n",
    "#     return df\n",
    "#\n",
    "# data = derived_features_between_cols(data, derive_list)"
   ],
   "metadata": {
    "collapsed": false
   }
  },
  {
   "cell_type": "code",
   "execution_count": 25,
   "outputs": [],
   "source": [
    "# def filter_cols(df):\n",
    "#     dt_train = df.filter(pl.col('IS_TRAIN') == 1)\n",
    "#     for col in df.columns:\n",
    "#         if col not in [\"case_id\", \"WEEK_NUM\", \"date_decision\", \"MONTH\", \"IS_TRAIN\", \"target\"]:\n",
    "#             isnull = dt_train[col].is_null().mean()\n",
    "#\n",
    "#             if isnull > 0.95:\n",
    "#                 print(f'col [{col}] to be null dropped...')\n",
    "#                 num_positive = dt_train.filter(pl.col(col).is_not_null() & pl.col(\"target\") == 1).shape[0]\n",
    "#                 if num_positive < 1000:\n",
    "#                     df = df.drop(col)\n",
    "#                     print(f'col [{col}] null dropped...')\n",
    "#\n",
    "#     for col in df.columns:\n",
    "#         if (col not in [\"case_id\", \"WEEK_NUM\", \"date_decision\", \"MONTH\", \"IS_TRAIN\", \"target\"]) & (df[col].dtype == pl.String):\n",
    "#             freq = dt_train[col].n_unique()\n",
    "#\n",
    "#             if freq == 1:\n",
    "#                 df = df.drop(col)\n",
    "#                 print(f'col [{col}] freq dropped...')\n",
    "#\n",
    "#     return df"
   ],
   "metadata": {
    "collapsed": false,
    "ExecuteTime": {
     "start_time": "2024-03-05T16:20:09.452468Z",
     "end_time": "2024-03-05T16:20:09.459817Z"
    }
   }
  },
  {
   "cell_type": "code",
   "execution_count": 26,
   "outputs": [
    {
     "name": "stdout",
     "output_type": "stream",
     "text": [
      "col [mean_last180dayaveragebalance_704A] to be null dropped...\n",
      "col [mean_last180dayaveragebalance_704A] null dropped...\n",
      "col [mean_last180dayturnover_1134A] to be null dropped...\n",
      "col [mean_last180dayturnover_1134A] null dropped...\n",
      "col [mean_last30dayturnover_651A] to be null dropped...\n",
      "col [mean_last30dayturnover_651A] null dropped...\n",
      "col [mean_last30dayturnover_651A_minus_last180dayturnover_1134A] to be null dropped...\n",
      "col [mean_last30dayturnover_651A_minus_last180dayturnover_1134A] null dropped...\n",
      "col [mean_last30dayturnover_651A_div_last180dayturnover_1134A] to be null dropped...\n",
      "col [mean_last30dayturnover_651A_div_last180dayturnover_1134A] null dropped...\n",
      "col [mean_last180dayaveragebalance_704A_minus_last180dayturnover_1134A] to be null dropped...\n",
      "col [mean_last180dayaveragebalance_704A_minus_last180dayturnover_1134A] null dropped...\n",
      "col [mean_last180dayaveragebalance_704A_div_last180dayturnover_1134A] to be null dropped...\n",
      "col [mean_last180dayaveragebalance_704A_div_last180dayturnover_1134A] null dropped...\n",
      "col [last_last180dayaveragebalance_704A] to be null dropped...\n",
      "col [last_last180dayaveragebalance_704A] null dropped...\n",
      "col [last_last180dayturnover_1134A] to be null dropped...\n",
      "col [last_last180dayturnover_1134A] null dropped...\n",
      "col [last_last30dayturnover_651A] to be null dropped...\n",
      "col [last_last30dayturnover_651A] null dropped...\n",
      "col [last_last30dayturnover_651A_minus_last180dayturnover_1134A] to be null dropped...\n",
      "col [last_last30dayturnover_651A_minus_last180dayturnover_1134A] null dropped...\n",
      "col [last_last30dayturnover_651A_div_last180dayturnover_1134A] to be null dropped...\n",
      "col [last_last30dayturnover_651A_div_last180dayturnover_1134A] null dropped...\n",
      "col [last_last180dayaveragebalance_704A_minus_last180dayturnover_1134A] to be null dropped...\n",
      "col [last_last180dayaveragebalance_704A_minus_last180dayturnover_1134A] null dropped...\n",
      "col [last_last180dayaveragebalance_704A_div_last180dayturnover_1134A] to be null dropped...\n",
      "col [last_last180dayaveragebalance_704A_div_last180dayturnover_1134A] null dropped...\n",
      "col [first_last180dayaveragebalance_704A] to be null dropped...\n",
      "col [first_last180dayaveragebalance_704A] null dropped...\n",
      "col [first_last180dayturnover_1134A] to be null dropped...\n",
      "col [first_last180dayturnover_1134A] null dropped...\n",
      "col [first_last30dayturnover_651A] to be null dropped...\n",
      "col [first_last30dayturnover_651A] null dropped...\n",
      "col [first_last30dayturnover_651A_minus_last180dayturnover_1134A] to be null dropped...\n",
      "col [first_last30dayturnover_651A_minus_last180dayturnover_1134A] null dropped...\n",
      "col [first_last30dayturnover_651A_div_last180dayturnover_1134A] to be null dropped...\n",
      "col [first_last30dayturnover_651A_div_last180dayturnover_1134A] null dropped...\n",
      "col [first_last180dayaveragebalance_704A_minus_last180dayturnover_1134A] to be null dropped...\n",
      "col [first_last180dayaveragebalance_704A_minus_last180dayturnover_1134A] null dropped...\n",
      "col [first_last180dayaveragebalance_704A_div_last180dayturnover_1134A] to be null dropped...\n",
      "col [first_last180dayaveragebalance_704A_div_last180dayturnover_1134A] null dropped...\n"
     ]
    }
   ],
   "source": [
    "# data = data.pipe(filter_cols)"
   ],
   "metadata": {
    "collapsed": false,
    "ExecuteTime": {
     "start_time": "2024-03-05T16:20:11.133154Z",
     "end_time": "2024-03-05T16:20:11.774967Z"
    }
   }
  },
  {
   "cell_type": "code",
   "execution_count": 60,
   "outputs": [
    {
     "data": {
      "text/plain": "(1526669, 12)"
     },
     "execution_count": 60,
     "metadata": {},
     "output_type": "execute_result"
    }
   ],
   "source": [
    "data.shape"
   ],
   "metadata": {
    "collapsed": false,
    "ExecuteTime": {
     "start_time": "2024-03-05T17:01:06.734891Z",
     "end_time": "2024-03-05T17:01:06.739401Z"
    }
   }
  },
  {
   "cell_type": "code",
   "execution_count": 61,
   "outputs": [],
   "source": [
    "def handle_date(df):\n",
    "    for col in df.columns:\n",
    "        if col[-1] in (\"D\",) and df[col].dtype == pl.Date:\n",
    "            print(f'col [{col}] is date...')\n",
    "            df = df.with_columns(pl.col(col) - pl.col(\"date_decision\"))\n",
    "            df = df.with_columns(pl.col(col).dt.total_days())\n",
    "\n",
    "    # df = df.drop(\"date_decision\", \"MONTH\")\n",
    "    return df\n",
    "\n",
    "\n",
    "def handle_category(df):\n",
    "    dt_train = df.filter(pl.col('IS_TRAIN') == 1)\n",
    "    cols_list = df.columns\n",
    "    for col in cols_list:\n",
    "        if ((col[-1] in (\"M\",)) and ('WEEK_NUM' not in col) and (not col.startswith('n_unique'))) \\\n",
    "                or (col[-1] in (\"L\", \"P\") and (df[col].dtype == pl.String)):\n",
    "            freq = dt_train[col].n_unique()\n",
    "            if freq <= 10:\n",
    "                print(f'col [{col}] one hot encoded...')\n",
    "                encoder = OneHotEncoder(cols=[col], handle_unknown='indicator', handle_missing='indicator', use_cat_names=True)\n",
    "                encoder.fit(dt_train[col].to_pandas())\n",
    "                res_df = pl.from_pandas(encoder.transform(df[col].to_pandas()))\n",
    "                df = pl.concat([df, res_df], how=\"horizontal\")\n",
    "                df = df.drop(col)\n",
    "            else:\n",
    "                print(f'col [{col}] target encoded...')\n",
    "                encoder = TargetEncoder(cols=[col], handle_unknown='value', handle_missing='value') \\\n",
    "                            .fit(dt_train[col].to_pandas(), dt_train['target'].to_pandas())\n",
    "                df = df.with_columns(pl.from_pandas(encoder.transform(df[col].to_pandas())).to_series().alias(col + '_target_encoder'))\n",
    "                df = df.drop(col)\n",
    "\n",
    "    return df"
   ],
   "metadata": {
    "collapsed": false,
    "ExecuteTime": {
     "start_time": "2024-03-05T17:01:18.629496Z",
     "end_time": "2024-03-05T17:01:18.633457Z"
    }
   }
  },
  {
   "cell_type": "code",
   "execution_count": 29,
   "outputs": [],
   "source": [
    "# data = data.pipe(handle_category)"
   ],
   "metadata": {
    "collapsed": false,
    "ExecuteTime": {
     "start_time": "2024-03-05T16:20:48.391930Z",
     "end_time": "2024-03-05T16:20:48.497078Z"
    }
   }
  },
  {
   "cell_type": "code",
   "execution_count": 62,
   "outputs": [
    {
     "name": "stdout",
     "output_type": "stream",
     "text": [
      "col [max_openingdate_857D] is date...\n",
      "col [min_openingdate_857D] is date...\n"
     ]
    }
   ],
   "source": [
    "data = data.pipe(handle_date)"
   ],
   "metadata": {
    "collapsed": false,
    "ExecuteTime": {
     "start_time": "2024-03-05T17:01:23.477879Z",
     "end_time": "2024-03-05T17:01:23.538954Z"
    }
   }
  },
  {
   "cell_type": "code",
   "execution_count": 65,
   "outputs": [
    {
     "data": {
      "text/plain": "shape: (10, 8)\n┌─────────┬──────────┬────────────┬────────────┬────────────┬────────────┬────────────┬────────────┐\n│ case_id ┆ IS_TRAIN ┆ last_last1 ┆ last_last1 ┆ last_last3 ┆ max_openin ┆ min_openin ┆ max_num_gr │\n│ ---     ┆ ---      ┆ 80dayavera ┆ 80dayturno ┆ 0dayturnov ┆ gdate_857D ┆ gdate_857D ┆ oup1       │\n│ i64     ┆ i32      ┆ gebalance_ ┆ ver_1134A  ┆ er_651A    ┆ ---        ┆ ---        ┆ ---        │\n│         ┆          ┆ 70…        ┆ ---        ┆ ---        ┆ i64        ┆ i64        ┆ i64        │\n│         ┆          ┆ ---        ┆ i32        ┆ i32        ┆            ┆            ┆            │\n│         ┆          ┆ i32        ┆            ┆            ┆            ┆            ┆            │\n╞═════════╪══════════╪════════════╪════════════╪════════════╪════════════╪════════════╪════════════╡\n│ 0       ┆ 1        ┆ 0          ┆ 0          ┆ 0          ┆ null       ┆ null       ┆ null       │\n│ 1       ┆ 1        ┆ 0          ┆ 0          ┆ 0          ┆ null       ┆ null       ┆ null       │\n│ 2       ┆ 1        ┆ 0          ┆ 0          ┆ 0          ┆ null       ┆ null       ┆ null       │\n│ 3       ┆ 1        ┆ 0          ┆ 0          ┆ 0          ┆ null       ┆ null       ┆ null       │\n│ 4       ┆ 1        ┆ 0          ┆ 0          ┆ 0          ┆ null       ┆ null       ┆ null       │\n│ 5       ┆ 1        ┆ 0          ┆ 0          ┆ 0          ┆ null       ┆ null       ┆ null       │\n│ 6       ┆ 1        ┆ 0          ┆ 0          ┆ 0          ┆ null       ┆ null       ┆ null       │\n│ 7       ┆ 1        ┆ 0          ┆ 0          ┆ 0          ┆ null       ┆ null       ┆ null       │\n│ 8       ┆ 1        ┆ 0          ┆ 0          ┆ 0          ┆ null       ┆ null       ┆ null       │\n│ 9       ┆ 1        ┆ 0          ┆ 0          ┆ 0          ┆ null       ┆ null       ┆ null       │\n└─────────┴──────────┴────────────┴────────────┴────────────┴────────────┴────────────┴────────────┘",
      "text/html": "<div><style>\n.dataframe > thead > tr,\n.dataframe > tbody > tr {\n  text-align: right;\n  white-space: pre-wrap;\n}\n</style>\n<small>shape: (10, 8)</small><table border=\"1\" class=\"dataframe\"><thead><tr><th>case_id</th><th>IS_TRAIN</th><th>last_last180dayaveragebalance_704A</th><th>last_last180dayturnover_1134A</th><th>last_last30dayturnover_651A</th><th>max_openingdate_857D</th><th>min_openingdate_857D</th><th>max_num_group1</th></tr><tr><td>i64</td><td>i32</td><td>i32</td><td>i32</td><td>i32</td><td>i64</td><td>i64</td><td>i64</td></tr></thead><tbody><tr><td>0</td><td>1</td><td>0</td><td>0</td><td>0</td><td>null</td><td>null</td><td>null</td></tr><tr><td>1</td><td>1</td><td>0</td><td>0</td><td>0</td><td>null</td><td>null</td><td>null</td></tr><tr><td>2</td><td>1</td><td>0</td><td>0</td><td>0</td><td>null</td><td>null</td><td>null</td></tr><tr><td>3</td><td>1</td><td>0</td><td>0</td><td>0</td><td>null</td><td>null</td><td>null</td></tr><tr><td>4</td><td>1</td><td>0</td><td>0</td><td>0</td><td>null</td><td>null</td><td>null</td></tr><tr><td>5</td><td>1</td><td>0</td><td>0</td><td>0</td><td>null</td><td>null</td><td>null</td></tr><tr><td>6</td><td>1</td><td>0</td><td>0</td><td>0</td><td>null</td><td>null</td><td>null</td></tr><tr><td>7</td><td>1</td><td>0</td><td>0</td><td>0</td><td>null</td><td>null</td><td>null</td></tr><tr><td>8</td><td>1</td><td>0</td><td>0</td><td>0</td><td>null</td><td>null</td><td>null</td></tr><tr><td>9</td><td>1</td><td>0</td><td>0</td><td>0</td><td>null</td><td>null</td><td>null</td></tr></tbody></table></div>"
     },
     "execution_count": 65,
     "metadata": {},
     "output_type": "execute_result"
    }
   ],
   "source": [
    "data.head(10)"
   ],
   "metadata": {
    "collapsed": false,
    "ExecuteTime": {
     "start_time": "2024-03-05T17:01:38.948220Z",
     "end_time": "2024-03-05T17:01:38.957445Z"
    }
   }
  },
  {
   "cell_type": "code",
   "execution_count": 64,
   "outputs": [],
   "source": [
    "data = data.drop('date_decision', 'MONTH', 'WEEK_NUM', 'target')"
   ],
   "metadata": {
    "collapsed": false,
    "ExecuteTime": {
     "start_time": "2024-03-05T17:01:37.098424Z",
     "end_time": "2024-03-05T17:01:37.101498Z"
    }
   }
  },
  {
   "cell_type": "code",
   "execution_count": 66,
   "outputs": [
    {
     "data": {
      "text/plain": "(1526669, 8)"
     },
     "execution_count": 66,
     "metadata": {},
     "output_type": "execute_result"
    }
   ],
   "source": [
    "data.shape"
   ],
   "metadata": {
    "collapsed": false,
    "ExecuteTime": {
     "start_time": "2024-03-05T17:01:44.809698Z",
     "end_time": "2024-03-05T17:01:44.812981Z"
    }
   }
  },
  {
   "cell_type": "code",
   "execution_count": 67,
   "outputs": [],
   "source": [
    "preprocess_dir_path = \"/Users/sophie/workspace/data/kaggle/home-credit-credit-risk-model-stability/preprocess\"\n",
    "preprocess_file = 'debitcard_1.parquet'\n",
    "preprocess_file_path = Path(os.path.join(preprocess_dir_path, preprocess_file))\n",
    "data.write_parquet(preprocess_file_path)"
   ],
   "metadata": {
    "collapsed": false,
    "ExecuteTime": {
     "start_time": "2024-03-05T17:03:43.988094Z",
     "end_time": "2024-03-05T17:03:44.145016Z"
    }
   }
  },
  {
   "cell_type": "code",
   "execution_count": null,
   "outputs": [],
   "source": [],
   "metadata": {
    "collapsed": false
   }
  }
 ],
 "metadata": {
  "kernelspec": {
   "display_name": "Python 3",
   "language": "python",
   "name": "python3"
  },
  "language_info": {
   "codemirror_mode": {
    "name": "ipython",
    "version": 2
   },
   "file_extension": ".py",
   "mimetype": "text/x-python",
   "name": "python",
   "nbconvert_exporter": "python",
   "pygments_lexer": "ipython2",
   "version": "2.7.6"
  }
 },
 "nbformat": 4,
 "nbformat_minor": 0
}
