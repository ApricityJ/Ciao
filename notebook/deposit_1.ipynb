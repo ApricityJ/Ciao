{
 "cells": [
  {
   "cell_type": "code",
   "execution_count": 1,
   "metadata": {
    "collapsed": true,
    "ExecuteTime": {
     "start_time": "2024-03-04T17:39:48.597568Z",
     "end_time": "2024-03-04T17:39:49.735730Z"
    }
   },
   "outputs": [],
   "source": [
    "import warnings\n",
    "import os\n",
    "from glob import glob\n",
    "from pathlib import Path\n",
    "import operator\n",
    "\n",
    "import pandas as pd\n",
    "import polars as pl\n",
    "import polars.selectors as cs\n",
    "from sklearn import preprocessing\n",
    "from category_encoders import OneHotEncoder\n",
    "from category_encoders.target_encoder import TargetEncoder\n",
    "\n",
    "pd.set_option('display.float_format',lambda x : '%.6f' % x)\n",
    "warnings.filterwarnings('ignore')"
   ]
  },
  {
   "cell_type": "code",
   "execution_count": 2,
   "outputs": [],
   "source": [
    "def set_table_dtypes(df):\n",
    "    for col in df.columns:\n",
    "        if col in [\"case_id\", \"WEEK_NUM\", \"num_group1\", \"num_group2\", \"target\"]:\n",
    "            df = df.with_columns(pl.col(col).cast(pl.Int64))\n",
    "        elif col in [\"date_decision\"]:\n",
    "            df = df.with_columns(pl.col(col).cast(pl.Date))\n",
    "        elif col[-1] in (\"P\", \"A\"):\n",
    "            df = df.with_columns(pl.col(col).cast(pl.Float64))\n",
    "        elif col[-1] in (\"M\",):\n",
    "            df = df.with_columns(pl.col(col).cast(pl.String))\n",
    "        elif col[-1] in (\"D\",):\n",
    "            df = df.with_columns(pl.col(col).cast(pl.Date))\n",
    "\n",
    "    return df"
   ],
   "metadata": {
    "collapsed": false,
    "ExecuteTime": {
     "start_time": "2024-03-05T15:24:20.879973Z",
     "end_time": "2024-03-05T15:24:20.884314Z"
    }
   }
  },
  {
   "cell_type": "code",
   "execution_count": 3,
   "outputs": [],
   "source": [
    "def read_file(path, depth=None):\n",
    "    df = pl.read_parquet(path)\n",
    "    df = df.pipe(set_table_dtypes)\n",
    "    return df\n",
    "\n",
    "def read_files(regex_path, depth=None):\n",
    "    chunks = []\n",
    "    for path in glob(str(regex_path)):\n",
    "        chunks.append(pl.read_parquet(path).pipe(set_table_dtypes))\n",
    "\n",
    "    df = pl.concat(chunks, how=\"vertical_relaxed\")\n",
    "    return df"
   ],
   "metadata": {
    "collapsed": false,
    "ExecuteTime": {
     "start_time": "2024-03-05T15:24:57.846894Z",
     "end_time": "2024-03-05T15:24:57.854199Z"
    }
   }
  },
  {
   "cell_type": "code",
   "execution_count": 4,
   "outputs": [],
   "source": [
    "train_dir_path = \"/Users/sophie/workspace/data/kaggle/home-credit-credit-risk-model-stability/parquet_files/train\"\n",
    "test_dir_path = \"/Users/sophie/workspace/data/kaggle/home-credit-credit-risk-model-stability/parquet_files/test\"\n",
    "train_file = 'train_deposit_1.parquet'\n",
    "test_file = 'test_deposit_1.parquet'\n",
    "train_file_path = Path(os.path.join(train_dir_path, train_file))\n",
    "test_file_path = Path(os.path.join(test_dir_path, test_file))\n",
    "\n",
    "target_file = 'train_base.parquet'\n",
    "target_file_path = Path(os.path.join(train_dir_path, target_file))\n",
    "target_file_test = 'test_base.parquet'\n",
    "target_file_test_path = Path(os.path.join(test_dir_path, target_file_test))"
   ],
   "metadata": {
    "collapsed": false,
    "ExecuteTime": {
     "start_time": "2024-03-05T15:25:29.072189Z",
     "end_time": "2024-03-05T15:25:29.085022Z"
    }
   }
  },
  {
   "cell_type": "code",
   "execution_count": 5,
   "outputs": [],
   "source": [
    "df_base_train = read_file(target_file_path)\n",
    "df_base_train = df_base_train.with_columns(IS_TRAIN = pl.lit(1))\n",
    "df_train = read_file(train_file_path)\n",
    "df_train = df_base_train.join(df_train, how=\"left\", on=\"case_id\")"
   ],
   "metadata": {
    "collapsed": false,
    "ExecuteTime": {
     "start_time": "2024-03-05T15:26:43.246198Z",
     "end_time": "2024-03-05T15:26:43.495778Z"
    }
   }
  },
  {
   "cell_type": "code",
   "execution_count": 6,
   "outputs": [],
   "source": [
    "df_base_test = read_file(target_file_test_path)\n",
    "df_base_test = df_base_test.with_columns(target = None)\n",
    "df_base_test = df_base_test.with_columns(IS_TRAIN = pl.lit(0))\n",
    "df_test = read_file(test_file_path)\n",
    "df_test = df_base_test.join(df_test, how=\"left\", on=\"case_id\")"
   ],
   "metadata": {
    "collapsed": false,
    "ExecuteTime": {
     "start_time": "2024-03-05T15:26:45.090439Z",
     "end_time": "2024-03-05T15:26:45.105097Z"
    }
   }
  },
  {
   "cell_type": "code",
   "execution_count": 7,
   "outputs": [],
   "source": [
    "data = pl.concat([df_train, df_test], how=\"vertical_relaxed\")"
   ],
   "metadata": {
    "collapsed": false,
    "ExecuteTime": {
     "start_time": "2024-03-05T15:26:47.840369Z",
     "end_time": "2024-03-05T15:26:47.908596Z"
    }
   }
  },
  {
   "cell_type": "code",
   "execution_count": 8,
   "outputs": [],
   "source": [
    "data_base = pl.concat([df_base_train, df_base_test], how=\"vertical_relaxed\")"
   ],
   "metadata": {
    "collapsed": false,
    "ExecuteTime": {
     "start_time": "2024-03-05T15:26:48.651806Z",
     "end_time": "2024-03-05T15:26:48.688644Z"
    }
   }
  },
  {
   "cell_type": "code",
   "execution_count": 28,
   "outputs": [],
   "source": [
    "del df_train, df_test"
   ],
   "metadata": {
    "collapsed": false,
    "ExecuteTime": {
     "start_time": "2024-03-04T15:29:57.636722Z",
     "end_time": "2024-03-04T15:29:57.638784Z"
    }
   }
  },
  {
   "cell_type": "code",
   "execution_count": 21,
   "outputs": [
    {
     "data": {
      "text/plain": "shape: (50, 11)\n┌─────────┬────────────┬────────┬──────────┬───┬────────────┬────────────┬────────────┬────────────┐\n│ case_id ┆ date_decis ┆ MONTH  ┆ WEEK_NUM ┆ … ┆ contracten ┆ num_group1 ┆ openingdat ┆ end_to_ope │\n│ ---     ┆ ion        ┆ ---    ┆ ---      ┆   ┆ ddate_991D ┆ ---        ┆ e_313D     ┆ n_date     │\n│ i64     ┆ ---        ┆ i64    ┆ i64      ┆   ┆ ---        ┆ i64        ┆ ---        ┆ ---        │\n│         ┆ date       ┆        ┆          ┆   ┆ date       ┆            ┆ date       ┆ i64        │\n╞═════════╪════════════╪════════╪══════════╪═══╪════════════╪════════════╪════════════╪════════════╡\n│ 0       ┆ 2019-01-03 ┆ 201901 ┆ 0        ┆ … ┆ null       ┆ null       ┆ null       ┆ null       │\n│ 1       ┆ 2019-01-03 ┆ 201901 ┆ 0        ┆ … ┆ null       ┆ null       ┆ null       ┆ null       │\n│ 2       ┆ 2019-01-04 ┆ 201901 ┆ 0        ┆ … ┆ null       ┆ null       ┆ null       ┆ null       │\n│ 3       ┆ 2019-01-03 ┆ 201901 ┆ 0        ┆ … ┆ null       ┆ null       ┆ null       ┆ null       │\n│ 4       ┆ 2019-01-04 ┆ 201901 ┆ 0        ┆ … ┆ null       ┆ null       ┆ null       ┆ null       │\n│ …       ┆ …          ┆ …      ┆ …        ┆ … ┆ …          ┆ …          ┆ …          ┆ …          │\n│ 45      ┆ 2019-01-03 ┆ 201901 ┆ 0        ┆ … ┆ null       ┆ null       ┆ null       ┆ null       │\n│ 46      ┆ 2019-01-03 ┆ 201901 ┆ 0        ┆ … ┆ null       ┆ null       ┆ null       ┆ null       │\n│ 47      ┆ 2019-01-03 ┆ 201901 ┆ 0        ┆ … ┆ null       ┆ null       ┆ null       ┆ null       │\n│ 48      ┆ 2019-01-03 ┆ 201901 ┆ 0        ┆ … ┆ null       ┆ null       ┆ null       ┆ null       │\n│ 49      ┆ 2019-01-03 ┆ 201901 ┆ 0        ┆ … ┆ null       ┆ null       ┆ null       ┆ null       │\n└─────────┴────────────┴────────┴──────────┴───┴────────────┴────────────┴────────────┴────────────┘",
      "text/html": "<div><style>\n.dataframe > thead > tr,\n.dataframe > tbody > tr {\n  text-align: right;\n  white-space: pre-wrap;\n}\n</style>\n<small>shape: (50, 11)</small><table border=\"1\" class=\"dataframe\"><thead><tr><th>case_id</th><th>date_decision</th><th>MONTH</th><th>WEEK_NUM</th><th>target</th><th>IS_TRAIN</th><th>amount_416A</th><th>contractenddate_991D</th><th>num_group1</th><th>openingdate_313D</th><th>end_to_open_date</th></tr><tr><td>i64</td><td>date</td><td>i64</td><td>i64</td><td>i64</td><td>i32</td><td>f64</td><td>date</td><td>i64</td><td>date</td><td>i64</td></tr></thead><tbody><tr><td>0</td><td>2019-01-03</td><td>201901</td><td>0</td><td>0</td><td>1</td><td>null</td><td>null</td><td>null</td><td>null</td><td>null</td></tr><tr><td>1</td><td>2019-01-03</td><td>201901</td><td>0</td><td>0</td><td>1</td><td>null</td><td>null</td><td>null</td><td>null</td><td>null</td></tr><tr><td>2</td><td>2019-01-04</td><td>201901</td><td>0</td><td>0</td><td>1</td><td>null</td><td>null</td><td>null</td><td>null</td><td>null</td></tr><tr><td>3</td><td>2019-01-03</td><td>201901</td><td>0</td><td>0</td><td>1</td><td>null</td><td>null</td><td>null</td><td>null</td><td>null</td></tr><tr><td>4</td><td>2019-01-04</td><td>201901</td><td>0</td><td>1</td><td>1</td><td>null</td><td>null</td><td>null</td><td>null</td><td>null</td></tr><tr><td>5</td><td>2019-01-02</td><td>201901</td><td>0</td><td>0</td><td>1</td><td>null</td><td>null</td><td>null</td><td>null</td><td>null</td></tr><tr><td>6</td><td>2019-01-03</td><td>201901</td><td>0</td><td>0</td><td>1</td><td>null</td><td>null</td><td>null</td><td>null</td><td>null</td></tr><tr><td>7</td><td>2019-01-03</td><td>201901</td><td>0</td><td>0</td><td>1</td><td>null</td><td>null</td><td>null</td><td>null</td><td>null</td></tr><tr><td>8</td><td>2019-01-03</td><td>201901</td><td>0</td><td>0</td><td>1</td><td>null</td><td>null</td><td>null</td><td>null</td><td>null</td></tr><tr><td>9</td><td>2019-01-03</td><td>201901</td><td>0</td><td>0</td><td>1</td><td>null</td><td>null</td><td>null</td><td>null</td><td>null</td></tr><tr><td>10</td><td>2019-01-03</td><td>201901</td><td>0</td><td>0</td><td>1</td><td>null</td><td>null</td><td>null</td><td>null</td><td>null</td></tr><tr><td>11</td><td>2019-01-03</td><td>201901</td><td>0</td><td>0</td><td>1</td><td>null</td><td>null</td><td>null</td><td>null</td><td>null</td></tr><tr><td>&hellip;</td><td>&hellip;</td><td>&hellip;</td><td>&hellip;</td><td>&hellip;</td><td>&hellip;</td><td>&hellip;</td><td>&hellip;</td><td>&hellip;</td><td>&hellip;</td><td>&hellip;</td></tr><tr><td>38</td><td>2019-01-03</td><td>201901</td><td>0</td><td>0</td><td>1</td><td>null</td><td>null</td><td>null</td><td>null</td><td>null</td></tr><tr><td>39</td><td>2019-01-03</td><td>201901</td><td>0</td><td>0</td><td>1</td><td>null</td><td>null</td><td>null</td><td>null</td><td>null</td></tr><tr><td>40</td><td>2019-01-03</td><td>201901</td><td>0</td><td>0</td><td>1</td><td>null</td><td>null</td><td>null</td><td>null</td><td>null</td></tr><tr><td>41</td><td>2019-01-03</td><td>201901</td><td>0</td><td>0</td><td>1</td><td>null</td><td>null</td><td>null</td><td>null</td><td>null</td></tr><tr><td>42</td><td>2019-01-03</td><td>201901</td><td>0</td><td>0</td><td>1</td><td>null</td><td>null</td><td>null</td><td>null</td><td>null</td></tr><tr><td>43</td><td>2019-01-03</td><td>201901</td><td>0</td><td>0</td><td>1</td><td>null</td><td>null</td><td>null</td><td>null</td><td>null</td></tr><tr><td>44</td><td>2019-01-03</td><td>201901</td><td>0</td><td>0</td><td>1</td><td>null</td><td>null</td><td>null</td><td>null</td><td>null</td></tr><tr><td>45</td><td>2019-01-03</td><td>201901</td><td>0</td><td>0</td><td>1</td><td>null</td><td>null</td><td>null</td><td>null</td><td>null</td></tr><tr><td>46</td><td>2019-01-03</td><td>201901</td><td>0</td><td>0</td><td>1</td><td>null</td><td>null</td><td>null</td><td>null</td><td>null</td></tr><tr><td>47</td><td>2019-01-03</td><td>201901</td><td>0</td><td>0</td><td>1</td><td>null</td><td>null</td><td>null</td><td>null</td><td>null</td></tr><tr><td>48</td><td>2019-01-03</td><td>201901</td><td>0</td><td>0</td><td>1</td><td>null</td><td>null</td><td>null</td><td>null</td><td>null</td></tr><tr><td>49</td><td>2019-01-03</td><td>201901</td><td>0</td><td>0</td><td>1</td><td>null</td><td>null</td><td>null</td><td>null</td><td>null</td></tr></tbody></table></div>"
     },
     "execution_count": 21,
     "metadata": {},
     "output_type": "execute_result"
    }
   ],
   "source": [
    "data.head(50)"
   ],
   "metadata": {
    "collapsed": false,
    "ExecuteTime": {
     "start_time": "2024-03-05T15:38:57.616155Z",
     "end_time": "2024-03-05T15:38:57.619985Z"
    }
   }
  },
  {
   "cell_type": "code",
   "execution_count": 26,
   "outputs": [
    {
     "data": {
      "text/plain": "shape: (145_086, 12)\n┌─────────┬────────────┬────────┬──────────┬───┬────────────┬────────────┬────────────┬────────────┐\n│ case_id ┆ date_decis ┆ MONTH  ┆ WEEK_NUM ┆ … ┆ num_group1 ┆ openingdat ┆ end_to_ope ┆ contracten │\n│ ---     ┆ ion        ┆ ---    ┆ ---      ┆   ┆ ---        ┆ e_313D     ┆ n_date     ┆ ddate_991D │\n│ i64     ┆ ---        ┆ i64    ┆ i64      ┆   ┆ i64        ┆ ---        ┆ ---        ┆ _minus_ope │\n│         ┆ date       ┆        ┆          ┆   ┆            ┆ date       ┆ i64        ┆ ni…        │\n│         ┆            ┆        ┆          ┆   ┆            ┆            ┆            ┆ ---        │\n│         ┆            ┆        ┆          ┆   ┆            ┆            ┆            ┆ i64        │\n╞═════════╪════════════╪════════╪══════════╪═══╪════════════╪════════════╪════════════╪════════════╡\n│ 225     ┆ 2019-01-04 ┆ 201901 ┆ 0        ┆ … ┆ 0          ┆ 2016-08-16 ┆ null       ┆ null       │\n│ 331     ┆ 2019-01-05 ┆ 201901 ┆ 0        ┆ … ┆ 0          ┆ 2015-03-19 ┆ 1095       ┆ 1095       │\n│ 358     ┆ 2019-01-05 ┆ 201901 ┆ 0        ┆ … ┆ 0          ┆ 2014-09-02 ┆ null       ┆ null       │\n│ 390     ┆ 2019-01-07 ┆ 201901 ┆ 0        ┆ … ┆ 0          ┆ 2014-07-23 ┆ 1095       ┆ 1095       │\n│ 390     ┆ 2019-01-07 ┆ 201901 ┆ 0        ┆ … ┆ 1          ┆ 2015-10-01 ┆ 730        ┆ 730        │\n│ …       ┆ …          ┆ …      ┆ …        ┆ … ┆ …          ┆ …          ┆ …          ┆ …          │\n│ 2703430 ┆ 2020-10-05 ┆ 202010 ┆ 91       ┆ … ┆ 7          ┆ 2016-02-25 ┆ null       ┆ null       │\n│ 2703430 ┆ 2020-10-05 ┆ 202010 ┆ 91       ┆ … ┆ 8          ┆ 2016-11-26 ┆ null       ┆ null       │\n│ 2703439 ┆ 2020-10-05 ┆ 202010 ┆ 91       ┆ … ┆ 0          ┆ 2016-11-25 ┆ null       ┆ null       │\n│ 2703453 ┆ 2020-10-05 ┆ 202010 ┆ 91       ┆ … ┆ 0          ┆ 2014-08-18 ┆ null       ┆ null       │\n│ 2703453 ┆ 2020-10-05 ┆ 202010 ┆ 91       ┆ … ┆ 1          ┆ 2015-05-29 ┆ 1095       ┆ 1095       │\n└─────────┴────────────┴────────┴──────────┴───┴────────────┴────────────┴────────────┴────────────┘",
      "text/html": "<div><style>\n.dataframe > thead > tr,\n.dataframe > tbody > tr {\n  text-align: right;\n  white-space: pre-wrap;\n}\n</style>\n<small>shape: (145_086, 12)</small><table border=\"1\" class=\"dataframe\"><thead><tr><th>case_id</th><th>date_decision</th><th>MONTH</th><th>WEEK_NUM</th><th>target</th><th>IS_TRAIN</th><th>amount_416A</th><th>contractenddate_991D</th><th>num_group1</th><th>openingdate_313D</th><th>end_to_open_date</th><th>contractenddate_991D_minus_openingdate_313D_P</th></tr><tr><td>i64</td><td>date</td><td>i64</td><td>i64</td><td>i64</td><td>i32</td><td>f64</td><td>date</td><td>i64</td><td>date</td><td>i64</td><td>i64</td></tr></thead><tbody><tr><td>225</td><td>2019-01-04</td><td>201901</td><td>0</td><td>0</td><td>1</td><td>0.0</td><td>null</td><td>0</td><td>2016-08-16</td><td>null</td><td>null</td></tr><tr><td>331</td><td>2019-01-05</td><td>201901</td><td>0</td><td>0</td><td>1</td><td>260.374</td><td>2018-03-18</td><td>0</td><td>2015-03-19</td><td>1095</td><td>1095</td></tr><tr><td>358</td><td>2019-01-05</td><td>201901</td><td>0</td><td>0</td><td>1</td><td>0.0</td><td>null</td><td>0</td><td>2014-09-02</td><td>null</td><td>null</td></tr><tr><td>390</td><td>2019-01-07</td><td>201901</td><td>0</td><td>0</td><td>1</td><td>211748.53</td><td>2017-07-22</td><td>0</td><td>2014-07-23</td><td>1095</td><td>1095</td></tr><tr><td>390</td><td>2019-01-07</td><td>201901</td><td>0</td><td>0</td><td>1</td><td>203.602</td><td>2017-09-30</td><td>1</td><td>2015-10-01</td><td>730</td><td>730</td></tr><tr><td>390</td><td>2019-01-07</td><td>201901</td><td>0</td><td>0</td><td>1</td><td>223.68001</td><td>null</td><td>2</td><td>2016-06-08</td><td>null</td><td>null</td></tr><tr><td>445</td><td>2019-01-08</td><td>201901</td><td>1</td><td>0</td><td>1</td><td>0.0</td><td>null</td><td>0</td><td>2015-04-27</td><td>null</td><td>null</td></tr><tr><td>445</td><td>2019-01-08</td><td>201901</td><td>1</td><td>0</td><td>1</td><td>0.0</td><td>2017-07-31</td><td>1</td><td>2015-08-01</td><td>730</td><td>730</td></tr><tr><td>445</td><td>2019-01-08</td><td>201901</td><td>1</td><td>0</td><td>1</td><td>0.0</td><td>2018-02-08</td><td>2</td><td>2015-12-10</td><td>791</td><td>791</td></tr><tr><td>445</td><td>2019-01-08</td><td>201901</td><td>1</td><td>0</td><td>1</td><td>0.0</td><td>null</td><td>3</td><td>2016-02-22</td><td>null</td><td>null</td></tr><tr><td>445</td><td>2019-01-08</td><td>201901</td><td>1</td><td>0</td><td>1</td><td>23735.938</td><td>null</td><td>4</td><td>2016-07-19</td><td>null</td><td>null</td></tr><tr><td>450</td><td>2019-01-08</td><td>201901</td><td>1</td><td>0</td><td>1</td><td>0.0</td><td>null</td><td>0</td><td>2015-07-08</td><td>null</td><td>null</td></tr><tr><td>&hellip;</td><td>&hellip;</td><td>&hellip;</td><td>&hellip;</td><td>&hellip;</td><td>&hellip;</td><td>&hellip;</td><td>&hellip;</td><td>&hellip;</td><td>&hellip;</td><td>&hellip;</td><td>&hellip;</td></tr><tr><td>2703430</td><td>2020-10-05</td><td>202010</td><td>91</td><td>0</td><td>1</td><td>0.0</td><td>null</td><td>0</td><td>2015-02-13</td><td>null</td><td>null</td></tr><tr><td>2703430</td><td>2020-10-05</td><td>202010</td><td>91</td><td>0</td><td>1</td><td>0.0</td><td>null</td><td>1</td><td>2013-09-02</td><td>null</td><td>null</td></tr><tr><td>2703430</td><td>2020-10-05</td><td>202010</td><td>91</td><td>0</td><td>1</td><td>0.0</td><td>null</td><td>2</td><td>2014-02-14</td><td>null</td><td>null</td></tr><tr><td>2703430</td><td>2020-10-05</td><td>202010</td><td>91</td><td>0</td><td>1</td><td>0.0</td><td>null</td><td>3</td><td>2015-03-19</td><td>null</td><td>null</td></tr><tr><td>2703430</td><td>2020-10-05</td><td>202010</td><td>91</td><td>0</td><td>1</td><td>0.0</td><td>null</td><td>4</td><td>2015-03-19</td><td>null</td><td>null</td></tr><tr><td>2703430</td><td>2020-10-05</td><td>202010</td><td>91</td><td>0</td><td>1</td><td>0.0</td><td>null</td><td>5</td><td>2015-08-25</td><td>null</td><td>null</td></tr><tr><td>2703430</td><td>2020-10-05</td><td>202010</td><td>91</td><td>0</td><td>1</td><td>0.0</td><td>null</td><td>6</td><td>2015-12-11</td><td>null</td><td>null</td></tr><tr><td>2703430</td><td>2020-10-05</td><td>202010</td><td>91</td><td>0</td><td>1</td><td>0.0</td><td>null</td><td>7</td><td>2016-02-25</td><td>null</td><td>null</td></tr><tr><td>2703430</td><td>2020-10-05</td><td>202010</td><td>91</td><td>0</td><td>1</td><td>22918.006</td><td>null</td><td>8</td><td>2016-11-26</td><td>null</td><td>null</td></tr><tr><td>2703439</td><td>2020-10-05</td><td>202010</td><td>91</td><td>0</td><td>1</td><td>219.98401</td><td>null</td><td>0</td><td>2016-11-25</td><td>null</td><td>null</td></tr><tr><td>2703453</td><td>2020-10-05</td><td>202010</td><td>91</td><td>0</td><td>1</td><td>0.0</td><td>null</td><td>0</td><td>2014-08-18</td><td>null</td><td>null</td></tr><tr><td>2703453</td><td>2020-10-05</td><td>202010</td><td>91</td><td>0</td><td>1</td><td>44916.645</td><td>2018-05-28</td><td>1</td><td>2015-05-29</td><td>1095</td><td>1095</td></tr></tbody></table></div>"
     },
     "execution_count": 26,
     "metadata": {},
     "output_type": "execute_result"
    }
   ],
   "source": [
    "# df_train.filter(pl.col(\"case_id\") == 57633)\n",
    "# data.select(['case_id', 'num_group1', 'target']).filter(pl.col('num_group1').is_not_null())\n",
    "data.filter(pl.col('num_group1').is_not_null())\n",
    "# df_train.shape"
   ],
   "metadata": {
    "collapsed": false,
    "ExecuteTime": {
     "start_time": "2024-03-05T15:46:31.376397Z",
     "end_time": "2024-03-05T15:46:31.393613Z"
    }
   }
  },
  {
   "cell_type": "code",
   "execution_count": 23,
   "outputs": [],
   "source": [
    "data = data.with_columns((pl.col('contractenddate_991D') - pl.col(\"openingdate_313D\")).alias(\"contractenddate_991D_minus_openingdate_313D_P\"))\n",
    "data = data.with_columns(pl.col(\"contractenddate_991D_minus_openingdate_313D_P\").dt.total_days())"
   ],
   "metadata": {
    "collapsed": false,
    "ExecuteTime": {
     "start_time": "2024-03-05T15:42:17.876406Z",
     "end_time": "2024-03-05T15:42:17.900761Z"
    }
   }
  },
  {
   "cell_type": "code",
   "execution_count": 25,
   "outputs": [],
   "source": [
    "data = data.sort('case_id', 'num_group1')"
   ],
   "metadata": {
    "collapsed": false,
    "ExecuteTime": {
     "start_time": "2024-03-05T15:46:28.982923Z",
     "end_time": "2024-03-05T15:46:29.088515Z"
    }
   }
  },
  {
   "cell_type": "code",
   "execution_count": 27,
   "outputs": [],
   "source": [
    "class Aggregator:\n",
    "    @staticmethod\n",
    "    def num_expr(df):\n",
    "        cols = [col for col in df.columns if col[-1] in (\"P\", \"A\")]\n",
    "\n",
    "        expr_num = []\n",
    "        # expr_num.extend([pl.max(col).alias(f\"max_{col}\") for col in cols])\n",
    "        # expr_num.extend([pl.min(col).alias(f\"min_{col}\") for col in cols])\n",
    "        expr_num.extend([pl.mean(col).alias(f\"mean_{col}\") for col in cols])\n",
    "        # expr_num.extend([pl.count(col).alias(f\"count_{col}\") for col in cols])\n",
    "        expr_num.extend([pl.var(col).alias(f\"var_{col}\") for col in cols])\n",
    "        expr_num.extend([pl.last(col).alias(f\"last_{col}\") for col in cols])\n",
    "        expr_num.extend([pl.first(col).alias(f\"first_{col}\") for col in cols])\n",
    "\n",
    "        return expr_num\n",
    "\n",
    "    @staticmethod\n",
    "    def date_expr(df):\n",
    "        cols = [col for col in df.columns if col[-1] in (\"D\",)]\n",
    "\n",
    "        expr_date = []\n",
    "        expr_date.extend([pl.max(col).alias(f\"max_{col}\") for col in cols])\n",
    "        expr_date.extend([pl.min(col).alias(f\"min_{col}\") for col in cols])\n",
    "\n",
    "        return expr_date\n",
    "\n",
    "    @staticmethod\n",
    "    def str_expr(df):\n",
    "        cols = [col for col in df.columns if col[-1] in (\"M\",)]\n",
    "        cols.remove('WEEK_NUM')\n",
    "\n",
    "        expr_str = []\n",
    "        expr_str.extend([pl.last(col).alias(f\"last_{col}\") for col in cols])\n",
    "        expr_str.extend([pl.first(col).alias(f\"first_{col}\") for col in cols])\n",
    "        expr_str.extend([pl.n_unique(col).alias(f\"n_unique_{col}\") for col in cols])\n",
    "\n",
    "        return expr_str\n",
    "\n",
    "    @staticmethod\n",
    "    def other_expr(df):\n",
    "        cols = [col for col in df.columns if col[-1] in (\"T\", \"L\")]\n",
    "\n",
    "        expr_other = []\n",
    "        expr_other.extend([pl.max(col).alias(f\"max_{col}\") for col in cols])\n",
    "        expr_other.extend([pl.min(col).alias(f\"min_{col}\") for col in cols])\n",
    "        expr_other.extend([pl.mean(col).alias(f\"mean_{col}\") for col in cols])\n",
    "        expr_other.extend([pl.var(col).alias(f\"var_{col}\") for col in cols])\n",
    "        expr_other.extend([pl.last(col).alias(f\"last_{col}\") for col in cols])\n",
    "        expr_other.extend([pl.first(col).alias(f\"first_{col}\") for col in cols])\n",
    "\n",
    "        return expr_other\n",
    "\n",
    "    @staticmethod\n",
    "    def count_expr(df):\n",
    "        cols = [col for col in df.columns if \"num_group\" in col]\n",
    "\n",
    "        expr_count = [pl.max(col).alias(f\"max_{col}\") for col in cols]\n",
    "\n",
    "        return expr_count\n",
    "\n",
    "    @staticmethod\n",
    "    def get_exprs(df):\n",
    "        exprs = Aggregator.num_expr(df) + \\\n",
    "                Aggregator.date_expr(df) + \\\n",
    "                Aggregator.str_expr(df) + \\\n",
    "                Aggregator.other_expr(df) + \\\n",
    "                Aggregator.count_expr(df)\n",
    "\n",
    "        return exprs"
   ],
   "metadata": {
    "collapsed": false,
    "ExecuteTime": {
     "start_time": "2024-03-05T15:48:16.176854Z",
     "end_time": "2024-03-05T15:48:16.179771Z"
    }
   }
  },
  {
   "cell_type": "code",
   "execution_count": null,
   "outputs": [],
   "source": [],
   "metadata": {
    "collapsed": false
   }
  },
  {
   "cell_type": "code",
   "execution_count": 28,
   "outputs": [],
   "source": [
    "fea_agg = data.group_by(\"case_id\").agg(Aggregator.get_exprs(data))"
   ],
   "metadata": {
    "collapsed": false,
    "ExecuteTime": {
     "start_time": "2024-03-05T15:48:24.702630Z",
     "end_time": "2024-03-05T15:48:24.867957Z"
    }
   }
  },
  {
   "cell_type": "code",
   "execution_count": 29,
   "outputs": [
    {
     "data": {
      "text/plain": "(1526669, 14)"
     },
     "execution_count": 29,
     "metadata": {},
     "output_type": "execute_result"
    }
   ],
   "source": [
    "fea_agg.shape"
   ],
   "metadata": {
    "collapsed": false,
    "ExecuteTime": {
     "start_time": "2024-03-05T15:48:26.683347Z",
     "end_time": "2024-03-05T15:48:26.688329Z"
    }
   }
  },
  {
   "cell_type": "code",
   "execution_count": 30,
   "outputs": [
    {
     "data": {
      "text/plain": "shape: (20, 14)\n┌─────────┬────────────┬───────────┬───────────┬───┬───────────┬───────────┬───────────┬───────────┐\n│ case_id ┆ mean_amoun ┆ mean_cont ┆ var_amoun ┆ … ┆ max_openi ┆ min_contr ┆ min_openi ┆ max_num_g │\n│ ---     ┆ t_416A     ┆ ractendda ┆ t_416A    ┆   ┆ ngdate_31 ┆ actenddat ┆ ngdate_31 ┆ roup1     │\n│ i64     ┆ ---        ┆ te_991D_m ┆ ---       ┆   ┆ 3D        ┆ e_991D    ┆ 3D        ┆ ---       │\n│         ┆ f64        ┆ inus_…    ┆ f64       ┆   ┆ ---       ┆ ---       ┆ ---       ┆ i64       │\n│         ┆            ┆ ---       ┆           ┆   ┆ date      ┆ date      ┆ date      ┆           │\n│         ┆            ┆ f64       ┆           ┆   ┆           ┆           ┆           ┆           │\n╞═════════╪════════════╪═══════════╪═══════════╪═══╪═══════════╪═══════════╪═══════════╪═══════════╡\n│ 0       ┆ null       ┆ null      ┆ 0.0       ┆ … ┆ null      ┆ null      ┆ null      ┆ null      │\n│ 1       ┆ null       ┆ null      ┆ 0.0       ┆ … ┆ null      ┆ null      ┆ null      ┆ null      │\n│ 2       ┆ null       ┆ null      ┆ 0.0       ┆ … ┆ null      ┆ null      ┆ null      ┆ null      │\n│ 3       ┆ null       ┆ null      ┆ 0.0       ┆ … ┆ null      ┆ null      ┆ null      ┆ null      │\n│ 4       ┆ null       ┆ null      ┆ 0.0       ┆ … ┆ null      ┆ null      ┆ null      ┆ null      │\n│ …       ┆ …          ┆ …         ┆ …         ┆ … ┆ …         ┆ …         ┆ …         ┆ …         │\n│ 15      ┆ null       ┆ null      ┆ 0.0       ┆ … ┆ null      ┆ null      ┆ null      ┆ null      │\n│ 16      ┆ null       ┆ null      ┆ 0.0       ┆ … ┆ null      ┆ null      ┆ null      ┆ null      │\n│ 17      ┆ null       ┆ null      ┆ 0.0       ┆ … ┆ null      ┆ null      ┆ null      ┆ null      │\n│ 18      ┆ null       ┆ null      ┆ 0.0       ┆ … ┆ null      ┆ null      ┆ null      ┆ null      │\n│ 19      ┆ null       ┆ null      ┆ 0.0       ┆ … ┆ null      ┆ null      ┆ null      ┆ null      │\n└─────────┴────────────┴───────────┴───────────┴───┴───────────┴───────────┴───────────┴───────────┘",
      "text/html": "<div><style>\n.dataframe > thead > tr,\n.dataframe > tbody > tr {\n  text-align: right;\n  white-space: pre-wrap;\n}\n</style>\n<small>shape: (20, 14)</small><table border=\"1\" class=\"dataframe\"><thead><tr><th>case_id</th><th>mean_amount_416A</th><th>mean_contractenddate_991D_minus_openingdate_313D_P</th><th>var_amount_416A</th><th>var_contractenddate_991D_minus_openingdate_313D_P</th><th>last_amount_416A</th><th>last_contractenddate_991D_minus_openingdate_313D_P</th><th>first_amount_416A</th><th>first_contractenddate_991D_minus_openingdate_313D_P</th><th>max_contractenddate_991D</th><th>max_openingdate_313D</th><th>min_contractenddate_991D</th><th>min_openingdate_313D</th><th>max_num_group1</th></tr><tr><td>i64</td><td>f64</td><td>f64</td><td>f64</td><td>f64</td><td>f64</td><td>i64</td><td>f64</td><td>i64</td><td>date</td><td>date</td><td>date</td><td>date</td><td>i64</td></tr></thead><tbody><tr><td>0</td><td>null</td><td>null</td><td>0.0</td><td>0.0</td><td>null</td><td>null</td><td>null</td><td>null</td><td>null</td><td>null</td><td>null</td><td>null</td><td>null</td></tr><tr><td>1</td><td>null</td><td>null</td><td>0.0</td><td>0.0</td><td>null</td><td>null</td><td>null</td><td>null</td><td>null</td><td>null</td><td>null</td><td>null</td><td>null</td></tr><tr><td>2</td><td>null</td><td>null</td><td>0.0</td><td>0.0</td><td>null</td><td>null</td><td>null</td><td>null</td><td>null</td><td>null</td><td>null</td><td>null</td><td>null</td></tr><tr><td>3</td><td>null</td><td>null</td><td>0.0</td><td>0.0</td><td>null</td><td>null</td><td>null</td><td>null</td><td>null</td><td>null</td><td>null</td><td>null</td><td>null</td></tr><tr><td>4</td><td>null</td><td>null</td><td>0.0</td><td>0.0</td><td>null</td><td>null</td><td>null</td><td>null</td><td>null</td><td>null</td><td>null</td><td>null</td><td>null</td></tr><tr><td>5</td><td>null</td><td>null</td><td>0.0</td><td>0.0</td><td>null</td><td>null</td><td>null</td><td>null</td><td>null</td><td>null</td><td>null</td><td>null</td><td>null</td></tr><tr><td>6</td><td>null</td><td>null</td><td>0.0</td><td>0.0</td><td>null</td><td>null</td><td>null</td><td>null</td><td>null</td><td>null</td><td>null</td><td>null</td><td>null</td></tr><tr><td>7</td><td>null</td><td>null</td><td>0.0</td><td>0.0</td><td>null</td><td>null</td><td>null</td><td>null</td><td>null</td><td>null</td><td>null</td><td>null</td><td>null</td></tr><tr><td>8</td><td>null</td><td>null</td><td>0.0</td><td>0.0</td><td>null</td><td>null</td><td>null</td><td>null</td><td>null</td><td>null</td><td>null</td><td>null</td><td>null</td></tr><tr><td>9</td><td>null</td><td>null</td><td>0.0</td><td>0.0</td><td>null</td><td>null</td><td>null</td><td>null</td><td>null</td><td>null</td><td>null</td><td>null</td><td>null</td></tr><tr><td>10</td><td>null</td><td>null</td><td>0.0</td><td>0.0</td><td>null</td><td>null</td><td>null</td><td>null</td><td>null</td><td>null</td><td>null</td><td>null</td><td>null</td></tr><tr><td>11</td><td>null</td><td>null</td><td>0.0</td><td>0.0</td><td>null</td><td>null</td><td>null</td><td>null</td><td>null</td><td>null</td><td>null</td><td>null</td><td>null</td></tr><tr><td>12</td><td>null</td><td>null</td><td>0.0</td><td>0.0</td><td>null</td><td>null</td><td>null</td><td>null</td><td>null</td><td>null</td><td>null</td><td>null</td><td>null</td></tr><tr><td>13</td><td>null</td><td>null</td><td>0.0</td><td>0.0</td><td>null</td><td>null</td><td>null</td><td>null</td><td>null</td><td>null</td><td>null</td><td>null</td><td>null</td></tr><tr><td>14</td><td>null</td><td>null</td><td>0.0</td><td>0.0</td><td>null</td><td>null</td><td>null</td><td>null</td><td>null</td><td>null</td><td>null</td><td>null</td><td>null</td></tr><tr><td>15</td><td>null</td><td>null</td><td>0.0</td><td>0.0</td><td>null</td><td>null</td><td>null</td><td>null</td><td>null</td><td>null</td><td>null</td><td>null</td><td>null</td></tr><tr><td>16</td><td>null</td><td>null</td><td>0.0</td><td>0.0</td><td>null</td><td>null</td><td>null</td><td>null</td><td>null</td><td>null</td><td>null</td><td>null</td><td>null</td></tr><tr><td>17</td><td>null</td><td>null</td><td>0.0</td><td>0.0</td><td>null</td><td>null</td><td>null</td><td>null</td><td>null</td><td>null</td><td>null</td><td>null</td><td>null</td></tr><tr><td>18</td><td>null</td><td>null</td><td>0.0</td><td>0.0</td><td>null</td><td>null</td><td>null</td><td>null</td><td>null</td><td>null</td><td>null</td><td>null</td><td>null</td></tr><tr><td>19</td><td>null</td><td>null</td><td>0.0</td><td>0.0</td><td>null</td><td>null</td><td>null</td><td>null</td><td>null</td><td>null</td><td>null</td><td>null</td><td>null</td></tr></tbody></table></div>"
     },
     "execution_count": 30,
     "metadata": {},
     "output_type": "execute_result"
    }
   ],
   "source": [
    "fea_agg.head(20)"
   ],
   "metadata": {
    "collapsed": false,
    "ExecuteTime": {
     "start_time": "2024-03-05T15:48:37.687691Z",
     "end_time": "2024-03-05T15:48:37.696072Z"
    }
   }
  },
  {
   "cell_type": "code",
   "execution_count": 31,
   "outputs": [],
   "source": [
    "data = data_base.join(fea_agg, how=\"left\", on=\"case_id\")"
   ],
   "metadata": {
    "collapsed": false,
    "ExecuteTime": {
     "start_time": "2024-03-05T15:49:05.539920Z",
     "end_time": "2024-03-05T15:49:05.686299Z"
    }
   }
  },
  {
   "cell_type": "code",
   "execution_count": 32,
   "outputs": [
    {
     "data": {
      "text/plain": "(1526669, 19)"
     },
     "execution_count": 32,
     "metadata": {},
     "output_type": "execute_result"
    }
   ],
   "source": [
    "data.shape"
   ],
   "metadata": {
    "collapsed": false,
    "ExecuteTime": {
     "start_time": "2024-03-05T15:49:08.978455Z",
     "end_time": "2024-03-05T15:49:08.983188Z"
    }
   }
  },
  {
   "cell_type": "code",
   "execution_count": 34,
   "outputs": [
    {
     "data": {
      "text/plain": "shape: (105_111, 19)\n┌─────────┬────────────┬────────┬──────────┬───┬────────────┬────────────┬────────────┬────────────┐\n│ case_id ┆ date_decis ┆ MONTH  ┆ WEEK_NUM ┆ … ┆ max_openin ┆ min_contra ┆ min_openin ┆ max_num_gr │\n│ ---     ┆ ion        ┆ ---    ┆ ---      ┆   ┆ gdate_313D ┆ ctenddate_ ┆ gdate_313D ┆ oup1       │\n│ i64     ┆ ---        ┆ i64    ┆ i64      ┆   ┆ ---        ┆ 991D       ┆ ---        ┆ ---        │\n│         ┆ date       ┆        ┆          ┆   ┆ date       ┆ ---        ┆ date       ┆ i64        │\n│         ┆            ┆        ┆          ┆   ┆            ┆ date       ┆            ┆            │\n╞═════════╪════════════╪════════╪══════════╪═══╪════════════╪════════════╪════════════╪════════════╡\n│ 225     ┆ 2019-01-04 ┆ 201901 ┆ 0        ┆ … ┆ 2016-08-16 ┆ null       ┆ 2016-08-16 ┆ 0          │\n│ 331     ┆ 2019-01-05 ┆ 201901 ┆ 0        ┆ … ┆ 2015-03-19 ┆ 2018-03-18 ┆ 2015-03-19 ┆ 0          │\n│ 358     ┆ 2019-01-05 ┆ 201901 ┆ 0        ┆ … ┆ 2014-09-02 ┆ null       ┆ 2014-09-02 ┆ 0          │\n│ 390     ┆ 2019-01-07 ┆ 201901 ┆ 0        ┆ … ┆ 2016-06-08 ┆ 2017-07-22 ┆ 2014-07-23 ┆ 2          │\n│ 445     ┆ 2019-01-08 ┆ 201901 ┆ 1        ┆ … ┆ 2016-07-19 ┆ 2017-07-31 ┆ 2015-04-27 ┆ 4          │\n│ …       ┆ …          ┆ …      ┆ …        ┆ … ┆ …          ┆ …          ┆ …          ┆ …          │\n│ 2703426 ┆ 2020-10-05 ┆ 202010 ┆ 91       ┆ … ┆ 2015-11-26 ┆ 2018-11-25 ┆ 2015-11-26 ┆ 0          │\n│ 2703427 ┆ 2020-10-05 ┆ 202010 ┆ 91       ┆ … ┆ 2015-06-26 ┆ 2018-06-25 ┆ 2015-06-26 ┆ 0          │\n│ 2703430 ┆ 2020-10-05 ┆ 202010 ┆ 91       ┆ … ┆ 2016-11-26 ┆ null       ┆ 2013-09-02 ┆ 8          │\n│ 2703439 ┆ 2020-10-05 ┆ 202010 ┆ 91       ┆ … ┆ 2016-11-25 ┆ null       ┆ 2016-11-25 ┆ 0          │\n│ 2703453 ┆ 2020-10-05 ┆ 202010 ┆ 91       ┆ … ┆ 2015-05-29 ┆ 2018-05-28 ┆ 2014-08-18 ┆ 1          │\n└─────────┴────────────┴────────┴──────────┴───┴────────────┴────────────┴────────────┴────────────┘",
      "text/html": "<div><style>\n.dataframe > thead > tr,\n.dataframe > tbody > tr {\n  text-align: right;\n  white-space: pre-wrap;\n}\n</style>\n<small>shape: (105_111, 19)</small><table border=\"1\" class=\"dataframe\"><thead><tr><th>case_id</th><th>date_decision</th><th>MONTH</th><th>WEEK_NUM</th><th>target</th><th>IS_TRAIN</th><th>mean_amount_416A</th><th>mean_contractenddate_991D_minus_openingdate_313D_P</th><th>var_amount_416A</th><th>var_contractenddate_991D_minus_openingdate_313D_P</th><th>last_amount_416A</th><th>last_contractenddate_991D_minus_openingdate_313D_P</th><th>first_amount_416A</th><th>first_contractenddate_991D_minus_openingdate_313D_P</th><th>max_contractenddate_991D</th><th>max_openingdate_313D</th><th>min_contractenddate_991D</th><th>min_openingdate_313D</th><th>max_num_group1</th></tr><tr><td>i64</td><td>date</td><td>i64</td><td>i64</td><td>i64</td><td>i32</td><td>f64</td><td>f64</td><td>f64</td><td>f64</td><td>f64</td><td>i64</td><td>f64</td><td>i64</td><td>date</td><td>date</td><td>date</td><td>date</td><td>i64</td></tr></thead><tbody><tr><td>225</td><td>2019-01-04</td><td>201901</td><td>0</td><td>0</td><td>1</td><td>0.0</td><td>null</td><td>0.0</td><td>0.0</td><td>0.0</td><td>null</td><td>0.0</td><td>null</td><td>null</td><td>2016-08-16</td><td>null</td><td>2016-08-16</td><td>0</td></tr><tr><td>331</td><td>2019-01-05</td><td>201901</td><td>0</td><td>0</td><td>1</td><td>260.374</td><td>1095.0</td><td>0.0</td><td>0.0</td><td>260.374</td><td>1095</td><td>260.374</td><td>1095</td><td>2018-03-18</td><td>2015-03-19</td><td>2018-03-18</td><td>2015-03-19</td><td>0</td></tr><tr><td>358</td><td>2019-01-05</td><td>201901</td><td>0</td><td>0</td><td>1</td><td>0.0</td><td>null</td><td>0.0</td><td>0.0</td><td>0.0</td><td>null</td><td>0.0</td><td>null</td><td>null</td><td>2014-09-02</td><td>null</td><td>2014-09-02</td><td>0</td></tr><tr><td>390</td><td>2019-01-07</td><td>201901</td><td>0</td><td>0</td><td>1</td><td>70725.27067</td><td>912.5</td><td>1.4916e10</td><td>66612.5</td><td>223.68001</td><td>null</td><td>211748.53</td><td>1095</td><td>2017-09-30</td><td>2016-06-08</td><td>2017-07-22</td><td>2014-07-23</td><td>2</td></tr><tr><td>445</td><td>2019-01-08</td><td>201901</td><td>1</td><td>0</td><td>1</td><td>4747.1876</td><td>760.5</td><td>1.1268e8</td><td>1860.5</td><td>23735.938</td><td>null</td><td>0.0</td><td>null</td><td>2018-02-08</td><td>2016-07-19</td><td>2017-07-31</td><td>2015-04-27</td><td>4</td></tr><tr><td>450</td><td>2019-01-08</td><td>201901</td><td>1</td><td>0</td><td>1</td><td>0.0</td><td>null</td><td>0.0</td><td>0.0</td><td>0.0</td><td>null</td><td>0.0</td><td>null</td><td>null</td><td>2015-07-08</td><td>null</td><td>2015-07-08</td><td>0</td></tr><tr><td>453</td><td>2019-01-08</td><td>201901</td><td>1</td><td>0</td><td>1</td><td>30154.398333</td><td>null</td><td>2.7279e9</td><td>null</td><td>90463.195</td><td>null</td><td>0.0</td><td>null</td><td>null</td><td>2016-03-03</td><td>null</td><td>2014-06-21</td><td>2</td></tr><tr><td>582</td><td>2019-01-09</td><td>201901</td><td>1</td><td>0</td><td>1</td><td>827.77405</td><td>1644.0</td><td>0.0</td><td>0.0</td><td>827.77405</td><td>1644</td><td>827.77405</td><td>1644</td><td>2018-10-02</td><td>2014-04-02</td><td>2018-10-02</td><td>2014-04-02</td><td>0</td></tr><tr><td>649</td><td>2019-01-09</td><td>201901</td><td>1</td><td>0</td><td>1</td><td>0.0</td><td>null</td><td>0.0</td><td>0.0</td><td>0.0</td><td>null</td><td>0.0</td><td>null</td><td>null</td><td>2014-04-21</td><td>null</td><td>2014-04-21</td><td>0</td></tr><tr><td>697</td><td>2019-01-10</td><td>201901</td><td>1</td><td>0</td><td>1</td><td>0.0</td><td>null</td><td>0.0</td><td>0.0</td><td>0.0</td><td>null</td><td>0.0</td><td>null</td><td>null</td><td>2014-03-14</td><td>null</td><td>2014-03-14</td><td>0</td></tr><tr><td>713</td><td>2019-01-10</td><td>201901</td><td>1</td><td>0</td><td>1</td><td>997.86</td><td>1095.0</td><td>0.0</td><td>0.0</td><td>997.86</td><td>1095</td><td>997.86</td><td>1095</td><td>2018-04-01</td><td>2015-04-02</td><td>2018-04-01</td><td>2015-04-02</td><td>0</td></tr><tr><td>714</td><td>2019-01-10</td><td>201901</td><td>1</td><td>0</td><td>1</td><td>580.248</td><td>1641.0</td><td>0.0</td><td>0.0</td><td>580.248</td><td>1641</td><td>580.248</td><td>1641</td><td>2018-05-25</td><td>2013-11-26</td><td>2018-05-25</td><td>2013-11-26</td><td>0</td></tr><tr><td>&hellip;</td><td>&hellip;</td><td>&hellip;</td><td>&hellip;</td><td>&hellip;</td><td>&hellip;</td><td>&hellip;</td><td>&hellip;</td><td>&hellip;</td><td>&hellip;</td><td>&hellip;</td><td>&hellip;</td><td>&hellip;</td><td>&hellip;</td><td>&hellip;</td><td>&hellip;</td><td>&hellip;</td><td>&hellip;</td><td>&hellip;</td></tr><tr><td>2703394</td><td>2020-10-05</td><td>202010</td><td>91</td><td>0</td><td>1</td><td>0.0</td><td>null</td><td>0.0</td><td>null</td><td>0.0</td><td>null</td><td>0.0</td><td>null</td><td>null</td><td>2016-02-23</td><td>null</td><td>2014-01-01</td><td>3</td></tr><tr><td>2703398</td><td>2020-10-05</td><td>202010</td><td>91</td><td>0</td><td>1</td><td>206.222005</td><td>1095.0</td><td>9.539668</td><td>null</td><td>208.406</td><td>null</td><td>204.03801</td><td>1095</td><td>2018-07-16</td><td>2017-04-07</td><td>2018-07-16</td><td>2015-07-17</td><td>1</td></tr><tr><td>2703401</td><td>2020-10-05</td><td>202010</td><td>91</td><td>0</td><td>1</td><td>40346.715</td><td>914.0</td><td>3.2557e9</td><td>null</td><td>80693.43</td><td>null</td><td>0.0</td><td>914</td><td>2016-09-13</td><td>2016-07-11</td><td>2016-09-13</td><td>2014-03-14</td><td>1</td></tr><tr><td>2703407</td><td>2020-10-05</td><td>202010</td><td>91</td><td>0</td><td>1</td><td>101.700005</td><td>638.0</td><td>20685.782034</td><td>16928.0</td><td>203.40001</td><td>730</td><td>0.0</td><td>546</td><td>2017-11-05</td><td>2015-11-06</td><td>2016-05-27</td><td>2014-11-28</td><td>1</td></tr><tr><td>2703412</td><td>2020-10-05</td><td>202010</td><td>91</td><td>0</td><td>1</td><td>212.33202</td><td>null</td><td>0.0</td><td>0.0</td><td>212.33202</td><td>null</td><td>212.33202</td><td>null</td><td>null</td><td>2017-02-06</td><td>null</td><td>2017-02-06</td><td>0</td></tr><tr><td>2703416</td><td>2020-10-05</td><td>202010</td><td>91</td><td>0</td><td>1</td><td>671.004</td><td>912.5</td><td>40739.138568</td><td>66612.5</td><td>813.726</td><td>730</td><td>528.282</td><td>1095</td><td>2017-09-30</td><td>2015-08-20</td><td>2017-08-19</td><td>2014-10-01</td><td>1</td></tr><tr><td>2703425</td><td>2020-10-05</td><td>202010</td><td>91</td><td>0</td><td>1</td><td>204.04001</td><td>1095.0</td><td>0.0</td><td>0.0</td><td>204.04001</td><td>1095</td><td>204.04001</td><td>1095</td><td>2018-07-05</td><td>2015-07-06</td><td>2018-07-05</td><td>2015-07-06</td><td>0</td></tr><tr><td>2703426</td><td>2020-10-05</td><td>202010</td><td>91</td><td>0</td><td>1</td><td>1181.7361</td><td>1095.0</td><td>0.0</td><td>0.0</td><td>1181.7361</td><td>1095</td><td>1181.7361</td><td>1095</td><td>2018-11-25</td><td>2015-11-26</td><td>2018-11-25</td><td>2015-11-26</td><td>0</td></tr><tr><td>2703427</td><td>2020-10-05</td><td>202010</td><td>91</td><td>0</td><td>1</td><td>250.76399</td><td>1095.0</td><td>0.0</td><td>0.0</td><td>250.76399</td><td>1095</td><td>250.76399</td><td>1095</td><td>2018-06-25</td><td>2015-06-26</td><td>2018-06-25</td><td>2015-06-26</td><td>0</td></tr><tr><td>2703430</td><td>2020-10-05</td><td>202010</td><td>91</td><td>0</td><td>1</td><td>2546.445111</td><td>null</td><td>5.8359e7</td><td>null</td><td>22918.006</td><td>null</td><td>0.0</td><td>null</td><td>null</td><td>2016-11-26</td><td>null</td><td>2013-09-02</td><td>8</td></tr><tr><td>2703439</td><td>2020-10-05</td><td>202010</td><td>91</td><td>0</td><td>1</td><td>219.98401</td><td>null</td><td>0.0</td><td>0.0</td><td>219.98401</td><td>null</td><td>219.98401</td><td>null</td><td>null</td><td>2016-11-25</td><td>null</td><td>2016-11-25</td><td>0</td></tr><tr><td>2703453</td><td>2020-10-05</td><td>202010</td><td>91</td><td>0</td><td>1</td><td>22458.3225</td><td>1095.0</td><td>1.0088e9</td><td>null</td><td>44916.645</td><td>1095</td><td>0.0</td><td>null</td><td>2018-05-28</td><td>2015-05-29</td><td>2018-05-28</td><td>2014-08-18</td><td>1</td></tr></tbody></table></div>"
     },
     "execution_count": 34,
     "metadata": {},
     "output_type": "execute_result"
    }
   ],
   "source": [
    "data.filter(pl.col('max_num_group1').is_not_null())"
   ],
   "metadata": {
    "collapsed": false,
    "ExecuteTime": {
     "start_time": "2024-03-05T15:49:38.999242Z",
     "end_time": "2024-03-05T15:49:39.054924Z"
    }
   }
  },
  {
   "cell_type": "code",
   "execution_count": 35,
   "outputs": [],
   "source": [
    "def filter_cols(df):\n",
    "    dt_train = df.filter(pl.col('IS_TRAIN') == 1)\n",
    "    for col in df.columns:\n",
    "        if col not in [\"case_id\", \"WEEK_NUM\", \"date_decision\", \"MONTH\", \"IS_TRAIN\", \"target\"]:\n",
    "            isnull = dt_train[col].is_null().mean()\n",
    "\n",
    "            if isnull > 0.95:\n",
    "                print(f'col [{col}] to be null dropped...')\n",
    "                num_positive = dt_train.filter(pl.col(col).is_not_null() & pl.col(\"target\") == 1).shape[0]\n",
    "                if num_positive < 1000:\n",
    "                    df = df.drop(col)\n",
    "                    print(f'col [{col}] null dropped...')\n",
    "\n",
    "    for col in df.columns:\n",
    "        if (col not in [\"case_id\", \"WEEK_NUM\", \"date_decision\", \"MONTH\", \"IS_TRAIN\", \"target\"]) & (df[col].dtype == pl.String):\n",
    "            freq = dt_train[col].n_unique()\n",
    "\n",
    "            if freq == 1:\n",
    "                df = df.drop(col)\n",
    "                print(f'col [{col}] freq dropped...')\n",
    "\n",
    "    return df"
   ],
   "metadata": {
    "collapsed": false,
    "ExecuteTime": {
     "start_time": "2024-03-05T15:50:33.666791Z",
     "end_time": "2024-03-05T15:50:33.679396Z"
    }
   }
  },
  {
   "cell_type": "code",
   "execution_count": 36,
   "outputs": [
    {
     "name": "stdout",
     "output_type": "stream",
     "text": [
      "col [mean_contractenddate_991D_minus_openingdate_313D_P] to be null dropped...\n",
      "col [last_contractenddate_991D_minus_openingdate_313D_P] to be null dropped...\n",
      "col [first_contractenddate_991D_minus_openingdate_313D_P] to be null dropped...\n",
      "col [max_contractenddate_991D] to be null dropped...\n",
      "col [min_contractenddate_991D] to be null dropped...\n"
     ]
    }
   ],
   "source": [
    "data = data.pipe(filter_cols)"
   ],
   "metadata": {
    "collapsed": false,
    "ExecuteTime": {
     "start_time": "2024-03-05T15:50:36.088462Z",
     "end_time": "2024-03-05T15:50:36.326123Z"
    }
   }
  },
  {
   "cell_type": "code",
   "execution_count": 37,
   "outputs": [
    {
     "data": {
      "text/plain": "(1526669, 19)"
     },
     "execution_count": 37,
     "metadata": {},
     "output_type": "execute_result"
    }
   ],
   "source": [
    "data.shape"
   ],
   "metadata": {
    "collapsed": false,
    "ExecuteTime": {
     "start_time": "2024-03-05T15:50:40.380228Z",
     "end_time": "2024-03-05T15:50:40.386980Z"
    }
   }
  },
  {
   "cell_type": "code",
   "execution_count": 38,
   "outputs": [],
   "source": [
    "def handle_date(df):\n",
    "    for col in df.columns:\n",
    "        if col[-1] in (\"D\",) and df[col].dtype == pl.Date:\n",
    "            print(f'col [{col}] is date...')\n",
    "            df = df.with_columns(pl.col(col) - pl.col(\"date_decision\"))\n",
    "            df = df.with_columns(pl.col(col).dt.total_days())\n",
    "\n",
    "    # df = df.drop(\"date_decision\", \"MONTH\")\n",
    "    return df\n",
    "\n",
    "\n",
    "def handle_category(df):\n",
    "    dt_train = df.filter(pl.col('IS_TRAIN') == 1)\n",
    "    cols_list = df.columns\n",
    "    for col in cols_list:\n",
    "        if ((col[-1] in (\"M\",)) and ('WEEK_NUM' not in col) and (not col.startswith('n_unique'))) \\\n",
    "                or (col[-1] in (\"L\", \"P\") and (df[col].dtype == pl.String)):\n",
    "            freq = dt_train[col].n_unique()\n",
    "            if freq <= 10:\n",
    "                print(f'col [{col}] one hot encoded...')\n",
    "                encoder = OneHotEncoder(cols=[col], handle_unknown='indicator', handle_missing='indicator', use_cat_names=True)\n",
    "                encoder.fit(dt_train[col].to_pandas())\n",
    "                res_df = pl.from_pandas(encoder.transform(df[col].to_pandas()))\n",
    "                df = pl.concat([df, res_df], how=\"horizontal\")\n",
    "                df = df.drop(col)\n",
    "            else:\n",
    "                print(f'col [{col}] target encoded...')\n",
    "                encoder = TargetEncoder(cols=[col], handle_unknown='value', handle_missing='value') \\\n",
    "                            .fit(dt_train[col].to_pandas(), dt_train['target'].to_pandas())\n",
    "                df = df.with_columns(pl.from_pandas(encoder.transform(df[col].to_pandas())).to_series().alias(col + '_target_encoder'))\n",
    "                df = df.drop(col)\n",
    "\n",
    "    return df"
   ],
   "metadata": {
    "collapsed": false,
    "ExecuteTime": {
     "start_time": "2024-03-05T15:51:19.843234Z",
     "end_time": "2024-03-05T15:51:19.846842Z"
    }
   }
  },
  {
   "cell_type": "code",
   "execution_count": 39,
   "outputs": [],
   "source": [
    "data = data.pipe(handle_category)"
   ],
   "metadata": {
    "collapsed": false,
    "ExecuteTime": {
     "start_time": "2024-03-05T15:51:22.613124Z",
     "end_time": "2024-03-05T15:51:22.748831Z"
    }
   }
  },
  {
   "cell_type": "code",
   "execution_count": 40,
   "outputs": [
    {
     "name": "stdout",
     "output_type": "stream",
     "text": [
      "col [max_contractenddate_991D] is date...\n",
      "col [max_openingdate_313D] is date...\n",
      "col [min_contractenddate_991D] is date...\n",
      "col [min_openingdate_313D] is date...\n"
     ]
    }
   ],
   "source": [
    "data = data.pipe(handle_date)"
   ],
   "metadata": {
    "collapsed": false,
    "ExecuteTime": {
     "start_time": "2024-03-05T15:51:24.397523Z",
     "end_time": "2024-03-05T15:51:24.480669Z"
    }
   }
  },
  {
   "cell_type": "code",
   "execution_count": 44,
   "outputs": [
    {
     "data": {
      "text/plain": "shape: (10, 15)\n┌─────────┬──────────┬────────────┬────────────┬───┬───────────┬───────────┬───────────┬───────────┐\n│ case_id ┆ IS_TRAIN ┆ mean_amoun ┆ mean_contr ┆ … ┆ max_openi ┆ min_contr ┆ min_openi ┆ max_num_g │\n│ ---     ┆ ---      ┆ t_416A     ┆ actenddate ┆   ┆ ngdate_31 ┆ actenddat ┆ ngdate_31 ┆ roup1     │\n│ i64     ┆ i32      ┆ ---        ┆ _991D_minu ┆   ┆ 3D        ┆ e_991D    ┆ 3D        ┆ ---       │\n│         ┆          ┆ f64        ┆ s_…        ┆   ┆ ---       ┆ ---       ┆ ---       ┆ i64       │\n│         ┆          ┆            ┆ ---        ┆   ┆ i64       ┆ i64       ┆ i64       ┆           │\n│         ┆          ┆            ┆ f64        ┆   ┆           ┆           ┆           ┆           │\n╞═════════╪══════════╪════════════╪════════════╪═══╪═══════════╪═══════════╪═══════════╪═══════════╡\n│ 0       ┆ 1        ┆ null       ┆ null       ┆ … ┆ null      ┆ null      ┆ null      ┆ null      │\n│ 1       ┆ 1        ┆ null       ┆ null       ┆ … ┆ null      ┆ null      ┆ null      ┆ null      │\n│ 2       ┆ 1        ┆ null       ┆ null       ┆ … ┆ null      ┆ null      ┆ null      ┆ null      │\n│ 3       ┆ 1        ┆ null       ┆ null       ┆ … ┆ null      ┆ null      ┆ null      ┆ null      │\n│ 4       ┆ 1        ┆ null       ┆ null       ┆ … ┆ null      ┆ null      ┆ null      ┆ null      │\n│ 5       ┆ 1        ┆ null       ┆ null       ┆ … ┆ null      ┆ null      ┆ null      ┆ null      │\n│ 6       ┆ 1        ┆ null       ┆ null       ┆ … ┆ null      ┆ null      ┆ null      ┆ null      │\n│ 7       ┆ 1        ┆ null       ┆ null       ┆ … ┆ null      ┆ null      ┆ null      ┆ null      │\n│ 8       ┆ 1        ┆ null       ┆ null       ┆ … ┆ null      ┆ null      ┆ null      ┆ null      │\n│ 9       ┆ 1        ┆ null       ┆ null       ┆ … ┆ null      ┆ null      ┆ null      ┆ null      │\n└─────────┴──────────┴────────────┴────────────┴───┴───────────┴───────────┴───────────┴───────────┘",
      "text/html": "<div><style>\n.dataframe > thead > tr,\n.dataframe > tbody > tr {\n  text-align: right;\n  white-space: pre-wrap;\n}\n</style>\n<small>shape: (10, 15)</small><table border=\"1\" class=\"dataframe\"><thead><tr><th>case_id</th><th>IS_TRAIN</th><th>mean_amount_416A</th><th>mean_contractenddate_991D_minus_openingdate_313D_P</th><th>var_amount_416A</th><th>var_contractenddate_991D_minus_openingdate_313D_P</th><th>last_amount_416A</th><th>last_contractenddate_991D_minus_openingdate_313D_P</th><th>first_amount_416A</th><th>first_contractenddate_991D_minus_openingdate_313D_P</th><th>max_contractenddate_991D</th><th>max_openingdate_313D</th><th>min_contractenddate_991D</th><th>min_openingdate_313D</th><th>max_num_group1</th></tr><tr><td>i64</td><td>i32</td><td>f64</td><td>f64</td><td>f64</td><td>f64</td><td>f64</td><td>i64</td><td>f64</td><td>i64</td><td>i64</td><td>i64</td><td>i64</td><td>i64</td><td>i64</td></tr></thead><tbody><tr><td>0</td><td>1</td><td>null</td><td>null</td><td>0.0</td><td>0.0</td><td>null</td><td>null</td><td>null</td><td>null</td><td>null</td><td>null</td><td>null</td><td>null</td><td>null</td></tr><tr><td>1</td><td>1</td><td>null</td><td>null</td><td>0.0</td><td>0.0</td><td>null</td><td>null</td><td>null</td><td>null</td><td>null</td><td>null</td><td>null</td><td>null</td><td>null</td></tr><tr><td>2</td><td>1</td><td>null</td><td>null</td><td>0.0</td><td>0.0</td><td>null</td><td>null</td><td>null</td><td>null</td><td>null</td><td>null</td><td>null</td><td>null</td><td>null</td></tr><tr><td>3</td><td>1</td><td>null</td><td>null</td><td>0.0</td><td>0.0</td><td>null</td><td>null</td><td>null</td><td>null</td><td>null</td><td>null</td><td>null</td><td>null</td><td>null</td></tr><tr><td>4</td><td>1</td><td>null</td><td>null</td><td>0.0</td><td>0.0</td><td>null</td><td>null</td><td>null</td><td>null</td><td>null</td><td>null</td><td>null</td><td>null</td><td>null</td></tr><tr><td>5</td><td>1</td><td>null</td><td>null</td><td>0.0</td><td>0.0</td><td>null</td><td>null</td><td>null</td><td>null</td><td>null</td><td>null</td><td>null</td><td>null</td><td>null</td></tr><tr><td>6</td><td>1</td><td>null</td><td>null</td><td>0.0</td><td>0.0</td><td>null</td><td>null</td><td>null</td><td>null</td><td>null</td><td>null</td><td>null</td><td>null</td><td>null</td></tr><tr><td>7</td><td>1</td><td>null</td><td>null</td><td>0.0</td><td>0.0</td><td>null</td><td>null</td><td>null</td><td>null</td><td>null</td><td>null</td><td>null</td><td>null</td><td>null</td></tr><tr><td>8</td><td>1</td><td>null</td><td>null</td><td>0.0</td><td>0.0</td><td>null</td><td>null</td><td>null</td><td>null</td><td>null</td><td>null</td><td>null</td><td>null</td><td>null</td></tr><tr><td>9</td><td>1</td><td>null</td><td>null</td><td>0.0</td><td>0.0</td><td>null</td><td>null</td><td>null</td><td>null</td><td>null</td><td>null</td><td>null</td><td>null</td><td>null</td></tr></tbody></table></div>"
     },
     "execution_count": 44,
     "metadata": {},
     "output_type": "execute_result"
    }
   ],
   "source": [
    "data.head(10)"
   ],
   "metadata": {
    "collapsed": false,
    "ExecuteTime": {
     "start_time": "2024-03-05T15:51:58.340924Z",
     "end_time": "2024-03-05T15:51:58.349773Z"
    }
   }
  },
  {
   "cell_type": "code",
   "execution_count": 42,
   "outputs": [],
   "source": [
    "data = data.drop('date_decision', 'MONTH', 'WEEK_NUM', 'target')"
   ],
   "metadata": {
    "collapsed": false,
    "ExecuteTime": {
     "start_time": "2024-03-05T15:51:54.103052Z",
     "end_time": "2024-03-05T15:51:54.111658Z"
    }
   }
  },
  {
   "cell_type": "code",
   "execution_count": 45,
   "outputs": [
    {
     "data": {
      "text/plain": "(1526669, 15)"
     },
     "execution_count": 45,
     "metadata": {},
     "output_type": "execute_result"
    }
   ],
   "source": [
    "data.shape"
   ],
   "metadata": {
    "collapsed": false,
    "ExecuteTime": {
     "start_time": "2024-03-05T15:52:22.127571Z",
     "end_time": "2024-03-05T15:52:22.130966Z"
    }
   }
  },
  {
   "cell_type": "code",
   "execution_count": 46,
   "outputs": [],
   "source": [
    "preprocess_dir_path = \"/Users/sophie/workspace/data/kaggle/home-credit-credit-risk-model-stability/preprocess\"\n",
    "preprocess_file = 'deposit_1.parquet'\n",
    "preprocess_file_path = Path(os.path.join(preprocess_dir_path, preprocess_file))\n",
    "data.write_parquet(preprocess_file_path)"
   ],
   "metadata": {
    "collapsed": false,
    "ExecuteTime": {
     "start_time": "2024-03-05T15:52:36.035717Z",
     "end_time": "2024-03-05T15:52:36.251266Z"
    }
   }
  },
  {
   "cell_type": "code",
   "execution_count": null,
   "outputs": [],
   "source": [],
   "metadata": {
    "collapsed": false
   }
  }
 ],
 "metadata": {
  "kernelspec": {
   "display_name": "Python 3",
   "language": "python",
   "name": "python3"
  },
  "language_info": {
   "codemirror_mode": {
    "name": "ipython",
    "version": 2
   },
   "file_extension": ".py",
   "mimetype": "text/x-python",
   "name": "python",
   "nbconvert_exporter": "python",
   "pygments_lexer": "ipython2",
   "version": "2.7.6"
  }
 },
 "nbformat": 4,
 "nbformat_minor": 0
}
