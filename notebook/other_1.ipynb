{
 "cells": [
  {
   "cell_type": "code",
   "execution_count": 1,
   "metadata": {
    "collapsed": true,
    "ExecuteTime": {
     "start_time": "2024-03-05T17:35:53.545664Z",
     "end_time": "2024-03-05T17:35:54.373146Z"
    }
   },
   "outputs": [],
   "source": [
    "import warnings\n",
    "import os\n",
    "from glob import glob\n",
    "from pathlib import Path\n",
    "import operator\n",
    "\n",
    "import pandas as pd\n",
    "import polars as pl\n",
    "import polars.selectors as cs\n",
    "from sklearn import preprocessing\n",
    "from category_encoders import OneHotEncoder\n",
    "from category_encoders.target_encoder import TargetEncoder\n",
    "\n",
    "pd.set_option('display.float_format',lambda x : '%.6f' % x)\n",
    "warnings.filterwarnings('ignore')"
   ]
  },
  {
   "cell_type": "code",
   "execution_count": 2,
   "outputs": [],
   "source": [
    "def set_table_dtypes(df):\n",
    "    for col in df.columns:\n",
    "        if col in [\"case_id\", \"WEEK_NUM\", \"num_group1\", \"num_group2\", \"target\"]:\n",
    "            df = df.with_columns(pl.col(col).cast(pl.Int64))\n",
    "        elif col in [\"date_decision\"]:\n",
    "            df = df.with_columns(pl.col(col).cast(pl.Date))\n",
    "        elif col[-1] in (\"P\", \"A\"):\n",
    "            df = df.with_columns(pl.col(col).cast(pl.Float64))\n",
    "        elif col[-1] in (\"M\",):\n",
    "            df = df.with_columns(pl.col(col).cast(pl.String))\n",
    "        elif col[-1] in (\"D\",):\n",
    "            df = df.with_columns(pl.col(col).cast(pl.Date))\n",
    "\n",
    "    return df"
   ],
   "metadata": {
    "collapsed": false,
    "ExecuteTime": {
     "start_time": "2024-03-05T17:35:58.327819Z",
     "end_time": "2024-03-05T17:35:58.339611Z"
    }
   }
  },
  {
   "cell_type": "code",
   "execution_count": 3,
   "outputs": [],
   "source": [
    "def read_file(path, depth=None):\n",
    "    df = pl.read_parquet(path)\n",
    "    df = df.pipe(set_table_dtypes)\n",
    "    return df\n",
    "\n",
    "def read_files(regex_path, depth=None):\n",
    "    chunks = []\n",
    "    for path in glob(str(regex_path)):\n",
    "        chunks.append(pl.read_parquet(path).pipe(set_table_dtypes))\n",
    "\n",
    "    df = pl.concat(chunks, how=\"vertical_relaxed\")\n",
    "    return df"
   ],
   "metadata": {
    "collapsed": false,
    "ExecuteTime": {
     "start_time": "2024-03-05T17:36:01.664300Z",
     "end_time": "2024-03-05T17:36:01.672571Z"
    }
   }
  },
  {
   "cell_type": "code",
   "execution_count": 4,
   "outputs": [],
   "source": [
    "train_dir_path = \"/Users/sophie/workspace/data/kaggle/home-credit-credit-risk-model-stability/parquet_files/train\"\n",
    "test_dir_path = \"/Users/sophie/workspace/data/kaggle/home-credit-credit-risk-model-stability/parquet_files/test\"\n",
    "train_file = 'train_other_1.parquet'\n",
    "test_file = 'test_other_1.parquet'\n",
    "train_file_path = Path(os.path.join(train_dir_path, train_file))\n",
    "test_file_path = Path(os.path.join(test_dir_path, test_file))\n",
    "\n",
    "target_file = 'train_base.parquet'\n",
    "target_file_path = Path(os.path.join(train_dir_path, target_file))\n",
    "target_file_test = 'test_base.parquet'\n",
    "target_file_test_path = Path(os.path.join(test_dir_path, target_file_test))"
   ],
   "metadata": {
    "collapsed": false,
    "ExecuteTime": {
     "start_time": "2024-03-05T17:36:14.934417Z",
     "end_time": "2024-03-05T17:36:14.942052Z"
    }
   }
  },
  {
   "cell_type": "code",
   "execution_count": 5,
   "outputs": [],
   "source": [
    "df_base_train = read_file(target_file_path)\n",
    "df_base_train = df_base_train.with_columns(IS_TRAIN = pl.lit(1))\n",
    "df_train = read_file(train_file_path)\n",
    "df_train = df_base_train.join(df_train, how=\"left\", on=\"case_id\")"
   ],
   "metadata": {
    "collapsed": false,
    "ExecuteTime": {
     "start_time": "2024-03-05T17:36:17.265682Z",
     "end_time": "2024-03-05T17:36:17.460293Z"
    }
   }
  },
  {
   "cell_type": "code",
   "execution_count": 6,
   "outputs": [],
   "source": [
    "df_base_test = read_file(target_file_test_path)\n",
    "df_base_test = df_base_test.with_columns(target = None)\n",
    "df_base_test = df_base_test.with_columns(IS_TRAIN = pl.lit(0))\n",
    "df_test = read_file(test_file_path)\n",
    "df_test = df_base_test.join(df_test, how=\"left\", on=\"case_id\")"
   ],
   "metadata": {
    "collapsed": false,
    "ExecuteTime": {
     "start_time": "2024-03-05T17:36:19.017903Z",
     "end_time": "2024-03-05T17:36:19.036606Z"
    }
   }
  },
  {
   "cell_type": "code",
   "execution_count": 7,
   "outputs": [],
   "source": [
    "data = pl.concat([df_train, df_test], how=\"vertical_relaxed\")"
   ],
   "metadata": {
    "collapsed": false,
    "ExecuteTime": {
     "start_time": "2024-03-05T17:36:20.153432Z",
     "end_time": "2024-03-05T17:36:20.187865Z"
    }
   }
  },
  {
   "cell_type": "code",
   "execution_count": 8,
   "outputs": [],
   "source": [
    "data_base = pl.concat([df_base_train, df_base_test], how=\"vertical_relaxed\")"
   ],
   "metadata": {
    "collapsed": false,
    "ExecuteTime": {
     "start_time": "2024-03-05T17:36:21.831702Z",
     "end_time": "2024-03-05T17:36:21.840659Z"
    }
   }
  },
  {
   "cell_type": "code",
   "execution_count": 28,
   "outputs": [],
   "source": [
    "del df_train, df_test"
   ],
   "metadata": {
    "collapsed": false,
    "ExecuteTime": {
     "start_time": "2024-03-04T15:29:57.636722Z",
     "end_time": "2024-03-04T15:29:57.638784Z"
    }
   }
  },
  {
   "cell_type": "code",
   "execution_count": 11,
   "outputs": [
    {
     "data": {
      "text/plain": "(1526669, 12)"
     },
     "execution_count": 11,
     "metadata": {},
     "output_type": "execute_result"
    }
   ],
   "source": [
    "data.shape"
   ],
   "metadata": {
    "collapsed": false,
    "ExecuteTime": {
     "start_time": "2024-03-05T17:36:48.715282Z",
     "end_time": "2024-03-05T17:36:48.720191Z"
    }
   }
  },
  {
   "cell_type": "code",
   "execution_count": null,
   "outputs": [],
   "source": [
    "# null的比较多 (51109, 12)"
   ],
   "metadata": {
    "collapsed": false
   }
  },
  {
   "cell_type": "code",
   "execution_count": 10,
   "outputs": [
    {
     "data": {
      "text/plain": "shape: (50, 12)\n┌─────────┬────────────┬────────┬──────────┬───┬────────────┬────────────┬────────────┬────────────┐\n│ case_id ┆ date_decis ┆ MONTH  ┆ WEEK_NUM ┆ … ┆ amtdeposit ┆ amtdeposit ┆ amtdeposit ┆ num_group1 │\n│ ---     ┆ ion        ┆ ---    ┆ ---      ┆   ┆ balance_48 ┆ incoming_4 ┆ outgoing_4 ┆ ---        │\n│ i64     ┆ ---        ┆ i64    ┆ i64      ┆   ┆ 09441A     ┆ 809444A    ┆ 809442A    ┆ i64        │\n│         ┆ date       ┆        ┆          ┆   ┆ ---        ┆ ---        ┆ ---        ┆            │\n│         ┆            ┆        ┆          ┆   ┆ f64        ┆ f64        ┆ f64        ┆            │\n╞═════════╪════════════╪════════╪══════════╪═══╪════════════╪════════════╪════════════╪════════════╡\n│ 0       ┆ 2019-01-03 ┆ 201901 ┆ 0        ┆ … ┆ null       ┆ null       ┆ null       ┆ null       │\n│ 1       ┆ 2019-01-03 ┆ 201901 ┆ 0        ┆ … ┆ null       ┆ null       ┆ null       ┆ null       │\n│ 2       ┆ 2019-01-04 ┆ 201901 ┆ 0        ┆ … ┆ null       ┆ null       ┆ null       ┆ null       │\n│ 3       ┆ 2019-01-03 ┆ 201901 ┆ 0        ┆ … ┆ null       ┆ null       ┆ null       ┆ null       │\n│ 4       ┆ 2019-01-04 ┆ 201901 ┆ 0        ┆ … ┆ null       ┆ null       ┆ null       ┆ null       │\n│ …       ┆ …          ┆ …      ┆ …        ┆ … ┆ …          ┆ …          ┆ …          ┆ …          │\n│ 45      ┆ 2019-01-03 ┆ 201901 ┆ 0        ┆ … ┆ null       ┆ null       ┆ null       ┆ null       │\n│ 46      ┆ 2019-01-03 ┆ 201901 ┆ 0        ┆ … ┆ null       ┆ null       ┆ null       ┆ null       │\n│ 47      ┆ 2019-01-03 ┆ 201901 ┆ 0        ┆ … ┆ null       ┆ null       ┆ null       ┆ null       │\n│ 48      ┆ 2019-01-03 ┆ 201901 ┆ 0        ┆ … ┆ null       ┆ null       ┆ null       ┆ null       │\n│ 49      ┆ 2019-01-03 ┆ 201901 ┆ 0        ┆ … ┆ null       ┆ null       ┆ null       ┆ null       │\n└─────────┴────────────┴────────┴──────────┴───┴────────────┴────────────┴────────────┴────────────┘",
      "text/html": "<div><style>\n.dataframe > thead > tr,\n.dataframe > tbody > tr {\n  text-align: right;\n  white-space: pre-wrap;\n}\n</style>\n<small>shape: (50, 12)</small><table border=\"1\" class=\"dataframe\"><thead><tr><th>case_id</th><th>date_decision</th><th>MONTH</th><th>WEEK_NUM</th><th>target</th><th>IS_TRAIN</th><th>amtdebitincoming_4809443A</th><th>amtdebitoutgoing_4809440A</th><th>amtdepositbalance_4809441A</th><th>amtdepositincoming_4809444A</th><th>amtdepositoutgoing_4809442A</th><th>num_group1</th></tr><tr><td>i64</td><td>date</td><td>i64</td><td>i64</td><td>i64</td><td>i32</td><td>f64</td><td>f64</td><td>f64</td><td>f64</td><td>f64</td><td>i64</td></tr></thead><tbody><tr><td>0</td><td>2019-01-03</td><td>201901</td><td>0</td><td>0</td><td>1</td><td>null</td><td>null</td><td>null</td><td>null</td><td>null</td><td>null</td></tr><tr><td>1</td><td>2019-01-03</td><td>201901</td><td>0</td><td>0</td><td>1</td><td>null</td><td>null</td><td>null</td><td>null</td><td>null</td><td>null</td></tr><tr><td>2</td><td>2019-01-04</td><td>201901</td><td>0</td><td>0</td><td>1</td><td>null</td><td>null</td><td>null</td><td>null</td><td>null</td><td>null</td></tr><tr><td>3</td><td>2019-01-03</td><td>201901</td><td>0</td><td>0</td><td>1</td><td>null</td><td>null</td><td>null</td><td>null</td><td>null</td><td>null</td></tr><tr><td>4</td><td>2019-01-04</td><td>201901</td><td>0</td><td>1</td><td>1</td><td>null</td><td>null</td><td>null</td><td>null</td><td>null</td><td>null</td></tr><tr><td>5</td><td>2019-01-02</td><td>201901</td><td>0</td><td>0</td><td>1</td><td>null</td><td>null</td><td>null</td><td>null</td><td>null</td><td>null</td></tr><tr><td>6</td><td>2019-01-03</td><td>201901</td><td>0</td><td>0</td><td>1</td><td>null</td><td>null</td><td>null</td><td>null</td><td>null</td><td>null</td></tr><tr><td>7</td><td>2019-01-03</td><td>201901</td><td>0</td><td>0</td><td>1</td><td>null</td><td>null</td><td>null</td><td>null</td><td>null</td><td>null</td></tr><tr><td>8</td><td>2019-01-03</td><td>201901</td><td>0</td><td>0</td><td>1</td><td>null</td><td>null</td><td>null</td><td>null</td><td>null</td><td>null</td></tr><tr><td>9</td><td>2019-01-03</td><td>201901</td><td>0</td><td>0</td><td>1</td><td>null</td><td>null</td><td>null</td><td>null</td><td>null</td><td>null</td></tr><tr><td>10</td><td>2019-01-03</td><td>201901</td><td>0</td><td>0</td><td>1</td><td>null</td><td>null</td><td>null</td><td>null</td><td>null</td><td>null</td></tr><tr><td>11</td><td>2019-01-03</td><td>201901</td><td>0</td><td>0</td><td>1</td><td>null</td><td>null</td><td>null</td><td>null</td><td>null</td><td>null</td></tr><tr><td>&hellip;</td><td>&hellip;</td><td>&hellip;</td><td>&hellip;</td><td>&hellip;</td><td>&hellip;</td><td>&hellip;</td><td>&hellip;</td><td>&hellip;</td><td>&hellip;</td><td>&hellip;</td><td>&hellip;</td></tr><tr><td>38</td><td>2019-01-03</td><td>201901</td><td>0</td><td>0</td><td>1</td><td>null</td><td>null</td><td>null</td><td>null</td><td>null</td><td>null</td></tr><tr><td>39</td><td>2019-01-03</td><td>201901</td><td>0</td><td>0</td><td>1</td><td>null</td><td>null</td><td>null</td><td>null</td><td>null</td><td>null</td></tr><tr><td>40</td><td>2019-01-03</td><td>201901</td><td>0</td><td>0</td><td>1</td><td>null</td><td>null</td><td>null</td><td>null</td><td>null</td><td>null</td></tr><tr><td>41</td><td>2019-01-03</td><td>201901</td><td>0</td><td>0</td><td>1</td><td>null</td><td>null</td><td>null</td><td>null</td><td>null</td><td>null</td></tr><tr><td>42</td><td>2019-01-03</td><td>201901</td><td>0</td><td>0</td><td>1</td><td>null</td><td>null</td><td>null</td><td>null</td><td>null</td><td>null</td></tr><tr><td>43</td><td>2019-01-03</td><td>201901</td><td>0</td><td>0</td><td>1</td><td>null</td><td>null</td><td>null</td><td>null</td><td>null</td><td>null</td></tr><tr><td>44</td><td>2019-01-03</td><td>201901</td><td>0</td><td>0</td><td>1</td><td>null</td><td>null</td><td>null</td><td>null</td><td>null</td><td>null</td></tr><tr><td>45</td><td>2019-01-03</td><td>201901</td><td>0</td><td>0</td><td>1</td><td>null</td><td>null</td><td>null</td><td>null</td><td>null</td><td>null</td></tr><tr><td>46</td><td>2019-01-03</td><td>201901</td><td>0</td><td>0</td><td>1</td><td>null</td><td>null</td><td>null</td><td>null</td><td>null</td><td>null</td></tr><tr><td>47</td><td>2019-01-03</td><td>201901</td><td>0</td><td>0</td><td>1</td><td>null</td><td>null</td><td>null</td><td>null</td><td>null</td><td>null</td></tr><tr><td>48</td><td>2019-01-03</td><td>201901</td><td>0</td><td>0</td><td>1</td><td>null</td><td>null</td><td>null</td><td>null</td><td>null</td><td>null</td></tr><tr><td>49</td><td>2019-01-03</td><td>201901</td><td>0</td><td>0</td><td>1</td><td>null</td><td>null</td><td>null</td><td>null</td><td>null</td><td>null</td></tr></tbody></table></div>"
     },
     "execution_count": 10,
     "metadata": {},
     "output_type": "execute_result"
    }
   ],
   "source": [
    "data.head(50)"
   ],
   "metadata": {
    "collapsed": false,
    "ExecuteTime": {
     "start_time": "2024-03-05T17:36:29.249437Z",
     "end_time": "2024-03-05T17:36:29.277208Z"
    }
   }
  },
  {
   "cell_type": "code",
   "execution_count": 18,
   "outputs": [
    {
     "data": {
      "text/plain": "shape: (51_109, 12)\n┌─────────┬────────────┬────────┬──────────┬───┬────────────┬────────────┬────────────┬────────────┐\n│ case_id ┆ date_decis ┆ MONTH  ┆ WEEK_NUM ┆ … ┆ amtdeposit ┆ amtdeposit ┆ amtdeposit ┆ num_group1 │\n│ ---     ┆ ion        ┆ ---    ┆ ---      ┆   ┆ balance_48 ┆ incoming_4 ┆ outgoing_4 ┆ ---        │\n│ i64     ┆ ---        ┆ i64    ┆ i64      ┆   ┆ 09441A     ┆ 809444A    ┆ 809442A    ┆ i64        │\n│         ┆ date       ┆        ┆          ┆   ┆ ---        ┆ ---        ┆ ---        ┆            │\n│         ┆            ┆        ┆          ┆   ┆ f64        ┆ f64        ┆ f64        ┆            │\n╞═════════╪════════════╪════════╪══════════╪═══╪════════════╪════════════╪════════════╪════════════╡\n│ 43801   ┆ 2020-01-21 ┆ 202001 ┆ 55       ┆ … ┆ 914.2      ┆ 0.0        ┆ 304.80002  ┆ 0          │\n│ 43991   ┆ 2020-01-20 ┆ 202001 ┆ 54       ┆ … ┆ 0.0        ┆ 0.0        ┆ 0.0        ┆ 0          │\n│ 44001   ┆ 2020-01-20 ┆ 202001 ┆ 54       ┆ … ┆ 0.0        ┆ 0.0        ┆ 0.0        ┆ 0          │\n│ 44053   ┆ 2020-01-20 ┆ 202001 ┆ 54       ┆ … ┆ 2586.4001  ┆ 0.0        ┆ 88.8       ┆ 0          │\n│ 44130   ┆ 2020-01-21 ┆ 202001 ┆ 55       ┆ … ┆ 0.0        ┆ 0.0        ┆ 0.0        ┆ 0          │\n│ …       ┆ …          ┆ …      ┆ …        ┆ … ┆ …          ┆ …          ┆ …          ┆ …          │\n│ 2703443 ┆ 2020-10-05 ┆ 202010 ┆ 91       ┆ … ┆ 0.0        ┆ 0.0        ┆ 0.0        ┆ 0          │\n│ 2703448 ┆ 2020-10-05 ┆ 202010 ┆ 91       ┆ … ┆ 2184.2     ┆ 0.0        ┆ 18.0       ┆ 0          │\n│ 2703450 ┆ 2020-10-05 ┆ 202010 ┆ 91       ┆ … ┆ 0.0        ┆ 0.0        ┆ 0.0        ┆ 0          │\n│ 2703451 ┆ 2020-10-05 ┆ 202010 ┆ 91       ┆ … ┆ 0.0        ┆ 0.0        ┆ 0.0        ┆ 0          │\n│ 2703453 ┆ 2020-10-05 ┆ 202010 ┆ 91       ┆ … ┆ 822.0      ┆ 0.0        ┆ 6.8        ┆ 0          │\n└─────────┴────────────┴────────┴──────────┴───┴────────────┴────────────┴────────────┴────────────┘",
      "text/html": "<div><style>\n.dataframe > thead > tr,\n.dataframe > tbody > tr {\n  text-align: right;\n  white-space: pre-wrap;\n}\n</style>\n<small>shape: (51_109, 12)</small><table border=\"1\" class=\"dataframe\"><thead><tr><th>case_id</th><th>date_decision</th><th>MONTH</th><th>WEEK_NUM</th><th>target</th><th>IS_TRAIN</th><th>amtdebitincoming_4809443A</th><th>amtdebitoutgoing_4809440A</th><th>amtdepositbalance_4809441A</th><th>amtdepositincoming_4809444A</th><th>amtdepositoutgoing_4809442A</th><th>num_group1</th></tr><tr><td>i64</td><td>date</td><td>i64</td><td>i64</td><td>i64</td><td>i32</td><td>f64</td><td>f64</td><td>f64</td><td>f64</td><td>f64</td><td>i64</td></tr></thead><tbody><tr><td>43801</td><td>2020-01-21</td><td>202001</td><td>55</td><td>0</td><td>1</td><td>12466.601</td><td>12291.2</td><td>914.2</td><td>0.0</td><td>304.80002</td><td>0</td></tr><tr><td>43991</td><td>2020-01-20</td><td>202001</td><td>54</td><td>0</td><td>1</td><td>3333.4001</td><td>3273.4001</td><td>0.0</td><td>0.0</td><td>0.0</td><td>0</td></tr><tr><td>44001</td><td>2020-01-20</td><td>202001</td><td>54</td><td>0</td><td>1</td><td>10000.0</td><td>10000.0</td><td>0.0</td><td>0.0</td><td>0.0</td><td>0</td></tr><tr><td>44053</td><td>2020-01-20</td><td>202001</td><td>54</td><td>0</td><td>1</td><td>0.0</td><td>0.0</td><td>2586.4001</td><td>0.0</td><td>88.8</td><td>0</td></tr><tr><td>44130</td><td>2020-01-21</td><td>202001</td><td>55</td><td>1</td><td>1</td><td>63.8</td><td>60.8</td><td>0.0</td><td>0.0</td><td>0.0</td><td>0</td></tr><tr><td>44171</td><td>2020-01-22</td><td>202001</td><td>55</td><td>0</td><td>1</td><td>51.8</td><td>26.6</td><td>0.0</td><td>0.0</td><td>0.0</td><td>0</td></tr><tr><td>44194</td><td>2020-01-21</td><td>202001</td><td>55</td><td>0</td><td>1</td><td>0.0</td><td>0.0</td><td>0.0</td><td>0.0</td><td>0.0</td><td>0</td></tr><tr><td>44230</td><td>2020-01-22</td><td>202001</td><td>55</td><td>0</td><td>1</td><td>0.0</td><td>0.0</td><td>0.0</td><td>0.0</td><td>3.0</td><td>0</td></tr><tr><td>44267</td><td>2020-01-22</td><td>202001</td><td>55</td><td>0</td><td>1</td><td>5000.0</td><td>5000.0</td><td>0.0</td><td>0.0</td><td>0.0</td><td>0</td></tr><tr><td>44309</td><td>2020-01-23</td><td>202001</td><td>55</td><td>0</td><td>1</td><td>0.0</td><td>0.0</td><td>0.0</td><td>0.0</td><td>3.6000001</td><td>0</td></tr><tr><td>44408</td><td>2020-01-23</td><td>202001</td><td>55</td><td>0</td><td>1</td><td>0.0</td><td>0.0</td><td>0.0</td><td>0.0</td><td>0.0</td><td>0</td></tr><tr><td>44440</td><td>2020-01-23</td><td>202001</td><td>55</td><td>0</td><td>1</td><td>10000.0</td><td>10003.4</td><td>0.0</td><td>0.0</td><td>0.0</td><td>0</td></tr><tr><td>&hellip;</td><td>&hellip;</td><td>&hellip;</td><td>&hellip;</td><td>&hellip;</td><td>&hellip;</td><td>&hellip;</td><td>&hellip;</td><td>&hellip;</td><td>&hellip;</td><td>&hellip;</td><td>&hellip;</td></tr><tr><td>2703423</td><td>2020-10-05</td><td>202010</td><td>91</td><td>0</td><td>1</td><td>12000.0</td><td>12000.0</td><td>0.0</td><td>0.0</td><td>0.0</td><td>0</td></tr><tr><td>2703426</td><td>2020-10-05</td><td>202010</td><td>91</td><td>0</td><td>1</td><td>0.0</td><td>0.0</td><td>0.0</td><td>0.0</td><td>12.8</td><td>0</td></tr><tr><td>2703427</td><td>2020-10-05</td><td>202010</td><td>91</td><td>0</td><td>1</td><td>0.0</td><td>0.0</td><td>0.0</td><td>0.0</td><td>3.6000001</td><td>0</td></tr><tr><td>2703430</td><td>2020-10-05</td><td>202010</td><td>91</td><td>0</td><td>1</td><td>46055.0</td><td>46059.2</td><td>311239.0</td><td>34060.6</td><td>77183.6</td><td>0</td></tr><tr><td>2703435</td><td>2020-10-05</td><td>202010</td><td>91</td><td>0</td><td>1</td><td>4100.0</td><td>4033.4001</td><td>0.0</td><td>0.0</td><td>0.0</td><td>0</td></tr><tr><td>2703437</td><td>2020-10-05</td><td>202010</td><td>91</td><td>0</td><td>1</td><td>4261.6</td><td>4261.6</td><td>6675.4</td><td>0.0</td><td>51.2</td><td>0</td></tr><tr><td>2703439</td><td>2020-10-05</td><td>202010</td><td>91</td><td>0</td><td>1</td><td>0.0</td><td>0.0</td><td>298.4</td><td>0.0</td><td>2.4</td><td>0</td></tr><tr><td>2703443</td><td>2020-10-05</td><td>202010</td><td>91</td><td>0</td><td>1</td><td>344.6</td><td>343.4</td><td>0.0</td><td>0.0</td><td>0.0</td><td>0</td></tr><tr><td>2703448</td><td>2020-10-05</td><td>202010</td><td>91</td><td>0</td><td>1</td><td>0.0</td><td>0.0</td><td>2184.2</td><td>0.0</td><td>18.0</td><td>0</td></tr><tr><td>2703450</td><td>2020-10-05</td><td>202010</td><td>91</td><td>0</td><td>1</td><td>0.0</td><td>0.0</td><td>0.0</td><td>0.0</td><td>0.0</td><td>0</td></tr><tr><td>2703451</td><td>2020-10-05</td><td>202010</td><td>91</td><td>0</td><td>1</td><td>27500.0</td><td>27477.6</td><td>0.0</td><td>0.0</td><td>0.0</td><td>0</td></tr><tr><td>2703453</td><td>2020-10-05</td><td>202010</td><td>91</td><td>0</td><td>1</td><td>13454.0</td><td>13333.4</td><td>822.0</td><td>0.0</td><td>6.8</td><td>0</td></tr></tbody></table></div>"
     },
     "execution_count": 18,
     "metadata": {},
     "output_type": "execute_result"
    }
   ],
   "source": [
    "# df_train.filter(pl.col(\"case_id\") == 57633)\n",
    "# data.select(['case_id', 'num_group1', 'target']).filter(pl.col('num_group1').is_not_null())\n",
    "data.filter(pl.col('num_group1').is_not_null())\n",
    "# df_train.shape\n",
    "# data.filter(pl.col('amtdepositincoming_4809444A').is_not_null()).shape"
   ],
   "metadata": {
    "collapsed": false,
    "ExecuteTime": {
     "start_time": "2024-03-05T17:40:42.438607Z",
     "end_time": "2024-03-05T17:40:42.456439Z"
    }
   }
  },
  {
   "cell_type": "code",
   "execution_count": 13,
   "outputs": [],
   "source": [
    "data = data.sort('case_id', 'num_group1')"
   ],
   "metadata": {
    "collapsed": false,
    "ExecuteTime": {
     "start_time": "2024-03-05T17:38:36.436417Z",
     "end_time": "2024-03-05T17:38:36.514816Z"
    }
   }
  },
  {
   "cell_type": "code",
   "execution_count": 14,
   "outputs": [
    {
     "data": {
      "text/plain": "1526669"
     },
     "execution_count": 14,
     "metadata": {},
     "output_type": "execute_result"
    }
   ],
   "source": [
    "data['case_id'].n_unique()"
   ],
   "metadata": {
    "collapsed": false,
    "ExecuteTime": {
     "start_time": "2024-03-05T17:38:59.223411Z",
     "end_time": "2024-03-05T17:38:59.227168Z"
    }
   }
  },
  {
   "cell_type": "code",
   "execution_count": 19,
   "outputs": [],
   "source": [
    "class Aggregator:\n",
    "    @staticmethod\n",
    "    def num_expr(df):\n",
    "        cols = [col for col in df.columns if col[-1] in (\"P\", \"A\")]\n",
    "\n",
    "        expr_num = []\n",
    "        # expr_num.extend([pl.max(col).alias(f\"max_{col}\") for col in cols])\n",
    "        # expr_num.extend([pl.min(col).alias(f\"min_{col}\") for col in cols])\n",
    "        # expr_num.extend([pl.mean(col).alias(f\"mean_{col}\") for col in cols])\n",
    "        # expr_num.extend([pl.count(col).alias(f\"count_{col}\") for col in cols])\n",
    "        # expr_num.extend([pl.var(col).alias(f\"var_{col}\") for col in cols])\n",
    "        expr_num.extend([pl.last(col).alias(f\"last_{col}\") for col in cols])\n",
    "        # expr_num.extend([pl.first(col).alias(f\"first_{col}\") for col in cols])\n",
    "\n",
    "        return expr_num\n",
    "\n",
    "    @staticmethod\n",
    "    def date_expr(df):\n",
    "        cols = [col for col in df.columns if col[-1] in (\"D\",)]\n",
    "\n",
    "        expr_date = []\n",
    "        expr_date.extend([pl.max(col).alias(f\"max_{col}\") for col in cols])\n",
    "        expr_date.extend([pl.min(col).alias(f\"min_{col}\") for col in cols])\n",
    "\n",
    "        return expr_date\n",
    "\n",
    "    @staticmethod\n",
    "    def str_expr(df):\n",
    "        cols = [col for col in df.columns if col[-1] in (\"M\",)]\n",
    "        cols.remove('WEEK_NUM')\n",
    "\n",
    "        expr_str = []\n",
    "        expr_str.extend([pl.last(col).alias(f\"last_{col}\") for col in cols])\n",
    "        expr_str.extend([pl.first(col).alias(f\"first_{col}\") for col in cols])\n",
    "        expr_str.extend([pl.n_unique(col).alias(f\"n_unique_{col}\") for col in cols])\n",
    "\n",
    "        return expr_str\n",
    "\n",
    "    @staticmethod\n",
    "    def other_expr(df):\n",
    "        cols = [col for col in df.columns if col[-1] in (\"T\", \"L\")]\n",
    "\n",
    "        expr_other = []\n",
    "        expr_other.extend([pl.max(col).alias(f\"max_{col}\") for col in cols])\n",
    "        expr_other.extend([pl.min(col).alias(f\"min_{col}\") for col in cols])\n",
    "        expr_other.extend([pl.mean(col).alias(f\"mean_{col}\") for col in cols])\n",
    "        expr_other.extend([pl.var(col).alias(f\"var_{col}\") for col in cols])\n",
    "        expr_other.extend([pl.last(col).alias(f\"last_{col}\") for col in cols])\n",
    "        expr_other.extend([pl.first(col).alias(f\"first_{col}\") for col in cols])\n",
    "\n",
    "        return expr_other\n",
    "\n",
    "    @staticmethod\n",
    "    def count_expr(df):\n",
    "        cols = [col for col in df.columns if \"num_group\" in col]\n",
    "\n",
    "        expr_count = [pl.max(col).alias(f\"max_{col}\") for col in cols]\n",
    "\n",
    "        return expr_count\n",
    "\n",
    "    @staticmethod\n",
    "    def get_exprs(df):\n",
    "        exprs = Aggregator.num_expr(df) + \\\n",
    "                Aggregator.date_expr(df) + \\\n",
    "                Aggregator.str_expr(df) + \\\n",
    "                Aggregator.other_expr(df) + \\\n",
    "                Aggregator.count_expr(df)\n",
    "\n",
    "        return exprs"
   ],
   "metadata": {
    "collapsed": false,
    "ExecuteTime": {
     "start_time": "2024-03-05T17:42:09.368619Z",
     "end_time": "2024-03-05T17:42:09.375640Z"
    }
   }
  },
  {
   "cell_type": "code",
   "execution_count": 20,
   "outputs": [],
   "source": [
    "fea_agg = data.group_by(\"case_id\").agg(Aggregator.get_exprs(data))"
   ],
   "metadata": {
    "collapsed": false,
    "ExecuteTime": {
     "start_time": "2024-03-05T17:42:10.671038Z",
     "end_time": "2024-03-05T17:42:10.768068Z"
    }
   }
  },
  {
   "cell_type": "code",
   "execution_count": 21,
   "outputs": [
    {
     "data": {
      "text/plain": "(1526669, 7)"
     },
     "execution_count": 21,
     "metadata": {},
     "output_type": "execute_result"
    }
   ],
   "source": [
    "fea_agg.shape"
   ],
   "metadata": {
    "collapsed": false,
    "ExecuteTime": {
     "start_time": "2024-03-05T17:42:13.024951Z",
     "end_time": "2024-03-05T17:42:13.028979Z"
    }
   }
  },
  {
   "cell_type": "code",
   "execution_count": 22,
   "outputs": [
    {
     "data": {
      "text/plain": "shape: (20, 7)\n┌─────────┬──────────────┬──────────────┬──────────────┬──────────────┬──────────────┬─────────────┐\n│ case_id ┆ last_amtdebi ┆ last_amtdebi ┆ last_amtdepo ┆ last_amtdepo ┆ last_amtdepo ┆ max_num_gro │\n│ ---     ┆ tincoming_48 ┆ toutgoing_48 ┆ sitbalance_4 ┆ sitincoming_ ┆ sitoutgoing_ ┆ up1         │\n│ i64     ┆ 09443A       ┆ 09440A       ┆ 809441A      ┆ 4809444A     ┆ 4809442A     ┆ ---         │\n│         ┆ ---          ┆ ---          ┆ ---          ┆ ---          ┆ ---          ┆ i64         │\n│         ┆ f64          ┆ f64          ┆ f64          ┆ f64          ┆ f64          ┆             │\n╞═════════╪══════════════╪══════════════╪══════════════╪══════════════╪══════════════╪═════════════╡\n│ 0       ┆ null         ┆ null         ┆ null         ┆ null         ┆ null         ┆ null        │\n│ 1       ┆ null         ┆ null         ┆ null         ┆ null         ┆ null         ┆ null        │\n│ 2       ┆ null         ┆ null         ┆ null         ┆ null         ┆ null         ┆ null        │\n│ 3       ┆ null         ┆ null         ┆ null         ┆ null         ┆ null         ┆ null        │\n│ 4       ┆ null         ┆ null         ┆ null         ┆ null         ┆ null         ┆ null        │\n│ …       ┆ …            ┆ …            ┆ …            ┆ …            ┆ …            ┆ …           │\n│ 15      ┆ null         ┆ null         ┆ null         ┆ null         ┆ null         ┆ null        │\n│ 16      ┆ null         ┆ null         ┆ null         ┆ null         ┆ null         ┆ null        │\n│ 17      ┆ null         ┆ null         ┆ null         ┆ null         ┆ null         ┆ null        │\n│ 18      ┆ null         ┆ null         ┆ null         ┆ null         ┆ null         ┆ null        │\n│ 19      ┆ null         ┆ null         ┆ null         ┆ null         ┆ null         ┆ null        │\n└─────────┴──────────────┴──────────────┴──────────────┴──────────────┴──────────────┴─────────────┘",
      "text/html": "<div><style>\n.dataframe > thead > tr,\n.dataframe > tbody > tr {\n  text-align: right;\n  white-space: pre-wrap;\n}\n</style>\n<small>shape: (20, 7)</small><table border=\"1\" class=\"dataframe\"><thead><tr><th>case_id</th><th>last_amtdebitincoming_4809443A</th><th>last_amtdebitoutgoing_4809440A</th><th>last_amtdepositbalance_4809441A</th><th>last_amtdepositincoming_4809444A</th><th>last_amtdepositoutgoing_4809442A</th><th>max_num_group1</th></tr><tr><td>i64</td><td>f64</td><td>f64</td><td>f64</td><td>f64</td><td>f64</td><td>i64</td></tr></thead><tbody><tr><td>0</td><td>null</td><td>null</td><td>null</td><td>null</td><td>null</td><td>null</td></tr><tr><td>1</td><td>null</td><td>null</td><td>null</td><td>null</td><td>null</td><td>null</td></tr><tr><td>2</td><td>null</td><td>null</td><td>null</td><td>null</td><td>null</td><td>null</td></tr><tr><td>3</td><td>null</td><td>null</td><td>null</td><td>null</td><td>null</td><td>null</td></tr><tr><td>4</td><td>null</td><td>null</td><td>null</td><td>null</td><td>null</td><td>null</td></tr><tr><td>5</td><td>null</td><td>null</td><td>null</td><td>null</td><td>null</td><td>null</td></tr><tr><td>6</td><td>null</td><td>null</td><td>null</td><td>null</td><td>null</td><td>null</td></tr><tr><td>7</td><td>null</td><td>null</td><td>null</td><td>null</td><td>null</td><td>null</td></tr><tr><td>8</td><td>null</td><td>null</td><td>null</td><td>null</td><td>null</td><td>null</td></tr><tr><td>9</td><td>null</td><td>null</td><td>null</td><td>null</td><td>null</td><td>null</td></tr><tr><td>10</td><td>null</td><td>null</td><td>null</td><td>null</td><td>null</td><td>null</td></tr><tr><td>11</td><td>null</td><td>null</td><td>null</td><td>null</td><td>null</td><td>null</td></tr><tr><td>12</td><td>null</td><td>null</td><td>null</td><td>null</td><td>null</td><td>null</td></tr><tr><td>13</td><td>null</td><td>null</td><td>null</td><td>null</td><td>null</td><td>null</td></tr><tr><td>14</td><td>null</td><td>null</td><td>null</td><td>null</td><td>null</td><td>null</td></tr><tr><td>15</td><td>null</td><td>null</td><td>null</td><td>null</td><td>null</td><td>null</td></tr><tr><td>16</td><td>null</td><td>null</td><td>null</td><td>null</td><td>null</td><td>null</td></tr><tr><td>17</td><td>null</td><td>null</td><td>null</td><td>null</td><td>null</td><td>null</td></tr><tr><td>18</td><td>null</td><td>null</td><td>null</td><td>null</td><td>null</td><td>null</td></tr><tr><td>19</td><td>null</td><td>null</td><td>null</td><td>null</td><td>null</td><td>null</td></tr></tbody></table></div>"
     },
     "execution_count": 22,
     "metadata": {},
     "output_type": "execute_result"
    }
   ],
   "source": [
    "fea_agg.head(20)"
   ],
   "metadata": {
    "collapsed": false,
    "ExecuteTime": {
     "start_time": "2024-03-05T17:42:17.910163Z",
     "end_time": "2024-03-05T17:42:17.915750Z"
    }
   }
  },
  {
   "cell_type": "code",
   "execution_count": 23,
   "outputs": [],
   "source": [
    "data = data_base.join(fea_agg, how=\"left\", on=\"case_id\")"
   ],
   "metadata": {
    "collapsed": false,
    "ExecuteTime": {
     "start_time": "2024-03-05T17:42:24.360071Z",
     "end_time": "2024-03-05T17:42:24.445244Z"
    }
   }
  },
  {
   "cell_type": "code",
   "execution_count": 31,
   "outputs": [
    {
     "data": {
      "text/plain": "shape: (10, 12)\n┌─────────┬────────────┬────────┬──────────┬───┬────────────┬────────────┬────────────┬────────────┐\n│ case_id ┆ date_decis ┆ MONTH  ┆ WEEK_NUM ┆ … ┆ last_amtde ┆ last_amtde ┆ last_amtde ┆ max_num_gr │\n│ ---     ┆ ion        ┆ ---    ┆ ---      ┆   ┆ positbalan ┆ positincom ┆ positoutgo ┆ oup1       │\n│ i64     ┆ ---        ┆ i64    ┆ i64      ┆   ┆ ce_4809441 ┆ ing_480944 ┆ ing_480944 ┆ ---        │\n│         ┆ date       ┆        ┆          ┆   ┆ A          ┆ 4A         ┆ 2A         ┆ i64        │\n│         ┆            ┆        ┆          ┆   ┆ ---        ┆ ---        ┆ ---        ┆            │\n│         ┆            ┆        ┆          ┆   ┆ i32        ┆ i32        ┆ i32        ┆            │\n╞═════════╪════════════╪════════╪══════════╪═══╪════════════╪════════════╪════════════╪════════════╡\n│ 0       ┆ 2019-01-03 ┆ 201901 ┆ 0        ┆ … ┆ -1         ┆ -1         ┆ -1         ┆ null       │\n│ 1       ┆ 2019-01-03 ┆ 201901 ┆ 0        ┆ … ┆ -1         ┆ -1         ┆ -1         ┆ null       │\n│ 2       ┆ 2019-01-04 ┆ 201901 ┆ 0        ┆ … ┆ -1         ┆ -1         ┆ -1         ┆ null       │\n│ 3       ┆ 2019-01-03 ┆ 201901 ┆ 0        ┆ … ┆ -1         ┆ -1         ┆ -1         ┆ null       │\n│ 4       ┆ 2019-01-04 ┆ 201901 ┆ 0        ┆ … ┆ -1         ┆ -1         ┆ -1         ┆ null       │\n│ 5       ┆ 2019-01-02 ┆ 201901 ┆ 0        ┆ … ┆ -1         ┆ -1         ┆ -1         ┆ null       │\n│ 6       ┆ 2019-01-03 ┆ 201901 ┆ 0        ┆ … ┆ -1         ┆ -1         ┆ -1         ┆ null       │\n│ 7       ┆ 2019-01-03 ┆ 201901 ┆ 0        ┆ … ┆ -1         ┆ -1         ┆ -1         ┆ null       │\n│ 8       ┆ 2019-01-03 ┆ 201901 ┆ 0        ┆ … ┆ -1         ┆ -1         ┆ -1         ┆ null       │\n│ 9       ┆ 2019-01-03 ┆ 201901 ┆ 0        ┆ … ┆ -1         ┆ -1         ┆ -1         ┆ null       │\n└─────────┴────────────┴────────┴──────────┴───┴────────────┴────────────┴────────────┴────────────┘",
      "text/html": "<div><style>\n.dataframe > thead > tr,\n.dataframe > tbody > tr {\n  text-align: right;\n  white-space: pre-wrap;\n}\n</style>\n<small>shape: (10, 12)</small><table border=\"1\" class=\"dataframe\"><thead><tr><th>case_id</th><th>date_decision</th><th>MONTH</th><th>WEEK_NUM</th><th>target</th><th>IS_TRAIN</th><th>last_amtdebitincoming_4809443A</th><th>last_amtdebitoutgoing_4809440A</th><th>last_amtdepositbalance_4809441A</th><th>last_amtdepositincoming_4809444A</th><th>last_amtdepositoutgoing_4809442A</th><th>max_num_group1</th></tr><tr><td>i64</td><td>date</td><td>i64</td><td>i64</td><td>i64</td><td>i32</td><td>i32</td><td>i32</td><td>i32</td><td>i32</td><td>i32</td><td>i64</td></tr></thead><tbody><tr><td>0</td><td>2019-01-03</td><td>201901</td><td>0</td><td>0</td><td>1</td><td>-1</td><td>-1</td><td>-1</td><td>-1</td><td>-1</td><td>null</td></tr><tr><td>1</td><td>2019-01-03</td><td>201901</td><td>0</td><td>0</td><td>1</td><td>-1</td><td>-1</td><td>-1</td><td>-1</td><td>-1</td><td>null</td></tr><tr><td>2</td><td>2019-01-04</td><td>201901</td><td>0</td><td>0</td><td>1</td><td>-1</td><td>-1</td><td>-1</td><td>-1</td><td>-1</td><td>null</td></tr><tr><td>3</td><td>2019-01-03</td><td>201901</td><td>0</td><td>0</td><td>1</td><td>-1</td><td>-1</td><td>-1</td><td>-1</td><td>-1</td><td>null</td></tr><tr><td>4</td><td>2019-01-04</td><td>201901</td><td>0</td><td>1</td><td>1</td><td>-1</td><td>-1</td><td>-1</td><td>-1</td><td>-1</td><td>null</td></tr><tr><td>5</td><td>2019-01-02</td><td>201901</td><td>0</td><td>0</td><td>1</td><td>-1</td><td>-1</td><td>-1</td><td>-1</td><td>-1</td><td>null</td></tr><tr><td>6</td><td>2019-01-03</td><td>201901</td><td>0</td><td>0</td><td>1</td><td>-1</td><td>-1</td><td>-1</td><td>-1</td><td>-1</td><td>null</td></tr><tr><td>7</td><td>2019-01-03</td><td>201901</td><td>0</td><td>0</td><td>1</td><td>-1</td><td>-1</td><td>-1</td><td>-1</td><td>-1</td><td>null</td></tr><tr><td>8</td><td>2019-01-03</td><td>201901</td><td>0</td><td>0</td><td>1</td><td>-1</td><td>-1</td><td>-1</td><td>-1</td><td>-1</td><td>null</td></tr><tr><td>9</td><td>2019-01-03</td><td>201901</td><td>0</td><td>0</td><td>1</td><td>-1</td><td>-1</td><td>-1</td><td>-1</td><td>-1</td><td>null</td></tr></tbody></table></div>"
     },
     "execution_count": 31,
     "metadata": {},
     "output_type": "execute_result"
    }
   ],
   "source": [
    "data.head(10)"
   ],
   "metadata": {
    "collapsed": false,
    "ExecuteTime": {
     "start_time": "2024-03-05T17:46:07.558663Z",
     "end_time": "2024-03-05T17:46:07.572943Z"
    }
   }
  },
  {
   "cell_type": "code",
   "execution_count": 25,
   "outputs": [],
   "source": [
    "data = data.with_columns( pl.when(data['last_amtdebitincoming_4809443A'].is_null()).then(-1).alias('last_amtdebitincoming_4809443A') )"
   ],
   "metadata": {
    "collapsed": false,
    "ExecuteTime": {
     "start_time": "2024-03-05T17:44:14.705724Z",
     "end_time": "2024-03-05T17:44:14.718597Z"
    }
   }
  },
  {
   "cell_type": "code",
   "execution_count": 27,
   "outputs": [],
   "source": [
    "data = data.with_columns( pl.when(data['last_amtdebitoutgoing_4809440A'].is_null()).then(-1).alias('last_amtdebitoutgoing_4809440A') )"
   ],
   "metadata": {
    "collapsed": false,
    "ExecuteTime": {
     "start_time": "2024-03-05T17:45:05.604909Z",
     "end_time": "2024-03-05T17:45:05.616941Z"
    }
   }
  },
  {
   "cell_type": "code",
   "execution_count": 28,
   "outputs": [],
   "source": [
    "data = data.with_columns( pl.when(data['last_amtdepositbalance_4809441A'].is_null()).then(-1).alias('last_amtdepositbalance_4809441A') )"
   ],
   "metadata": {
    "collapsed": false,
    "ExecuteTime": {
     "start_time": "2024-03-05T17:45:25.895769Z",
     "end_time": "2024-03-05T17:45:25.912577Z"
    }
   }
  },
  {
   "cell_type": "code",
   "execution_count": 29,
   "outputs": [],
   "source": [
    "data = data.with_columns( pl.when(data['last_amtdepositincoming_4809444A'].is_null()).then(-1).alias('last_amtdepositincoming_4809444A') )"
   ],
   "metadata": {
    "collapsed": false,
    "ExecuteTime": {
     "start_time": "2024-03-05T17:45:46.153105Z",
     "end_time": "2024-03-05T17:45:46.168939Z"
    }
   }
  },
  {
   "cell_type": "code",
   "execution_count": 30,
   "outputs": [],
   "source": [
    "data = data.with_columns( pl.when(data['last_amtdepositoutgoing_4809442A'].is_null()).then(-1).alias('last_amtdepositoutgoing_4809442A') )"
   ],
   "metadata": {
    "collapsed": false,
    "ExecuteTime": {
     "start_time": "2024-03-05T17:46:05.126695Z",
     "end_time": "2024-03-05T17:46:05.137753Z"
    }
   }
  },
  {
   "cell_type": "code",
   "execution_count": 25,
   "outputs": [],
   "source": [
    "# def filter_cols(df):\n",
    "#     dt_train = df.filter(pl.col('IS_TRAIN') == 1)\n",
    "#     for col in df.columns:\n",
    "#         if col not in [\"case_id\", \"WEEK_NUM\", \"date_decision\", \"MONTH\", \"IS_TRAIN\", \"target\"]:\n",
    "#             isnull = dt_train[col].is_null().mean()\n",
    "#\n",
    "#             if isnull > 0.95:\n",
    "#                 print(f'col [{col}] to be null dropped...')\n",
    "#                 num_positive = dt_train.filter(pl.col(col).is_not_null() & pl.col(\"target\") == 1).shape[0]\n",
    "#                 if num_positive < 1000:\n",
    "#                     df = df.drop(col)\n",
    "#                     print(f'col [{col}] null dropped...')\n",
    "#\n",
    "#     for col in df.columns:\n",
    "#         if (col not in [\"case_id\", \"WEEK_NUM\", \"date_decision\", \"MONTH\", \"IS_TRAIN\", \"target\"]) & (df[col].dtype == pl.String):\n",
    "#             freq = dt_train[col].n_unique()\n",
    "#\n",
    "#             if freq == 1:\n",
    "#                 df = df.drop(col)\n",
    "#                 print(f'col [{col}] freq dropped...')\n",
    "#\n",
    "#     return df"
   ],
   "metadata": {
    "collapsed": false
   }
  },
  {
   "cell_type": "code",
   "execution_count": 26,
   "outputs": [
    {
     "name": "stdout",
     "output_type": "stream",
     "text": [
      "col [mean_last180dayaveragebalance_704A] to be null dropped...\n",
      "col [mean_last180dayaveragebalance_704A] null dropped...\n",
      "col [mean_last180dayturnover_1134A] to be null dropped...\n",
      "col [mean_last180dayturnover_1134A] null dropped...\n",
      "col [mean_last30dayturnover_651A] to be null dropped...\n",
      "col [mean_last30dayturnover_651A] null dropped...\n",
      "col [mean_last30dayturnover_651A_minus_last180dayturnover_1134A] to be null dropped...\n",
      "col [mean_last30dayturnover_651A_minus_last180dayturnover_1134A] null dropped...\n",
      "col [mean_last30dayturnover_651A_div_last180dayturnover_1134A] to be null dropped...\n",
      "col [mean_last30dayturnover_651A_div_last180dayturnover_1134A] null dropped...\n",
      "col [mean_last180dayaveragebalance_704A_minus_last180dayturnover_1134A] to be null dropped...\n",
      "col [mean_last180dayaveragebalance_704A_minus_last180dayturnover_1134A] null dropped...\n",
      "col [mean_last180dayaveragebalance_704A_div_last180dayturnover_1134A] to be null dropped...\n",
      "col [mean_last180dayaveragebalance_704A_div_last180dayturnover_1134A] null dropped...\n",
      "col [last_last180dayaveragebalance_704A] to be null dropped...\n",
      "col [last_last180dayaveragebalance_704A] null dropped...\n",
      "col [last_last180dayturnover_1134A] to be null dropped...\n",
      "col [last_last180dayturnover_1134A] null dropped...\n",
      "col [last_last30dayturnover_651A] to be null dropped...\n",
      "col [last_last30dayturnover_651A] null dropped...\n",
      "col [last_last30dayturnover_651A_minus_last180dayturnover_1134A] to be null dropped...\n",
      "col [last_last30dayturnover_651A_minus_last180dayturnover_1134A] null dropped...\n",
      "col [last_last30dayturnover_651A_div_last180dayturnover_1134A] to be null dropped...\n",
      "col [last_last30dayturnover_651A_div_last180dayturnover_1134A] null dropped...\n",
      "col [last_last180dayaveragebalance_704A_minus_last180dayturnover_1134A] to be null dropped...\n",
      "col [last_last180dayaveragebalance_704A_minus_last180dayturnover_1134A] null dropped...\n",
      "col [last_last180dayaveragebalance_704A_div_last180dayturnover_1134A] to be null dropped...\n",
      "col [last_last180dayaveragebalance_704A_div_last180dayturnover_1134A] null dropped...\n",
      "col [first_last180dayaveragebalance_704A] to be null dropped...\n",
      "col [first_last180dayaveragebalance_704A] null dropped...\n",
      "col [first_last180dayturnover_1134A] to be null dropped...\n",
      "col [first_last180dayturnover_1134A] null dropped...\n",
      "col [first_last30dayturnover_651A] to be null dropped...\n",
      "col [first_last30dayturnover_651A] null dropped...\n",
      "col [first_last30dayturnover_651A_minus_last180dayturnover_1134A] to be null dropped...\n",
      "col [first_last30dayturnover_651A_minus_last180dayturnover_1134A] null dropped...\n",
      "col [first_last30dayturnover_651A_div_last180dayturnover_1134A] to be null dropped...\n",
      "col [first_last30dayturnover_651A_div_last180dayturnover_1134A] null dropped...\n",
      "col [first_last180dayaveragebalance_704A_minus_last180dayturnover_1134A] to be null dropped...\n",
      "col [first_last180dayaveragebalance_704A_minus_last180dayturnover_1134A] null dropped...\n",
      "col [first_last180dayaveragebalance_704A_div_last180dayturnover_1134A] to be null dropped...\n",
      "col [first_last180dayaveragebalance_704A_div_last180dayturnover_1134A] null dropped...\n"
     ]
    }
   ],
   "source": [
    "# data = data.pipe(filter_cols)"
   ],
   "metadata": {
    "collapsed": false,
    "ExecuteTime": {
     "start_time": "2024-03-05T16:20:11.133154Z",
     "end_time": "2024-03-05T16:20:11.774967Z"
    }
   }
  },
  {
   "cell_type": "code",
   "execution_count": 32,
   "outputs": [
    {
     "data": {
      "text/plain": "(1526669, 12)"
     },
     "execution_count": 32,
     "metadata": {},
     "output_type": "execute_result"
    }
   ],
   "source": [
    "data.shape"
   ],
   "metadata": {
    "collapsed": false,
    "ExecuteTime": {
     "start_time": "2024-03-05T17:46:22.659446Z",
     "end_time": "2024-03-05T17:46:22.665156Z"
    }
   }
  },
  {
   "cell_type": "code",
   "execution_count": 61,
   "outputs": [],
   "source": [
    "# def handle_date(df):\n",
    "#     for col in df.columns:\n",
    "#         if col[-1] in (\"D\",) and df[col].dtype == pl.Date:\n",
    "#             print(f'col [{col}] is date...')\n",
    "#             df = df.with_columns(pl.col(col) - pl.col(\"date_decision\"))\n",
    "#             df = df.with_columns(pl.col(col).dt.total_days())\n",
    "#\n",
    "#     # df = df.drop(\"date_decision\", \"MONTH\")\n",
    "#     return df\n",
    "#\n",
    "#\n",
    "# def handle_category(df):\n",
    "#     dt_train = df.filter(pl.col('IS_TRAIN') == 1)\n",
    "#     cols_list = df.columns\n",
    "#     for col in cols_list:\n",
    "#         if ((col[-1] in (\"M\",)) and ('WEEK_NUM' not in col) and (not col.startswith('n_unique'))) \\\n",
    "#                 or (col[-1] in (\"L\", \"P\") and (df[col].dtype == pl.String)):\n",
    "#             freq = dt_train[col].n_unique()\n",
    "#             if freq <= 10:\n",
    "#                 print(f'col [{col}] one hot encoded...')\n",
    "#                 encoder = OneHotEncoder(cols=[col], handle_unknown='indicator', handle_missing='indicator', use_cat_names=True)\n",
    "#                 encoder.fit(dt_train[col].to_pandas())\n",
    "#                 res_df = pl.from_pandas(encoder.transform(df[col].to_pandas()))\n",
    "#                 df = pl.concat([df, res_df], how=\"horizontal\")\n",
    "#                 df = df.drop(col)\n",
    "#             else:\n",
    "#                 print(f'col [{col}] target encoded...')\n",
    "#                 encoder = TargetEncoder(cols=[col], handle_unknown='value', handle_missing='value') \\\n",
    "#                             .fit(dt_train[col].to_pandas(), dt_train['target'].to_pandas())\n",
    "#                 df = df.with_columns(pl.from_pandas(encoder.transform(df[col].to_pandas())).to_series().alias(col + '_target_encoder'))\n",
    "#                 df = df.drop(col)\n",
    "#\n",
    "#     return df"
   ],
   "metadata": {
    "collapsed": false,
    "ExecuteTime": {
     "start_time": "2024-03-05T17:01:18.629496Z",
     "end_time": "2024-03-05T17:01:18.633457Z"
    }
   }
  },
  {
   "cell_type": "code",
   "execution_count": 29,
   "outputs": [],
   "source": [
    "# data = data.pipe(handle_category)"
   ],
   "metadata": {
    "collapsed": false,
    "ExecuteTime": {
     "start_time": "2024-03-05T16:20:48.391930Z",
     "end_time": "2024-03-05T16:20:48.497078Z"
    }
   }
  },
  {
   "cell_type": "code",
   "execution_count": 62,
   "outputs": [
    {
     "name": "stdout",
     "output_type": "stream",
     "text": [
      "col [max_openingdate_857D] is date...\n",
      "col [min_openingdate_857D] is date...\n"
     ]
    }
   ],
   "source": [
    "# data = data.pipe(handle_date)"
   ],
   "metadata": {
    "collapsed": false,
    "ExecuteTime": {
     "start_time": "2024-03-05T17:01:23.477879Z",
     "end_time": "2024-03-05T17:01:23.538954Z"
    }
   }
  },
  {
   "cell_type": "code",
   "execution_count": 35,
   "outputs": [
    {
     "data": {
      "text/plain": "shape: (10, 8)\n┌─────────┬──────────┬────────────┬────────────┬────────────┬────────────┬────────────┬────────────┐\n│ case_id ┆ IS_TRAIN ┆ last_amtde ┆ last_amtde ┆ last_amtde ┆ last_amtde ┆ last_amtde ┆ max_num_gr │\n│ ---     ┆ ---      ┆ bitincomin ┆ bitoutgoin ┆ positbalan ┆ positincom ┆ positoutgo ┆ oup1       │\n│ i64     ┆ i32      ┆ g_4809443A ┆ g_4809440A ┆ ce_4809441 ┆ ing_480944 ┆ ing_480944 ┆ ---        │\n│         ┆          ┆ ---        ┆ ---        ┆ A          ┆ 4A         ┆ 2A         ┆ i64        │\n│         ┆          ┆ i32        ┆ i32        ┆ ---        ┆ ---        ┆ ---        ┆            │\n│         ┆          ┆            ┆            ┆ i32        ┆ i32        ┆ i32        ┆            │\n╞═════════╪══════════╪════════════╪════════════╪════════════╪════════════╪════════════╪════════════╡\n│ 0       ┆ 1        ┆ -1         ┆ -1         ┆ -1         ┆ -1         ┆ -1         ┆ null       │\n│ 1       ┆ 1        ┆ -1         ┆ -1         ┆ -1         ┆ -1         ┆ -1         ┆ null       │\n│ 2       ┆ 1        ┆ -1         ┆ -1         ┆ -1         ┆ -1         ┆ -1         ┆ null       │\n│ 3       ┆ 1        ┆ -1         ┆ -1         ┆ -1         ┆ -1         ┆ -1         ┆ null       │\n│ 4       ┆ 1        ┆ -1         ┆ -1         ┆ -1         ┆ -1         ┆ -1         ┆ null       │\n│ 5       ┆ 1        ┆ -1         ┆ -1         ┆ -1         ┆ -1         ┆ -1         ┆ null       │\n│ 6       ┆ 1        ┆ -1         ┆ -1         ┆ -1         ┆ -1         ┆ -1         ┆ null       │\n│ 7       ┆ 1        ┆ -1         ┆ -1         ┆ -1         ┆ -1         ┆ -1         ┆ null       │\n│ 8       ┆ 1        ┆ -1         ┆ -1         ┆ -1         ┆ -1         ┆ -1         ┆ null       │\n│ 9       ┆ 1        ┆ -1         ┆ -1         ┆ -1         ┆ -1         ┆ -1         ┆ null       │\n└─────────┴──────────┴────────────┴────────────┴────────────┴────────────┴────────────┴────────────┘",
      "text/html": "<div><style>\n.dataframe > thead > tr,\n.dataframe > tbody > tr {\n  text-align: right;\n  white-space: pre-wrap;\n}\n</style>\n<small>shape: (10, 8)</small><table border=\"1\" class=\"dataframe\"><thead><tr><th>case_id</th><th>IS_TRAIN</th><th>last_amtdebitincoming_4809443A</th><th>last_amtdebitoutgoing_4809440A</th><th>last_amtdepositbalance_4809441A</th><th>last_amtdepositincoming_4809444A</th><th>last_amtdepositoutgoing_4809442A</th><th>max_num_group1</th></tr><tr><td>i64</td><td>i32</td><td>i32</td><td>i32</td><td>i32</td><td>i32</td><td>i32</td><td>i64</td></tr></thead><tbody><tr><td>0</td><td>1</td><td>-1</td><td>-1</td><td>-1</td><td>-1</td><td>-1</td><td>null</td></tr><tr><td>1</td><td>1</td><td>-1</td><td>-1</td><td>-1</td><td>-1</td><td>-1</td><td>null</td></tr><tr><td>2</td><td>1</td><td>-1</td><td>-1</td><td>-1</td><td>-1</td><td>-1</td><td>null</td></tr><tr><td>3</td><td>1</td><td>-1</td><td>-1</td><td>-1</td><td>-1</td><td>-1</td><td>null</td></tr><tr><td>4</td><td>1</td><td>-1</td><td>-1</td><td>-1</td><td>-1</td><td>-1</td><td>null</td></tr><tr><td>5</td><td>1</td><td>-1</td><td>-1</td><td>-1</td><td>-1</td><td>-1</td><td>null</td></tr><tr><td>6</td><td>1</td><td>-1</td><td>-1</td><td>-1</td><td>-1</td><td>-1</td><td>null</td></tr><tr><td>7</td><td>1</td><td>-1</td><td>-1</td><td>-1</td><td>-1</td><td>-1</td><td>null</td></tr><tr><td>8</td><td>1</td><td>-1</td><td>-1</td><td>-1</td><td>-1</td><td>-1</td><td>null</td></tr><tr><td>9</td><td>1</td><td>-1</td><td>-1</td><td>-1</td><td>-1</td><td>-1</td><td>null</td></tr></tbody></table></div>"
     },
     "execution_count": 35,
     "metadata": {},
     "output_type": "execute_result"
    }
   ],
   "source": [
    "data.head(10)"
   ],
   "metadata": {
    "collapsed": false,
    "ExecuteTime": {
     "start_time": "2024-03-05T17:46:45.664235Z",
     "end_time": "2024-03-05T17:46:45.673208Z"
    }
   }
  },
  {
   "cell_type": "code",
   "execution_count": 34,
   "outputs": [],
   "source": [
    "data = data.drop('date_decision', 'MONTH', 'WEEK_NUM', 'target')"
   ],
   "metadata": {
    "collapsed": false,
    "ExecuteTime": {
     "start_time": "2024-03-05T17:46:43.687964Z",
     "end_time": "2024-03-05T17:46:43.693790Z"
    }
   }
  },
  {
   "cell_type": "code",
   "execution_count": 36,
   "outputs": [
    {
     "data": {
      "text/plain": "(1526669, 8)"
     },
     "execution_count": 36,
     "metadata": {},
     "output_type": "execute_result"
    }
   ],
   "source": [
    "data.shape"
   ],
   "metadata": {
    "collapsed": false,
    "ExecuteTime": {
     "start_time": "2024-03-05T17:46:49.227667Z",
     "end_time": "2024-03-05T17:46:49.232874Z"
    }
   }
  },
  {
   "cell_type": "code",
   "execution_count": 37,
   "outputs": [],
   "source": [
    "preprocess_dir_path = \"/Users/sophie/workspace/data/kaggle/home-credit-credit-risk-model-stability/preprocess\"\n",
    "preprocess_file = 'other_1.parquet'\n",
    "preprocess_file_path = Path(os.path.join(preprocess_dir_path, preprocess_file))\n",
    "data.write_parquet(preprocess_file_path)"
   ],
   "metadata": {
    "collapsed": false,
    "ExecuteTime": {
     "start_time": "2024-03-05T17:47:22.293627Z",
     "end_time": "2024-03-05T17:47:22.435477Z"
    }
   }
  },
  {
   "cell_type": "code",
   "execution_count": null,
   "outputs": [],
   "source": [],
   "metadata": {
    "collapsed": false
   }
  }
 ],
 "metadata": {
  "kernelspec": {
   "display_name": "Python 3",
   "language": "python",
   "name": "python3"
  },
  "language_info": {
   "codemirror_mode": {
    "name": "ipython",
    "version": 2
   },
   "file_extension": ".py",
   "mimetype": "text/x-python",
   "name": "python",
   "nbconvert_exporter": "python",
   "pygments_lexer": "ipython2",
   "version": "2.7.6"
  }
 },
 "nbformat": 4,
 "nbformat_minor": 0
}
