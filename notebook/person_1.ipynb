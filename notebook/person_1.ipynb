{
 "cells": [
  {
   "cell_type": "code",
   "execution_count": 1,
   "metadata": {
    "collapsed": true,
    "ExecuteTime": {
     "start_time": "2024-03-05T17:48:43.434161Z",
     "end_time": "2024-03-05T17:48:44.385719Z"
    }
   },
   "outputs": [],
   "source": [
    "import warnings\n",
    "import os\n",
    "from glob import glob\n",
    "from pathlib import Path\n",
    "import operator\n",
    "\n",
    "import pandas as pd\n",
    "import polars as pl\n",
    "import polars.selectors as cs\n",
    "from sklearn import preprocessing\n",
    "from category_encoders import OneHotEncoder\n",
    "from category_encoders.target_encoder import TargetEncoder\n",
    "\n",
    "pd.set_option('display.float_format',lambda x : '%.6f' % x)\n",
    "warnings.filterwarnings('ignore')"
   ]
  },
  {
   "cell_type": "code",
   "execution_count": 2,
   "outputs": [],
   "source": [
    "def set_table_dtypes(df):\n",
    "    for col in df.columns:\n",
    "        if col in [\"case_id\", \"WEEK_NUM\", \"num_group1\", \"num_group2\", \"target\"]:\n",
    "            df = df.with_columns(pl.col(col).cast(pl.Int64))\n",
    "        elif col in [\"date_decision\"]:\n",
    "            df = df.with_columns(pl.col(col).cast(pl.Date))\n",
    "        elif col[-1] in (\"P\", \"A\"):\n",
    "            df = df.with_columns(pl.col(col).cast(pl.Float64))\n",
    "        elif col[-1] in (\"M\",):\n",
    "            df = df.with_columns(pl.col(col).cast(pl.String))\n",
    "        elif col[-1] in (\"D\",):\n",
    "            df = df.with_columns(pl.col(col).cast(pl.Date))\n",
    "\n",
    "    return df"
   ],
   "metadata": {
    "collapsed": false,
    "ExecuteTime": {
     "start_time": "2024-03-05T17:48:47.635504Z",
     "end_time": "2024-03-05T17:48:47.647157Z"
    }
   }
  },
  {
   "cell_type": "code",
   "execution_count": 3,
   "outputs": [],
   "source": [
    "def read_file(path, depth=None):\n",
    "    df = pl.read_parquet(path)\n",
    "    df = df.pipe(set_table_dtypes)\n",
    "    return df\n",
    "\n",
    "def read_files(regex_path, depth=None):\n",
    "    chunks = []\n",
    "    for path in glob(str(regex_path)):\n",
    "        chunks.append(pl.read_parquet(path).pipe(set_table_dtypes))\n",
    "\n",
    "    df = pl.concat(chunks, how=\"vertical_relaxed\")\n",
    "    return df"
   ],
   "metadata": {
    "collapsed": false,
    "ExecuteTime": {
     "start_time": "2024-03-05T17:48:50.983500Z",
     "end_time": "2024-03-05T17:48:50.995313Z"
    }
   }
  },
  {
   "cell_type": "code",
   "execution_count": 4,
   "outputs": [],
   "source": [
    "train_dir_path = \"/Users/sophie/workspace/data/kaggle/home-credit-credit-risk-model-stability/parquet_files/train\"\n",
    "test_dir_path = \"/Users/sophie/workspace/data/kaggle/home-credit-credit-risk-model-stability/parquet_files/test\"\n",
    "train_file = 'train_person_1.parquet'\n",
    "test_file = 'test_person_1.parquet'\n",
    "train_file_path = Path(os.path.join(train_dir_path, train_file))\n",
    "test_file_path = Path(os.path.join(test_dir_path, test_file))\n",
    "\n",
    "target_file = 'train_base.parquet'\n",
    "target_file_path = Path(os.path.join(train_dir_path, target_file))\n",
    "target_file_test = 'test_base.parquet'\n",
    "target_file_test_path = Path(os.path.join(test_dir_path, target_file_test))"
   ],
   "metadata": {
    "collapsed": false,
    "ExecuteTime": {
     "start_time": "2024-03-05T17:49:20.486258Z",
     "end_time": "2024-03-05T17:49:20.489662Z"
    }
   }
  },
  {
   "cell_type": "code",
   "execution_count": 5,
   "outputs": [],
   "source": [
    "df_base_train = read_file(target_file_path)\n",
    "df_base_train = df_base_train.with_columns(IS_TRAIN = pl.lit(1))\n",
    "df_train = read_file(train_file_path)\n",
    "df_train = df_base_train.join(df_train, how=\"left\", on=\"case_id\")"
   ],
   "metadata": {
    "collapsed": false,
    "ExecuteTime": {
     "start_time": "2024-03-05T17:49:21.450193Z",
     "end_time": "2024-03-05T17:49:23.575905Z"
    }
   }
  },
  {
   "cell_type": "code",
   "execution_count": 6,
   "outputs": [],
   "source": [
    "df_base_test = read_file(target_file_test_path)\n",
    "df_base_test = df_base_test.with_columns(target = None)\n",
    "df_base_test = df_base_test.with_columns(IS_TRAIN = pl.lit(0))\n",
    "df_test = read_file(test_file_path)\n",
    "df_test = df_base_test.join(df_test, how=\"left\", on=\"case_id\")"
   ],
   "metadata": {
    "collapsed": false,
    "ExecuteTime": {
     "start_time": "2024-03-05T17:49:25.158590Z",
     "end_time": "2024-03-05T17:49:25.182003Z"
    }
   }
  },
  {
   "cell_type": "code",
   "execution_count": 7,
   "outputs": [],
   "source": [
    "data = pl.concat([df_train, df_test], how=\"vertical_relaxed\")"
   ],
   "metadata": {
    "collapsed": false,
    "ExecuteTime": {
     "start_time": "2024-03-05T17:49:26.953907Z",
     "end_time": "2024-03-05T17:49:27.902408Z"
    }
   }
  },
  {
   "cell_type": "code",
   "execution_count": 8,
   "outputs": [],
   "source": [
    "data_base = pl.concat([df_base_train, df_base_test], how=\"vertical_relaxed\")"
   ],
   "metadata": {
    "collapsed": false,
    "ExecuteTime": {
     "start_time": "2024-03-05T17:49:28.707846Z",
     "end_time": "2024-03-05T17:49:28.741182Z"
    }
   }
  },
  {
   "cell_type": "code",
   "execution_count": 28,
   "outputs": [],
   "source": [
    "del df_train, df_test"
   ],
   "metadata": {
    "collapsed": false,
    "ExecuteTime": {
     "start_time": "2024-03-04T15:29:57.636722Z",
     "end_time": "2024-03-04T15:29:57.638784Z"
    }
   }
  },
  {
   "cell_type": "code",
   "execution_count": 9,
   "outputs": [
    {
     "data": {
      "text/plain": "(2974008, 42)"
     },
     "execution_count": 9,
     "metadata": {},
     "output_type": "execute_result"
    }
   ],
   "source": [
    "data.shape"
   ],
   "metadata": {
    "collapsed": false,
    "ExecuteTime": {
     "start_time": "2024-03-05T17:49:31.638255Z",
     "end_time": "2024-03-05T17:49:31.643671Z"
    }
   }
  },
  {
   "cell_type": "code",
   "execution_count": 14,
   "outputs": [
    {
     "data": {
      "text/plain": "shape: (100, 42)\n┌─────────┬─────────────┬────────┬──────────┬───┬───────────┬─────────────┬──────────┬─────────────┐\n│ case_id ┆ date_decisi ┆ MONTH  ┆ WEEK_NUM ┆ … ┆ role_993L ┆ safeguarant ┆ sex_738L ┆ type_25L    │\n│ ---     ┆ on          ┆ ---    ┆ ---      ┆   ┆ ---       ┆ yflag_411L  ┆ ---      ┆ ---         │\n│ i64     ┆ ---         ┆ i64    ┆ i64      ┆   ┆ str       ┆ ---         ┆ str      ┆ str         │\n│         ┆ date        ┆        ┆          ┆   ┆           ┆ bool        ┆          ┆             │\n╞═════════╪═════════════╪════════╪══════════╪═══╪═══════════╪═════════════╪══════════╪═════════════╡\n│ 0       ┆ 2019-01-03  ┆ 201901 ┆ 0        ┆ … ┆ null      ┆ true        ┆ F        ┆ PRIMARY_MOB │\n│         ┆             ┆        ┆          ┆   ┆           ┆             ┆          ┆ ILE         │\n│ 0       ┆ 2019-01-03  ┆ 201901 ┆ 0        ┆ … ┆ null      ┆ null        ┆ null     ┆ PHONE       │\n│ 0       ┆ 2019-01-03  ┆ 201901 ┆ 0        ┆ … ┆ null      ┆ null        ┆ null     ┆ PHONE       │\n│ 0       ┆ 2019-01-03  ┆ 201901 ┆ 0        ┆ … ┆ null      ┆ null        ┆ null     ┆ PHONE       │\n│ 1       ┆ 2019-01-03  ┆ 201901 ┆ 0        ┆ … ┆ null      ┆ true        ┆ M        ┆ PRIMARY_MOB │\n│         ┆             ┆        ┆          ┆   ┆           ┆             ┆          ┆ ILE         │\n│ …       ┆ …           ┆ …      ┆ …        ┆ … ┆ …         ┆ …           ┆ …        ┆ …           │\n│ 25      ┆ 2019-01-03  ┆ 201901 ┆ 0        ┆ … ┆ null      ┆ null        ┆ null     ┆ PRIMARY_MOB │\n│         ┆             ┆        ┆          ┆   ┆           ┆             ┆          ┆ ILE         │\n│ 25      ┆ 2019-01-03  ┆ 201901 ┆ 0        ┆ … ┆ null      ┆ null        ┆ null     ┆ PHONE       │\n│ 25      ┆ 2019-01-03  ┆ 201901 ┆ 0        ┆ … ┆ null      ┆ null        ┆ null     ┆ PHONE       │\n│ 26      ┆ 2019-01-03  ┆ 201901 ┆ 0        ┆ … ┆ null      ┆ true        ┆ M        ┆ PRIMARY_MOB │\n│         ┆             ┆        ┆          ┆   ┆           ┆             ┆          ┆ ILE         │\n│ 26      ┆ 2019-01-03  ┆ 201901 ┆ 0        ┆ … ┆ null      ┆ null        ┆ null     ┆ PHONE       │\n└─────────┴─────────────┴────────┴──────────┴───┴───────────┴─────────────┴──────────┴─────────────┘",
      "text/html": "<div><style>\n.dataframe > thead > tr,\n.dataframe > tbody > tr {\n  text-align: right;\n  white-space: pre-wrap;\n}\n</style>\n<small>shape: (100, 42)</small><table border=\"1\" class=\"dataframe\"><thead><tr><th>case_id</th><th>date_decision</th><th>MONTH</th><th>WEEK_NUM</th><th>target</th><th>IS_TRAIN</th><th>birth_259D</th><th>birthdate_87D</th><th>childnum_185L</th><th>contaddr_district_15M</th><th>contaddr_matchlist_1032L</th><th>contaddr_smempladdr_334L</th><th>contaddr_zipcode_807M</th><th>education_927M</th><th>empl_employedfrom_271D</th><th>empl_employedtotal_800L</th><th>empl_industry_691L</th><th>empladdr_district_926M</th><th>empladdr_zipcode_114M</th><th>familystate_447L</th><th>gender_992L</th><th>housetype_905L</th><th>housingtype_772L</th><th>incometype_1044T</th><th>isreference_387L</th><th>language1_981M</th><th>mainoccupationinc_384A</th><th>maritalst_703L</th><th>num_group1</th><th>personindex_1023L</th><th>persontype_1072L</th><th>persontype_792L</th><th>registaddr_district_1083M</th><th>registaddr_zipcode_184M</th><th>relationshiptoclient_415T</th><th>relationshiptoclient_642T</th><th>remitter_829L</th><th>role_1084L</th><th>role_993L</th><th>safeguarantyflag_411L</th><th>sex_738L</th><th>type_25L</th></tr><tr><td>i64</td><td>date</td><td>i64</td><td>i64</td><td>i64</td><td>i32</td><td>date</td><td>date</td><td>f64</td><td>str</td><td>bool</td><td>bool</td><td>str</td><td>str</td><td>date</td><td>str</td><td>str</td><td>str</td><td>str</td><td>str</td><td>str</td><td>str</td><td>str</td><td>str</td><td>bool</td><td>str</td><td>f64</td><td>str</td><td>i64</td><td>f64</td><td>f64</td><td>f64</td><td>str</td><td>str</td><td>str</td><td>str</td><td>bool</td><td>str</td><td>str</td><td>bool</td><td>str</td><td>str</td></tr></thead><tbody><tr><td>0</td><td>2019-01-03</td><td>201901</td><td>0</td><td>0</td><td>1</td><td>1986-07-01</td><td>null</td><td>null</td><td>&quot;P88_18_84&quot;</td><td>false</td><td>false</td><td>&quot;P167_100_165&quot;</td><td>&quot;P97_36_170&quot;</td><td>2017-09-15</td><td>&quot;MORE_FIVE&quot;</td><td>&quot;OTHER&quot;</td><td>&quot;P142_57_166&quot;</td><td>&quot;P167_100_165&quot;</td><td>&quot;MARRIED&quot;</td><td>null</td><td>null</td><td>null</td><td>&quot;SALARIED_GOVT&quot;</td><td>null</td><td>&quot;P10_39_147&quot;</td><td>10800.0</td><td>null</td><td>0</td><td>0.0</td><td>1.0</td><td>1.0</td><td>&quot;P88_18_84&quot;</td><td>&quot;P167_100_165&quot;</td><td>null</td><td>null</td><td>null</td><td>&quot;CL&quot;</td><td>null</td><td>true</td><td>&quot;F&quot;</td><td>&quot;PRIMARY_MOBILE…</td></tr><tr><td>0</td><td>2019-01-03</td><td>201901</td><td>0</td><td>0</td><td>1</td><td>null</td><td>null</td><td>null</td><td>&quot;a55475b1&quot;</td><td>null</td><td>null</td><td>&quot;a55475b1&quot;</td><td>&quot;a55475b1&quot;</td><td>null</td><td>null</td><td>null</td><td>&quot;a55475b1&quot;</td><td>&quot;a55475b1&quot;</td><td>null</td><td>null</td><td>null</td><td>null</td><td>null</td><td>null</td><td>&quot;a55475b1&quot;</td><td>null</td><td>null</td><td>1</td><td>1.0</td><td>1.0</td><td>4.0</td><td>&quot;a55475b1&quot;</td><td>&quot;a55475b1&quot;</td><td>&quot;SPOUSE&quot;</td><td>null</td><td>false</td><td>&quot;EM&quot;</td><td>null</td><td>null</td><td>null</td><td>&quot;PHONE&quot;</td></tr><tr><td>0</td><td>2019-01-03</td><td>201901</td><td>0</td><td>0</td><td>1</td><td>null</td><td>null</td><td>null</td><td>&quot;a55475b1&quot;</td><td>null</td><td>null</td><td>&quot;a55475b1&quot;</td><td>&quot;a55475b1&quot;</td><td>null</td><td>null</td><td>null</td><td>&quot;a55475b1&quot;</td><td>&quot;a55475b1&quot;</td><td>null</td><td>null</td><td>null</td><td>null</td><td>null</td><td>null</td><td>&quot;a55475b1&quot;</td><td>null</td><td>null</td><td>2</td><td>2.0</td><td>4.0</td><td>5.0</td><td>&quot;a55475b1&quot;</td><td>&quot;a55475b1&quot;</td><td>&quot;COLLEAGUE&quot;</td><td>&quot;SPOUSE&quot;</td><td>false</td><td>&quot;PE&quot;</td><td>null</td><td>null</td><td>null</td><td>&quot;PHONE&quot;</td></tr><tr><td>0</td><td>2019-01-03</td><td>201901</td><td>0</td><td>0</td><td>1</td><td>null</td><td>null</td><td>null</td><td>&quot;a55475b1&quot;</td><td>null</td><td>null</td><td>&quot;a55475b1&quot;</td><td>&quot;a55475b1&quot;</td><td>null</td><td>null</td><td>null</td><td>&quot;a55475b1&quot;</td><td>&quot;a55475b1&quot;</td><td>null</td><td>null</td><td>null</td><td>null</td><td>null</td><td>null</td><td>&quot;a55475b1&quot;</td><td>null</td><td>null</td><td>3</td><td>null</td><td>5.0</td><td>null</td><td>&quot;a55475b1&quot;</td><td>&quot;a55475b1&quot;</td><td>null</td><td>&quot;COLLEAGUE&quot;</td><td>null</td><td>&quot;PE&quot;</td><td>null</td><td>null</td><td>null</td><td>&quot;PHONE&quot;</td></tr><tr><td>1</td><td>2019-01-03</td><td>201901</td><td>0</td><td>0</td><td>1</td><td>1957-08-01</td><td>null</td><td>null</td><td>&quot;P103_93_94&quot;</td><td>false</td><td>false</td><td>&quot;P176_37_166&quot;</td><td>&quot;P97_36_170&quot;</td><td>2008-10-29</td><td>&quot;MORE_FIVE&quot;</td><td>&quot;OTHER&quot;</td><td>&quot;P49_46_174&quot;</td><td>&quot;P160_59_140&quot;</td><td>&quot;DIVORCED&quot;</td><td>null</td><td>null</td><td>null</td><td>&quot;SALARIED_GOVT&quot;</td><td>null</td><td>&quot;P10_39_147&quot;</td><td>10000.0</td><td>null</td><td>0</td><td>0.0</td><td>1.0</td><td>1.0</td><td>&quot;P103_93_94&quot;</td><td>&quot;P176_37_166&quot;</td><td>null</td><td>null</td><td>null</td><td>&quot;CL&quot;</td><td>null</td><td>true</td><td>&quot;M&quot;</td><td>&quot;PRIMARY_MOBILE…</td></tr><tr><td>1</td><td>2019-01-03</td><td>201901</td><td>0</td><td>0</td><td>1</td><td>null</td><td>null</td><td>null</td><td>&quot;a55475b1&quot;</td><td>null</td><td>null</td><td>&quot;a55475b1&quot;</td><td>&quot;a55475b1&quot;</td><td>null</td><td>null</td><td>null</td><td>&quot;a55475b1&quot;</td><td>&quot;a55475b1&quot;</td><td>null</td><td>null</td><td>null</td><td>null</td><td>null</td><td>null</td><td>&quot;a55475b1&quot;</td><td>null</td><td>null</td><td>1</td><td>1.0</td><td>1.0</td><td>5.0</td><td>&quot;a55475b1&quot;</td><td>&quot;a55475b1&quot;</td><td>&quot;SIBLING&quot;</td><td>null</td><td>false</td><td>&quot;CL&quot;</td><td>null</td><td>null</td><td>null</td><td>&quot;PRIMARY_EMAIL&quot;</td></tr><tr><td>1</td><td>2019-01-03</td><td>201901</td><td>0</td><td>0</td><td>1</td><td>null</td><td>null</td><td>null</td><td>&quot;a55475b1&quot;</td><td>null</td><td>null</td><td>&quot;a55475b1&quot;</td><td>&quot;a55475b1&quot;</td><td>null</td><td>null</td><td>null</td><td>&quot;a55475b1&quot;</td><td>&quot;a55475b1&quot;</td><td>null</td><td>null</td><td>null</td><td>null</td><td>null</td><td>null</td><td>&quot;a55475b1&quot;</td><td>null</td><td>null</td><td>2</td><td>2.0</td><td>1.0</td><td>5.0</td><td>&quot;a55475b1&quot;</td><td>&quot;a55475b1&quot;</td><td>&quot;OTHER_RELATIVE…</td><td>null</td><td>false</td><td>&quot;EM&quot;</td><td>null</td><td>null</td><td>null</td><td>&quot;PHONE&quot;</td></tr><tr><td>1</td><td>2019-01-03</td><td>201901</td><td>0</td><td>0</td><td>1</td><td>null</td><td>null</td><td>null</td><td>&quot;a55475b1&quot;</td><td>null</td><td>null</td><td>&quot;a55475b1&quot;</td><td>&quot;a55475b1&quot;</td><td>null</td><td>null</td><td>null</td><td>&quot;a55475b1&quot;</td><td>&quot;a55475b1&quot;</td><td>null</td><td>null</td><td>null</td><td>null</td><td>null</td><td>null</td><td>&quot;a55475b1&quot;</td><td>null</td><td>null</td><td>3</td><td>null</td><td>5.0</td><td>null</td><td>&quot;a55475b1&quot;</td><td>&quot;a55475b1&quot;</td><td>null</td><td>&quot;SIBLING&quot;</td><td>null</td><td>&quot;PE&quot;</td><td>null</td><td>null</td><td>null</td><td>&quot;PHONE&quot;</td></tr><tr><td>1</td><td>2019-01-03</td><td>201901</td><td>0</td><td>0</td><td>1</td><td>null</td><td>null</td><td>null</td><td>&quot;a55475b1&quot;</td><td>null</td><td>null</td><td>&quot;a55475b1&quot;</td><td>&quot;a55475b1&quot;</td><td>null</td><td>null</td><td>null</td><td>&quot;a55475b1&quot;</td><td>&quot;a55475b1&quot;</td><td>null</td><td>null</td><td>null</td><td>null</td><td>null</td><td>null</td><td>&quot;a55475b1&quot;</td><td>null</td><td>null</td><td>4</td><td>null</td><td>5.0</td><td>null</td><td>&quot;a55475b1&quot;</td><td>&quot;a55475b1&quot;</td><td>null</td><td>&quot;OTHER_RELATIVE…</td><td>null</td><td>&quot;PE&quot;</td><td>null</td><td>null</td><td>null</td><td>&quot;PHONE&quot;</td></tr><tr><td>2</td><td>2019-01-04</td><td>201901</td><td>0</td><td>0</td><td>1</td><td>1974-12-01</td><td>null</td><td>null</td><td>&quot;P91_125_184&quot;</td><td>false</td><td>false</td><td>&quot;P161_5_97&quot;</td><td>&quot;P97_36_170&quot;</td><td>2010-02-15</td><td>&quot;MORE_FIVE&quot;</td><td>&quot;OTHER&quot;</td><td>&quot;P63_14_24&quot;</td><td>&quot;P161_5_97&quot;</td><td>&quot;MARRIED&quot;</td><td>null</td><td>null</td><td>null</td><td>&quot;EMPLOYED&quot;</td><td>null</td><td>&quot;P10_39_147&quot;</td><td>14000.0</td><td>null</td><td>0</td><td>0.0</td><td>1.0</td><td>1.0</td><td>&quot;P91_125_184&quot;</td><td>&quot;P161_5_97&quot;</td><td>null</td><td>null</td><td>null</td><td>&quot;EM&quot;</td><td>null</td><td>true</td><td>&quot;F&quot;</td><td>&quot;PRIMARY_MOBILE…</td></tr><tr><td>2</td><td>2019-01-04</td><td>201901</td><td>0</td><td>0</td><td>1</td><td>null</td><td>null</td><td>null</td><td>&quot;a55475b1&quot;</td><td>null</td><td>null</td><td>&quot;a55475b1&quot;</td><td>&quot;a55475b1&quot;</td><td>null</td><td>null</td><td>null</td><td>&quot;a55475b1&quot;</td><td>&quot;a55475b1&quot;</td><td>null</td><td>null</td><td>null</td><td>null</td><td>null</td><td>null</td><td>&quot;a55475b1&quot;</td><td>null</td><td>null</td><td>1</td><td>1.0</td><td>1.0</td><td>5.0</td><td>&quot;a55475b1&quot;</td><td>&quot;a55475b1&quot;</td><td>&quot;SIBLING&quot;</td><td>null</td><td>false</td><td>&quot;CL&quot;</td><td>null</td><td>null</td><td>null</td><td>&quot;PRIMARY_MOBILE…</td></tr><tr><td>2</td><td>2019-01-04</td><td>201901</td><td>0</td><td>0</td><td>1</td><td>null</td><td>null</td><td>null</td><td>&quot;a55475b1&quot;</td><td>null</td><td>null</td><td>&quot;a55475b1&quot;</td><td>&quot;a55475b1&quot;</td><td>null</td><td>null</td><td>null</td><td>&quot;a55475b1&quot;</td><td>&quot;a55475b1&quot;</td><td>null</td><td>null</td><td>null</td><td>null</td><td>null</td><td>null</td><td>&quot;a55475b1&quot;</td><td>null</td><td>null</td><td>2</td><td>2.0</td><td>1.0</td><td>4.0</td><td>&quot;a55475b1&quot;</td><td>&quot;a55475b1&quot;</td><td>&quot;SPOUSE&quot;</td><td>null</td><td>false</td><td>&quot;CL&quot;</td><td>null</td><td>null</td><td>null</td><td>&quot;HOME_PHONE&quot;</td></tr><tr><td>&hellip;</td><td>&hellip;</td><td>&hellip;</td><td>&hellip;</td><td>&hellip;</td><td>&hellip;</td><td>&hellip;</td><td>&hellip;</td><td>&hellip;</td><td>&hellip;</td><td>&hellip;</td><td>&hellip;</td><td>&hellip;</td><td>&hellip;</td><td>&hellip;</td><td>&hellip;</td><td>&hellip;</td><td>&hellip;</td><td>&hellip;</td><td>&hellip;</td><td>&hellip;</td><td>&hellip;</td><td>&hellip;</td><td>&hellip;</td><td>&hellip;</td><td>&hellip;</td><td>&hellip;</td><td>&hellip;</td><td>&hellip;</td><td>&hellip;</td><td>&hellip;</td><td>&hellip;</td><td>&hellip;</td><td>&hellip;</td><td>&hellip;</td><td>&hellip;</td><td>&hellip;</td><td>&hellip;</td><td>&hellip;</td><td>&hellip;</td><td>&hellip;</td><td>&hellip;</td></tr><tr><td>23</td><td>2019-01-03</td><td>201901</td><td>0</td><td>0</td><td>1</td><td>null</td><td>null</td><td>null</td><td>&quot;a55475b1&quot;</td><td>null</td><td>null</td><td>&quot;a55475b1&quot;</td><td>&quot;a55475b1&quot;</td><td>null</td><td>null</td><td>null</td><td>&quot;a55475b1&quot;</td><td>&quot;a55475b1&quot;</td><td>null</td><td>null</td><td>null</td><td>null</td><td>null</td><td>null</td><td>&quot;a55475b1&quot;</td><td>null</td><td>null</td><td>1</td><td>1.0</td><td>4.0</td><td>4.0</td><td>&quot;a55475b1&quot;</td><td>&quot;a55475b1&quot;</td><td>&quot;SPOUSE&quot;</td><td>&quot;SPOUSE&quot;</td><td>false</td><td>&quot;PE&quot;</td><td>null</td><td>null</td><td>null</td><td>&quot;PHONE&quot;</td></tr><tr><td>23</td><td>2019-01-03</td><td>201901</td><td>0</td><td>0</td><td>1</td><td>null</td><td>null</td><td>null</td><td>&quot;a55475b1&quot;</td><td>null</td><td>null</td><td>&quot;a55475b1&quot;</td><td>&quot;a55475b1&quot;</td><td>null</td><td>null</td><td>null</td><td>&quot;a55475b1&quot;</td><td>&quot;a55475b1&quot;</td><td>null</td><td>null</td><td>null</td><td>null</td><td>null</td><td>null</td><td>&quot;a55475b1&quot;</td><td>null</td><td>null</td><td>2</td><td>2.0</td><td>5.0</td><td>5.0</td><td>&quot;a55475b1&quot;</td><td>&quot;a55475b1&quot;</td><td>&quot;CHILD&quot;</td><td>&quot;CHILD&quot;</td><td>false</td><td>&quot;PE&quot;</td><td>null</td><td>null</td><td>null</td><td>&quot;PHONE&quot;</td></tr><tr><td>24</td><td>2019-01-03</td><td>201901</td><td>0</td><td>0</td><td>1</td><td>1977-07-01</td><td>null</td><td>null</td><td>&quot;P106_139_158&quot;</td><td>false</td><td>false</td><td>&quot;P178_95_172&quot;</td><td>&quot;P97_36_170&quot;</td><td>2016-11-18</td><td>&quot;MORE_FIVE&quot;</td><td>&quot;OTHER&quot;</td><td>&quot;P143_96_29&quot;</td><td>&quot;P178_95_172&quot;</td><td>&quot;MARRIED&quot;</td><td>null</td><td>null</td><td>null</td><td>&quot;EMPLOYED&quot;</td><td>null</td><td>&quot;P10_39_147&quot;</td><td>16000.0</td><td>null</td><td>0</td><td>0.0</td><td>1.0</td><td>1.0</td><td>&quot;P106_139_158&quot;</td><td>&quot;P178_95_172&quot;</td><td>null</td><td>null</td><td>null</td><td>&quot;CL&quot;</td><td>null</td><td>true</td><td>&quot;M&quot;</td><td>&quot;PRIMARY_MOBILE…</td></tr><tr><td>24</td><td>2019-01-03</td><td>201901</td><td>0</td><td>0</td><td>1</td><td>null</td><td>null</td><td>null</td><td>&quot;a55475b1&quot;</td><td>null</td><td>null</td><td>&quot;a55475b1&quot;</td><td>&quot;a55475b1&quot;</td><td>null</td><td>null</td><td>null</td><td>&quot;a55475b1&quot;</td><td>&quot;a55475b1&quot;</td><td>null</td><td>null</td><td>null</td><td>null</td><td>null</td><td>null</td><td>&quot;a55475b1&quot;</td><td>null</td><td>null</td><td>1</td><td>1.0</td><td>1.0</td><td>5.0</td><td>&quot;a55475b1&quot;</td><td>&quot;a55475b1&quot;</td><td>&quot;OTHER_RELATIVE…</td><td>null</td><td>false</td><td>&quot;EM&quot;</td><td>null</td><td>null</td><td>null</td><td>&quot;PHONE&quot;</td></tr><tr><td>24</td><td>2019-01-03</td><td>201901</td><td>0</td><td>0</td><td>1</td><td>null</td><td>null</td><td>null</td><td>&quot;a55475b1&quot;</td><td>null</td><td>null</td><td>&quot;a55475b1&quot;</td><td>&quot;a55475b1&quot;</td><td>null</td><td>null</td><td>null</td><td>&quot;a55475b1&quot;</td><td>&quot;a55475b1&quot;</td><td>null</td><td>null</td><td>null</td><td>null</td><td>null</td><td>null</td><td>&quot;a55475b1&quot;</td><td>null</td><td>null</td><td>2</td><td>2.0</td><td>5.0</td><td>5.0</td><td>&quot;a55475b1&quot;</td><td>&quot;a55475b1&quot;</td><td>&quot;OTHER_RELATIVE…</td><td>&quot;OTHER_RELATIVE…</td><td>false</td><td>&quot;PE&quot;</td><td>null</td><td>null</td><td>null</td><td>&quot;PHONE&quot;</td></tr><tr><td>24</td><td>2019-01-03</td><td>201901</td><td>0</td><td>0</td><td>1</td><td>null</td><td>null</td><td>null</td><td>&quot;a55475b1&quot;</td><td>null</td><td>null</td><td>&quot;a55475b1&quot;</td><td>&quot;a55475b1&quot;</td><td>null</td><td>null</td><td>null</td><td>&quot;a55475b1&quot;</td><td>&quot;a55475b1&quot;</td><td>null</td><td>null</td><td>null</td><td>null</td><td>null</td><td>null</td><td>&quot;a55475b1&quot;</td><td>null</td><td>null</td><td>3</td><td>null</td><td>5.0</td><td>null</td><td>&quot;a55475b1&quot;</td><td>&quot;a55475b1&quot;</td><td>null</td><td>&quot;OTHER_RELATIVE…</td><td>null</td><td>&quot;PE&quot;</td><td>null</td><td>null</td><td>null</td><td>&quot;PHONE&quot;</td></tr><tr><td>25</td><td>2019-01-03</td><td>201901</td><td>0</td><td>0</td><td>1</td><td>1960-05-01</td><td>null</td><td>null</td><td>&quot;P54_85_123&quot;</td><td>false</td><td>false</td><td>&quot;P132_8_96&quot;</td><td>&quot;P97_36_170&quot;</td><td>2006-01-15</td><td>&quot;MORE_FIVE&quot;</td><td>&quot;OTHER&quot;</td><td>&quot;P54_85_123&quot;</td><td>&quot;P132_8_96&quot;</td><td>&quot;MARRIED&quot;</td><td>null</td><td>null</td><td>null</td><td>&quot;PRIVATE_SECTOR…</td><td>null</td><td>&quot;P10_39_147&quot;</td><td>40000.0</td><td>null</td><td>0</td><td>0.0</td><td>1.0</td><td>1.0</td><td>&quot;P54_85_123&quot;</td><td>&quot;P132_8_96&quot;</td><td>null</td><td>null</td><td>null</td><td>&quot;EM&quot;</td><td>null</td><td>true</td><td>&quot;M&quot;</td><td>&quot;PRIMARY_MOBILE…</td></tr><tr><td>25</td><td>2019-01-03</td><td>201901</td><td>0</td><td>0</td><td>1</td><td>null</td><td>null</td><td>null</td><td>&quot;a55475b1&quot;</td><td>null</td><td>null</td><td>&quot;a55475b1&quot;</td><td>&quot;a55475b1&quot;</td><td>null</td><td>null</td><td>null</td><td>&quot;a55475b1&quot;</td><td>&quot;a55475b1&quot;</td><td>null</td><td>null</td><td>null</td><td>null</td><td>null</td><td>null</td><td>&quot;a55475b1&quot;</td><td>null</td><td>null</td><td>1</td><td>1.0</td><td>1.0</td><td>5.0</td><td>&quot;a55475b1&quot;</td><td>&quot;a55475b1&quot;</td><td>&quot;SIBLING&quot;</td><td>null</td><td>false</td><td>&quot;CL&quot;</td><td>null</td><td>null</td><td>null</td><td>&quot;PRIMARY_MOBILE…</td></tr><tr><td>25</td><td>2019-01-03</td><td>201901</td><td>0</td><td>0</td><td>1</td><td>null</td><td>null</td><td>null</td><td>&quot;a55475b1&quot;</td><td>null</td><td>null</td><td>&quot;a55475b1&quot;</td><td>&quot;a55475b1&quot;</td><td>null</td><td>null</td><td>null</td><td>&quot;a55475b1&quot;</td><td>&quot;a55475b1&quot;</td><td>null</td><td>null</td><td>null</td><td>null</td><td>null</td><td>null</td><td>&quot;a55475b1&quot;</td><td>null</td><td>null</td><td>2</td><td>2.0</td><td>5.0</td><td>5.0</td><td>&quot;a55475b1&quot;</td><td>&quot;a55475b1&quot;</td><td>&quot;SIBLING&quot;</td><td>&quot;SIBLING&quot;</td><td>false</td><td>&quot;PE&quot;</td><td>null</td><td>null</td><td>null</td><td>&quot;PHONE&quot;</td></tr><tr><td>25</td><td>2019-01-03</td><td>201901</td><td>0</td><td>0</td><td>1</td><td>null</td><td>null</td><td>null</td><td>&quot;a55475b1&quot;</td><td>null</td><td>null</td><td>&quot;a55475b1&quot;</td><td>&quot;a55475b1&quot;</td><td>null</td><td>null</td><td>null</td><td>&quot;a55475b1&quot;</td><td>&quot;a55475b1&quot;</td><td>null</td><td>null</td><td>null</td><td>null</td><td>null</td><td>null</td><td>&quot;a55475b1&quot;</td><td>null</td><td>null</td><td>3</td><td>null</td><td>5.0</td><td>null</td><td>&quot;a55475b1&quot;</td><td>&quot;a55475b1&quot;</td><td>null</td><td>&quot;SIBLING&quot;</td><td>null</td><td>&quot;PE&quot;</td><td>null</td><td>null</td><td>null</td><td>&quot;PHONE&quot;</td></tr><tr><td>26</td><td>2019-01-03</td><td>201901</td><td>0</td><td>0</td><td>1</td><td>1996-01-01</td><td>null</td><td>null</td><td>&quot;P89_144_94&quot;</td><td>false</td><td>false</td><td>&quot;P41_114_118&quot;</td><td>&quot;P97_36_170&quot;</td><td>2018-03-24</td><td>&quot;MORE_ONE&quot;</td><td>&quot;MINING&quot;</td><td>&quot;P111_135_181&quot;</td><td>&quot;P131_154_48&quot;</td><td>&quot;SINGLE&quot;</td><td>null</td><td>null</td><td>null</td><td>&quot;EMPLOYED&quot;</td><td>null</td><td>&quot;P10_39_147&quot;</td><td>60000.0</td><td>null</td><td>0</td><td>0.0</td><td>1.0</td><td>1.0</td><td>&quot;P89_144_94&quot;</td><td>&quot;P41_114_118&quot;</td><td>null</td><td>null</td><td>null</td><td>&quot;CL&quot;</td><td>null</td><td>true</td><td>&quot;M&quot;</td><td>&quot;PRIMARY_MOBILE…</td></tr><tr><td>26</td><td>2019-01-03</td><td>201901</td><td>0</td><td>0</td><td>1</td><td>null</td><td>null</td><td>null</td><td>&quot;a55475b1&quot;</td><td>null</td><td>null</td><td>&quot;a55475b1&quot;</td><td>&quot;a55475b1&quot;</td><td>null</td><td>null</td><td>null</td><td>&quot;a55475b1&quot;</td><td>&quot;a55475b1&quot;</td><td>null</td><td>null</td><td>null</td><td>null</td><td>null</td><td>null</td><td>&quot;a55475b1&quot;</td><td>null</td><td>null</td><td>1</td><td>1.0</td><td>1.0</td><td>5.0</td><td>&quot;a55475b1&quot;</td><td>&quot;a55475b1&quot;</td><td>&quot;OTHER_RELATIVE…</td><td>null</td><td>false</td><td>&quot;EM&quot;</td><td>null</td><td>null</td><td>null</td><td>&quot;PHONE&quot;</td></tr></tbody></table></div>"
     },
     "execution_count": 14,
     "metadata": {},
     "output_type": "execute_result"
    }
   ],
   "source": [
    "data.head(100)"
   ],
   "metadata": {
    "collapsed": false,
    "ExecuteTime": {
     "start_time": "2024-03-05T17:55:18.032556Z",
     "end_time": "2024-03-05T17:55:18.041693Z"
    }
   }
  },
  {
   "cell_type": "code",
   "execution_count": 11,
   "outputs": [
    {
     "data": {
      "text/plain": "1526669"
     },
     "execution_count": 11,
     "metadata": {},
     "output_type": "execute_result"
    }
   ],
   "source": [
    "data['case_id'].n_unique()"
   ],
   "metadata": {
    "collapsed": false,
    "ExecuteTime": {
     "start_time": "2024-03-05T17:50:54.966347Z",
     "end_time": "2024-03-05T17:50:54.969467Z"
    }
   }
  },
  {
   "cell_type": "code",
   "execution_count": 13,
   "outputs": [
    {
     "data": {
      "text/plain": "(7, 42)"
     },
     "execution_count": 13,
     "metadata": {},
     "output_type": "execute_result"
    }
   ],
   "source": [
    "# df_train.filter(pl.col(\"case_id\") == 57633)\n",
    "# data.select(['case_id', 'num_group1', 'target']).filter(pl.col('num_group1').is_not_null())\n",
    "data.filter(pl.col('num_group1').is_null()).shape\n",
    "# df_train.shape"
   ],
   "metadata": {
    "collapsed": false,
    "ExecuteTime": {
     "start_time": "2024-03-05T17:51:36.626172Z",
     "end_time": "2024-03-05T17:51:36.633497Z"
    }
   }
  },
  {
   "cell_type": "code",
   "execution_count": 15,
   "outputs": [],
   "source": [
    "data = data.sort('case_id', 'num_group1')"
   ],
   "metadata": {
    "collapsed": false,
    "ExecuteTime": {
     "start_time": "2024-03-05T17:57:03.740651Z",
     "end_time": "2024-03-05T17:57:04.395103Z"
    }
   }
  },
  {
   "cell_type": "code",
   "execution_count": 18,
   "outputs": [],
   "source": [
    "class Aggregator:\n",
    "    @staticmethod\n",
    "    def num_expr(df):\n",
    "        cols = [col for col in df.columns if col[-1] in (\"P\", \"A\")]\n",
    "\n",
    "        expr_num = []\n",
    "        # expr_num.extend([pl.max(col).alias(f\"max_{col}\") for col in cols])\n",
    "        # expr_num.extend([pl.min(col).alias(f\"min_{col}\") for col in cols])\n",
    "        # expr_num.extend([pl.mean(col).alias(f\"mean_{col}\") for col in cols])\n",
    "        # expr_num.extend([pl.count(col).alias(f\"count_{col}\") for col in cols])\n",
    "        expr_num.extend([pl.var(col).alias(f\"var_{col}\") for col in cols])\n",
    "        expr_num.extend([pl.last(col).alias(f\"last_{col}\") for col in cols])\n",
    "        expr_num.extend([pl.first(col).alias(f\"first_{col}\") for col in cols])\n",
    "\n",
    "        return expr_num\n",
    "\n",
    "    @staticmethod\n",
    "    def date_expr(df):\n",
    "        cols = [col for col in df.columns if col[-1] in (\"D\",)]\n",
    "\n",
    "        expr_date = []\n",
    "        expr_date.extend([pl.max(col).alias(f\"max_{col}\") for col in cols])\n",
    "        expr_date.extend([pl.min(col).alias(f\"min_{col}\") for col in cols])\n",
    "\n",
    "        return expr_date\n",
    "\n",
    "    @staticmethod\n",
    "    def str_expr(df):\n",
    "        cols = [col for col in df.columns if col[-1] in (\"M\",)]\n",
    "        cols.remove('WEEK_NUM')\n",
    "\n",
    "        expr_str = []\n",
    "        expr_str.extend([pl.last(col).alias(f\"last_{col}\") for col in cols])\n",
    "        expr_str.extend([pl.first(col).alias(f\"first_{col}\") for col in cols])\n",
    "        expr_str.extend([pl.n_unique(col).alias(f\"n_unique_{col}\") for col in cols])\n",
    "\n",
    "        return expr_str\n",
    "\n",
    "    @staticmethod\n",
    "    def other_expr(df):\n",
    "        cols = [col for col in df.columns if col[-1] in (\"T\", \"L\")]\n",
    "        expr_other = []\n",
    "        for col in cols:\n",
    "            if df[col].dtype == pl.String or df[col].dtype == pl.Boolean:\n",
    "                expr_other.append(pl.last(col).alias(f\"last_{col}\"))\n",
    "                expr_other.append(pl.first(col).alias(f\"first_{col}\"))\n",
    "                expr_other.append(pl.n_unique(col).alias(f\"n_unique_{col}\"))\n",
    "            elif df[col].dtype == pl.Int64 or df[col].dtype == pl.Float64:\n",
    "                expr_other.append(pl.mean(col).alias(f\"mean_{col}\"))\n",
    "                expr_other.append(pl.var(col).alias(f\"var_{col}\"))\n",
    "                expr_other.append(pl.last(col).alias(f\"last_{col}\"))\n",
    "                expr_other.append(pl.first(col).alias(f\"first_{col}\"))\n",
    "\n",
    "        return expr_other\n",
    "\n",
    "    @staticmethod\n",
    "    def count_expr(df):\n",
    "        cols = [col for col in df.columns if \"num_group\" in col]\n",
    "\n",
    "        expr_count = [pl.max(col).alias(f\"max_{col}\") for col in cols]\n",
    "\n",
    "        return expr_count\n",
    "\n",
    "    @staticmethod\n",
    "    def get_exprs(df):\n",
    "        exprs = Aggregator.num_expr(df) + \\\n",
    "                Aggregator.date_expr(df) + \\\n",
    "                Aggregator.str_expr(df) + \\\n",
    "                Aggregator.other_expr(df) + \\\n",
    "                Aggregator.count_expr(df)\n",
    "\n",
    "        return exprs"
   ],
   "metadata": {
    "collapsed": false,
    "ExecuteTime": {
     "start_time": "2024-03-05T18:08:54.999992Z",
     "end_time": "2024-03-05T18:08:55.011285Z"
    }
   }
  },
  {
   "cell_type": "code",
   "execution_count": 19,
   "outputs": [],
   "source": [
    "fea_agg = data.group_by(\"case_id\").agg(Aggregator.get_exprs(data))"
   ],
   "metadata": {
    "collapsed": false,
    "ExecuteTime": {
     "start_time": "2024-03-05T18:08:55.998579Z",
     "end_time": "2024-03-05T18:09:00.963203Z"
    }
   }
  },
  {
   "cell_type": "code",
   "execution_count": 20,
   "outputs": [
    {
     "data": {
      "text/plain": "(1526669, 108)"
     },
     "execution_count": 20,
     "metadata": {},
     "output_type": "execute_result"
    }
   ],
   "source": [
    "fea_agg.shape"
   ],
   "metadata": {
    "collapsed": false,
    "ExecuteTime": {
     "start_time": "2024-03-05T18:09:02.599804Z",
     "end_time": "2024-03-05T18:09:02.627968Z"
    }
   }
  },
  {
   "cell_type": "code",
   "execution_count": 21,
   "outputs": [
    {
     "data": {
      "text/plain": "shape: (20, 108)\n┌─────────┬────────────┬───────────┬───────────┬───┬───────────┬───────────┬───────────┬───────────┐\n│ case_id ┆ var_mainoc ┆ last_main ┆ first_mai ┆ … ┆ last_type ┆ first_typ ┆ n_unique_ ┆ max_num_g │\n│ ---     ┆ cupationin ┆ occupatio ┆ noccupati ┆   ┆ _25L      ┆ e_25L     ┆ type_25L  ┆ roup1     │\n│ i64     ┆ c_384A     ┆ ninc_384A ┆ oninc_384 ┆   ┆ ---       ┆ ---       ┆ ---       ┆ ---       │\n│         ┆ ---        ┆ ---       ┆ A         ┆   ┆ str       ┆ str       ┆ u32       ┆ i64       │\n│         ┆ f64        ┆ f64       ┆ ---       ┆   ┆           ┆           ┆           ┆           │\n│         ┆            ┆           ┆ f64       ┆   ┆           ┆           ┆           ┆           │\n╞═════════╪════════════╪═══════════╪═══════════╪═══╪═══════════╪═══════════╪═══════════╪═══════════╡\n│ 0       ┆ null       ┆ null      ┆ 10800.0   ┆ … ┆ PHONE     ┆ PRIMARY_M ┆ 2         ┆ 3         │\n│         ┆            ┆           ┆           ┆   ┆           ┆ OBILE     ┆           ┆           │\n│ 1       ┆ null       ┆ null      ┆ 10000.0   ┆ … ┆ PHONE     ┆ PRIMARY_M ┆ 3         ┆ 4         │\n│         ┆            ┆           ┆           ┆   ┆           ┆ OBILE     ┆           ┆           │\n│ 2       ┆ null       ┆ null      ┆ 14000.0   ┆ … ┆ PHONE     ┆ PRIMARY_M ┆ 3         ┆ 4         │\n│         ┆            ┆           ┆           ┆   ┆           ┆ OBILE     ┆           ┆           │\n│ 3       ┆ null       ┆ null      ┆ 10000.0   ┆ … ┆ PHONE     ┆ PRIMARY_M ┆ 2         ┆ 2         │\n│         ┆            ┆           ┆           ┆   ┆           ┆ OBILE     ┆           ┆           │\n│ 4       ┆ null       ┆ null      ┆ 24000.0   ┆ … ┆ PHONE     ┆ PRIMARY_M ┆ 2         ┆ 3         │\n│         ┆            ┆           ┆           ┆   ┆           ┆ OBILE     ┆           ┆           │\n│ …       ┆ …          ┆ …         ┆ …         ┆ … ┆ …         ┆ …         ┆ …         ┆ …         │\n│ 15      ┆ null       ┆ null      ┆ 90000.0   ┆ … ┆ PHONE     ┆ PHONE     ┆ 2         ┆ 4         │\n│ 16      ┆ null       ┆ null      ┆ 32400.0   ┆ … ┆ PHONE     ┆ PRIMARY_M ┆ 2         ┆ 2         │\n│         ┆            ┆           ┆           ┆   ┆           ┆ OBILE     ┆           ┆           │\n│ 17      ┆ null       ┆ null      ┆ 50000.0   ┆ … ┆ PHONE     ┆ PRIMARY_M ┆ 2         ┆ 3         │\n│         ┆            ┆           ┆           ┆   ┆           ┆ OBILE     ┆           ┆           │\n│ 18      ┆ null       ┆ null      ┆ 40000.0   ┆ … ┆ PHONE     ┆ PRIMARY_M ┆ 2         ┆ 3         │\n│         ┆            ┆           ┆           ┆   ┆           ┆ OBILE     ┆           ┆           │\n│ 19      ┆ null       ┆ null      ┆ 22000.0   ┆ … ┆ PHONE     ┆ PRIMARY_M ┆ 2         ┆ 2         │\n│         ┆            ┆           ┆           ┆   ┆           ┆ OBILE     ┆           ┆           │\n└─────────┴────────────┴───────────┴───────────┴───┴───────────┴───────────┴───────────┴───────────┘",
      "text/html": "<div><style>\n.dataframe > thead > tr,\n.dataframe > tbody > tr {\n  text-align: right;\n  white-space: pre-wrap;\n}\n</style>\n<small>shape: (20, 108)</small><table border=\"1\" class=\"dataframe\"><thead><tr><th>case_id</th><th>var_mainoccupationinc_384A</th><th>last_mainoccupationinc_384A</th><th>first_mainoccupationinc_384A</th><th>max_birth_259D</th><th>max_birthdate_87D</th><th>max_empl_employedfrom_271D</th><th>min_birth_259D</th><th>min_birthdate_87D</th><th>min_empl_employedfrom_271D</th><th>last_contaddr_district_15M</th><th>last_contaddr_zipcode_807M</th><th>last_education_927M</th><th>last_empladdr_district_926M</th><th>last_empladdr_zipcode_114M</th><th>last_language1_981M</th><th>last_registaddr_district_1083M</th><th>last_registaddr_zipcode_184M</th><th>first_contaddr_district_15M</th><th>first_contaddr_zipcode_807M</th><th>first_education_927M</th><th>first_empladdr_district_926M</th><th>first_empladdr_zipcode_114M</th><th>first_language1_981M</th><th>first_registaddr_district_1083M</th><th>first_registaddr_zipcode_184M</th><th>n_unique_contaddr_district_15M</th><th>n_unique_contaddr_zipcode_807M</th><th>n_unique_education_927M</th><th>n_unique_empladdr_district_926M</th><th>n_unique_empladdr_zipcode_114M</th><th>n_unique_language1_981M</th><th>n_unique_registaddr_district_1083M</th><th>n_unique_registaddr_zipcode_184M</th><th>mean_childnum_185L</th><th>var_childnum_185L</th><th>last_childnum_185L</th><th>&hellip;</th><th>mean_personindex_1023L</th><th>var_personindex_1023L</th><th>last_personindex_1023L</th><th>first_personindex_1023L</th><th>mean_persontype_1072L</th><th>var_persontype_1072L</th><th>last_persontype_1072L</th><th>first_persontype_1072L</th><th>mean_persontype_792L</th><th>var_persontype_792L</th><th>last_persontype_792L</th><th>first_persontype_792L</th><th>last_relationshiptoclient_415T</th><th>first_relationshiptoclient_415T</th><th>n_unique_relationshiptoclient_415T</th><th>last_relationshiptoclient_642T</th><th>first_relationshiptoclient_642T</th><th>n_unique_relationshiptoclient_642T</th><th>last_remitter_829L</th><th>first_remitter_829L</th><th>n_unique_remitter_829L</th><th>last_role_1084L</th><th>first_role_1084L</th><th>n_unique_role_1084L</th><th>last_role_993L</th><th>first_role_993L</th><th>n_unique_role_993L</th><th>last_safeguarantyflag_411L</th><th>first_safeguarantyflag_411L</th><th>n_unique_safeguarantyflag_411L</th><th>last_sex_738L</th><th>first_sex_738L</th><th>n_unique_sex_738L</th><th>last_type_25L</th><th>first_type_25L</th><th>n_unique_type_25L</th><th>max_num_group1</th></tr><tr><td>i64</td><td>f64</td><td>f64</td><td>f64</td><td>date</td><td>date</td><td>date</td><td>date</td><td>date</td><td>date</td><td>str</td><td>str</td><td>str</td><td>str</td><td>str</td><td>str</td><td>str</td><td>str</td><td>str</td><td>str</td><td>str</td><td>str</td><td>str</td><td>str</td><td>str</td><td>str</td><td>u32</td><td>u32</td><td>u32</td><td>u32</td><td>u32</td><td>u32</td><td>u32</td><td>u32</td><td>f64</td><td>f64</td><td>f64</td><td>&hellip;</td><td>f64</td><td>f64</td><td>f64</td><td>f64</td><td>f64</td><td>f64</td><td>f64</td><td>f64</td><td>f64</td><td>f64</td><td>f64</td><td>f64</td><td>str</td><td>str</td><td>u32</td><td>str</td><td>str</td><td>u32</td><td>bool</td><td>bool</td><td>u32</td><td>str</td><td>str</td><td>u32</td><td>str</td><td>str</td><td>u32</td><td>bool</td><td>bool</td><td>u32</td><td>str</td><td>str</td><td>u32</td><td>str</td><td>str</td><td>u32</td><td>i64</td></tr></thead><tbody><tr><td>0</td><td>null</td><td>null</td><td>10800.0</td><td>1986-07-01</td><td>null</td><td>2017-09-15</td><td>1986-07-01</td><td>null</td><td>2017-09-15</td><td>&quot;a55475b1&quot;</td><td>&quot;a55475b1&quot;</td><td>&quot;a55475b1&quot;</td><td>&quot;a55475b1&quot;</td><td>&quot;a55475b1&quot;</td><td>&quot;a55475b1&quot;</td><td>&quot;a55475b1&quot;</td><td>&quot;a55475b1&quot;</td><td>&quot;P88_18_84&quot;</td><td>&quot;P167_100_165&quot;</td><td>&quot;P97_36_170&quot;</td><td>&quot;P142_57_166&quot;</td><td>&quot;P167_100_165&quot;</td><td>&quot;P10_39_147&quot;</td><td>&quot;P88_18_84&quot;</td><td>&quot;P167_100_165&quot;</td><td>2</td><td>2</td><td>2</td><td>2</td><td>2</td><td>2</td><td>2</td><td>2</td><td>null</td><td>null</td><td>null</td><td>&hellip;</td><td>1.0</td><td>1.0</td><td>null</td><td>0.0</td><td>2.75</td><td>4.25</td><td>5.0</td><td>1.0</td><td>3.333333</td><td>4.333333</td><td>null</td><td>1.0</td><td>null</td><td>null</td><td>3</td><td>&quot;COLLEAGUE&quot;</td><td>null</td><td>3</td><td>null</td><td>null</td><td>2</td><td>&quot;PE&quot;</td><td>&quot;CL&quot;</td><td>3</td><td>null</td><td>null</td><td>1</td><td>null</td><td>true</td><td>2</td><td>null</td><td>&quot;F&quot;</td><td>2</td><td>&quot;PHONE&quot;</td><td>&quot;PRIMARY_MOBILE…</td><td>2</td><td>3</td></tr><tr><td>1</td><td>null</td><td>null</td><td>10000.0</td><td>1957-08-01</td><td>null</td><td>2008-10-29</td><td>1957-08-01</td><td>null</td><td>2008-10-29</td><td>&quot;a55475b1&quot;</td><td>&quot;a55475b1&quot;</td><td>&quot;a55475b1&quot;</td><td>&quot;a55475b1&quot;</td><td>&quot;a55475b1&quot;</td><td>&quot;a55475b1&quot;</td><td>&quot;a55475b1&quot;</td><td>&quot;a55475b1&quot;</td><td>&quot;P103_93_94&quot;</td><td>&quot;P176_37_166&quot;</td><td>&quot;P97_36_170&quot;</td><td>&quot;P49_46_174&quot;</td><td>&quot;P160_59_140&quot;</td><td>&quot;P10_39_147&quot;</td><td>&quot;P103_93_94&quot;</td><td>&quot;P176_37_166&quot;</td><td>2</td><td>2</td><td>2</td><td>2</td><td>2</td><td>2</td><td>2</td><td>2</td><td>null</td><td>null</td><td>null</td><td>&hellip;</td><td>1.0</td><td>1.0</td><td>null</td><td>0.0</td><td>2.6</td><td>4.8</td><td>5.0</td><td>1.0</td><td>3.666667</td><td>5.333333</td><td>null</td><td>1.0</td><td>null</td><td>null</td><td>3</td><td>&quot;OTHER_RELATIVE…</td><td>null</td><td>3</td><td>null</td><td>null</td><td>2</td><td>&quot;PE&quot;</td><td>&quot;CL&quot;</td><td>3</td><td>null</td><td>null</td><td>1</td><td>null</td><td>true</td><td>2</td><td>null</td><td>&quot;M&quot;</td><td>2</td><td>&quot;PHONE&quot;</td><td>&quot;PRIMARY_MOBILE…</td><td>3</td><td>4</td></tr><tr><td>2</td><td>null</td><td>null</td><td>14000.0</td><td>1974-12-01</td><td>null</td><td>2010-02-15</td><td>1974-12-01</td><td>null</td><td>2010-02-15</td><td>&quot;a55475b1&quot;</td><td>&quot;a55475b1&quot;</td><td>&quot;a55475b1&quot;</td><td>&quot;a55475b1&quot;</td><td>&quot;a55475b1&quot;</td><td>&quot;a55475b1&quot;</td><td>&quot;a55475b1&quot;</td><td>&quot;a55475b1&quot;</td><td>&quot;P91_125_184&quot;</td><td>&quot;P161_5_97&quot;</td><td>&quot;P97_36_170&quot;</td><td>&quot;P63_14_24&quot;</td><td>&quot;P161_5_97&quot;</td><td>&quot;P10_39_147&quot;</td><td>&quot;P91_125_184&quot;</td><td>&quot;P161_5_97&quot;</td><td>2</td><td>2</td><td>2</td><td>2</td><td>2</td><td>2</td><td>2</td><td>2</td><td>null</td><td>null</td><td>null</td><td>&hellip;</td><td>1.0</td><td>1.0</td><td>null</td><td>0.0</td><td>2.4</td><td>3.8</td><td>4.0</td><td>1.0</td><td>3.333333</td><td>4.333333</td><td>null</td><td>1.0</td><td>null</td><td>null</td><td>3</td><td>&quot;SPOUSE&quot;</td><td>null</td><td>3</td><td>null</td><td>null</td><td>2</td><td>&quot;PE&quot;</td><td>&quot;EM&quot;</td><td>3</td><td>null</td><td>null</td><td>1</td><td>null</td><td>true</td><td>2</td><td>null</td><td>&quot;F&quot;</td><td>2</td><td>&quot;PHONE&quot;</td><td>&quot;PRIMARY_MOBILE…</td><td>3</td><td>4</td></tr><tr><td>3</td><td>null</td><td>null</td><td>10000.0</td><td>1993-08-01</td><td>null</td><td>2018-05-15</td><td>1993-08-01</td><td>null</td><td>2018-05-15</td><td>&quot;a55475b1&quot;</td><td>&quot;a55475b1&quot;</td><td>&quot;a55475b1&quot;</td><td>&quot;a55475b1&quot;</td><td>&quot;a55475b1&quot;</td><td>&quot;a55475b1&quot;</td><td>&quot;a55475b1&quot;</td><td>&quot;a55475b1&quot;</td><td>&quot;P155_139_77&quot;</td><td>&quot;P161_14_174&quot;</td><td>&quot;P33_146_175&quot;</td><td>&quot;P131_33_167&quot;</td><td>&quot;P161_14_174&quot;</td><td>&quot;P10_39_147&quot;</td><td>&quot;P155_139_77&quot;</td><td>&quot;P161_14_174&quot;</td><td>2</td><td>2</td><td>2</td><td>2</td><td>2</td><td>2</td><td>2</td><td>2</td><td>null</td><td>null</td><td>null</td><td>&hellip;</td><td>0.5</td><td>0.5</td><td>null</td><td>0.0</td><td>2.0</td><td>3.0</td><td>4.0</td><td>1.0</td><td>2.5</td><td>4.5</td><td>null</td><td>1.0</td><td>null</td><td>null</td><td>2</td><td>&quot;SPOUSE&quot;</td><td>null</td><td>2</td><td>null</td><td>null</td><td>2</td><td>&quot;PE&quot;</td><td>&quot;CL&quot;</td><td>3</td><td>null</td><td>null</td><td>1</td><td>null</td><td>true</td><td>2</td><td>null</td><td>&quot;F&quot;</td><td>2</td><td>&quot;PHONE&quot;</td><td>&quot;PRIMARY_MOBILE…</td><td>2</td><td>2</td></tr><tr><td>4</td><td>null</td><td>null</td><td>24000.0</td><td>1994-01-01</td><td>null</td><td>2014-12-15</td><td>1994-01-01</td><td>null</td><td>2014-12-15</td><td>&quot;a55475b1&quot;</td><td>&quot;a55475b1&quot;</td><td>&quot;a55475b1&quot;</td><td>&quot;a55475b1&quot;</td><td>&quot;a55475b1&quot;</td><td>&quot;a55475b1&quot;</td><td>&quot;a55475b1&quot;</td><td>&quot;a55475b1&quot;</td><td>&quot;P194_82_174&quot;</td><td>&quot;P8_88_79&quot;</td><td>&quot;P33_146_175&quot;</td><td>&quot;P62_144_102&quot;</td><td>&quot;P8_88_79&quot;</td><td>&quot;P10_39_147&quot;</td><td>&quot;P194_82_174&quot;</td><td>&quot;P8_88_79&quot;</td><td>2</td><td>2</td><td>2</td><td>2</td><td>2</td><td>2</td><td>2</td><td>2</td><td>null</td><td>null</td><td>null</td><td>&hellip;</td><td>1.0</td><td>1.0</td><td>null</td><td>0.0</td><td>3.0</td><td>5.333333</td><td>5.0</td><td>1.0</td><td>3.666667</td><td>5.333333</td><td>null</td><td>1.0</td><td>null</td><td>null</td><td>3</td><td>&quot;SIBLING&quot;</td><td>null</td><td>3</td><td>null</td><td>null</td><td>2</td><td>&quot;PE&quot;</td><td>&quot;CL&quot;</td><td>3</td><td>null</td><td>null</td><td>1</td><td>null</td><td>true</td><td>2</td><td>null</td><td>&quot;F&quot;</td><td>2</td><td>&quot;PHONE&quot;</td><td>&quot;PRIMARY_MOBILE…</td><td>2</td><td>3</td></tr><tr><td>5</td><td>null</td><td>null</td><td>64000.0</td><td>1979-10-01</td><td>null</td><td>2016-01-15</td><td>1979-10-01</td><td>null</td><td>2016-01-15</td><td>&quot;a55475b1&quot;</td><td>&quot;a55475b1&quot;</td><td>&quot;a55475b1&quot;</td><td>&quot;a55475b1&quot;</td><td>&quot;a55475b1&quot;</td><td>&quot;a55475b1&quot;</td><td>&quot;a55475b1&quot;</td><td>&quot;a55475b1&quot;</td><td>&quot;P54_133_26&quot;</td><td>&quot;P66_157_171&quot;</td><td>&quot;P97_36_170&quot;</td><td>&quot;P54_133_26&quot;</td><td>&quot;P45_57_146&quot;</td><td>&quot;P209_127_106&quot;</td><td>&quot;P54_133_26&quot;</td><td>&quot;P66_157_171&quot;</td><td>2</td><td>2</td><td>2</td><td>2</td><td>2</td><td>2</td><td>2</td><td>2</td><td>null</td><td>null</td><td>null</td><td>&hellip;</td><td>0.5</td><td>0.5</td><td>null</td><td>0.0</td><td>2.333333</td><td>5.333333</td><td>5.0</td><td>1.0</td><td>3.0</td><td>8.0</td><td>null</td><td>1.0</td><td>null</td><td>null</td><td>2</td><td>&quot;FRIEND&quot;</td><td>null</td><td>2</td><td>null</td><td>null</td><td>2</td><td>&quot;PE&quot;</td><td>&quot;CL&quot;</td><td>3</td><td>null</td><td>null</td><td>1</td><td>null</td><td>true</td><td>2</td><td>null</td><td>&quot;F&quot;</td><td>2</td><td>&quot;PHONE&quot;</td><td>&quot;PRIMARY_MOBILE…</td><td>2</td><td>2</td></tr><tr><td>6</td><td>null</td><td>null</td><td>20000.0</td><td>1991-01-01</td><td>1991-01-01</td><td>2013-09-15</td><td>1991-01-01</td><td>1991-01-01</td><td>2013-09-15</td><td>&quot;a55475b1&quot;</td><td>&quot;a55475b1&quot;</td><td>&quot;a55475b1&quot;</td><td>&quot;a55475b1&quot;</td><td>&quot;a55475b1&quot;</td><td>&quot;a55475b1&quot;</td><td>&quot;a55475b1&quot;</td><td>&quot;a55475b1&quot;</td><td>&quot;P82_154_182&quot;</td><td>&quot;P164_28_170&quot;</td><td>&quot;P97_36_170&quot;</td><td>&quot;P82_154_182&quot;</td><td>&quot;P164_28_170&quot;</td><td>&quot;P10_39_147&quot;</td><td>&quot;P112_89_137&quot;</td><td>&quot;P10_68_40&quot;</td><td>2</td><td>2</td><td>2</td><td>2</td><td>2</td><td>2</td><td>2</td><td>2</td><td>0.0</td><td>null</td><td>null</td><td>&hellip;</td><td>1.0</td><td>1.0</td><td>null</td><td>0.0</td><td>3.0</td><td>5.333333</td><td>5.0</td><td>1.0</td><td>3.666667</td><td>5.333333</td><td>null</td><td>1.0</td><td>null</td><td>null</td><td>2</td><td>&quot;SIBLING&quot;</td><td>null</td><td>2</td><td>null</td><td>null</td><td>2</td><td>&quot;PE&quot;</td><td>&quot;CL&quot;</td><td>3</td><td>null</td><td>&quot;FULL&quot;</td><td>2</td><td>null</td><td>true</td><td>2</td><td>null</td><td>&quot;F&quot;</td><td>2</td><td>&quot;PHONE&quot;</td><td>&quot;PRIMARY_MOBILE…</td><td>2</td><td>3</td></tr><tr><td>7</td><td>null</td><td>null</td><td>46000.0</td><td>1993-09-01</td><td>null</td><td>2018-09-15</td><td>1993-09-01</td><td>null</td><td>2018-09-15</td><td>&quot;a55475b1&quot;</td><td>&quot;a55475b1&quot;</td><td>&quot;a55475b1&quot;</td><td>&quot;a55475b1&quot;</td><td>&quot;a55475b1&quot;</td><td>&quot;a55475b1&quot;</td><td>&quot;a55475b1&quot;</td><td>&quot;a55475b1&quot;</td><td>&quot;P170_34_169&quot;</td><td>&quot;P44_33_176&quot;</td><td>&quot;P33_146_175&quot;</td><td>&quot;P54_133_26&quot;</td><td>&quot;P45_57_146&quot;</td><td>&quot;P209_127_106&quot;</td><td>&quot;P170_34_169&quot;</td><td>&quot;P44_33_176&quot;</td><td>2</td><td>2</td><td>2</td><td>2</td><td>2</td><td>2</td><td>2</td><td>2</td><td>null</td><td>null</td><td>null</td><td>&hellip;</td><td>1.0</td><td>1.0</td><td>null</td><td>0.0</td><td>3.0</td><td>5.333333</td><td>5.0</td><td>1.0</td><td>3.666667</td><td>5.333333</td><td>null</td><td>1.0</td><td>null</td><td>null</td><td>2</td><td>&quot;FRIEND&quot;</td><td>null</td><td>2</td><td>null</td><td>null</td><td>2</td><td>&quot;PE&quot;</td><td>&quot;EM&quot;</td><td>3</td><td>null</td><td>null</td><td>1</td><td>null</td><td>true</td><td>2</td><td>null</td><td>&quot;F&quot;</td><td>2</td><td>&quot;PHONE&quot;</td><td>&quot;PRIMARY_MOBILE…</td><td>2</td><td>3</td></tr><tr><td>8</td><td>null</td><td>null</td><td>90000.0</td><td>1982-11-01</td><td>null</td><td>2016-05-15</td><td>1982-11-01</td><td>null</td><td>2016-05-15</td><td>&quot;a55475b1&quot;</td><td>&quot;a55475b1&quot;</td><td>&quot;a55475b1&quot;</td><td>&quot;a55475b1&quot;</td><td>&quot;a55475b1&quot;</td><td>&quot;a55475b1&quot;</td><td>&quot;a55475b1&quot;</td><td>&quot;a55475b1&quot;</td><td>&quot;P93_57_167&quot;</td><td>&quot;P182_156_59&quot;</td><td>&quot;P97_36_170&quot;</td><td>&quot;P109_162_152&quot;</td><td>&quot;P45_25_38&quot;</td><td>&quot;P10_39_147&quot;</td><td>&quot;P93_57_167&quot;</td><td>&quot;P182_156_59&quot;</td><td>2</td><td>2</td><td>2</td><td>2</td><td>2</td><td>2</td><td>2</td><td>2</td><td>null</td><td>null</td><td>null</td><td>&hellip;</td><td>1.0</td><td>1.0</td><td>null</td><td>0.0</td><td>3.0</td><td>5.333333</td><td>5.0</td><td>1.0</td><td>3.666667</td><td>5.333333</td><td>null</td><td>1.0</td><td>null</td><td>null</td><td>2</td><td>&quot;FRIEND&quot;</td><td>null</td><td>2</td><td>null</td><td>null</td><td>2</td><td>&quot;PE&quot;</td><td>&quot;EM&quot;</td><td>3</td><td>null</td><td>null</td><td>1</td><td>null</td><td>true</td><td>2</td><td>null</td><td>&quot;M&quot;</td><td>2</td><td>&quot;PHONE&quot;</td><td>&quot;PRIMARY_MOBILE…</td><td>2</td><td>3</td></tr><tr><td>9</td><td>null</td><td>null</td><td>100000.0</td><td>1949-10-01</td><td>null</td><td>null</td><td>1949-10-01</td><td>null</td><td>null</td><td>&quot;a55475b1&quot;</td><td>&quot;a55475b1&quot;</td><td>&quot;a55475b1&quot;</td><td>&quot;a55475b1&quot;</td><td>&quot;a55475b1&quot;</td><td>&quot;a55475b1&quot;</td><td>&quot;a55475b1&quot;</td><td>&quot;a55475b1&quot;</td><td>&quot;P181_116_184&quot;</td><td>&quot;P42_117_149&quot;</td><td>&quot;P33_146_175&quot;</td><td>&quot;a55475b1&quot;</td><td>&quot;a55475b1&quot;</td><td>&quot;P209_127_106&quot;</td><td>&quot;P181_116_184&quot;</td><td>&quot;P42_117_149&quot;</td><td>2</td><td>2</td><td>2</td><td>1</td><td>1</td><td>2</td><td>2</td><td>2</td><td>null</td><td>null</td><td>null</td><td>&hellip;</td><td>0.5</td><td>0.5</td><td>1.0</td><td>0.0</td><td>3.0</td><td>8.0</td><td>5.0</td><td>1.0</td><td>3.0</td><td>8.0</td><td>5.0</td><td>1.0</td><td>&quot;CHILD&quot;</td><td>null</td><td>2</td><td>&quot;CHILD&quot;</td><td>null</td><td>2</td><td>false</td><td>null</td><td>2</td><td>&quot;PE&quot;</td><td>&quot;CL&quot;</td><td>2</td><td>null</td><td>null</td><td>1</td><td>null</td><td>true</td><td>2</td><td>null</td><td>&quot;M&quot;</td><td>2</td><td>&quot;PHONE&quot;</td><td>&quot;PRIMARY_MOBILE…</td><td>2</td><td>1</td></tr><tr><td>10</td><td>null</td><td>null</td><td>57000.0</td><td>1954-01-01</td><td>null</td><td>null</td><td>1954-01-01</td><td>null</td><td>null</td><td>&quot;a55475b1&quot;</td><td>&quot;a55475b1&quot;</td><td>&quot;a55475b1&quot;</td><td>&quot;a55475b1&quot;</td><td>&quot;a55475b1&quot;</td><td>&quot;a55475b1&quot;</td><td>&quot;a55475b1&quot;</td><td>&quot;a55475b1&quot;</td><td>&quot;P38_65_49&quot;</td><td>&quot;P58_118_175&quot;</td><td>&quot;P17_36_170&quot;</td><td>&quot;a55475b1&quot;</td><td>&quot;a55475b1&quot;</td><td>&quot;P10_39_147&quot;</td><td>&quot;P38_65_49&quot;</td><td>&quot;P58_118_175&quot;</td><td>2</td><td>2</td><td>2</td><td>1</td><td>1</td><td>2</td><td>2</td><td>2</td><td>null</td><td>null</td><td>null</td><td>&hellip;</td><td>1.0</td><td>1.0</td><td>2.0</td><td>0.0</td><td>3.666667</td><td>5.333333</td><td>5.0</td><td>1.0</td><td>3.666667</td><td>5.333333</td><td>5.0</td><td>1.0</td><td>&quot;OTHER_RELATIVE…</td><td>null</td><td>3</td><td>&quot;OTHER_RELATIVE…</td><td>null</td><td>3</td><td>false</td><td>null</td><td>2</td><td>&quot;PE&quot;</td><td>&quot;CL&quot;</td><td>2</td><td>null</td><td>null</td><td>1</td><td>null</td><td>true</td><td>2</td><td>null</td><td>&quot;M&quot;</td><td>2</td><td>&quot;PHONE&quot;</td><td>&quot;PRIMARY_MOBILE…</td><td>2</td><td>2</td></tr><tr><td>11</td><td>null</td><td>null</td><td>50000.0</td><td>1963-10-01</td><td>null</td><td>2016-10-15</td><td>1963-10-01</td><td>null</td><td>2016-10-15</td><td>&quot;a55475b1&quot;</td><td>&quot;a55475b1&quot;</td><td>&quot;a55475b1&quot;</td><td>&quot;a55475b1&quot;</td><td>&quot;a55475b1&quot;</td><td>&quot;a55475b1&quot;</td><td>&quot;a55475b1&quot;</td><td>&quot;a55475b1&quot;</td><td>&quot;P112_92_131&quot;</td><td>&quot;P31_104_107&quot;</td><td>&quot;P97_36_170&quot;</td><td>&quot;P112_92_131&quot;</td><td>&quot;P31_104_107&quot;</td><td>&quot;P209_127_106&quot;</td><td>&quot;P112_92_131&quot;</td><td>&quot;P31_104_107&quot;</td><td>2</td><td>2</td><td>2</td><td>2</td><td>2</td><td>2</td><td>2</td><td>2</td><td>null</td><td>null</td><td>null</td><td>&hellip;</td><td>0.5</td><td>0.5</td><td>null</td><td>0.0</td><td>2.333333</td><td>5.333333</td><td>5.0</td><td>1.0</td><td>3.0</td><td>8.0</td><td>null</td><td>1.0</td><td>null</td><td>null</td><td>2</td><td>&quot;OTHER_RELATIVE…</td><td>null</td><td>2</td><td>null</td><td>null</td><td>2</td><td>&quot;PE&quot;</td><td>&quot;EM&quot;</td><td>3</td><td>null</td><td>null</td><td>1</td><td>null</td><td>true</td><td>2</td><td>null</td><td>&quot;F&quot;</td><td>2</td><td>&quot;PHONE&quot;</td><td>&quot;PRIMARY_MOBILE…</td><td>2</td><td>2</td></tr><tr><td>12</td><td>null</td><td>null</td><td>179140.0</td><td>1995-09-01</td><td>null</td><td>2017-12-05</td><td>1995-09-01</td><td>null</td><td>2017-12-05</td><td>&quot;a55475b1&quot;</td><td>&quot;a55475b1&quot;</td><td>&quot;a55475b1&quot;</td><td>&quot;a55475b1&quot;</td><td>&quot;a55475b1&quot;</td><td>&quot;a55475b1&quot;</td><td>&quot;a55475b1&quot;</td><td>&quot;a55475b1&quot;</td><td>&quot;P54_121_22&quot;</td><td>&quot;P170_146_55&quot;</td><td>&quot;P97_36_170&quot;</td><td>&quot;P54_121_22&quot;</td><td>&quot;P170_146_55&quot;</td><td>&quot;P10_39_147&quot;</td><td>&quot;P54_121_22&quot;</td><td>&quot;P170_146_55&quot;</td><td>2</td><td>2</td><td>2</td><td>2</td><td>2</td><td>2</td><td>2</td><td>2</td><td>null</td><td>null</td><td>null</td><td>&hellip;</td><td>1.0</td><td>1.0</td><td>null</td><td>0.0</td><td>2.6</td><td>4.8</td><td>5.0</td><td>1.0</td><td>3.666667</td><td>5.333333</td><td>null</td><td>1.0</td><td>null</td><td>null</td><td>2</td><td>&quot;PARENT&quot;</td><td>null</td><td>2</td><td>null</td><td>null</td><td>2</td><td>&quot;PE&quot;</td><td>&quot;CL&quot;</td><td>3</td><td>null</td><td>null</td><td>1</td><td>null</td><td>true</td><td>2</td><td>null</td><td>&quot;F&quot;</td><td>2</td><td>&quot;PHONE&quot;</td><td>&quot;PRIMARY_MOBILE…</td><td>3</td><td>4</td></tr><tr><td>13</td><td>null</td><td>null</td><td>64000.0</td><td>1954-08-01</td><td>null</td><td>null</td><td>1954-08-01</td><td>null</td><td>null</td><td>&quot;a55475b1&quot;</td><td>&quot;a55475b1&quot;</td><td>&quot;a55475b1&quot;</td><td>&quot;a55475b1&quot;</td><td>&quot;a55475b1&quot;</td><td>&quot;a55475b1&quot;</td><td>&quot;a55475b1&quot;</td><td>&quot;a55475b1&quot;</td><td>&quot;P120_80_181&quot;</td><td>&quot;P194_73_123&quot;</td><td>&quot;P97_36_170&quot;</td><td>&quot;a55475b1&quot;</td><td>&quot;a55475b1&quot;</td><td>&quot;P10_39_147&quot;</td><td>&quot;P120_80_181&quot;</td><td>&quot;P194_73_123&quot;</td><td>2</td><td>2</td><td>2</td><td>1</td><td>1</td><td>2</td><td>2</td><td>2</td><td>null</td><td>null</td><td>null</td><td>&hellip;</td><td>1.0</td><td>1.0</td><td>2.0</td><td>0.0</td><td>3.666667</td><td>5.333333</td><td>5.0</td><td>1.0</td><td>3.666667</td><td>5.333333</td><td>5.0</td><td>1.0</td><td>&quot;CHILD&quot;</td><td>null</td><td>2</td><td>&quot;CHILD&quot;</td><td>null</td><td>2</td><td>false</td><td>null</td><td>2</td><td>&quot;PE&quot;</td><td>&quot;CL&quot;</td><td>2</td><td>null</td><td>null</td><td>1</td><td>null</td><td>true</td><td>2</td><td>null</td><td>&quot;M&quot;</td><td>2</td><td>&quot;PHONE&quot;</td><td>&quot;PRIMARY_MOBILE…</td><td>2</td><td>2</td></tr><tr><td>14</td><td>null</td><td>null</td><td>50000.0</td><td>1970-01-01</td><td>null</td><td>2007-03-15</td><td>1970-01-01</td><td>null</td><td>2007-03-15</td><td>&quot;a55475b1&quot;</td><td>&quot;a55475b1&quot;</td><td>&quot;a55475b1&quot;</td><td>&quot;a55475b1&quot;</td><td>&quot;a55475b1&quot;</td><td>&quot;a55475b1&quot;</td><td>&quot;a55475b1&quot;</td><td>&quot;a55475b1&quot;</td><td>&quot;P205_129_155&quot;</td><td>&quot;P213_70_134&quot;</td><td>&quot;P97_36_170&quot;</td><td>&quot;P205_129_155&quot;</td><td>&quot;P213_70_134&quot;</td><td>&quot;P209_127_106&quot;</td><td>&quot;P205_129_155&quot;</td><td>&quot;P213_70_134&quot;</td><td>2</td><td>2</td><td>2</td><td>2</td><td>2</td><td>2</td><td>2</td><td>2</td><td>null</td><td>null</td><td>null</td><td>&hellip;</td><td>0.5</td><td>0.5</td><td>null</td><td>0.0</td><td>2.0</td><td>4.0</td><td>5.0</td><td>1.0</td><td>3.0</td><td>8.0</td><td>null</td><td>1.0</td><td>null</td><td>null</td><td>2</td><td>&quot;SIBLING&quot;</td><td>null</td><td>2</td><td>null</td><td>null</td><td>2</td><td>&quot;PE&quot;</td><td>&quot;EM&quot;</td><td>3</td><td>null</td><td>null</td><td>1</td><td>null</td><td>true</td><td>2</td><td>null</td><td>&quot;F&quot;</td><td>2</td><td>&quot;PHONE&quot;</td><td>&quot;PRIMARY_MOBILE…</td><td>3</td><td>3</td></tr><tr><td>15</td><td>null</td><td>null</td><td>90000.0</td><td>1993-04-01</td><td>null</td><td>2014-10-03</td><td>1993-04-01</td><td>null</td><td>2014-10-03</td><td>&quot;a55475b1&quot;</td><td>&quot;a55475b1&quot;</td><td>&quot;a55475b1&quot;</td><td>&quot;a55475b1&quot;</td><td>&quot;a55475b1&quot;</td><td>&quot;a55475b1&quot;</td><td>&quot;a55475b1&quot;</td><td>&quot;a55475b1&quot;</td><td>&quot;P181_116_184&quot;</td><td>&quot;P145_83_181&quot;</td><td>&quot;P97_36_170&quot;</td><td>&quot;P181_116_184&quot;</td><td>&quot;P145_83_181&quot;</td><td>&quot;P10_39_147&quot;</td><td>&quot;P181_116_184&quot;</td><td>&quot;P145_83_181&quot;</td><td>2</td><td>2</td><td>2</td><td>2</td><td>2</td><td>2</td><td>2</td><td>2</td><td>null</td><td>null</td><td>null</td><td>&hellip;</td><td>1.0</td><td>1.0</td><td>null</td><td>0.0</td><td>2.6</td><td>4.8</td><td>5.0</td><td>1.0</td><td>3.666667</td><td>5.333333</td><td>null</td><td>1.0</td><td>null</td><td>null</td><td>3</td><td>&quot;PARENT&quot;</td><td>null</td><td>3</td><td>null</td><td>null</td><td>2</td><td>&quot;PE&quot;</td><td>&quot;EM&quot;</td><td>3</td><td>null</td><td>null</td><td>1</td><td>null</td><td>true</td><td>2</td><td>null</td><td>&quot;M&quot;</td><td>2</td><td>&quot;PHONE&quot;</td><td>&quot;PHONE&quot;</td><td>2</td><td>4</td></tr><tr><td>16</td><td>null</td><td>null</td><td>32400.0</td><td>1954-11-01</td><td>null</td><td>null</td><td>1954-11-01</td><td>null</td><td>null</td><td>&quot;a55475b1&quot;</td><td>&quot;a55475b1&quot;</td><td>&quot;a55475b1&quot;</td><td>&quot;a55475b1&quot;</td><td>&quot;a55475b1&quot;</td><td>&quot;a55475b1&quot;</td><td>&quot;a55475b1&quot;</td><td>&quot;a55475b1&quot;</td><td>&quot;P37_46_141&quot;</td><td>&quot;P24_131_135&quot;</td><td>&quot;P97_36_170&quot;</td><td>&quot;a55475b1&quot;</td><td>&quot;a55475b1&quot;</td><td>&quot;P10_39_147&quot;</td><td>&quot;P37_46_141&quot;</td><td>&quot;P24_131_135&quot;</td><td>2</td><td>2</td><td>2</td><td>1</td><td>1</td><td>2</td><td>2</td><td>2</td><td>null</td><td>null</td><td>null</td><td>&hellip;</td><td>1.0</td><td>1.0</td><td>2.0</td><td>0.0</td><td>3.666667</td><td>5.333333</td><td>5.0</td><td>1.0</td><td>3.666667</td><td>5.333333</td><td>5.0</td><td>1.0</td><td>&quot;OTHER_RELATIVE…</td><td>null</td><td>2</td><td>&quot;OTHER_RELATIVE…</td><td>null</td><td>2</td><td>false</td><td>null</td><td>2</td><td>&quot;PE&quot;</td><td>&quot;CL&quot;</td><td>2</td><td>null</td><td>null</td><td>1</td><td>null</td><td>true</td><td>2</td><td>null</td><td>&quot;M&quot;</td><td>2</td><td>&quot;PHONE&quot;</td><td>&quot;PRIMARY_MOBILE…</td><td>2</td><td>2</td></tr><tr><td>17</td><td>null</td><td>null</td><td>50000.0</td><td>1987-12-01</td><td>null</td><td>2007-01-15</td><td>1987-12-01</td><td>null</td><td>2007-01-15</td><td>&quot;a55475b1&quot;</td><td>&quot;a55475b1&quot;</td><td>&quot;a55475b1&quot;</td><td>&quot;a55475b1&quot;</td><td>&quot;a55475b1&quot;</td><td>&quot;a55475b1&quot;</td><td>&quot;a55475b1&quot;</td><td>&quot;a55475b1&quot;</td><td>&quot;P16_86_94&quot;</td><td>&quot;P28_5_180&quot;</td><td>&quot;P33_146_175&quot;</td><td>&quot;P16_86_94&quot;</td><td>&quot;P28_5_180&quot;</td><td>&quot;P10_39_147&quot;</td><td>&quot;P16_86_94&quot;</td><td>&quot;P28_5_180&quot;</td><td>2</td><td>2</td><td>2</td><td>2</td><td>2</td><td>2</td><td>2</td><td>2</td><td>null</td><td>null</td><td>null</td><td>&hellip;</td><td>1.0</td><td>1.0</td><td>null</td><td>0.0</td><td>3.0</td><td>5.333333</td><td>5.0</td><td>1.0</td><td>3.666667</td><td>5.333333</td><td>null</td><td>1.0</td><td>null</td><td>null</td><td>2</td><td>&quot;COLLEAGUE&quot;</td><td>null</td><td>2</td><td>null</td><td>null</td><td>2</td><td>&quot;PE&quot;</td><td>&quot;CL&quot;</td><td>3</td><td>null</td><td>null</td><td>1</td><td>null</td><td>true</td><td>2</td><td>null</td><td>&quot;F&quot;</td><td>2</td><td>&quot;PHONE&quot;</td><td>&quot;PRIMARY_MOBILE…</td><td>2</td><td>3</td></tr><tr><td>18</td><td>null</td><td>null</td><td>40000.0</td><td>1978-05-01</td><td>null</td><td>2008-02-06</td><td>1978-05-01</td><td>null</td><td>2008-02-06</td><td>&quot;a55475b1&quot;</td><td>&quot;a55475b1&quot;</td><td>&quot;a55475b1&quot;</td><td>&quot;a55475b1&quot;</td><td>&quot;a55475b1&quot;</td><td>&quot;a55475b1&quot;</td><td>&quot;a55475b1&quot;</td><td>&quot;a55475b1&quot;</td><td>&quot;P197_47_166&quot;</td><td>&quot;P144_138_111&quot;</td><td>&quot;P97_36_170&quot;</td><td>&quot;P197_47_166&quot;</td><td>&quot;P144_138_111&quot;</td><td>&quot;P209_127_106&quot;</td><td>&quot;P197_47_166&quot;</td><td>&quot;P144_138_111&quot;</td><td>2</td><td>2</td><td>2</td><td>2</td><td>2</td><td>2</td><td>2</td><td>2</td><td>null</td><td>null</td><td>null</td><td>&hellip;</td><td>1.0</td><td>1.0</td><td>null</td><td>0.0</td><td>2.75</td><td>4.25</td><td>5.0</td><td>1.0</td><td>3.333333</td><td>4.333333</td><td>null</td><td>1.0</td><td>null</td><td>null</td><td>3</td><td>&quot;FRIEND&quot;</td><td>null</td><td>3</td><td>null</td><td>null</td><td>2</td><td>&quot;PE&quot;</td><td>&quot;EM&quot;</td><td>3</td><td>null</td><td>null</td><td>1</td><td>null</td><td>true</td><td>2</td><td>null</td><td>&quot;M&quot;</td><td>2</td><td>&quot;PHONE&quot;</td><td>&quot;PRIMARY_MOBILE…</td><td>2</td><td>3</td></tr><tr><td>19</td><td>null</td><td>null</td><td>22000.0</td><td>1958-12-01</td><td>null</td><td>null</td><td>1958-12-01</td><td>null</td><td>null</td><td>&quot;a55475b1&quot;</td><td>&quot;a55475b1&quot;</td><td>&quot;a55475b1&quot;</td><td>&quot;a55475b1&quot;</td><td>&quot;a55475b1&quot;</td><td>&quot;a55475b1&quot;</td><td>&quot;a55475b1&quot;</td><td>&quot;a55475b1&quot;</td><td>&quot;P121_51_168&quot;</td><td>&quot;P155_48_172&quot;</td><td>&quot;P97_36_170&quot;</td><td>&quot;a55475b1&quot;</td><td>&quot;a55475b1&quot;</td><td>&quot;P10_39_147&quot;</td><td>&quot;P121_51_168&quot;</td><td>&quot;P155_48_172&quot;</td><td>2</td><td>2</td><td>2</td><td>1</td><td>1</td><td>2</td><td>2</td><td>2</td><td>null</td><td>null</td><td>null</td><td>&hellip;</td><td>1.0</td><td>1.0</td><td>2.0</td><td>0.0</td><td>3.666667</td><td>5.333333</td><td>5.0</td><td>1.0</td><td>3.666667</td><td>5.333333</td><td>5.0</td><td>1.0</td><td>&quot;OTHER_RELATIVE…</td><td>null</td><td>3</td><td>&quot;OTHER_RELATIVE…</td><td>null</td><td>3</td><td>false</td><td>null</td><td>2</td><td>&quot;PE&quot;</td><td>&quot;CL&quot;</td><td>2</td><td>null</td><td>null</td><td>1</td><td>null</td><td>true</td><td>2</td><td>null</td><td>&quot;F&quot;</td><td>2</td><td>&quot;PHONE&quot;</td><td>&quot;PRIMARY_MOBILE…</td><td>2</td><td>2</td></tr></tbody></table></div>"
     },
     "execution_count": 21,
     "metadata": {},
     "output_type": "execute_result"
    }
   ],
   "source": [
    "fea_agg.head(20)"
   ],
   "metadata": {
    "collapsed": false,
    "ExecuteTime": {
     "start_time": "2024-03-05T18:09:10.845016Z",
     "end_time": "2024-03-05T18:09:10.861614Z"
    }
   }
  },
  {
   "cell_type": "code",
   "execution_count": 22,
   "outputs": [],
   "source": [
    "data = data_base.join(fea_agg, how=\"left\", on=\"case_id\")"
   ],
   "metadata": {
    "collapsed": false,
    "ExecuteTime": {
     "start_time": "2024-03-05T18:10:48.523159Z",
     "end_time": "2024-03-05T18:10:49.350793Z"
    }
   }
  },
  {
   "cell_type": "code",
   "execution_count": 23,
   "outputs": [
    {
     "data": {
      "text/plain": "shape: (10, 113)\n┌─────────┬────────────┬────────┬──────────┬───┬────────────┬────────────┬────────────┬────────────┐\n│ case_id ┆ date_decis ┆ MONTH  ┆ WEEK_NUM ┆ … ┆ last_type_ ┆ first_type ┆ n_unique_t ┆ max_num_gr │\n│ ---     ┆ ion        ┆ ---    ┆ ---      ┆   ┆ 25L        ┆ _25L       ┆ ype_25L    ┆ oup1       │\n│ i64     ┆ ---        ┆ i64    ┆ i64      ┆   ┆ ---        ┆ ---        ┆ ---        ┆ ---        │\n│         ┆ date       ┆        ┆          ┆   ┆ str        ┆ str        ┆ u32        ┆ i64        │\n╞═════════╪════════════╪════════╪══════════╪═══╪════════════╪════════════╪════════════╪════════════╡\n│ 0       ┆ 2019-01-03 ┆ 201901 ┆ 0        ┆ … ┆ PHONE      ┆ PRIMARY_MO ┆ 2          ┆ 3          │\n│         ┆            ┆        ┆          ┆   ┆            ┆ BILE       ┆            ┆            │\n│ 1       ┆ 2019-01-03 ┆ 201901 ┆ 0        ┆ … ┆ PHONE      ┆ PRIMARY_MO ┆ 3          ┆ 4          │\n│         ┆            ┆        ┆          ┆   ┆            ┆ BILE       ┆            ┆            │\n│ 2       ┆ 2019-01-04 ┆ 201901 ┆ 0        ┆ … ┆ PHONE      ┆ PRIMARY_MO ┆ 3          ┆ 4          │\n│         ┆            ┆        ┆          ┆   ┆            ┆ BILE       ┆            ┆            │\n│ 3       ┆ 2019-01-03 ┆ 201901 ┆ 0        ┆ … ┆ PHONE      ┆ PRIMARY_MO ┆ 2          ┆ 2          │\n│         ┆            ┆        ┆          ┆   ┆            ┆ BILE       ┆            ┆            │\n│ 4       ┆ 2019-01-04 ┆ 201901 ┆ 0        ┆ … ┆ PHONE      ┆ PRIMARY_MO ┆ 2          ┆ 3          │\n│         ┆            ┆        ┆          ┆   ┆            ┆ BILE       ┆            ┆            │\n│ 5       ┆ 2019-01-02 ┆ 201901 ┆ 0        ┆ … ┆ PHONE      ┆ PRIMARY_MO ┆ 2          ┆ 2          │\n│         ┆            ┆        ┆          ┆   ┆            ┆ BILE       ┆            ┆            │\n│ 6       ┆ 2019-01-03 ┆ 201901 ┆ 0        ┆ … ┆ PHONE      ┆ PRIMARY_MO ┆ 2          ┆ 3          │\n│         ┆            ┆        ┆          ┆   ┆            ┆ BILE       ┆            ┆            │\n│ 7       ┆ 2019-01-03 ┆ 201901 ┆ 0        ┆ … ┆ PHONE      ┆ PRIMARY_MO ┆ 2          ┆ 3          │\n│         ┆            ┆        ┆          ┆   ┆            ┆ BILE       ┆            ┆            │\n│ 8       ┆ 2019-01-03 ┆ 201901 ┆ 0        ┆ … ┆ PHONE      ┆ PRIMARY_MO ┆ 2          ┆ 3          │\n│         ┆            ┆        ┆          ┆   ┆            ┆ BILE       ┆            ┆            │\n│ 9       ┆ 2019-01-03 ┆ 201901 ┆ 0        ┆ … ┆ PHONE      ┆ PRIMARY_MO ┆ 2          ┆ 1          │\n│         ┆            ┆        ┆          ┆   ┆            ┆ BILE       ┆            ┆            │\n└─────────┴────────────┴────────┴──────────┴───┴────────────┴────────────┴────────────┴────────────┘",
      "text/html": "<div><style>\n.dataframe > thead > tr,\n.dataframe > tbody > tr {\n  text-align: right;\n  white-space: pre-wrap;\n}\n</style>\n<small>shape: (10, 113)</small><table border=\"1\" class=\"dataframe\"><thead><tr><th>case_id</th><th>date_decision</th><th>MONTH</th><th>WEEK_NUM</th><th>target</th><th>IS_TRAIN</th><th>var_mainoccupationinc_384A</th><th>last_mainoccupationinc_384A</th><th>first_mainoccupationinc_384A</th><th>max_birth_259D</th><th>max_birthdate_87D</th><th>max_empl_employedfrom_271D</th><th>min_birth_259D</th><th>min_birthdate_87D</th><th>min_empl_employedfrom_271D</th><th>last_contaddr_district_15M</th><th>last_contaddr_zipcode_807M</th><th>last_education_927M</th><th>last_empladdr_district_926M</th><th>last_empladdr_zipcode_114M</th><th>last_language1_981M</th><th>last_registaddr_district_1083M</th><th>last_registaddr_zipcode_184M</th><th>first_contaddr_district_15M</th><th>first_contaddr_zipcode_807M</th><th>first_education_927M</th><th>first_empladdr_district_926M</th><th>first_empladdr_zipcode_114M</th><th>first_language1_981M</th><th>first_registaddr_district_1083M</th><th>first_registaddr_zipcode_184M</th><th>n_unique_contaddr_district_15M</th><th>n_unique_contaddr_zipcode_807M</th><th>n_unique_education_927M</th><th>n_unique_empladdr_district_926M</th><th>n_unique_empladdr_zipcode_114M</th><th>n_unique_language1_981M</th><th>&hellip;</th><th>mean_personindex_1023L</th><th>var_personindex_1023L</th><th>last_personindex_1023L</th><th>first_personindex_1023L</th><th>mean_persontype_1072L</th><th>var_persontype_1072L</th><th>last_persontype_1072L</th><th>first_persontype_1072L</th><th>mean_persontype_792L</th><th>var_persontype_792L</th><th>last_persontype_792L</th><th>first_persontype_792L</th><th>last_relationshiptoclient_415T</th><th>first_relationshiptoclient_415T</th><th>n_unique_relationshiptoclient_415T</th><th>last_relationshiptoclient_642T</th><th>first_relationshiptoclient_642T</th><th>n_unique_relationshiptoclient_642T</th><th>last_remitter_829L</th><th>first_remitter_829L</th><th>n_unique_remitter_829L</th><th>last_role_1084L</th><th>first_role_1084L</th><th>n_unique_role_1084L</th><th>last_role_993L</th><th>first_role_993L</th><th>n_unique_role_993L</th><th>last_safeguarantyflag_411L</th><th>first_safeguarantyflag_411L</th><th>n_unique_safeguarantyflag_411L</th><th>last_sex_738L</th><th>first_sex_738L</th><th>n_unique_sex_738L</th><th>last_type_25L</th><th>first_type_25L</th><th>n_unique_type_25L</th><th>max_num_group1</th></tr><tr><td>i64</td><td>date</td><td>i64</td><td>i64</td><td>i64</td><td>i32</td><td>f64</td><td>f64</td><td>f64</td><td>date</td><td>date</td><td>date</td><td>date</td><td>date</td><td>date</td><td>str</td><td>str</td><td>str</td><td>str</td><td>str</td><td>str</td><td>str</td><td>str</td><td>str</td><td>str</td><td>str</td><td>str</td><td>str</td><td>str</td><td>str</td><td>str</td><td>u32</td><td>u32</td><td>u32</td><td>u32</td><td>u32</td><td>u32</td><td>&hellip;</td><td>f64</td><td>f64</td><td>f64</td><td>f64</td><td>f64</td><td>f64</td><td>f64</td><td>f64</td><td>f64</td><td>f64</td><td>f64</td><td>f64</td><td>str</td><td>str</td><td>u32</td><td>str</td><td>str</td><td>u32</td><td>bool</td><td>bool</td><td>u32</td><td>str</td><td>str</td><td>u32</td><td>str</td><td>str</td><td>u32</td><td>bool</td><td>bool</td><td>u32</td><td>str</td><td>str</td><td>u32</td><td>str</td><td>str</td><td>u32</td><td>i64</td></tr></thead><tbody><tr><td>0</td><td>2019-01-03</td><td>201901</td><td>0</td><td>0</td><td>1</td><td>null</td><td>null</td><td>10800.0</td><td>1986-07-01</td><td>null</td><td>2017-09-15</td><td>1986-07-01</td><td>null</td><td>2017-09-15</td><td>&quot;a55475b1&quot;</td><td>&quot;a55475b1&quot;</td><td>&quot;a55475b1&quot;</td><td>&quot;a55475b1&quot;</td><td>&quot;a55475b1&quot;</td><td>&quot;a55475b1&quot;</td><td>&quot;a55475b1&quot;</td><td>&quot;a55475b1&quot;</td><td>&quot;P88_18_84&quot;</td><td>&quot;P167_100_165&quot;</td><td>&quot;P97_36_170&quot;</td><td>&quot;P142_57_166&quot;</td><td>&quot;P167_100_165&quot;</td><td>&quot;P10_39_147&quot;</td><td>&quot;P88_18_84&quot;</td><td>&quot;P167_100_165&quot;</td><td>2</td><td>2</td><td>2</td><td>2</td><td>2</td><td>2</td><td>&hellip;</td><td>1.0</td><td>1.0</td><td>null</td><td>0.0</td><td>2.75</td><td>4.25</td><td>5.0</td><td>1.0</td><td>3.333333</td><td>4.333333</td><td>null</td><td>1.0</td><td>null</td><td>null</td><td>3</td><td>&quot;COLLEAGUE&quot;</td><td>null</td><td>3</td><td>null</td><td>null</td><td>2</td><td>&quot;PE&quot;</td><td>&quot;CL&quot;</td><td>3</td><td>null</td><td>null</td><td>1</td><td>null</td><td>true</td><td>2</td><td>null</td><td>&quot;F&quot;</td><td>2</td><td>&quot;PHONE&quot;</td><td>&quot;PRIMARY_MOBILE…</td><td>2</td><td>3</td></tr><tr><td>1</td><td>2019-01-03</td><td>201901</td><td>0</td><td>0</td><td>1</td><td>null</td><td>null</td><td>10000.0</td><td>1957-08-01</td><td>null</td><td>2008-10-29</td><td>1957-08-01</td><td>null</td><td>2008-10-29</td><td>&quot;a55475b1&quot;</td><td>&quot;a55475b1&quot;</td><td>&quot;a55475b1&quot;</td><td>&quot;a55475b1&quot;</td><td>&quot;a55475b1&quot;</td><td>&quot;a55475b1&quot;</td><td>&quot;a55475b1&quot;</td><td>&quot;a55475b1&quot;</td><td>&quot;P103_93_94&quot;</td><td>&quot;P176_37_166&quot;</td><td>&quot;P97_36_170&quot;</td><td>&quot;P49_46_174&quot;</td><td>&quot;P160_59_140&quot;</td><td>&quot;P10_39_147&quot;</td><td>&quot;P103_93_94&quot;</td><td>&quot;P176_37_166&quot;</td><td>2</td><td>2</td><td>2</td><td>2</td><td>2</td><td>2</td><td>&hellip;</td><td>1.0</td><td>1.0</td><td>null</td><td>0.0</td><td>2.6</td><td>4.8</td><td>5.0</td><td>1.0</td><td>3.666667</td><td>5.333333</td><td>null</td><td>1.0</td><td>null</td><td>null</td><td>3</td><td>&quot;OTHER_RELATIVE…</td><td>null</td><td>3</td><td>null</td><td>null</td><td>2</td><td>&quot;PE&quot;</td><td>&quot;CL&quot;</td><td>3</td><td>null</td><td>null</td><td>1</td><td>null</td><td>true</td><td>2</td><td>null</td><td>&quot;M&quot;</td><td>2</td><td>&quot;PHONE&quot;</td><td>&quot;PRIMARY_MOBILE…</td><td>3</td><td>4</td></tr><tr><td>2</td><td>2019-01-04</td><td>201901</td><td>0</td><td>0</td><td>1</td><td>null</td><td>null</td><td>14000.0</td><td>1974-12-01</td><td>null</td><td>2010-02-15</td><td>1974-12-01</td><td>null</td><td>2010-02-15</td><td>&quot;a55475b1&quot;</td><td>&quot;a55475b1&quot;</td><td>&quot;a55475b1&quot;</td><td>&quot;a55475b1&quot;</td><td>&quot;a55475b1&quot;</td><td>&quot;a55475b1&quot;</td><td>&quot;a55475b1&quot;</td><td>&quot;a55475b1&quot;</td><td>&quot;P91_125_184&quot;</td><td>&quot;P161_5_97&quot;</td><td>&quot;P97_36_170&quot;</td><td>&quot;P63_14_24&quot;</td><td>&quot;P161_5_97&quot;</td><td>&quot;P10_39_147&quot;</td><td>&quot;P91_125_184&quot;</td><td>&quot;P161_5_97&quot;</td><td>2</td><td>2</td><td>2</td><td>2</td><td>2</td><td>2</td><td>&hellip;</td><td>1.0</td><td>1.0</td><td>null</td><td>0.0</td><td>2.4</td><td>3.8</td><td>4.0</td><td>1.0</td><td>3.333333</td><td>4.333333</td><td>null</td><td>1.0</td><td>null</td><td>null</td><td>3</td><td>&quot;SPOUSE&quot;</td><td>null</td><td>3</td><td>null</td><td>null</td><td>2</td><td>&quot;PE&quot;</td><td>&quot;EM&quot;</td><td>3</td><td>null</td><td>null</td><td>1</td><td>null</td><td>true</td><td>2</td><td>null</td><td>&quot;F&quot;</td><td>2</td><td>&quot;PHONE&quot;</td><td>&quot;PRIMARY_MOBILE…</td><td>3</td><td>4</td></tr><tr><td>3</td><td>2019-01-03</td><td>201901</td><td>0</td><td>0</td><td>1</td><td>null</td><td>null</td><td>10000.0</td><td>1993-08-01</td><td>null</td><td>2018-05-15</td><td>1993-08-01</td><td>null</td><td>2018-05-15</td><td>&quot;a55475b1&quot;</td><td>&quot;a55475b1&quot;</td><td>&quot;a55475b1&quot;</td><td>&quot;a55475b1&quot;</td><td>&quot;a55475b1&quot;</td><td>&quot;a55475b1&quot;</td><td>&quot;a55475b1&quot;</td><td>&quot;a55475b1&quot;</td><td>&quot;P155_139_77&quot;</td><td>&quot;P161_14_174&quot;</td><td>&quot;P33_146_175&quot;</td><td>&quot;P131_33_167&quot;</td><td>&quot;P161_14_174&quot;</td><td>&quot;P10_39_147&quot;</td><td>&quot;P155_139_77&quot;</td><td>&quot;P161_14_174&quot;</td><td>2</td><td>2</td><td>2</td><td>2</td><td>2</td><td>2</td><td>&hellip;</td><td>0.5</td><td>0.5</td><td>null</td><td>0.0</td><td>2.0</td><td>3.0</td><td>4.0</td><td>1.0</td><td>2.5</td><td>4.5</td><td>null</td><td>1.0</td><td>null</td><td>null</td><td>2</td><td>&quot;SPOUSE&quot;</td><td>null</td><td>2</td><td>null</td><td>null</td><td>2</td><td>&quot;PE&quot;</td><td>&quot;CL&quot;</td><td>3</td><td>null</td><td>null</td><td>1</td><td>null</td><td>true</td><td>2</td><td>null</td><td>&quot;F&quot;</td><td>2</td><td>&quot;PHONE&quot;</td><td>&quot;PRIMARY_MOBILE…</td><td>2</td><td>2</td></tr><tr><td>4</td><td>2019-01-04</td><td>201901</td><td>0</td><td>1</td><td>1</td><td>null</td><td>null</td><td>24000.0</td><td>1994-01-01</td><td>null</td><td>2014-12-15</td><td>1994-01-01</td><td>null</td><td>2014-12-15</td><td>&quot;a55475b1&quot;</td><td>&quot;a55475b1&quot;</td><td>&quot;a55475b1&quot;</td><td>&quot;a55475b1&quot;</td><td>&quot;a55475b1&quot;</td><td>&quot;a55475b1&quot;</td><td>&quot;a55475b1&quot;</td><td>&quot;a55475b1&quot;</td><td>&quot;P194_82_174&quot;</td><td>&quot;P8_88_79&quot;</td><td>&quot;P33_146_175&quot;</td><td>&quot;P62_144_102&quot;</td><td>&quot;P8_88_79&quot;</td><td>&quot;P10_39_147&quot;</td><td>&quot;P194_82_174&quot;</td><td>&quot;P8_88_79&quot;</td><td>2</td><td>2</td><td>2</td><td>2</td><td>2</td><td>2</td><td>&hellip;</td><td>1.0</td><td>1.0</td><td>null</td><td>0.0</td><td>3.0</td><td>5.333333</td><td>5.0</td><td>1.0</td><td>3.666667</td><td>5.333333</td><td>null</td><td>1.0</td><td>null</td><td>null</td><td>3</td><td>&quot;SIBLING&quot;</td><td>null</td><td>3</td><td>null</td><td>null</td><td>2</td><td>&quot;PE&quot;</td><td>&quot;CL&quot;</td><td>3</td><td>null</td><td>null</td><td>1</td><td>null</td><td>true</td><td>2</td><td>null</td><td>&quot;F&quot;</td><td>2</td><td>&quot;PHONE&quot;</td><td>&quot;PRIMARY_MOBILE…</td><td>2</td><td>3</td></tr><tr><td>5</td><td>2019-01-02</td><td>201901</td><td>0</td><td>0</td><td>1</td><td>null</td><td>null</td><td>64000.0</td><td>1979-10-01</td><td>null</td><td>2016-01-15</td><td>1979-10-01</td><td>null</td><td>2016-01-15</td><td>&quot;a55475b1&quot;</td><td>&quot;a55475b1&quot;</td><td>&quot;a55475b1&quot;</td><td>&quot;a55475b1&quot;</td><td>&quot;a55475b1&quot;</td><td>&quot;a55475b1&quot;</td><td>&quot;a55475b1&quot;</td><td>&quot;a55475b1&quot;</td><td>&quot;P54_133_26&quot;</td><td>&quot;P66_157_171&quot;</td><td>&quot;P97_36_170&quot;</td><td>&quot;P54_133_26&quot;</td><td>&quot;P45_57_146&quot;</td><td>&quot;P209_127_106&quot;</td><td>&quot;P54_133_26&quot;</td><td>&quot;P66_157_171&quot;</td><td>2</td><td>2</td><td>2</td><td>2</td><td>2</td><td>2</td><td>&hellip;</td><td>0.5</td><td>0.5</td><td>null</td><td>0.0</td><td>2.333333</td><td>5.333333</td><td>5.0</td><td>1.0</td><td>3.0</td><td>8.0</td><td>null</td><td>1.0</td><td>null</td><td>null</td><td>2</td><td>&quot;FRIEND&quot;</td><td>null</td><td>2</td><td>null</td><td>null</td><td>2</td><td>&quot;PE&quot;</td><td>&quot;CL&quot;</td><td>3</td><td>null</td><td>null</td><td>1</td><td>null</td><td>true</td><td>2</td><td>null</td><td>&quot;F&quot;</td><td>2</td><td>&quot;PHONE&quot;</td><td>&quot;PRIMARY_MOBILE…</td><td>2</td><td>2</td></tr><tr><td>6</td><td>2019-01-03</td><td>201901</td><td>0</td><td>0</td><td>1</td><td>null</td><td>null</td><td>20000.0</td><td>1991-01-01</td><td>1991-01-01</td><td>2013-09-15</td><td>1991-01-01</td><td>1991-01-01</td><td>2013-09-15</td><td>&quot;a55475b1&quot;</td><td>&quot;a55475b1&quot;</td><td>&quot;a55475b1&quot;</td><td>&quot;a55475b1&quot;</td><td>&quot;a55475b1&quot;</td><td>&quot;a55475b1&quot;</td><td>&quot;a55475b1&quot;</td><td>&quot;a55475b1&quot;</td><td>&quot;P82_154_182&quot;</td><td>&quot;P164_28_170&quot;</td><td>&quot;P97_36_170&quot;</td><td>&quot;P82_154_182&quot;</td><td>&quot;P164_28_170&quot;</td><td>&quot;P10_39_147&quot;</td><td>&quot;P112_89_137&quot;</td><td>&quot;P10_68_40&quot;</td><td>2</td><td>2</td><td>2</td><td>2</td><td>2</td><td>2</td><td>&hellip;</td><td>1.0</td><td>1.0</td><td>null</td><td>0.0</td><td>3.0</td><td>5.333333</td><td>5.0</td><td>1.0</td><td>3.666667</td><td>5.333333</td><td>null</td><td>1.0</td><td>null</td><td>null</td><td>2</td><td>&quot;SIBLING&quot;</td><td>null</td><td>2</td><td>null</td><td>null</td><td>2</td><td>&quot;PE&quot;</td><td>&quot;CL&quot;</td><td>3</td><td>null</td><td>&quot;FULL&quot;</td><td>2</td><td>null</td><td>true</td><td>2</td><td>null</td><td>&quot;F&quot;</td><td>2</td><td>&quot;PHONE&quot;</td><td>&quot;PRIMARY_MOBILE…</td><td>2</td><td>3</td></tr><tr><td>7</td><td>2019-01-03</td><td>201901</td><td>0</td><td>0</td><td>1</td><td>null</td><td>null</td><td>46000.0</td><td>1993-09-01</td><td>null</td><td>2018-09-15</td><td>1993-09-01</td><td>null</td><td>2018-09-15</td><td>&quot;a55475b1&quot;</td><td>&quot;a55475b1&quot;</td><td>&quot;a55475b1&quot;</td><td>&quot;a55475b1&quot;</td><td>&quot;a55475b1&quot;</td><td>&quot;a55475b1&quot;</td><td>&quot;a55475b1&quot;</td><td>&quot;a55475b1&quot;</td><td>&quot;P170_34_169&quot;</td><td>&quot;P44_33_176&quot;</td><td>&quot;P33_146_175&quot;</td><td>&quot;P54_133_26&quot;</td><td>&quot;P45_57_146&quot;</td><td>&quot;P209_127_106&quot;</td><td>&quot;P170_34_169&quot;</td><td>&quot;P44_33_176&quot;</td><td>2</td><td>2</td><td>2</td><td>2</td><td>2</td><td>2</td><td>&hellip;</td><td>1.0</td><td>1.0</td><td>null</td><td>0.0</td><td>3.0</td><td>5.333333</td><td>5.0</td><td>1.0</td><td>3.666667</td><td>5.333333</td><td>null</td><td>1.0</td><td>null</td><td>null</td><td>2</td><td>&quot;FRIEND&quot;</td><td>null</td><td>2</td><td>null</td><td>null</td><td>2</td><td>&quot;PE&quot;</td><td>&quot;EM&quot;</td><td>3</td><td>null</td><td>null</td><td>1</td><td>null</td><td>true</td><td>2</td><td>null</td><td>&quot;F&quot;</td><td>2</td><td>&quot;PHONE&quot;</td><td>&quot;PRIMARY_MOBILE…</td><td>2</td><td>3</td></tr><tr><td>8</td><td>2019-01-03</td><td>201901</td><td>0</td><td>0</td><td>1</td><td>null</td><td>null</td><td>90000.0</td><td>1982-11-01</td><td>null</td><td>2016-05-15</td><td>1982-11-01</td><td>null</td><td>2016-05-15</td><td>&quot;a55475b1&quot;</td><td>&quot;a55475b1&quot;</td><td>&quot;a55475b1&quot;</td><td>&quot;a55475b1&quot;</td><td>&quot;a55475b1&quot;</td><td>&quot;a55475b1&quot;</td><td>&quot;a55475b1&quot;</td><td>&quot;a55475b1&quot;</td><td>&quot;P93_57_167&quot;</td><td>&quot;P182_156_59&quot;</td><td>&quot;P97_36_170&quot;</td><td>&quot;P109_162_152&quot;</td><td>&quot;P45_25_38&quot;</td><td>&quot;P10_39_147&quot;</td><td>&quot;P93_57_167&quot;</td><td>&quot;P182_156_59&quot;</td><td>2</td><td>2</td><td>2</td><td>2</td><td>2</td><td>2</td><td>&hellip;</td><td>1.0</td><td>1.0</td><td>null</td><td>0.0</td><td>3.0</td><td>5.333333</td><td>5.0</td><td>1.0</td><td>3.666667</td><td>5.333333</td><td>null</td><td>1.0</td><td>null</td><td>null</td><td>2</td><td>&quot;FRIEND&quot;</td><td>null</td><td>2</td><td>null</td><td>null</td><td>2</td><td>&quot;PE&quot;</td><td>&quot;EM&quot;</td><td>3</td><td>null</td><td>null</td><td>1</td><td>null</td><td>true</td><td>2</td><td>null</td><td>&quot;M&quot;</td><td>2</td><td>&quot;PHONE&quot;</td><td>&quot;PRIMARY_MOBILE…</td><td>2</td><td>3</td></tr><tr><td>9</td><td>2019-01-03</td><td>201901</td><td>0</td><td>0</td><td>1</td><td>null</td><td>null</td><td>100000.0</td><td>1949-10-01</td><td>null</td><td>null</td><td>1949-10-01</td><td>null</td><td>null</td><td>&quot;a55475b1&quot;</td><td>&quot;a55475b1&quot;</td><td>&quot;a55475b1&quot;</td><td>&quot;a55475b1&quot;</td><td>&quot;a55475b1&quot;</td><td>&quot;a55475b1&quot;</td><td>&quot;a55475b1&quot;</td><td>&quot;a55475b1&quot;</td><td>&quot;P181_116_184&quot;</td><td>&quot;P42_117_149&quot;</td><td>&quot;P33_146_175&quot;</td><td>&quot;a55475b1&quot;</td><td>&quot;a55475b1&quot;</td><td>&quot;P209_127_106&quot;</td><td>&quot;P181_116_184&quot;</td><td>&quot;P42_117_149&quot;</td><td>2</td><td>2</td><td>2</td><td>1</td><td>1</td><td>2</td><td>&hellip;</td><td>0.5</td><td>0.5</td><td>1.0</td><td>0.0</td><td>3.0</td><td>8.0</td><td>5.0</td><td>1.0</td><td>3.0</td><td>8.0</td><td>5.0</td><td>1.0</td><td>&quot;CHILD&quot;</td><td>null</td><td>2</td><td>&quot;CHILD&quot;</td><td>null</td><td>2</td><td>false</td><td>null</td><td>2</td><td>&quot;PE&quot;</td><td>&quot;CL&quot;</td><td>2</td><td>null</td><td>null</td><td>1</td><td>null</td><td>true</td><td>2</td><td>null</td><td>&quot;M&quot;</td><td>2</td><td>&quot;PHONE&quot;</td><td>&quot;PRIMARY_MOBILE…</td><td>2</td><td>1</td></tr></tbody></table></div>"
     },
     "execution_count": 23,
     "metadata": {},
     "output_type": "execute_result"
    }
   ],
   "source": [
    "data.head(10)"
   ],
   "metadata": {
    "collapsed": false,
    "ExecuteTime": {
     "start_time": "2024-03-05T18:10:50.279691Z",
     "end_time": "2024-03-05T18:10:50.295821Z"
    }
   }
  },
  {
   "cell_type": "code",
   "execution_count": null,
   "outputs": [],
   "source": [
    "# def derived_features_between_cols(df, cols_list):\n",
    "#     for item in cols_list:\n",
    "#         print(item)\n",
    "#         col1 = item[0]\n",
    "#         col2 = item[1]\n",
    "#\n",
    "#         df = df.with_columns((pl.col(col2) - pl.col(col1)).alias(col2 + '_minus_' + col1))\n",
    "#         df = df.with_columns(operator.truediv(pl.col(col2), pl.col(col1)).alias(col2 + '_div_' + col1))\n",
    "#\n",
    "#     return df\n",
    "#\n",
    "# data = derived_features_between_cols(data, derive_list)"
   ],
   "metadata": {
    "collapsed": false
   }
  },
  {
   "cell_type": "code",
   "execution_count": 24,
   "outputs": [],
   "source": [
    "def handle_date(df):\n",
    "    for col in df.columns:\n",
    "        if col[-1] in (\"D\",) and df[col].dtype == pl.Date:\n",
    "            print(f'col [{col}] is date...')\n",
    "            df = df.with_columns(pl.col(col) - pl.col(\"date_decision\"))\n",
    "            df = df.with_columns(pl.col(col).dt.total_days())\n",
    "\n",
    "    # df = df.drop(\"date_decision\", \"MONTH\")\n",
    "    return df\n",
    "\n",
    "\n",
    "def handle_category(df):\n",
    "    dt_train = df.filter(pl.col('IS_TRAIN') == 1)\n",
    "    cols_list = df.columns\n",
    "    for col in cols_list:\n",
    "        if ((col[-1] in (\"M\",)) and ('WEEK_NUM' not in col) and (not col.startswith('n_unique'))) \\\n",
    "                or (col[-1] in (\"L\", \"P\") and (df[col].dtype == pl.String) or df[col].dtype == pl.Boolean):\n",
    "            freq = dt_train[col].n_unique()\n",
    "            if freq <= 10:\n",
    "                print(f'col [{col}] one hot encoded...')\n",
    "                encoder = OneHotEncoder(cols=[col], handle_unknown='indicator', handle_missing='indicator', use_cat_names=True)\n",
    "                encoder.fit(dt_train[col].to_pandas())\n",
    "                res_df = pl.from_pandas(encoder.transform(df[col].to_pandas()))\n",
    "                df = pl.concat([df, res_df], how=\"horizontal\")\n",
    "                df = df.drop(col)\n",
    "            else:\n",
    "                print(f'col [{col}] target encoded...')\n",
    "                encoder = TargetEncoder(cols=[col], handle_unknown='value', handle_missing='value') \\\n",
    "                            .fit(dt_train[col].to_pandas(), dt_train['target'].to_pandas())\n",
    "                df = df.with_columns(pl.from_pandas(encoder.transform(df[col].to_pandas())).to_series().alias(col + '_target_encoder'))\n",
    "                df = df.drop(col)\n",
    "\n",
    "    return df"
   ],
   "metadata": {
    "collapsed": false,
    "ExecuteTime": {
     "start_time": "2024-03-05T18:16:43.362348Z",
     "end_time": "2024-03-05T18:16:43.369862Z"
    }
   }
  },
  {
   "cell_type": "code",
   "execution_count": 25,
   "outputs": [
    {
     "name": "stdout",
     "output_type": "stream",
     "text": [
      "col [last_contaddr_district_15M] target encoded...\n",
      "col [last_contaddr_zipcode_807M] target encoded...\n",
      "col [last_education_927M] one hot encoded...\n",
      "col [last_empladdr_district_926M] target encoded...\n",
      "col [last_empladdr_zipcode_114M] target encoded...\n",
      "col [last_language1_981M] one hot encoded...\n",
      "col [last_registaddr_district_1083M] target encoded...\n",
      "col [last_registaddr_zipcode_184M] target encoded...\n",
      "col [first_contaddr_district_15M] target encoded...\n",
      "col [first_contaddr_zipcode_807M] target encoded...\n",
      "col [first_education_927M] one hot encoded...\n",
      "col [first_empladdr_district_926M] target encoded...\n",
      "col [first_empladdr_zipcode_114M] target encoded...\n",
      "col [first_language1_981M] one hot encoded...\n",
      "col [first_registaddr_district_1083M] target encoded...\n",
      "col [first_registaddr_zipcode_184M] target encoded...\n",
      "col [last_contaddr_matchlist_1032L] one hot encoded...\n",
      "col [first_contaddr_matchlist_1032L] one hot encoded...\n",
      "col [last_contaddr_smempladdr_334L] one hot encoded...\n",
      "col [first_contaddr_smempladdr_334L] one hot encoded...\n",
      "col [last_empl_employedtotal_800L] one hot encoded...\n",
      "col [first_empl_employedtotal_800L] one hot encoded...\n",
      "col [last_empl_industry_691L] one hot encoded...\n",
      "col [first_empl_industry_691L] target encoded...\n",
      "col [last_familystate_447L] one hot encoded...\n",
      "col [first_familystate_447L] one hot encoded...\n",
      "col [last_gender_992L] one hot encoded...\n",
      "col [first_gender_992L] one hot encoded...\n",
      "col [last_housetype_905L] one hot encoded...\n",
      "col [first_housetype_905L] one hot encoded...\n",
      "col [last_housingtype_772L] one hot encoded...\n",
      "col [first_housingtype_772L] one hot encoded...\n",
      "col [last_isreference_387L] one hot encoded...\n",
      "col [first_isreference_387L] one hot encoded...\n",
      "col [last_maritalst_703L] one hot encoded...\n",
      "col [first_maritalst_703L] one hot encoded...\n",
      "col [last_remitter_829L] one hot encoded...\n",
      "col [first_remitter_829L] one hot encoded...\n",
      "col [last_role_1084L] one hot encoded...\n",
      "col [first_role_1084L] one hot encoded...\n",
      "col [last_role_993L] one hot encoded...\n",
      "col [first_role_993L] one hot encoded...\n",
      "col [last_safeguarantyflag_411L] one hot encoded...\n",
      "col [first_safeguarantyflag_411L] one hot encoded...\n",
      "col [last_sex_738L] one hot encoded...\n",
      "col [first_sex_738L] one hot encoded...\n",
      "col [last_type_25L] one hot encoded...\n",
      "col [first_type_25L] one hot encoded...\n"
     ]
    }
   ],
   "source": [
    "data = data.pipe(handle_category)"
   ],
   "metadata": {
    "collapsed": false,
    "ExecuteTime": {
     "start_time": "2024-03-05T18:16:45.510719Z",
     "end_time": "2024-03-05T18:17:36.450590Z"
    }
   }
  },
  {
   "cell_type": "code",
   "execution_count": 26,
   "outputs": [
    {
     "name": "stdout",
     "output_type": "stream",
     "text": [
      "col [max_birth_259D] is date...\n",
      "col [max_birthdate_87D] is date...\n",
      "col [max_empl_employedfrom_271D] is date...\n",
      "col [min_birth_259D] is date...\n",
      "col [min_birthdate_87D] is date...\n",
      "col [min_empl_employedfrom_271D] is date...\n"
     ]
    }
   ],
   "source": [
    "data = data.pipe(handle_date)"
   ],
   "metadata": {
    "collapsed": false,
    "ExecuteTime": {
     "start_time": "2024-03-05T18:17:49.861289Z",
     "end_time": "2024-03-05T18:17:50.002823Z"
    }
   }
  },
  {
   "cell_type": "code",
   "execution_count": 27,
   "outputs": [
    {
     "data": {
      "text/plain": "(1526669, 254)"
     },
     "execution_count": 27,
     "metadata": {},
     "output_type": "execute_result"
    }
   ],
   "source": [
    "data.shape"
   ],
   "metadata": {
    "collapsed": false,
    "ExecuteTime": {
     "start_time": "2024-03-05T18:18:03.647775Z",
     "end_time": "2024-03-05T18:18:03.651842Z"
    }
   }
  },
  {
   "cell_type": "code",
   "execution_count": 28,
   "outputs": [],
   "source": [
    "def filter_cols(df):\n",
    "    dt_train = df.filter(pl.col('IS_TRAIN') == 1)\n",
    "    for col in df.columns:\n",
    "        if col not in [\"case_id\", \"WEEK_NUM\", \"date_decision\", \"MONTH\", \"IS_TRAIN\", \"target\"]:\n",
    "            isnull = dt_train[col].is_null().mean()\n",
    "\n",
    "            if isnull > 0.95:\n",
    "                print(f'col [{col}] to be null dropped...')\n",
    "                num_positive = dt_train.filter(pl.col(col).is_not_null() & pl.col(\"target\") == 1).shape[0]\n",
    "                if num_positive < 1000:\n",
    "                    df = df.drop(col)\n",
    "                    print(f'col [{col}] null dropped...')\n",
    "\n",
    "    for col in df.columns:\n",
    "        if (col not in [\"case_id\", \"WEEK_NUM\", \"date_decision\", \"MONTH\", \"IS_TRAIN\", \"target\"]) & (df[col].dtype == pl.String):\n",
    "            freq = dt_train[col].n_unique()\n",
    "\n",
    "            if freq == 1:\n",
    "                df = df.drop(col)\n",
    "                print(f'col [{col}] freq dropped...')\n",
    "\n",
    "    return df"
   ],
   "metadata": {
    "collapsed": false,
    "ExecuteTime": {
     "start_time": "2024-03-05T18:18:18.818809Z",
     "end_time": "2024-03-05T18:18:18.824991Z"
    }
   }
  },
  {
   "cell_type": "code",
   "execution_count": 29,
   "outputs": [
    {
     "name": "stdout",
     "output_type": "stream",
     "text": [
      "col [max_birthdate_87D] to be null dropped...\n",
      "col [max_birthdate_87D] null dropped...\n",
      "col [min_birthdate_87D] to be null dropped...\n",
      "col [min_birthdate_87D] null dropped...\n",
      "col [mean_childnum_185L] to be null dropped...\n",
      "col [mean_childnum_185L] null dropped...\n",
      "col [last_childnum_185L] to be null dropped...\n",
      "col [last_childnum_185L] null dropped...\n",
      "col [first_childnum_185L] to be null dropped...\n",
      "col [first_childnum_185L] null dropped...\n",
      "col [first_relationshiptoclient_415T] to be null dropped...\n",
      "col [first_relationshiptoclient_415T] null dropped...\n",
      "col [first_relationshiptoclient_642T] to be null dropped...\n",
      "col [first_relationshiptoclient_642T] null dropped...\n"
     ]
    }
   ],
   "source": [
    "data = data.pipe(filter_cols)"
   ],
   "metadata": {
    "collapsed": false,
    "ExecuteTime": {
     "start_time": "2024-03-05T18:18:22.032895Z",
     "end_time": "2024-03-05T18:18:24.555875Z"
    }
   }
  },
  {
   "cell_type": "code",
   "execution_count": 33,
   "outputs": [
    {
     "data": {
      "text/plain": "shape: (10, 243)\n┌─────────┬──────────┬────────────┬────────────┬───┬───────────┬───────────┬───────────┬───────────┐\n│ case_id ┆ IS_TRAIN ┆ var_mainoc ┆ last_maino ┆ … ┆ first_typ ┆ first_typ ┆ first_typ ┆ first_typ │\n│ ---     ┆ ---      ┆ cupationin ┆ ccupationi ┆   ┆ e_25L_WHA ┆ e_25L_PRI ┆ e_25L_nan ┆ e_25L_-1  │\n│ i64     ┆ i32      ┆ c_384A     ┆ nc_384A    ┆   ┆ TSAPP     ┆ MARY_EMAI ┆ ---       ┆ ---       │\n│         ┆          ┆ ---        ┆ ---        ┆   ┆ ---       ┆ L         ┆ i64       ┆ i64       │\n│         ┆          ┆ f64        ┆ f64        ┆   ┆ i64       ┆ ---       ┆           ┆           │\n│         ┆          ┆            ┆            ┆   ┆           ┆ i64       ┆           ┆           │\n╞═════════╪══════════╪════════════╪════════════╪═══╪═══════════╪═══════════╪═══════════╪═══════════╡\n│ 0       ┆ 1        ┆ null       ┆ null       ┆ … ┆ 0         ┆ 0         ┆ 0         ┆ 0         │\n│ 1       ┆ 1        ┆ null       ┆ null       ┆ … ┆ 0         ┆ 0         ┆ 0         ┆ 0         │\n│ 2       ┆ 1        ┆ null       ┆ null       ┆ … ┆ 0         ┆ 0         ┆ 0         ┆ 0         │\n│ 3       ┆ 1        ┆ null       ┆ null       ┆ … ┆ 0         ┆ 0         ┆ 0         ┆ 0         │\n│ 4       ┆ 1        ┆ null       ┆ null       ┆ … ┆ 0         ┆ 0         ┆ 0         ┆ 0         │\n│ 5       ┆ 1        ┆ null       ┆ null       ┆ … ┆ 0         ┆ 0         ┆ 0         ┆ 0         │\n│ 6       ┆ 1        ┆ null       ┆ null       ┆ … ┆ 0         ┆ 0         ┆ 0         ┆ 0         │\n│ 7       ┆ 1        ┆ null       ┆ null       ┆ … ┆ 0         ┆ 0         ┆ 0         ┆ 0         │\n│ 8       ┆ 1        ┆ null       ┆ null       ┆ … ┆ 0         ┆ 0         ┆ 0         ┆ 0         │\n│ 9       ┆ 1        ┆ null       ┆ null       ┆ … ┆ 0         ┆ 0         ┆ 0         ┆ 0         │\n└─────────┴──────────┴────────────┴────────────┴───┴───────────┴───────────┴───────────┴───────────┘",
      "text/html": "<div><style>\n.dataframe > thead > tr,\n.dataframe > tbody > tr {\n  text-align: right;\n  white-space: pre-wrap;\n}\n</style>\n<small>shape: (10, 243)</small><table border=\"1\" class=\"dataframe\"><thead><tr><th>case_id</th><th>IS_TRAIN</th><th>var_mainoccupationinc_384A</th><th>last_mainoccupationinc_384A</th><th>first_mainoccupationinc_384A</th><th>max_birth_259D</th><th>max_empl_employedfrom_271D</th><th>min_birth_259D</th><th>min_empl_employedfrom_271D</th><th>n_unique_contaddr_district_15M</th><th>n_unique_contaddr_zipcode_807M</th><th>n_unique_education_927M</th><th>n_unique_empladdr_district_926M</th><th>n_unique_empladdr_zipcode_114M</th><th>n_unique_language1_981M</th><th>n_unique_registaddr_district_1083M</th><th>n_unique_registaddr_zipcode_184M</th><th>var_childnum_185L</th><th>n_unique_contaddr_matchlist_1032L</th><th>n_unique_contaddr_smempladdr_334L</th><th>n_unique_empl_employedtotal_800L</th><th>n_unique_empl_industry_691L</th><th>n_unique_familystate_447L</th><th>n_unique_gender_992L</th><th>n_unique_housetype_905L</th><th>n_unique_housingtype_772L</th><th>last_incometype_1044T</th><th>first_incometype_1044T</th><th>n_unique_incometype_1044T</th><th>n_unique_isreference_387L</th><th>n_unique_maritalst_703L</th><th>mean_personindex_1023L</th><th>var_personindex_1023L</th><th>last_personindex_1023L</th><th>first_personindex_1023L</th><th>mean_persontype_1072L</th><th>var_persontype_1072L</th><th>&hellip;</th><th>last_role_993L_-1</th><th>first_role_993L_nan</th><th>first_role_993L_FULL</th><th>first_role_993L_-1</th><th>last_safeguarantyflag_411L_nan</th><th>last_safeguarantyflag_411L_True</th><th>last_safeguarantyflag_411L_False</th><th>last_safeguarantyflag_411L_-1</th><th>first_safeguarantyflag_411L_True</th><th>first_safeguarantyflag_411L_False</th><th>first_safeguarantyflag_411L_nan</th><th>first_safeguarantyflag_411L_-1</th><th>last_sex_738L_nan</th><th>last_sex_738L_F</th><th>last_sex_738L_M</th><th>last_sex_738L_-1</th><th>first_sex_738L_F</th><th>first_sex_738L_M</th><th>first_sex_738L_nan</th><th>first_sex_738L_-1</th><th>last_type_25L_PHONE</th><th>last_type_25L_PRIMARY_MOBILE</th><th>last_type_25L_HOME_PHONE</th><th>last_type_25L_nan</th><th>last_type_25L_ALTERNATIVE_PHONE</th><th>last_type_25L_SECONDARY_MOBILE</th><th>last_type_25L_PRIMARY_EMAIL</th><th>last_type_25L_TWITTER</th><th>last_type_25L_-1</th><th>first_type_25L_PRIMARY_MOBILE</th><th>first_type_25L_PHONE</th><th>first_type_25L_SECONDARY_MOBILE</th><th>first_type_25L_HOME_PHONE</th><th>first_type_25L_WHATSAPP</th><th>first_type_25L_PRIMARY_EMAIL</th><th>first_type_25L_nan</th><th>first_type_25L_-1</th></tr><tr><td>i64</td><td>i32</td><td>f64</td><td>f64</td><td>f64</td><td>i64</td><td>i64</td><td>i64</td><td>i64</td><td>u32</td><td>u32</td><td>u32</td><td>u32</td><td>u32</td><td>u32</td><td>u32</td><td>u32</td><td>f64</td><td>u32</td><td>u32</td><td>u32</td><td>u32</td><td>u32</td><td>u32</td><td>u32</td><td>u32</td><td>str</td><td>str</td><td>u32</td><td>u32</td><td>u32</td><td>f64</td><td>f64</td><td>f64</td><td>f64</td><td>f64</td><td>f64</td><td>&hellip;</td><td>i64</td><td>i64</td><td>i64</td><td>i64</td><td>i64</td><td>i64</td><td>i64</td><td>i64</td><td>i64</td><td>i64</td><td>i64</td><td>i64</td><td>i64</td><td>i64</td><td>i64</td><td>i64</td><td>i64</td><td>i64</td><td>i64</td><td>i64</td><td>i64</td><td>i64</td><td>i64</td><td>i64</td><td>i64</td><td>i64</td><td>i64</td><td>i64</td><td>i64</td><td>i64</td><td>i64</td><td>i64</td><td>i64</td><td>i64</td><td>i64</td><td>i64</td><td>i64</td></tr></thead><tbody><tr><td>0</td><td>1</td><td>null</td><td>null</td><td>10800.0</td><td>-11874</td><td>-475</td><td>-11874</td><td>-475</td><td>2</td><td>2</td><td>2</td><td>2</td><td>2</td><td>2</td><td>2</td><td>2</td><td>null</td><td>2</td><td>2</td><td>2</td><td>2</td><td>2</td><td>1</td><td>1</td><td>1</td><td>null</td><td>&quot;SALARIED_GOVT&quot;</td><td>2</td><td>1</td><td>1</td><td>1.0</td><td>1.0</td><td>null</td><td>0.0</td><td>2.75</td><td>4.25</td><td>&hellip;</td><td>0</td><td>1</td><td>0</td><td>0</td><td>1</td><td>0</td><td>0</td><td>0</td><td>1</td><td>0</td><td>0</td><td>0</td><td>1</td><td>0</td><td>0</td><td>0</td><td>1</td><td>0</td><td>0</td><td>0</td><td>1</td><td>0</td><td>0</td><td>0</td><td>0</td><td>0</td><td>0</td><td>0</td><td>0</td><td>1</td><td>0</td><td>0</td><td>0</td><td>0</td><td>0</td><td>0</td><td>0</td></tr><tr><td>1</td><td>1</td><td>null</td><td>null</td><td>10000.0</td><td>-22435</td><td>-3718</td><td>-22435</td><td>-3718</td><td>2</td><td>2</td><td>2</td><td>2</td><td>2</td><td>2</td><td>2</td><td>2</td><td>null</td><td>2</td><td>2</td><td>2</td><td>2</td><td>2</td><td>1</td><td>1</td><td>1</td><td>null</td><td>&quot;SALARIED_GOVT&quot;</td><td>2</td><td>1</td><td>1</td><td>1.0</td><td>1.0</td><td>null</td><td>0.0</td><td>2.6</td><td>4.8</td><td>&hellip;</td><td>0</td><td>1</td><td>0</td><td>0</td><td>1</td><td>0</td><td>0</td><td>0</td><td>1</td><td>0</td><td>0</td><td>0</td><td>1</td><td>0</td><td>0</td><td>0</td><td>0</td><td>1</td><td>0</td><td>0</td><td>1</td><td>0</td><td>0</td><td>0</td><td>0</td><td>0</td><td>0</td><td>0</td><td>0</td><td>1</td><td>0</td><td>0</td><td>0</td><td>0</td><td>0</td><td>0</td><td>0</td></tr><tr><td>2</td><td>1</td><td>null</td><td>null</td><td>14000.0</td><td>-16105</td><td>-3245</td><td>-16105</td><td>-3245</td><td>2</td><td>2</td><td>2</td><td>2</td><td>2</td><td>2</td><td>2</td><td>2</td><td>null</td><td>2</td><td>2</td><td>2</td><td>2</td><td>2</td><td>1</td><td>1</td><td>1</td><td>null</td><td>&quot;EMPLOYED&quot;</td><td>2</td><td>1</td><td>1</td><td>1.0</td><td>1.0</td><td>null</td><td>0.0</td><td>2.4</td><td>3.8</td><td>&hellip;</td><td>0</td><td>1</td><td>0</td><td>0</td><td>1</td><td>0</td><td>0</td><td>0</td><td>1</td><td>0</td><td>0</td><td>0</td><td>1</td><td>0</td><td>0</td><td>0</td><td>1</td><td>0</td><td>0</td><td>0</td><td>1</td><td>0</td><td>0</td><td>0</td><td>0</td><td>0</td><td>0</td><td>0</td><td>0</td><td>1</td><td>0</td><td>0</td><td>0</td><td>0</td><td>0</td><td>0</td><td>0</td></tr><tr><td>3</td><td>1</td><td>null</td><td>null</td><td>10000.0</td><td>-9286</td><td>-233</td><td>-9286</td><td>-233</td><td>2</td><td>2</td><td>2</td><td>2</td><td>2</td><td>2</td><td>2</td><td>2</td><td>null</td><td>2</td><td>2</td><td>2</td><td>2</td><td>2</td><td>1</td><td>1</td><td>1</td><td>null</td><td>&quot;EMPLOYED&quot;</td><td>2</td><td>1</td><td>1</td><td>0.5</td><td>0.5</td><td>null</td><td>0.0</td><td>2.0</td><td>3.0</td><td>&hellip;</td><td>0</td><td>1</td><td>0</td><td>0</td><td>1</td><td>0</td><td>0</td><td>0</td><td>1</td><td>0</td><td>0</td><td>0</td><td>1</td><td>0</td><td>0</td><td>0</td><td>1</td><td>0</td><td>0</td><td>0</td><td>1</td><td>0</td><td>0</td><td>0</td><td>0</td><td>0</td><td>0</td><td>0</td><td>0</td><td>1</td><td>0</td><td>0</td><td>0</td><td>0</td><td>0</td><td>0</td><td>0</td></tr><tr><td>4</td><td>1</td><td>null</td><td>null</td><td>24000.0</td><td>-9134</td><td>-1481</td><td>-9134</td><td>-1481</td><td>2</td><td>2</td><td>2</td><td>2</td><td>2</td><td>2</td><td>2</td><td>2</td><td>null</td><td>2</td><td>2</td><td>2</td><td>2</td><td>2</td><td>1</td><td>1</td><td>1</td><td>null</td><td>&quot;EMPLOYED&quot;</td><td>2</td><td>1</td><td>1</td><td>1.0</td><td>1.0</td><td>null</td><td>0.0</td><td>3.0</td><td>5.333333</td><td>&hellip;</td><td>0</td><td>1</td><td>0</td><td>0</td><td>1</td><td>0</td><td>0</td><td>0</td><td>1</td><td>0</td><td>0</td><td>0</td><td>1</td><td>0</td><td>0</td><td>0</td><td>1</td><td>0</td><td>0</td><td>0</td><td>1</td><td>0</td><td>0</td><td>0</td><td>0</td><td>0</td><td>0</td><td>0</td><td>0</td><td>1</td><td>0</td><td>0</td><td>0</td><td>0</td><td>0</td><td>0</td><td>0</td></tr><tr><td>5</td><td>1</td><td>null</td><td>null</td><td>64000.0</td><td>-14338</td><td>-1083</td><td>-14338</td><td>-1083</td><td>2</td><td>2</td><td>2</td><td>2</td><td>2</td><td>2</td><td>2</td><td>2</td><td>null</td><td>2</td><td>2</td><td>2</td><td>2</td><td>2</td><td>1</td><td>1</td><td>1</td><td>null</td><td>&quot;PRIVATE_SECTOR…</td><td>2</td><td>1</td><td>1</td><td>0.5</td><td>0.5</td><td>null</td><td>0.0</td><td>2.333333</td><td>5.333333</td><td>&hellip;</td><td>0</td><td>1</td><td>0</td><td>0</td><td>1</td><td>0</td><td>0</td><td>0</td><td>1</td><td>0</td><td>0</td><td>0</td><td>1</td><td>0</td><td>0</td><td>0</td><td>1</td><td>0</td><td>0</td><td>0</td><td>1</td><td>0</td><td>0</td><td>0</td><td>0</td><td>0</td><td>0</td><td>0</td><td>0</td><td>1</td><td>0</td><td>0</td><td>0</td><td>0</td><td>0</td><td>0</td><td>0</td></tr><tr><td>6</td><td>1</td><td>null</td><td>null</td><td>20000.0</td><td>-10229</td><td>-1936</td><td>-10229</td><td>-1936</td><td>2</td><td>2</td><td>2</td><td>2</td><td>2</td><td>2</td><td>2</td><td>2</td><td>null</td><td>2</td><td>2</td><td>2</td><td>2</td><td>2</td><td>2</td><td>1</td><td>2</td><td>null</td><td>&quot;EMPLOYED&quot;</td><td>2</td><td>3</td><td>2</td><td>1.0</td><td>1.0</td><td>null</td><td>0.0</td><td>3.0</td><td>5.333333</td><td>&hellip;</td><td>0</td><td>0</td><td>1</td><td>0</td><td>1</td><td>0</td><td>0</td><td>0</td><td>1</td><td>0</td><td>0</td><td>0</td><td>1</td><td>0</td><td>0</td><td>0</td><td>1</td><td>0</td><td>0</td><td>0</td><td>1</td><td>0</td><td>0</td><td>0</td><td>0</td><td>0</td><td>0</td><td>0</td><td>0</td><td>1</td><td>0</td><td>0</td><td>0</td><td>0</td><td>0</td><td>0</td><td>0</td></tr><tr><td>7</td><td>1</td><td>null</td><td>null</td><td>46000.0</td><td>-9255</td><td>-110</td><td>-9255</td><td>-110</td><td>2</td><td>2</td><td>2</td><td>2</td><td>2</td><td>2</td><td>2</td><td>2</td><td>null</td><td>2</td><td>2</td><td>2</td><td>2</td><td>2</td><td>1</td><td>1</td><td>1</td><td>null</td><td>&quot;SALARIED_GOVT&quot;</td><td>2</td><td>1</td><td>1</td><td>1.0</td><td>1.0</td><td>null</td><td>0.0</td><td>3.0</td><td>5.333333</td><td>&hellip;</td><td>0</td><td>1</td><td>0</td><td>0</td><td>1</td><td>0</td><td>0</td><td>0</td><td>1</td><td>0</td><td>0</td><td>0</td><td>1</td><td>0</td><td>0</td><td>0</td><td>1</td><td>0</td><td>0</td><td>0</td><td>1</td><td>0</td><td>0</td><td>0</td><td>0</td><td>0</td><td>0</td><td>0</td><td>0</td><td>1</td><td>0</td><td>0</td><td>0</td><td>0</td><td>0</td><td>0</td><td>0</td></tr><tr><td>8</td><td>1</td><td>null</td><td>null</td><td>90000.0</td><td>-13212</td><td>-963</td><td>-13212</td><td>-963</td><td>2</td><td>2</td><td>2</td><td>2</td><td>2</td><td>2</td><td>2</td><td>2</td><td>null</td><td>2</td><td>2</td><td>2</td><td>2</td><td>2</td><td>1</td><td>1</td><td>1</td><td>null</td><td>&quot;EMPLOYED&quot;</td><td>2</td><td>1</td><td>1</td><td>1.0</td><td>1.0</td><td>null</td><td>0.0</td><td>3.0</td><td>5.333333</td><td>&hellip;</td><td>0</td><td>1</td><td>0</td><td>0</td><td>1</td><td>0</td><td>0</td><td>0</td><td>1</td><td>0</td><td>0</td><td>0</td><td>1</td><td>0</td><td>0</td><td>0</td><td>0</td><td>1</td><td>0</td><td>0</td><td>1</td><td>0</td><td>0</td><td>0</td><td>0</td><td>0</td><td>0</td><td>0</td><td>0</td><td>1</td><td>0</td><td>0</td><td>0</td><td>0</td><td>0</td><td>0</td><td>0</td></tr><tr><td>9</td><td>1</td><td>null</td><td>null</td><td>100000.0</td><td>-25296</td><td>null</td><td>-25296</td><td>null</td><td>2</td><td>2</td><td>2</td><td>1</td><td>1</td><td>2</td><td>2</td><td>2</td><td>null</td><td>2</td><td>2</td><td>1</td><td>1</td><td>2</td><td>1</td><td>1</td><td>1</td><td>null</td><td>&quot;RETIRED_PENSIO…</td><td>2</td><td>1</td><td>1</td><td>0.5</td><td>0.5</td><td>1.0</td><td>0.0</td><td>3.0</td><td>8.0</td><td>&hellip;</td><td>0</td><td>1</td><td>0</td><td>0</td><td>1</td><td>0</td><td>0</td><td>0</td><td>1</td><td>0</td><td>0</td><td>0</td><td>1</td><td>0</td><td>0</td><td>0</td><td>0</td><td>1</td><td>0</td><td>0</td><td>1</td><td>0</td><td>0</td><td>0</td><td>0</td><td>0</td><td>0</td><td>0</td><td>0</td><td>1</td><td>0</td><td>0</td><td>0</td><td>0</td><td>0</td><td>0</td><td>0</td></tr></tbody></table></div>"
     },
     "execution_count": 33,
     "metadata": {},
     "output_type": "execute_result"
    }
   ],
   "source": [
    "data.head(10)"
   ],
   "metadata": {
    "collapsed": false,
    "ExecuteTime": {
     "start_time": "2024-03-05T18:19:17.562441Z",
     "end_time": "2024-03-05T18:19:17.577855Z"
    }
   }
  },
  {
   "cell_type": "code",
   "execution_count": 31,
   "outputs": [],
   "source": [
    "data = data.drop('date_decision', 'MONTH', 'WEEK_NUM', 'target')"
   ],
   "metadata": {
    "collapsed": false,
    "ExecuteTime": {
     "start_time": "2024-03-05T18:19:13.536530Z",
     "end_time": "2024-03-05T18:19:13.543438Z"
    }
   }
  },
  {
   "cell_type": "code",
   "execution_count": 32,
   "outputs": [
    {
     "data": {
      "text/plain": "(1526669, 243)"
     },
     "execution_count": 32,
     "metadata": {},
     "output_type": "execute_result"
    }
   ],
   "source": [
    "data.shape"
   ],
   "metadata": {
    "collapsed": false,
    "ExecuteTime": {
     "start_time": "2024-03-05T18:19:15.332718Z",
     "end_time": "2024-03-05T18:19:15.345548Z"
    }
   }
  },
  {
   "cell_type": "code",
   "execution_count": 34,
   "outputs": [],
   "source": [
    "preprocess_dir_path = \"/Users/sophie/workspace/data/kaggle/home-credit-credit-risk-model-stability/preprocess\"\n",
    "preprocess_file = 'person_1.parquet'\n",
    "preprocess_file_path = Path(os.path.join(preprocess_dir_path, preprocess_file))\n",
    "data.write_parquet(preprocess_file_path)"
   ],
   "metadata": {
    "collapsed": false,
    "ExecuteTime": {
     "start_time": "2024-03-05T18:19:30.063392Z",
     "end_time": "2024-03-05T18:19:32.690525Z"
    }
   }
  },
  {
   "cell_type": "code",
   "execution_count": null,
   "outputs": [],
   "source": [],
   "metadata": {
    "collapsed": false
   }
  }
 ],
 "metadata": {
  "kernelspec": {
   "display_name": "Python 3",
   "language": "python",
   "name": "python3"
  },
  "language_info": {
   "codemirror_mode": {
    "name": "ipython",
    "version": 2
   },
   "file_extension": ".py",
   "mimetype": "text/x-python",
   "name": "python",
   "nbconvert_exporter": "python",
   "pygments_lexer": "ipython2",
   "version": "2.7.6"
  }
 },
 "nbformat": 4,
 "nbformat_minor": 0
}
