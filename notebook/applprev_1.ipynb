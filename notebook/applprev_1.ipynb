{
 "cells": [
  {
   "cell_type": "code",
   "execution_count": 1,
   "metadata": {
    "collapsed": true,
    "ExecuteTime": {
     "start_time": "2024-03-01T14:12:23.885782Z",
     "end_time": "2024-03-01T14:12:23.893073Z"
    }
   },
   "outputs": [],
   "source": [
    "import warnings\n",
    "import os\n",
    "from glob import glob\n",
    "from pathlib import Path\n",
    "import operator\n",
    "\n",
    "import pandas as pd\n",
    "import polars as pl\n",
    "import polars.selectors as cs\n",
    "from sklearn import preprocessing\n",
    "from category_encoders import OneHotEncoder\n",
    "from category_encoders.target_encoder import TargetEncoder\n",
    "\n",
    "pd.set_option('display.float_format',lambda x : '%.6f' % x)\n",
    "warnings.filterwarnings('ignore')"
   ]
  },
  {
   "cell_type": "code",
   "execution_count": 2,
   "outputs": [],
   "source": [
    "def set_table_dtypes(df):\n",
    "    for col in df.columns:\n",
    "        if col in [\"case_id\", \"WEEK_NUM\", \"num_group1\", \"num_group2\", \"target\"]:\n",
    "            df = df.with_columns(pl.col(col).cast(pl.Int64))\n",
    "        elif col in [\"date_decision\"]:\n",
    "            df = df.with_columns(pl.col(col).cast(pl.Date))\n",
    "        elif col[-1] in (\"P\", \"A\"):\n",
    "            df = df.with_columns(pl.col(col).cast(pl.Float64))\n",
    "        elif col[-1] in (\"M\",):\n",
    "            df = df.with_columns(pl.col(col).cast(pl.String))\n",
    "        elif col[-1] in (\"D\",):\n",
    "            df = df.with_columns(pl.col(col).cast(pl.Date))\n",
    "\n",
    "    return df"
   ],
   "metadata": {
    "collapsed": false,
    "ExecuteTime": {
     "start_time": "2024-03-04T15:17:12.973969Z",
     "end_time": "2024-03-04T15:17:12.981821Z"
    }
   }
  },
  {
   "cell_type": "code",
   "execution_count": 3,
   "outputs": [],
   "source": [
    "def read_file(path, depth=None):\n",
    "    df = pl.read_parquet(path)\n",
    "    df = df.pipe(set_table_dtypes)\n",
    "    return df\n",
    "\n",
    "def read_files(regex_path, depth=None):\n",
    "    chunks = []\n",
    "    for path in glob(str(regex_path)):\n",
    "        chunks.append(pl.read_parquet(path).pipe(set_table_dtypes))\n",
    "\n",
    "    df = pl.concat(chunks, how=\"vertical_relaxed\")\n",
    "    return df"
   ],
   "metadata": {
    "collapsed": false,
    "ExecuteTime": {
     "start_time": "2024-03-04T15:17:16.122472Z",
     "end_time": "2024-03-04T15:17:16.131460Z"
    }
   }
  },
  {
   "cell_type": "code",
   "execution_count": 23,
   "outputs": [],
   "source": [
    "train_dir_path = \"/Users/sophie/workspace/data/kaggle/home-credit-credit-risk-model-stability/parquet_files/train\"\n",
    "test_dir_path = \"/Users/sophie/workspace/data/kaggle/home-credit-credit-risk-model-stability/parquet_files/test\"\n",
    "train_file = 'train_applprev_1_*.parquet'\n",
    "test_file = 'test_applprev_1_*.parquet'\n",
    "train_file_path = Path(os.path.join(train_dir_path, train_file))\n",
    "test_file_path = Path(os.path.join(test_dir_path, test_file))\n",
    "\n",
    "target_file = 'train_base.parquet'\n",
    "target_file_path = Path(os.path.join(train_dir_path, target_file))\n",
    "target_file_test = 'test_base.parquet'\n",
    "target_file_test_path = Path(os.path.join(test_dir_path, target_file_test))"
   ],
   "metadata": {
    "collapsed": false,
    "ExecuteTime": {
     "start_time": "2024-03-04T15:29:02.673406Z",
     "end_time": "2024-03-04T15:29:02.677486Z"
    }
   }
  },
  {
   "cell_type": "code",
   "execution_count": 24,
   "outputs": [],
   "source": [
    "df_base_train = read_file(target_file_path)\n",
    "df_base_train = df_base_train.with_columns(IS_TRAIN = pl.lit(1))\n",
    "df_train = read_files(train_file_path)\n",
    "df_train = df_base_train.join(df_train, how=\"left\", on=\"case_id\")"
   ],
   "metadata": {
    "collapsed": false,
    "ExecuteTime": {
     "start_time": "2024-03-04T15:29:12.516414Z",
     "end_time": "2024-03-04T15:29:17.778896Z"
    }
   }
  },
  {
   "cell_type": "code",
   "execution_count": 25,
   "outputs": [],
   "source": [
    "df_base_test = read_file(target_file_test_path)\n",
    "df_base_test = df_base_test.with_columns(target = None)\n",
    "df_base_test = df_base_test.with_columns(IS_TRAIN = pl.lit(0))\n",
    "df_test = read_files(test_file_path)\n",
    "df_test = df_base_test.join(df_test, how=\"left\", on=\"case_id\")"
   ],
   "metadata": {
    "collapsed": false,
    "ExecuteTime": {
     "start_time": "2024-03-04T15:29:35.128253Z",
     "end_time": "2024-03-04T15:29:35.150464Z"
    }
   }
  },
  {
   "cell_type": "code",
   "execution_count": 26,
   "outputs": [],
   "source": [
    "data = pl.concat([df_train, df_test], how=\"vertical_relaxed\")"
   ],
   "metadata": {
    "collapsed": false,
    "ExecuteTime": {
     "start_time": "2024-03-04T15:29:37.282286Z",
     "end_time": "2024-03-04T15:29:38.966843Z"
    }
   }
  },
  {
   "cell_type": "code",
   "execution_count": 27,
   "outputs": [],
   "source": [
    "data_base = pl.concat([df_base_train, df_base_test], how=\"vertical_relaxed\")"
   ],
   "metadata": {
    "collapsed": false,
    "ExecuteTime": {
     "start_time": "2024-03-04T15:29:55.093416Z",
     "end_time": "2024-03-04T15:29:55.118852Z"
    }
   }
  },
  {
   "cell_type": "code",
   "execution_count": 28,
   "outputs": [],
   "source": [
    "del df_train, df_test"
   ],
   "metadata": {
    "collapsed": false,
    "ExecuteTime": {
     "start_time": "2024-03-04T15:29:57.636722Z",
     "end_time": "2024-03-04T15:29:57.638784Z"
    }
   }
  },
  {
   "cell_type": "code",
   "execution_count": 31,
   "outputs": [
    {
     "data": {
      "text/plain": "shape: (5, 6)\n┌─────────┬───────────────┬────────┬──────────┬────────┬──────────┐\n│ case_id ┆ date_decision ┆ MONTH  ┆ WEEK_NUM ┆ target ┆ IS_TRAIN │\n│ ---     ┆ ---           ┆ ---    ┆ ---      ┆ ---    ┆ ---      │\n│ i64     ┆ date          ┆ i64    ┆ i64      ┆ i64    ┆ i32      │\n╞═════════╪═══════════════╪════════╪══════════╪════════╪══════════╡\n│ 0       ┆ 2019-01-03    ┆ 201901 ┆ 0        ┆ 0      ┆ 1        │\n│ 1       ┆ 2019-01-03    ┆ 201901 ┆ 0        ┆ 0      ┆ 1        │\n│ 2       ┆ 2019-01-04    ┆ 201901 ┆ 0        ┆ 0      ┆ 1        │\n│ 3       ┆ 2019-01-03    ┆ 201901 ┆ 0        ┆ 0      ┆ 1        │\n│ 4       ┆ 2019-01-04    ┆ 201901 ┆ 0        ┆ 1      ┆ 1        │\n└─────────┴───────────────┴────────┴──────────┴────────┴──────────┘",
      "text/html": "<div><style>\n.dataframe > thead > tr,\n.dataframe > tbody > tr {\n  text-align: right;\n  white-space: pre-wrap;\n}\n</style>\n<small>shape: (5, 6)</small><table border=\"1\" class=\"dataframe\"><thead><tr><th>case_id</th><th>date_decision</th><th>MONTH</th><th>WEEK_NUM</th><th>target</th><th>IS_TRAIN</th></tr><tr><td>i64</td><td>date</td><td>i64</td><td>i64</td><td>i64</td><td>i32</td></tr></thead><tbody><tr><td>0</td><td>2019-01-03</td><td>201901</td><td>0</td><td>0</td><td>1</td></tr><tr><td>1</td><td>2019-01-03</td><td>201901</td><td>0</td><td>0</td><td>1</td></tr><tr><td>2</td><td>2019-01-04</td><td>201901</td><td>0</td><td>0</td><td>1</td></tr><tr><td>3</td><td>2019-01-03</td><td>201901</td><td>0</td><td>0</td><td>1</td></tr><tr><td>4</td><td>2019-01-04</td><td>201901</td><td>0</td><td>1</td><td>1</td></tr></tbody></table></div>"
     },
     "execution_count": 31,
     "metadata": {},
     "output_type": "execute_result"
    }
   ],
   "source": [
    "data_base.head()"
   ],
   "metadata": {
    "collapsed": false,
    "ExecuteTime": {
     "start_time": "2024-03-04T15:30:12.953129Z",
     "end_time": "2024-03-04T15:30:12.957714Z"
    }
   }
  },
  {
   "cell_type": "code",
   "execution_count": 34,
   "outputs": [
    {
     "data": {
      "text/plain": "shape: (0, 46)\n┌─────────┬─────────────┬───────┬──────────┬───┬─────────────┬─────────────┬────────────┬──────────┐\n│ case_id ┆ date_decisi ┆ MONTH ┆ WEEK_NUM ┆ … ┆ revolvingac ┆ status_219L ┆ tenor_203L ┆ IS_TRAIN │\n│ ---     ┆ on          ┆ ---   ┆ ---      ┆   ┆ count_394A  ┆ ---         ┆ ---        ┆ ---      │\n│ i64     ┆ ---         ┆ i64   ┆ i64      ┆   ┆ ---         ┆ str         ┆ f64        ┆ i32      │\n│         ┆ date        ┆       ┆          ┆   ┆ f64         ┆             ┆            ┆          │\n╞═════════╪═════════════╪═══════╪══════════╪═══╪═════════════╪═════════════╪════════════╪══════════╡\n└─────────┴─────────────┴───────┴──────────┴───┴─────────────┴─────────────┴────────────┴──────────┘",
      "text/html": "<div><style>\n.dataframe > thead > tr,\n.dataframe > tbody > tr {\n  text-align: right;\n  white-space: pre-wrap;\n}\n</style>\n<small>shape: (0, 46)</small><table border=\"1\" class=\"dataframe\"><thead><tr><th>case_id</th><th>date_decision</th><th>MONTH</th><th>WEEK_NUM</th><th>target</th><th>actualdpd_943P</th><th>annuity_853A</th><th>approvaldate_319D</th><th>byoccupationinc_3656910L</th><th>cancelreason_3545846M</th><th>childnum_21L</th><th>creationdate_885D</th><th>credacc_actualbalance_314A</th><th>credacc_credlmt_575A</th><th>credacc_maxhisbal_375A</th><th>credacc_minhisbal_90A</th><th>credacc_status_367L</th><th>credacc_transactions_402L</th><th>credamount_590A</th><th>credtype_587L</th><th>currdebt_94A</th><th>dateactivated_425D</th><th>district_544M</th><th>downpmt_134A</th><th>dtlastpmt_581D</th><th>dtlastpmtallstes_3545839D</th><th>education_1138M</th><th>employedfrom_700D</th><th>familystate_726L</th><th>firstnonzeroinstldate_307D</th><th>inittransactioncode_279L</th><th>isbidproduct_390L</th><th>isdebitcard_527L</th><th>mainoccupationinc_437A</th><th>maxdpdtolerance_577P</th><th>num_group1</th><th>outstandingdebt_522A</th><th>pmtnum_8L</th><th>postype_4733339M</th><th>profession_152M</th><th>rejectreason_755M</th><th>rejectreasonclient_4145042M</th><th>revolvingaccount_394A</th><th>status_219L</th><th>tenor_203L</th><th>IS_TRAIN</th></tr><tr><td>i64</td><td>date</td><td>i64</td><td>i64</td><td>i64</td><td>f64</td><td>f64</td><td>date</td><td>f64</td><td>str</td><td>f64</td><td>date</td><td>f64</td><td>f64</td><td>f64</td><td>f64</td><td>str</td><td>f64</td><td>f64</td><td>str</td><td>f64</td><td>date</td><td>str</td><td>f64</td><td>date</td><td>date</td><td>str</td><td>date</td><td>str</td><td>date</td><td>str</td><td>bool</td><td>bool</td><td>f64</td><td>f64</td><td>i64</td><td>f64</td><td>f64</td><td>str</td><td>str</td><td>str</td><td>str</td><td>f64</td><td>str</td><td>f64</td><td>i32</td></tr></thead><tbody></tbody></table></div>"
     },
     "execution_count": 34,
     "metadata": {},
     "output_type": "execute_result"
    }
   ],
   "source": [
    "# df_train.filter(pl.col(\"case_id\") == 57633)"
   ],
   "metadata": {
    "collapsed": false,
    "ExecuteTime": {
     "start_time": "2024-03-01T15:24:49.972165Z",
     "end_time": "2024-03-01T15:24:50.008638Z"
    }
   }
  },
  {
   "cell_type": "code",
   "execution_count": 32,
   "outputs": [],
   "source": [
    "class Aggregator:\n",
    "    @staticmethod\n",
    "    def num_expr(df):\n",
    "        cols = [col for col in df.columns if col[-1] in (\"P\", \"A\")]\n",
    "\n",
    "        expr_num = []\n",
    "        expr_num.extend([pl.max(col).alias(f\"max_{col}\") for col in cols])\n",
    "        expr_num.extend([pl.min(col).alias(f\"min_{col}\") for col in cols])\n",
    "        expr_num.extend([pl.mean(col).alias(f\"mean_{col}\") for col in cols])\n",
    "        # expr_num.extend([pl.count(col).alias(f\"count_{col}\") for col in cols])\n",
    "        expr_num.extend([pl.var(col).alias(f\"var_{col}\") for col in cols])\n",
    "        expr_num.extend([pl.last(col).alias(f\"last_{col}\") for col in cols])\n",
    "        expr_num.extend([pl.first(col).alias(f\"first_{col}\") for col in cols])\n",
    "\n",
    "        return expr_num\n",
    "\n",
    "    @staticmethod\n",
    "    def date_expr(df):\n",
    "        cols = [col for col in df.columns if col[-1] in (\"D\",)]\n",
    "\n",
    "        expr_date = []\n",
    "        expr_date.extend([pl.max(col).alias(f\"max_{col}\") for col in cols])\n",
    "        expr_date.extend([pl.min(col).alias(f\"min_{col}\") for col in cols])\n",
    "\n",
    "        return expr_date\n",
    "\n",
    "    @staticmethod\n",
    "    def str_expr(df):\n",
    "        cols = [col for col in df.columns if col[-1] in (\"M\",)]\n",
    "        cols.remove('WEEK_NUM')\n",
    "\n",
    "        expr_str = []\n",
    "        expr_str.extend([pl.last(col).alias(f\"last_{col}\") for col in cols])\n",
    "        expr_str.extend([pl.first(col).alias(f\"first_{col}\") for col in cols])\n",
    "        expr_str.extend([pl.n_unique(col).alias(f\"n_unique_{col}\") for col in cols])\n",
    "\n",
    "        return expr_str\n",
    "\n",
    "    @staticmethod\n",
    "    def other_expr(df):\n",
    "        cols = [col for col in df.columns if col[-1] in (\"T\", \"L\")]\n",
    "\n",
    "        expr_other = []\n",
    "        expr_other.extend([pl.max(col).alias(f\"max_{col}\") for col in cols])\n",
    "        expr_other.extend([pl.min(col).alias(f\"min_{col}\") for col in cols])\n",
    "        expr_other.extend([pl.mean(col).alias(f\"mean_{col}\") for col in cols])\n",
    "        expr_other.extend([pl.var(col).alias(f\"var_{col}\") for col in cols])\n",
    "        expr_other.extend([pl.last(col).alias(f\"last_{col}\") for col in cols])\n",
    "        expr_other.extend([pl.first(col).alias(f\"first_{col}\") for col in cols])\n",
    "\n",
    "        return expr_other\n",
    "\n",
    "    @staticmethod\n",
    "    def count_expr(df):\n",
    "        cols = [col for col in df.columns if \"num_group\" in col]\n",
    "\n",
    "        expr_count = [pl.max(col).alias(f\"max_{col}\") for col in cols]\n",
    "\n",
    "        return expr_count\n",
    "\n",
    "    @staticmethod\n",
    "    def get_exprs(df):\n",
    "        exprs = Aggregator.num_expr(df) + \\\n",
    "                Aggregator.date_expr(df) + \\\n",
    "                Aggregator.str_expr(df) + \\\n",
    "                Aggregator.other_expr(df) + \\\n",
    "                Aggregator.count_expr(df)\n",
    "\n",
    "        return exprs"
   ],
   "metadata": {
    "collapsed": false,
    "ExecuteTime": {
     "start_time": "2024-03-04T15:30:22.432338Z",
     "end_time": "2024-03-04T15:30:22.436769Z"
    }
   }
  },
  {
   "cell_type": "code",
   "execution_count": 33,
   "outputs": [],
   "source": [
    "fea_agg = data.group_by(\"case_id\").agg(Aggregator.get_exprs(data))"
   ],
   "metadata": {
    "collapsed": false,
    "ExecuteTime": {
     "start_time": "2024-03-04T15:30:26.555694Z",
     "end_time": "2024-03-04T15:30:31.223732Z"
    }
   }
  },
  {
   "cell_type": "code",
   "execution_count": 34,
   "outputs": [
    {
     "data": {
      "text/plain": "(1526669, 187)"
     },
     "execution_count": 34,
     "metadata": {},
     "output_type": "execute_result"
    }
   ],
   "source": [
    "fea_agg.shape"
   ],
   "metadata": {
    "collapsed": false,
    "ExecuteTime": {
     "start_time": "2024-03-04T15:30:32.939670Z",
     "end_time": "2024-03-04T15:30:32.946683Z"
    }
   }
  },
  {
   "cell_type": "code",
   "execution_count": 86,
   "outputs": [],
   "source": [
    "data = data_base.join(fea_agg, how=\"left\", on=\"case_id\")"
   ],
   "metadata": {
    "collapsed": false,
    "ExecuteTime": {
     "start_time": "2024-03-04T16:23:30.713046Z",
     "end_time": "2024-03-04T16:23:32.959294Z"
    }
   }
  },
  {
   "cell_type": "code",
   "execution_count": 87,
   "outputs": [
    {
     "data": {
      "text/plain": "(1526669, 192)"
     },
     "execution_count": 87,
     "metadata": {},
     "output_type": "execute_result"
    }
   ],
   "source": [
    "data.shape"
   ],
   "metadata": {
    "collapsed": false,
    "ExecuteTime": {
     "start_time": "2024-03-04T16:23:37.107578Z",
     "end_time": "2024-03-04T16:23:37.117754Z"
    }
   }
  },
  {
   "cell_type": "code",
   "execution_count": 88,
   "outputs": [],
   "source": [
    "def filter_cols(df):\n",
    "    dt_train = df.filter(pl.col('IS_TRAIN') == 1)\n",
    "    for col in df.columns:\n",
    "        if col not in [\"case_id\", \"WEEK_NUM\", \"date_decision\", \"MONTH\", \"IS_TRAIN\", \"target\"]:\n",
    "            isnull = dt_train[col].is_null().mean()\n",
    "\n",
    "            if isnull > 0.95:\n",
    "                print(f'col [{col}] to be null dropped...')\n",
    "                num_positive = dt_train.filter(pl.col(col).is_not_null() & pl.col(\"target\") == 1).shape[0]\n",
    "                if num_positive < 1000:\n",
    "                    df = df.drop(col)\n",
    "                    print(f'col [{col}] null dropped...')\n",
    "\n",
    "    for col in df.columns:\n",
    "        if (col not in [\"case_id\", \"WEEK_NUM\", \"date_decision\", \"MONTH\", \"IS_TRAIN\", \"target\"]) & (df[col].dtype == pl.String):\n",
    "            freq = dt_train[col].n_unique()\n",
    "\n",
    "            if freq == 1:\n",
    "                df = df.drop(col)\n",
    "                print(f'col [{col}] freq dropped...')\n",
    "\n",
    "    return df"
   ],
   "metadata": {
    "collapsed": false,
    "ExecuteTime": {
     "start_time": "2024-03-04T16:23:40.413095Z",
     "end_time": "2024-03-04T16:23:40.416638Z"
    }
   }
  },
  {
   "cell_type": "code",
   "execution_count": 89,
   "outputs": [
    {
     "name": "stdout",
     "output_type": "stream",
     "text": [
      "col [var_credacc_actualbalance_314A] to be null dropped...\n",
      "col [var_credacc_maxhisbal_375A] to be null dropped...\n",
      "col [var_credacc_minhisbal_90A] to be null dropped...\n",
      "col [var_revolvingaccount_394A] to be null dropped...\n",
      "col [var_revolvingaccount_394A] null dropped...\n",
      "col [last_revolvingaccount_394A] to be null dropped...\n",
      "col [last_revolvingaccount_394A] null dropped...\n",
      "col [first_credacc_actualbalance_314A] to be null dropped...\n",
      "col [first_credacc_maxhisbal_375A] to be null dropped...\n",
      "col [first_credacc_minhisbal_90A] to be null dropped...\n",
      "col [mean_credacc_status_367L] to be null dropped...\n",
      "col [mean_credacc_status_367L] null dropped...\n",
      "col [mean_credtype_587L] to be null dropped...\n",
      "col [mean_credtype_587L] null dropped...\n",
      "col [mean_familystate_726L] to be null dropped...\n",
      "col [mean_familystate_726L] null dropped...\n",
      "col [mean_inittransactioncode_279L] to be null dropped...\n",
      "col [mean_inittransactioncode_279L] null dropped...\n",
      "col [mean_status_219L] to be null dropped...\n",
      "col [mean_status_219L] null dropped...\n",
      "col [var_credacc_status_367L] to be null dropped...\n",
      "col [var_credacc_status_367L] null dropped...\n",
      "col [var_credacc_transactions_402L] to be null dropped...\n",
      "col [var_credtype_587L] to be null dropped...\n",
      "col [var_credtype_587L] null dropped...\n",
      "col [var_familystate_726L] to be null dropped...\n",
      "col [var_familystate_726L] null dropped...\n",
      "col [var_inittransactioncode_279L] to be null dropped...\n",
      "col [var_inittransactioncode_279L] null dropped...\n",
      "col [var_status_219L] to be null dropped...\n",
      "col [var_status_219L] null dropped...\n",
      "col [last_isdebitcard_527L] to be null dropped...\n",
      "col [first_byoccupationinc_3656910L] to be null dropped...\n",
      "col [first_credacc_status_367L] to be null dropped...\n",
      "col [first_credacc_transactions_402L] to be null dropped...\n"
     ]
    }
   ],
   "source": [
    "data = data.pipe(filter_cols)"
   ],
   "metadata": {
    "collapsed": false,
    "ExecuteTime": {
     "start_time": "2024-03-04T16:23:41.301278Z",
     "end_time": "2024-03-04T16:23:44.463449Z"
    }
   }
  },
  {
   "cell_type": "code",
   "execution_count": 96,
   "outputs": [
    {
     "data": {
      "text/plain": "(1526669, 180)"
     },
     "execution_count": 96,
     "metadata": {},
     "output_type": "execute_result"
    }
   ],
   "source": [
    "data.shape"
   ],
   "metadata": {
    "collapsed": false,
    "ExecuteTime": {
     "start_time": "2024-03-04T16:34:24.353881Z",
     "end_time": "2024-03-04T16:34:24.365485Z"
    }
   }
  },
  {
   "cell_type": "code",
   "execution_count": 97,
   "outputs": [],
   "source": [
    "def handle_cross(df):\n",
    "    res_dict = {}\n",
    "    for col in df.columns:\n",
    "        suffix = col[-1]\n",
    "        if suffix in ['A', 'P'] or (suffix in ['L', 'T'] and (df[col].dtype in [pl.Int64, pl.Float64])):\n",
    "            prefix = col.split('_')[1]\n",
    "            fea = prefix + '_' + suffix\n",
    "            if fea not in res_dict:\n",
    "                res_dict[fea] = [col]\n",
    "            else:\n",
    "                res_dict[fea].append(col)\n",
    "\n",
    "    return [(k, v) for k, v in res_dict.items() if len(v)>1]"
   ],
   "metadata": {
    "collapsed": false,
    "ExecuteTime": {
     "start_time": "2024-03-04T16:34:28.608105Z",
     "end_time": "2024-03-04T16:34:28.614018Z"
    }
   }
  },
  {
   "cell_type": "code",
   "execution_count": 98,
   "outputs": [
    {
     "data": {
      "text/plain": "[('actualdpd_P',\n  ['max_actualdpd_943P',\n   'min_actualdpd_943P',\n   'mean_actualdpd_943P',\n   'var_actualdpd_943P',\n   'last_actualdpd_943P',\n   'first_actualdpd_943P']),\n ('annuity_A',\n  ['max_annuity_853A',\n   'min_annuity_853A',\n   'mean_annuity_853A',\n   'var_annuity_853A',\n   'last_annuity_853A',\n   'first_annuity_853A']),\n ('credacc_A',\n  ['max_credacc_actualbalance_314A',\n   'max_credacc_credlmt_575A',\n   'max_credacc_maxhisbal_375A',\n   'max_credacc_minhisbal_90A',\n   'min_credacc_actualbalance_314A',\n   'min_credacc_credlmt_575A',\n   'min_credacc_maxhisbal_375A',\n   'min_credacc_minhisbal_90A',\n   'mean_credacc_actualbalance_314A',\n   'mean_credacc_credlmt_575A',\n   'mean_credacc_maxhisbal_375A',\n   'mean_credacc_minhisbal_90A',\n   'var_credacc_actualbalance_314A',\n   'var_credacc_credlmt_575A',\n   'var_credacc_maxhisbal_375A',\n   'var_credacc_minhisbal_90A',\n   'last_credacc_actualbalance_314A',\n   'last_credacc_credlmt_575A',\n   'last_credacc_maxhisbal_375A',\n   'last_credacc_minhisbal_90A',\n   'first_credacc_actualbalance_314A',\n   'first_credacc_credlmt_575A',\n   'first_credacc_maxhisbal_375A',\n   'first_credacc_minhisbal_90A']),\n ('credamount_A',\n  ['max_credamount_590A',\n   'min_credamount_590A',\n   'mean_credamount_590A',\n   'var_credamount_590A',\n   'last_credamount_590A',\n   'first_credamount_590A']),\n ('currdebt_A',\n  ['max_currdebt_94A',\n   'min_currdebt_94A',\n   'mean_currdebt_94A',\n   'var_currdebt_94A',\n   'last_currdebt_94A',\n   'first_currdebt_94A']),\n ('downpmt_A',\n  ['max_downpmt_134A',\n   'min_downpmt_134A',\n   'mean_downpmt_134A',\n   'var_downpmt_134A',\n   'last_downpmt_134A',\n   'first_downpmt_134A']),\n ('mainoccupationinc_A',\n  ['max_mainoccupationinc_437A',\n   'min_mainoccupationinc_437A',\n   'mean_mainoccupationinc_437A',\n   'var_mainoccupationinc_437A',\n   'last_mainoccupationinc_437A',\n   'first_mainoccupationinc_437A']),\n ('maxdpdtolerance_P',\n  ['max_maxdpdtolerance_577P',\n   'min_maxdpdtolerance_577P',\n   'mean_maxdpdtolerance_577P',\n   'var_maxdpdtolerance_577P',\n   'last_maxdpdtolerance_577P',\n   'first_maxdpdtolerance_577P']),\n ('outstandingdebt_A',\n  ['max_outstandingdebt_522A',\n   'min_outstandingdebt_522A',\n   'mean_outstandingdebt_522A',\n   'var_outstandingdebt_522A',\n   'last_outstandingdebt_522A',\n   'first_outstandingdebt_522A']),\n ('revolvingaccount_A',\n  ['max_revolvingaccount_394A',\n   'min_revolvingaccount_394A',\n   'mean_revolvingaccount_394A',\n   'first_revolvingaccount_394A']),\n ('byoccupationinc_L',\n  ['max_byoccupationinc_3656910L',\n   'min_byoccupationinc_3656910L',\n   'mean_byoccupationinc_3656910L',\n   'var_byoccupationinc_3656910L',\n   'last_byoccupationinc_3656910L',\n   'first_byoccupationinc_3656910L']),\n ('childnum_L',\n  ['max_childnum_21L',\n   'min_childnum_21L',\n   'mean_childnum_21L',\n   'var_childnum_21L',\n   'last_childnum_21L',\n   'first_childnum_21L']),\n ('credacc_L',\n  ['max_credacc_transactions_402L',\n   'min_credacc_transactions_402L',\n   'mean_credacc_transactions_402L',\n   'var_credacc_transactions_402L',\n   'last_credacc_transactions_402L',\n   'first_credacc_transactions_402L']),\n ('pmtnum_L',\n  ['max_pmtnum_8L',\n   'min_pmtnum_8L',\n   'mean_pmtnum_8L',\n   'var_pmtnum_8L',\n   'last_pmtnum_8L',\n   'first_pmtnum_8L']),\n ('tenor_L',\n  ['max_tenor_203L',\n   'min_tenor_203L',\n   'mean_tenor_203L',\n   'var_tenor_203L',\n   'last_tenor_203L',\n   'first_tenor_203L']),\n ('isbidproduct_L', ['mean_isbidproduct_390L', 'var_isbidproduct_390L']),\n ('isdebitcard_L', ['mean_isdebitcard_527L', 'var_isdebitcard_527L'])]"
     },
     "execution_count": 98,
     "metadata": {},
     "output_type": "execute_result"
    }
   ],
   "source": [
    "tmp_dict = handle_cross(data)\n",
    "tmp_dict"
   ],
   "metadata": {
    "collapsed": false,
    "ExecuteTime": {
     "start_time": "2024-03-04T16:34:30.179937Z",
     "end_time": "2024-03-04T16:34:30.185786Z"
    }
   }
  },
  {
   "cell_type": "code",
   "execution_count": 99,
   "outputs": [
    {
     "data": {
      "text/plain": "[('min_actualdpd_943P', 'max_actualdpd_943P'),\n ('first_actualdpd_943P', 'last_actualdpd_943P'),\n ('min_annuity_853A', 'max_annuity_853A'),\n ('first_annuity_853A', 'last_annuity_853A'),\n ('min_credacc_actualbalance_314A', 'max_credacc_actualbalance_314A'),\n ('min_credacc_credlmt_575A', 'max_credacc_credlmt_575A'),\n ('min_credacc_minhisbal_90A', 'max_credacc_minhisbal_90A'),\n ('first_credacc_actualbalance_314A', 'last_credacc_actualbalance_314A'),\n ('first_credacc_credlmt_575A', 'last_credacc_credlmt_575A'),\n ('first_credacc_maxhisbal_375A', 'last_credacc_maxhisbal_375A'),\n ('first_credacc_minhisbal_90A', 'last_credacc_minhisbal_90A'),\n ('min_credamount_590A', 'max_credamount_590A'),\n ('first_credamount_590A', 'last_credamount_590A'),\n ('min_currdebt_94A', 'max_currdebt_94A'),\n ('first_currdebt_94A', 'last_currdebt_94A'),\n ('min_downpmt_134A', 'max_downpmt_134A'),\n ('first_downpmt_134A', 'last_downpmt_134A'),\n ('min_mainoccupationinc_437A', 'max_mainoccupationinc_437A'),\n ('first_mainoccupationinc_437A', 'last_mainoccupationinc_437A'),\n ('first_maxdpdtolerance_577P', 'last_maxdpdtolerance_577P'),\n ('min_outstandingdebt_522A', 'max_outstandingdebt_522A'),\n ('first_outstandingdebt_522A', 'last_outstandingdebt_522A'),\n ('min_revolvingaccount_394A', 'max_revolvingaccount_394A'),\n ('min_byoccupationinc_3656910L', 'max_byoccupationinc_3656910L'),\n ('first_byoccupationinc_3656910L', 'last_byoccupationinc_3656910L'),\n ('min_childnum_21L', 'max_childnum_21L'),\n ('first_childnum_21L', 'last_childnum_21L'),\n ('min_credacc_transactions_402L', 'max_credacc_transactions_402L'),\n ('first_credacc_transactions_402L', 'last_credacc_transactions_402L'),\n ('min_pmtnum_8L', 'max_pmtnum_8L'),\n ('first_pmtnum_8L', 'last_pmtnum_8L'),\n ('min_tenor_203L', 'max_tenor_203L'),\n ('first_tenor_203L', 'last_tenor_203L')]"
     },
     "execution_count": 99,
     "metadata": {},
     "output_type": "execute_result"
    }
   ],
   "source": [
    "derive_list = []\n",
    "for kvs in tmp_dict:\n",
    "    for item in kvs[1]:\n",
    "        if item.startswith('max') and (item.replace('max', 'min') in kvs[1]):\n",
    "            derive_list.append((item.replace('max', 'min'), item))\n",
    "        elif item.startswith('last') and (item.replace('last', 'first') in kvs[1]):\n",
    "            derive_list.append((item.replace('last', 'first'), item))\n",
    "        else:\n",
    "            pass\n",
    "\n",
    "derive_list"
   ],
   "metadata": {
    "collapsed": false,
    "ExecuteTime": {
     "start_time": "2024-03-04T16:35:40.817576Z",
     "end_time": "2024-03-04T16:35:40.826028Z"
    }
   }
  },
  {
   "cell_type": "code",
   "execution_count": 100,
   "outputs": [
    {
     "name": "stdout",
     "output_type": "stream",
     "text": [
      "('min_actualdpd_943P', 'max_actualdpd_943P')\n",
      "('first_actualdpd_943P', 'last_actualdpd_943P')\n",
      "('min_annuity_853A', 'max_annuity_853A')\n",
      "('first_annuity_853A', 'last_annuity_853A')\n",
      "('min_credacc_actualbalance_314A', 'max_credacc_actualbalance_314A')\n",
      "('min_credacc_credlmt_575A', 'max_credacc_credlmt_575A')\n",
      "('min_credacc_minhisbal_90A', 'max_credacc_minhisbal_90A')\n",
      "('first_credacc_actualbalance_314A', 'last_credacc_actualbalance_314A')\n",
      "('first_credacc_credlmt_575A', 'last_credacc_credlmt_575A')\n",
      "('first_credacc_maxhisbal_375A', 'last_credacc_maxhisbal_375A')\n",
      "('first_credacc_minhisbal_90A', 'last_credacc_minhisbal_90A')\n",
      "('min_credamount_590A', 'max_credamount_590A')\n",
      "('first_credamount_590A', 'last_credamount_590A')\n",
      "('min_currdebt_94A', 'max_currdebt_94A')\n",
      "('first_currdebt_94A', 'last_currdebt_94A')\n",
      "('min_downpmt_134A', 'max_downpmt_134A')\n",
      "('first_downpmt_134A', 'last_downpmt_134A')\n",
      "('min_mainoccupationinc_437A', 'max_mainoccupationinc_437A')\n",
      "('first_mainoccupationinc_437A', 'last_mainoccupationinc_437A')\n",
      "('first_maxdpdtolerance_577P', 'last_maxdpdtolerance_577P')\n",
      "('min_outstandingdebt_522A', 'max_outstandingdebt_522A')\n",
      "('first_outstandingdebt_522A', 'last_outstandingdebt_522A')\n",
      "('min_revolvingaccount_394A', 'max_revolvingaccount_394A')\n",
      "('min_byoccupationinc_3656910L', 'max_byoccupationinc_3656910L')\n",
      "('first_byoccupationinc_3656910L', 'last_byoccupationinc_3656910L')\n",
      "('min_childnum_21L', 'max_childnum_21L')\n",
      "('first_childnum_21L', 'last_childnum_21L')\n",
      "('min_credacc_transactions_402L', 'max_credacc_transactions_402L')\n",
      "('first_credacc_transactions_402L', 'last_credacc_transactions_402L')\n",
      "('min_pmtnum_8L', 'max_pmtnum_8L')\n",
      "('first_pmtnum_8L', 'last_pmtnum_8L')\n",
      "('min_tenor_203L', 'max_tenor_203L')\n",
      "('first_tenor_203L', 'last_tenor_203L')\n"
     ]
    }
   ],
   "source": [
    "def derived_features_between_cols(df, cols_list):\n",
    "    for item in cols_list:\n",
    "        print(item)\n",
    "        col1 = item[0]\n",
    "        col2 = item[1]\n",
    "\n",
    "        df = df.with_columns((pl.col(col2) - pl.col(col1)).alias(col2 + '_minus_' + col1))\n",
    "        df = df.with_columns(operator.truediv(pl.col(col2), pl.col(col1)).alias(col2 + '_div_' + col1))\n",
    "\n",
    "    return df\n",
    "\n",
    "data = derived_features_between_cols(data, derive_list)"
   ],
   "metadata": {
    "collapsed": false,
    "ExecuteTime": {
     "start_time": "2024-03-04T16:35:45.260415Z",
     "end_time": "2024-03-04T16:35:45.865670Z"
    }
   }
  },
  {
   "cell_type": "code",
   "execution_count": 101,
   "outputs": [
    {
     "data": {
      "text/plain": "(1526669, 246)"
     },
     "execution_count": 101,
     "metadata": {},
     "output_type": "execute_result"
    }
   ],
   "source": [
    "data.shape"
   ],
   "metadata": {
    "collapsed": false,
    "ExecuteTime": {
     "start_time": "2024-03-04T16:35:52.935698Z",
     "end_time": "2024-03-04T16:35:52.938104Z"
    }
   }
  },
  {
   "cell_type": "code",
   "execution_count": 106,
   "outputs": [],
   "source": [
    "def handle_date(df):\n",
    "    for col in df.columns:\n",
    "        if col[-1] in (\"D\",) and df[col].dtype == pl.Date:\n",
    "            print(f'col [{col}] is date...')\n",
    "            df = df.with_columns(pl.col(col) - pl.col(\"date_decision\"))\n",
    "            df = df.with_columns(pl.col(col).dt.total_days())\n",
    "\n",
    "    # df = df.drop(\"date_decision\", \"MONTH\")\n",
    "    return df\n",
    "\n",
    "\n",
    "def handle_category(df):\n",
    "    dt_train = df.filter(pl.col('IS_TRAIN') == 1)\n",
    "    cols_list = df.columns\n",
    "    for col in cols_list:\n",
    "        if ((col[-1] in (\"M\",)) and ('WEEK_NUM' not in col) and (not col.startswith('n_unique'))) \\\n",
    "                or (col[-1] in (\"L\", \"P\") and (df[col].dtype == pl.String)):\n",
    "            freq = dt_train[col].n_unique()\n",
    "            if freq <= 10:\n",
    "                print(f'col [{col}] one hot encoded...')\n",
    "                encoder = OneHotEncoder(cols=[col], handle_unknown='indicator', handle_missing='indicator', use_cat_names=True)\n",
    "                encoder.fit(dt_train[col].to_pandas())\n",
    "                res_df = pl.from_pandas(encoder.transform(df[col].to_pandas()))\n",
    "                df = pl.concat([df, res_df], how=\"horizontal\")\n",
    "                df = df.drop(col)\n",
    "            else:\n",
    "                print(f'col [{col}] target encoded...')\n",
    "                encoder = TargetEncoder(cols=[col], handle_unknown='value', handle_missing='value') \\\n",
    "                            .fit(dt_train[col].to_pandas(), dt_train['target'].to_pandas())\n",
    "                df = df.with_columns(pl.from_pandas(encoder.transform(df[col].to_pandas())).to_series().alias(col + '_target_encoder'))\n",
    "                df = df.drop(col)\n",
    "\n",
    "    return df"
   ],
   "metadata": {
    "collapsed": false,
    "ExecuteTime": {
     "start_time": "2024-03-04T16:39:33.667304Z",
     "end_time": "2024-03-04T16:39:33.672550Z"
    }
   }
  },
  {
   "cell_type": "code",
   "execution_count": 103,
   "outputs": [
    {
     "name": "stdout",
     "output_type": "stream",
     "text": [
      "col [last_cancelreason_3545846M] target encoded...\n",
      "col [last_district_544M] target encoded...\n",
      "col [last_education_1138M] one hot encoded...\n",
      "col [last_postype_4733339M] one hot encoded...\n",
      "col [last_profession_152M] target encoded...\n",
      "col [last_rejectreason_755M] target encoded...\n",
      "col [last_rejectreasonclient_4145042M] target encoded...\n",
      "col [first_cancelreason_3545846M] target encoded...\n",
      "col [first_district_544M] target encoded...\n",
      "col [first_education_1138M] one hot encoded...\n",
      "col [first_postype_4733339M] one hot encoded...\n",
      "col [first_profession_152M] target encoded...\n",
      "col [first_rejectreason_755M] target encoded...\n",
      "col [first_rejectreasonclient_4145042M] target encoded...\n",
      "col [max_credacc_status_367L] one hot encoded...\n",
      "col [max_credtype_587L] one hot encoded...\n",
      "col [max_familystate_726L] one hot encoded...\n",
      "col [max_inittransactioncode_279L] one hot encoded...\n",
      "col [max_status_219L] target encoded...\n",
      "col [min_credacc_status_367L] one hot encoded...\n",
      "col [min_credtype_587L] one hot encoded...\n",
      "col [min_familystate_726L] one hot encoded...\n",
      "col [min_inittransactioncode_279L] one hot encoded...\n",
      "col [min_status_219L] one hot encoded...\n",
      "col [last_credacc_status_367L] one hot encoded...\n",
      "col [last_credtype_587L] one hot encoded...\n",
      "col [last_familystate_726L] one hot encoded...\n",
      "col [last_inittransactioncode_279L] one hot encoded...\n",
      "col [last_status_219L] target encoded...\n",
      "col [first_credacc_status_367L] one hot encoded...\n",
      "col [first_credtype_587L] one hot encoded...\n",
      "col [first_familystate_726L] one hot encoded...\n",
      "col [first_inittransactioncode_279L] one hot encoded...\n",
      "col [first_status_219L] target encoded...\n"
     ]
    }
   ],
   "source": [
    "data = data.pipe(handle_category)"
   ],
   "metadata": {
    "collapsed": false,
    "ExecuteTime": {
     "start_time": "2024-03-04T16:36:25.023064Z",
     "end_time": "2024-03-04T16:37:02.825967Z"
    }
   }
  },
  {
   "cell_type": "code",
   "execution_count": 107,
   "outputs": [
    {
     "name": "stdout",
     "output_type": "stream",
     "text": [
      "col [max_approvaldate_319D] is date...\n",
      "col [max_creationdate_885D] is date...\n",
      "col [max_dateactivated_425D] is date...\n",
      "col [max_dtlastpmt_581D] is date...\n",
      "col [max_dtlastpmtallstes_3545839D] is date...\n",
      "col [max_employedfrom_700D] is date...\n",
      "col [max_firstnonzeroinstldate_307D] is date...\n",
      "col [min_approvaldate_319D] is date...\n",
      "col [min_creationdate_885D] is date...\n",
      "col [min_dateactivated_425D] is date...\n",
      "col [min_dtlastpmt_581D] is date...\n",
      "col [min_dtlastpmtallstes_3545839D] is date...\n",
      "col [min_employedfrom_700D] is date...\n",
      "col [min_firstnonzeroinstldate_307D] is date...\n"
     ]
    }
   ],
   "source": [
    "data = data.pipe(handle_date)"
   ],
   "metadata": {
    "collapsed": false,
    "ExecuteTime": {
     "start_time": "2024-03-04T16:39:38.193483Z",
     "end_time": "2024-03-04T16:39:38.440962Z"
    }
   }
  },
  {
   "cell_type": "code",
   "execution_count": null,
   "outputs": [],
   "source": [
    "# data.select('max_familystate_726L',).filter(pl.col('max_familystate_726L').is_not_null())"
   ],
   "metadata": {
    "collapsed": false,
    "ExecuteTime": {
     "start_time": "2024-03-04T16:15:32.468642Z",
     "end_time": "2024-03-04T16:15:32.487831Z"
    }
   }
  },
  {
   "cell_type": "code",
   "execution_count": 112,
   "outputs": [
    {
     "data": {
      "text/plain": "shape: (10, 370)\n┌─────────┬──────────┬────────────┬────────────┬───┬───────────┬───────────┬───────────┬───────────┐\n│ case_id ┆ IS_TRAIN ┆ max_actual ┆ max_annuit ┆ … ┆ first_ini ┆ first_ini ┆ first_ini ┆ first_sta │\n│ ---     ┆ ---      ┆ dpd_943P   ┆ y_853A     ┆   ┆ ttransact ┆ ttransact ┆ ttransact ┆ tus_219L_ │\n│ i64     ┆ i32      ┆ ---        ┆ ---        ┆   ┆ ioncode_2 ┆ ioncode_2 ┆ ioncode_2 ┆ target_en │\n│         ┆          ┆ f64        ┆ f64        ┆   ┆ 79L_P…    ┆ 79L_N…    ┆ 79L_-…    ┆ coder     │\n│         ┆          ┆            ┆            ┆   ┆ ---       ┆ ---       ┆ ---       ┆ ---       │\n│         ┆          ┆            ┆            ┆   ┆ i64       ┆ i64       ┆ i64       ┆ f64       │\n╞═════════╪══════════╪════════════╪════════════╪═══╪═══════════╪═══════════╪═══════════╪═══════════╡\n│ 0       ┆ 1        ┆ null       ┆ null       ┆ … ┆ 0         ┆ 0         ┆ 0         ┆ 0.022013  │\n│ 1       ┆ 1        ┆ null       ┆ null       ┆ … ┆ 0         ┆ 0         ┆ 0         ┆ 0.022013  │\n│ 2       ┆ 1        ┆ 0.0        ┆ 1682.4     ┆ … ┆ 0         ┆ 0         ┆ 0         ┆ 0.051011  │\n│ 3       ┆ 1        ┆ 0.0        ┆ 6140.0     ┆ … ┆ 0         ┆ 0         ┆ 0         ┆ 0.051011  │\n│ 4       ┆ 1        ┆ 0.0        ┆ 2556.6     ┆ … ┆ 0         ┆ 0         ┆ 0         ┆ 0.028031  │\n│ 5       ┆ 1        ┆ 0.0        ┆ null       ┆ … ┆ 0         ┆ 0         ┆ 0         ┆ 0.028031  │\n│ 6       ┆ 1        ┆ 0.0        ┆ 4189.6     ┆ … ┆ 0         ┆ 0         ┆ 0         ┆ 0.051011  │\n│ 7       ┆ 1        ┆ null       ┆ null       ┆ … ┆ 0         ┆ 0         ┆ 0         ┆ 0.022013  │\n│ 8       ┆ 1        ┆ null       ┆ null       ┆ … ┆ 0         ┆ 0         ┆ 0         ┆ 0.022013  │\n│ 9       ┆ 1        ┆ null       ┆ null       ┆ … ┆ 0         ┆ 0         ┆ 0         ┆ 0.022013  │\n└─────────┴──────────┴────────────┴────────────┴───┴───────────┴───────────┴───────────┴───────────┘",
      "text/html": "<div><style>\n.dataframe > thead > tr,\n.dataframe > tbody > tr {\n  text-align: right;\n  white-space: pre-wrap;\n}\n</style>\n<small>shape: (10, 370)</small><table border=\"1\" class=\"dataframe\"><thead><tr><th>case_id</th><th>IS_TRAIN</th><th>max_actualdpd_943P</th><th>max_annuity_853A</th><th>max_credacc_actualbalance_314A</th><th>max_credacc_credlmt_575A</th><th>max_credacc_maxhisbal_375A</th><th>max_credacc_minhisbal_90A</th><th>max_credamount_590A</th><th>max_currdebt_94A</th><th>max_downpmt_134A</th><th>max_mainoccupationinc_437A</th><th>max_maxdpdtolerance_577P</th><th>max_outstandingdebt_522A</th><th>max_revolvingaccount_394A</th><th>min_actualdpd_943P</th><th>min_annuity_853A</th><th>min_credacc_actualbalance_314A</th><th>min_credacc_credlmt_575A</th><th>min_credacc_maxhisbal_375A</th><th>min_credacc_minhisbal_90A</th><th>min_credamount_590A</th><th>min_currdebt_94A</th><th>min_downpmt_134A</th><th>min_mainoccupationinc_437A</th><th>min_maxdpdtolerance_577P</th><th>min_outstandingdebt_522A</th><th>min_revolvingaccount_394A</th><th>mean_actualdpd_943P</th><th>mean_annuity_853A</th><th>mean_credacc_actualbalance_314A</th><th>mean_credacc_credlmt_575A</th><th>mean_credacc_maxhisbal_375A</th><th>mean_credacc_minhisbal_90A</th><th>mean_credamount_590A</th><th>mean_currdebt_94A</th><th>mean_downpmt_134A</th><th>&hellip;</th><th>last_familystate_726L_MARRIED</th><th>last_familystate_726L_DIVORCED</th><th>last_familystate_726L_WIDOWED</th><th>last_familystate_726L_LIVING_WITH_PARTNER</th><th>last_familystate_726L_-1</th><th>last_inittransactioncode_279L_nan</th><th>last_inittransactioncode_279L_CASH</th><th>last_inittransactioncode_279L_POS</th><th>last_inittransactioncode_279L_NDF</th><th>last_inittransactioncode_279L_-1</th><th>last_status_219L_target_encoder</th><th>first_credacc_status_367L_nan</th><th>first_credacc_status_367L_CL</th><th>first_credacc_status_367L_AC</th><th>first_credacc_status_367L_CA</th><th>first_credacc_status_367L_CR</th><th>first_credacc_status_367L_PO</th><th>first_credacc_status_367L_PCL</th><th>first_credacc_status_367L_-1</th><th>first_credtype_587L_nan</th><th>first_credtype_587L_CAL</th><th>first_credtype_587L_COL</th><th>first_credtype_587L_REL</th><th>first_credtype_587L_-1</th><th>first_familystate_726L_nan</th><th>first_familystate_726L_SINGLE</th><th>first_familystate_726L_MARRIED</th><th>first_familystate_726L_WIDOWED</th><th>first_familystate_726L_DIVORCED</th><th>first_familystate_726L_LIVING_WITH_PARTNER</th><th>first_familystate_726L_-1</th><th>first_inittransactioncode_279L_nan</th><th>first_inittransactioncode_279L_CASH</th><th>first_inittransactioncode_279L_POS</th><th>first_inittransactioncode_279L_NDF</th><th>first_inittransactioncode_279L_-1</th><th>first_status_219L_target_encoder</th></tr><tr><td>i64</td><td>i32</td><td>f64</td><td>f64</td><td>f64</td><td>f64</td><td>f64</td><td>f64</td><td>f64</td><td>f64</td><td>f64</td><td>f64</td><td>f64</td><td>f64</td><td>f64</td><td>f64</td><td>f64</td><td>f64</td><td>f64</td><td>f64</td><td>f64</td><td>f64</td><td>f64</td><td>f64</td><td>f64</td><td>f64</td><td>f64</td><td>f64</td><td>f64</td><td>f64</td><td>f64</td><td>f64</td><td>f64</td><td>f64</td><td>f64</td><td>f64</td><td>f64</td><td>&hellip;</td><td>i64</td><td>i64</td><td>i64</td><td>i64</td><td>i64</td><td>i64</td><td>i64</td><td>i64</td><td>i64</td><td>i64</td><td>f64</td><td>i64</td><td>i64</td><td>i64</td><td>i64</td><td>i64</td><td>i64</td><td>i64</td><td>i64</td><td>i64</td><td>i64</td><td>i64</td><td>i64</td><td>i64</td><td>i64</td><td>i64</td><td>i64</td><td>i64</td><td>i64</td><td>i64</td><td>i64</td><td>i64</td><td>i64</td><td>i64</td><td>i64</td><td>i64</td><td>f64</td></tr></thead><tbody><tr><td>0</td><td>1</td><td>null</td><td>null</td><td>null</td><td>null</td><td>null</td><td>null</td><td>null</td><td>null</td><td>null</td><td>null</td><td>null</td><td>null</td><td>null</td><td>null</td><td>null</td><td>null</td><td>null</td><td>null</td><td>null</td><td>null</td><td>null</td><td>null</td><td>null</td><td>null</td><td>null</td><td>null</td><td>null</td><td>null</td><td>null</td><td>null</td><td>null</td><td>null</td><td>null</td><td>null</td><td>null</td><td>&hellip;</td><td>0</td><td>0</td><td>0</td><td>0</td><td>0</td><td>1</td><td>0</td><td>0</td><td>0</td><td>0</td><td>0.022015</td><td>1</td><td>0</td><td>0</td><td>0</td><td>0</td><td>0</td><td>0</td><td>0</td><td>1</td><td>0</td><td>0</td><td>0</td><td>0</td><td>1</td><td>0</td><td>0</td><td>0</td><td>0</td><td>0</td><td>0</td><td>1</td><td>0</td><td>0</td><td>0</td><td>0</td><td>0.022013</td></tr><tr><td>1</td><td>1</td><td>null</td><td>null</td><td>null</td><td>null</td><td>null</td><td>null</td><td>null</td><td>null</td><td>null</td><td>null</td><td>null</td><td>null</td><td>null</td><td>null</td><td>null</td><td>null</td><td>null</td><td>null</td><td>null</td><td>null</td><td>null</td><td>null</td><td>null</td><td>null</td><td>null</td><td>null</td><td>null</td><td>null</td><td>null</td><td>null</td><td>null</td><td>null</td><td>null</td><td>null</td><td>null</td><td>&hellip;</td><td>0</td><td>0</td><td>0</td><td>0</td><td>0</td><td>1</td><td>0</td><td>0</td><td>0</td><td>0</td><td>0.022015</td><td>1</td><td>0</td><td>0</td><td>0</td><td>0</td><td>0</td><td>0</td><td>0</td><td>1</td><td>0</td><td>0</td><td>0</td><td>0</td><td>1</td><td>0</td><td>0</td><td>0</td><td>0</td><td>0</td><td>0</td><td>1</td><td>0</td><td>0</td><td>0</td><td>0</td><td>0.022013</td></tr><tr><td>2</td><td>1</td><td>0.0</td><td>1682.4</td><td>null</td><td>0.0</td><td>null</td><td>null</td><td>16000.0</td><td>null</td><td>0.0</td><td>8200.0</td><td>null</td><td>null</td><td>null</td><td>0.0</td><td>640.2</td><td>null</td><td>0.0</td><td>null</td><td>null</td><td>10000.0</td><td>null</td><td>0.0</td><td>8200.0</td><td>null</td><td>null</td><td>null</td><td>0.0</td><td>1161.3</td><td>null</td><td>0.0</td><td>null</td><td>null</td><td>13000.0</td><td>null</td><td>0.0</td><td>&hellip;</td><td>0</td><td>0</td><td>0</td><td>0</td><td>0</td><td>0</td><td>1</td><td>0</td><td>0</td><td>0</td><td>0.045342</td><td>1</td><td>0</td><td>0</td><td>0</td><td>0</td><td>0</td><td>0</td><td>0</td><td>0</td><td>1</td><td>0</td><td>0</td><td>0</td><td>0</td><td>1</td><td>0</td><td>0</td><td>0</td><td>0</td><td>0</td><td>0</td><td>1</td><td>0</td><td>0</td><td>0</td><td>0.051011</td></tr><tr><td>3</td><td>1</td><td>0.0</td><td>6140.0</td><td>null</td><td>0.0</td><td>null</td><td>null</td><td>59999.8</td><td>null</td><td>0.0</td><td>11000.0</td><td>null</td><td>null</td><td>null</td><td>0.0</td><td>6140.0</td><td>null</td><td>0.0</td><td>null</td><td>null</td><td>59999.8</td><td>null</td><td>0.0</td><td>11000.0</td><td>null</td><td>null</td><td>null</td><td>0.0</td><td>6140.0</td><td>null</td><td>0.0</td><td>null</td><td>null</td><td>59999.8</td><td>null</td><td>0.0</td><td>&hellip;</td><td>1</td><td>0</td><td>0</td><td>0</td><td>0</td><td>0</td><td>1</td><td>0</td><td>0</td><td>0</td><td>0.045342</td><td>1</td><td>0</td><td>0</td><td>0</td><td>0</td><td>0</td><td>0</td><td>0</td><td>0</td><td>1</td><td>0</td><td>0</td><td>0</td><td>0</td><td>0</td><td>1</td><td>0</td><td>0</td><td>0</td><td>0</td><td>0</td><td>1</td><td>0</td><td>0</td><td>0</td><td>0.051011</td></tr><tr><td>4</td><td>1</td><td>0.0</td><td>2556.6</td><td>null</td><td>0.0</td><td>null</td><td>null</td><td>40000.0</td><td>null</td><td>0.0</td><td>16000.0</td><td>null</td><td>null</td><td>null</td><td>0.0</td><td>2556.6</td><td>null</td><td>0.0</td><td>null</td><td>null</td><td>40000.0</td><td>null</td><td>0.0</td><td>16000.0</td><td>null</td><td>null</td><td>null</td><td>0.0</td><td>2556.6</td><td>null</td><td>0.0</td><td>null</td><td>null</td><td>40000.0</td><td>null</td><td>0.0</td><td>&hellip;</td><td>0</td><td>0</td><td>0</td><td>0</td><td>0</td><td>0</td><td>1</td><td>0</td><td>0</td><td>0</td><td>0.029584</td><td>1</td><td>0</td><td>0</td><td>0</td><td>0</td><td>0</td><td>0</td><td>0</td><td>0</td><td>1</td><td>0</td><td>0</td><td>0</td><td>1</td><td>0</td><td>0</td><td>0</td><td>0</td><td>0</td><td>0</td><td>0</td><td>1</td><td>0</td><td>0</td><td>0</td><td>0.028031</td></tr><tr><td>5</td><td>1</td><td>0.0</td><td>null</td><td>null</td><td>null</td><td>null</td><td>null</td><td>null</td><td>null</td><td>null</td><td>62000.0</td><td>null</td><td>null</td><td>null</td><td>0.0</td><td>null</td><td>null</td><td>null</td><td>null</td><td>null</td><td>null</td><td>null</td><td>null</td><td>62000.0</td><td>null</td><td>null</td><td>null</td><td>0.0</td><td>null</td><td>null</td><td>null</td><td>null</td><td>null</td><td>null</td><td>null</td><td>null</td><td>&hellip;</td><td>0</td><td>0</td><td>0</td><td>0</td><td>0</td><td>1</td><td>0</td><td>0</td><td>0</td><td>0</td><td>0.029584</td><td>1</td><td>0</td><td>0</td><td>0</td><td>0</td><td>0</td><td>0</td><td>0</td><td>1</td><td>0</td><td>0</td><td>0</td><td>0</td><td>1</td><td>0</td><td>0</td><td>0</td><td>0</td><td>0</td><td>0</td><td>1</td><td>0</td><td>0</td><td>0</td><td>0</td><td>0.028031</td></tr><tr><td>6</td><td>1</td><td>0.0</td><td>4189.6</td><td>null</td><td>0.0</td><td>null</td><td>null</td><td>32000.0</td><td>0.0</td><td>0.0</td><td>37000.0</td><td>null</td><td>0.0</td><td>null</td><td>0.0</td><td>1110.4</td><td>null</td><td>0.0</td><td>null</td><td>null</td><td>15980.0</td><td>0.0</td><td>0.0</td><td>14000.0</td><td>null</td><td>0.0</td><td>null</td><td>0.0</td><td>2357.933333</td><td>null</td><td>0.0</td><td>null</td><td>null</td><td>21786.666667</td><td>0.0</td><td>0.0</td><td>&hellip;</td><td>0</td><td>0</td><td>0</td><td>0</td><td>0</td><td>0</td><td>0</td><td>1</td><td>0</td><td>0</td><td>0.045342</td><td>1</td><td>0</td><td>0</td><td>0</td><td>0</td><td>0</td><td>0</td><td>0</td><td>0</td><td>1</td><td>0</td><td>0</td><td>0</td><td>1</td><td>0</td><td>0</td><td>0</td><td>0</td><td>0</td><td>0</td><td>0</td><td>1</td><td>0</td><td>0</td><td>0</td><td>0.051011</td></tr><tr><td>7</td><td>1</td><td>null</td><td>null</td><td>null</td><td>null</td><td>null</td><td>null</td><td>null</td><td>null</td><td>null</td><td>null</td><td>null</td><td>null</td><td>null</td><td>null</td><td>null</td><td>null</td><td>null</td><td>null</td><td>null</td><td>null</td><td>null</td><td>null</td><td>null</td><td>null</td><td>null</td><td>null</td><td>null</td><td>null</td><td>null</td><td>null</td><td>null</td><td>null</td><td>null</td><td>null</td><td>null</td><td>&hellip;</td><td>0</td><td>0</td><td>0</td><td>0</td><td>0</td><td>1</td><td>0</td><td>0</td><td>0</td><td>0</td><td>0.022015</td><td>1</td><td>0</td><td>0</td><td>0</td><td>0</td><td>0</td><td>0</td><td>0</td><td>1</td><td>0</td><td>0</td><td>0</td><td>0</td><td>1</td><td>0</td><td>0</td><td>0</td><td>0</td><td>0</td><td>0</td><td>1</td><td>0</td><td>0</td><td>0</td><td>0</td><td>0.022013</td></tr><tr><td>8</td><td>1</td><td>null</td><td>null</td><td>null</td><td>null</td><td>null</td><td>null</td><td>null</td><td>null</td><td>null</td><td>null</td><td>null</td><td>null</td><td>null</td><td>null</td><td>null</td><td>null</td><td>null</td><td>null</td><td>null</td><td>null</td><td>null</td><td>null</td><td>null</td><td>null</td><td>null</td><td>null</td><td>null</td><td>null</td><td>null</td><td>null</td><td>null</td><td>null</td><td>null</td><td>null</td><td>null</td><td>&hellip;</td><td>0</td><td>0</td><td>0</td><td>0</td><td>0</td><td>1</td><td>0</td><td>0</td><td>0</td><td>0</td><td>0.022015</td><td>1</td><td>0</td><td>0</td><td>0</td><td>0</td><td>0</td><td>0</td><td>0</td><td>1</td><td>0</td><td>0</td><td>0</td><td>0</td><td>1</td><td>0</td><td>0</td><td>0</td><td>0</td><td>0</td><td>0</td><td>1</td><td>0</td><td>0</td><td>0</td><td>0</td><td>0.022013</td></tr><tr><td>9</td><td>1</td><td>null</td><td>null</td><td>null</td><td>null</td><td>null</td><td>null</td><td>null</td><td>null</td><td>null</td><td>null</td><td>null</td><td>null</td><td>null</td><td>null</td><td>null</td><td>null</td><td>null</td><td>null</td><td>null</td><td>null</td><td>null</td><td>null</td><td>null</td><td>null</td><td>null</td><td>null</td><td>null</td><td>null</td><td>null</td><td>null</td><td>null</td><td>null</td><td>null</td><td>null</td><td>null</td><td>&hellip;</td><td>0</td><td>0</td><td>0</td><td>0</td><td>0</td><td>1</td><td>0</td><td>0</td><td>0</td><td>0</td><td>0.022015</td><td>1</td><td>0</td><td>0</td><td>0</td><td>0</td><td>0</td><td>0</td><td>0</td><td>1</td><td>0</td><td>0</td><td>0</td><td>0</td><td>1</td><td>0</td><td>0</td><td>0</td><td>0</td><td>0</td><td>0</td><td>1</td><td>0</td><td>0</td><td>0</td><td>0</td><td>0.022013</td></tr></tbody></table></div>"
     },
     "execution_count": 112,
     "metadata": {},
     "output_type": "execute_result"
    }
   ],
   "source": [
    "data.head(10)"
   ],
   "metadata": {
    "collapsed": false,
    "ExecuteTime": {
     "start_time": "2024-03-04T16:41:03.150942Z",
     "end_time": "2024-03-04T16:41:03.180620Z"
    }
   }
  },
  {
   "cell_type": "code",
   "execution_count": 110,
   "outputs": [],
   "source": [
    "data = data.drop('date_decision', 'MONTH', 'WEEK_NUM', 'target')"
   ],
   "metadata": {
    "collapsed": false,
    "ExecuteTime": {
     "start_time": "2024-03-04T16:40:59.249154Z",
     "end_time": "2024-03-04T16:40:59.273955Z"
    }
   }
  },
  {
   "cell_type": "code",
   "execution_count": 111,
   "outputs": [
    {
     "data": {
      "text/plain": "(1526669, 370)"
     },
     "execution_count": 111,
     "metadata": {},
     "output_type": "execute_result"
    }
   ],
   "source": [
    "data.shape"
   ],
   "metadata": {
    "collapsed": false,
    "ExecuteTime": {
     "start_time": "2024-03-04T16:41:00.765163Z",
     "end_time": "2024-03-04T16:41:00.774638Z"
    }
   }
  },
  {
   "cell_type": "code",
   "execution_count": 113,
   "outputs": [],
   "source": [
    "preprocess_dir_path = \"/Users/sophie/workspace/data/kaggle/home-credit-credit-risk-model-stability/preprocess\"\n",
    "preprocess_file = 'applprev_1.parquet'\n",
    "preprocess_file_path = Path(os.path.join(preprocess_dir_path, preprocess_file))\n",
    "data.write_parquet(preprocess_file_path)"
   ],
   "metadata": {
    "collapsed": false,
    "ExecuteTime": {
     "start_time": "2024-03-04T16:41:30.067933Z",
     "end_time": "2024-03-04T16:41:36.205774Z"
    }
   }
  },
  {
   "cell_type": "code",
   "execution_count": null,
   "outputs": [],
   "source": [],
   "metadata": {
    "collapsed": false
   }
  }
 ],
 "metadata": {
  "kernelspec": {
   "display_name": "Python 3",
   "language": "python",
   "name": "python3"
  },
  "language_info": {
   "codemirror_mode": {
    "name": "ipython",
    "version": 2
   },
   "file_extension": ".py",
   "mimetype": "text/x-python",
   "name": "python",
   "nbconvert_exporter": "python",
   "pygments_lexer": "ipython2",
   "version": "2.7.6"
  }
 },
 "nbformat": 4,
 "nbformat_minor": 0
}
