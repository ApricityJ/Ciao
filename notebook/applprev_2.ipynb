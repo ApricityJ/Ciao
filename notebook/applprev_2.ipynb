{
 "cells": [
  {
   "cell_type": "code",
   "execution_count": 1,
   "metadata": {
    "collapsed": true,
    "ExecuteTime": {
     "start_time": "2024-03-06T16:36:20.233758Z",
     "end_time": "2024-03-06T16:36:21.128955Z"
    }
   },
   "outputs": [],
   "source": [
    "import warnings\n",
    "import os\n",
    "from glob import glob\n",
    "from pathlib import Path\n",
    "import operator\n",
    "\n",
    "import pandas as pd\n",
    "import polars as pl\n",
    "import polars.selectors as cs\n",
    "from sklearn import preprocessing\n",
    "from category_encoders import OneHotEncoder\n",
    "from category_encoders.target_encoder import TargetEncoder\n",
    "\n",
    "pd.set_option('display.float_format',lambda x : '%.6f' % x)\n",
    "warnings.filterwarnings('ignore')"
   ]
  },
  {
   "cell_type": "code",
   "execution_count": 2,
   "outputs": [],
   "source": [
    "def set_table_dtypes(df):\n",
    "    for col in df.columns:\n",
    "        if col in [\"case_id\", \"WEEK_NUM\", \"num_group1\", \"num_group2\", \"target\"]:\n",
    "            df = df.with_columns(pl.col(col).cast(pl.Int64))\n",
    "        elif col in [\"date_decision\"]:\n",
    "            df = df.with_columns(pl.col(col).cast(pl.Date))\n",
    "        elif col[-1] in (\"P\", \"A\"):\n",
    "            df = df.with_columns(pl.col(col).cast(pl.Float64))\n",
    "        elif col[-1] in (\"M\",):\n",
    "            df = df.with_columns(pl.col(col).cast(pl.String))\n",
    "        elif col[-1] in (\"D\",):\n",
    "            df = df.with_columns(pl.col(col).cast(pl.Date))\n",
    "\n",
    "    return df"
   ],
   "metadata": {
    "collapsed": false,
    "ExecuteTime": {
     "start_time": "2024-03-06T16:36:23.104391Z",
     "end_time": "2024-03-06T16:36:23.114900Z"
    }
   }
  },
  {
   "cell_type": "code",
   "execution_count": 3,
   "outputs": [],
   "source": [
    "def read_file(path, depth=None):\n",
    "    df = pl.read_parquet(path)\n",
    "    df = df.pipe(set_table_dtypes)\n",
    "    return df\n",
    "\n",
    "def read_files(regex_path, depth=None):\n",
    "    chunks = []\n",
    "    for path in glob(str(regex_path)):\n",
    "        chunks.append(pl.read_parquet(path).pipe(set_table_dtypes))\n",
    "\n",
    "    df = pl.concat(chunks, how=\"vertical_relaxed\")\n",
    "    return df"
   ],
   "metadata": {
    "collapsed": false,
    "ExecuteTime": {
     "start_time": "2024-03-06T16:36:25.552679Z",
     "end_time": "2024-03-06T16:36:25.560195Z"
    }
   }
  },
  {
   "cell_type": "code",
   "execution_count": 4,
   "outputs": [],
   "source": [
    "train_dir_path = \"/Users/sophie/workspace/data/kaggle/home-credit-credit-risk-model-stability/parquet_files/train\"\n",
    "test_dir_path = \"/Users/sophie/workspace/data/kaggle/home-credit-credit-risk-model-stability/parquet_files/test\"\n",
    "train_file = 'train_applprev_2.parquet'\n",
    "test_file = 'test_applprev_2.parquet'\n",
    "train_file_path = Path(os.path.join(train_dir_path, train_file))\n",
    "test_file_path = Path(os.path.join(test_dir_path, test_file))\n",
    "\n",
    "target_file = 'train_base.parquet'\n",
    "target_file_path = Path(os.path.join(train_dir_path, target_file))\n",
    "target_file_test = 'test_base.parquet'\n",
    "target_file_test_path = Path(os.path.join(test_dir_path, target_file_test))"
   ],
   "metadata": {
    "collapsed": false,
    "ExecuteTime": {
     "start_time": "2024-03-06T16:36:46.767954Z",
     "end_time": "2024-03-06T16:36:46.776467Z"
    }
   }
  },
  {
   "cell_type": "code",
   "execution_count": 5,
   "outputs": [],
   "source": [
    "df_base_train = read_file(target_file_path)\n",
    "df_base_train = df_base_train.with_columns(IS_TRAIN = pl.lit(1))\n",
    "df_train = read_file(train_file_path)\n",
    "df_train = df_base_train.join(df_train, how=\"left\", on=\"case_id\")"
   ],
   "metadata": {
    "collapsed": false,
    "ExecuteTime": {
     "start_time": "2024-03-06T16:36:49.127713Z",
     "end_time": "2024-03-06T16:36:50.947485Z"
    }
   }
  },
  {
   "cell_type": "code",
   "execution_count": 6,
   "outputs": [],
   "source": [
    "df_base_test = read_file(target_file_test_path)\n",
    "df_base_test = df_base_test.with_columns(target = None)\n",
    "df_base_test = df_base_test.with_columns(IS_TRAIN = pl.lit(0))\n",
    "df_test = read_file(test_file_path)\n",
    "df_test = df_base_test.join(df_test, how=\"left\", on=\"case_id\")"
   ],
   "metadata": {
    "collapsed": false,
    "ExecuteTime": {
     "start_time": "2024-03-06T16:36:52.601234Z",
     "end_time": "2024-03-06T16:36:52.609081Z"
    }
   }
  },
  {
   "cell_type": "code",
   "execution_count": 7,
   "outputs": [],
   "source": [
    "data = pl.concat([df_train, df_test], how=\"vertical_relaxed\")"
   ],
   "metadata": {
    "collapsed": false,
    "ExecuteTime": {
     "start_time": "2024-03-06T16:36:54.189770Z",
     "end_time": "2024-03-06T16:36:55.016284Z"
    }
   }
  },
  {
   "cell_type": "code",
   "execution_count": 8,
   "outputs": [],
   "source": [
    "data_base = pl.concat([df_base_train, df_base_test], how=\"vertical_relaxed\")"
   ],
   "metadata": {
    "collapsed": false,
    "ExecuteTime": {
     "start_time": "2024-03-06T16:36:56.554650Z",
     "end_time": "2024-03-06T16:36:56.580671Z"
    }
   }
  },
  {
   "cell_type": "code",
   "execution_count": 28,
   "outputs": [],
   "source": [
    "del df_train, df_test"
   ],
   "metadata": {
    "collapsed": false,
    "ExecuteTime": {
     "start_time": "2024-03-04T15:29:57.636722Z",
     "end_time": "2024-03-04T15:29:57.638784Z"
    }
   }
  },
  {
   "cell_type": "code",
   "execution_count": 9,
   "outputs": [
    {
     "data": {
      "text/plain": "(14380640, 11)"
     },
     "execution_count": 9,
     "metadata": {},
     "output_type": "execute_result"
    }
   ],
   "source": [
    "data.shape"
   ],
   "metadata": {
    "collapsed": false,
    "ExecuteTime": {
     "start_time": "2024-03-06T16:36:58.527553Z",
     "end_time": "2024-03-06T16:36:58.552219Z"
    }
   }
  },
  {
   "cell_type": "code",
   "execution_count": 17,
   "outputs": [
    {
     "data": {
      "text/plain": "shape: (100, 11)\n┌─────────┬────────────┬────────┬──────────┬───┬────────────┬────────────┬────────────┬────────────┐\n│ case_id ┆ date_decis ┆ MONTH  ┆ WEEK_NUM ┆ … ┆ conts_type ┆ credacc_ca ┆ num_group1 ┆ num_group2 │\n│ ---     ┆ ion        ┆ ---    ┆ ---      ┆   ┆ _509L      ┆ rds_status ┆ ---        ┆ ---        │\n│ i64     ┆ ---        ┆ i64    ┆ i64      ┆   ┆ ---        ┆ _52L       ┆ i64        ┆ i64        │\n│         ┆ date       ┆        ┆          ┆   ┆ str        ┆ ---        ┆            ┆            │\n│         ┆            ┆        ┆          ┆   ┆            ┆ str        ┆            ┆            │\n╞═════════╪════════════╪════════╪══════════╪═══╪════════════╪════════════╪════════════╪════════════╡\n│ 0       ┆ 2019-01-03 ┆ 201901 ┆ 0        ┆ … ┆ null       ┆ null       ┆ null       ┆ null       │\n│ 1       ┆ 2019-01-03 ┆ 201901 ┆ 0        ┆ … ┆ null       ┆ null       ┆ null       ┆ null       │\n│ 2       ┆ 2019-01-04 ┆ 201901 ┆ 0        ┆ … ┆ PRIMARY_MO ┆ null       ┆ 0          ┆ 0          │\n│         ┆            ┆        ┆          ┆   ┆ BILE       ┆            ┆            ┆            │\n│ 2       ┆ 2019-01-04 ┆ 201901 ┆ 0        ┆ … ┆ EMPLOYMENT ┆ null       ┆ 0          ┆ 1          │\n│         ┆            ┆        ┆          ┆   ┆ _PHONE     ┆            ┆            ┆            │\n│ 2       ┆ 2019-01-04 ┆ 201901 ┆ 0        ┆ … ┆ PRIMARY_MO ┆ null       ┆ 1          ┆ 0          │\n│         ┆            ┆        ┆          ┆   ┆ BILE       ┆            ┆            ┆            │\n│ …       ┆ …          ┆ …      ┆ …        ┆ … ┆ …          ┆ …          ┆ …          ┆ …          │\n│ 41      ┆ 2019-01-03 ┆ 201901 ┆ 0        ┆ … ┆ EMPLOYMENT ┆ null       ┆ 1          ┆ 0          │\n│         ┆            ┆        ┆          ┆   ┆ _PHONE     ┆            ┆            ┆            │\n│ 41      ┆ 2019-01-03 ┆ 201901 ┆ 0        ┆ … ┆ PRIMARY_MO ┆ null       ┆ 1          ┆ 1          │\n│         ┆            ┆        ┆          ┆   ┆ BILE       ┆            ┆            ┆            │\n│ 42      ┆ 2019-01-03 ┆ 201901 ┆ 0        ┆ … ┆ null       ┆ null       ┆ null       ┆ null       │\n│ 43      ┆ 2019-01-03 ┆ 201901 ┆ 0        ┆ … ┆ null       ┆ null       ┆ null       ┆ null       │\n│ 44      ┆ 2019-01-03 ┆ 201901 ┆ 0        ┆ … ┆ null       ┆ null       ┆ null       ┆ null       │\n└─────────┴────────────┴────────┴──────────┴───┴────────────┴────────────┴────────────┴────────────┘",
      "text/html": "<div><style>\n.dataframe > thead > tr,\n.dataframe > tbody > tr {\n  text-align: right;\n  white-space: pre-wrap;\n}\n</style>\n<small>shape: (100, 11)</small><table border=\"1\" class=\"dataframe\"><thead><tr><th>case_id</th><th>date_decision</th><th>MONTH</th><th>WEEK_NUM</th><th>target</th><th>IS_TRAIN</th><th>cacccardblochreas_147M</th><th>conts_type_509L</th><th>credacc_cards_status_52L</th><th>num_group1</th><th>num_group2</th></tr><tr><td>i64</td><td>date</td><td>i64</td><td>i64</td><td>i64</td><td>i32</td><td>str</td><td>str</td><td>str</td><td>i64</td><td>i64</td></tr></thead><tbody><tr><td>0</td><td>2019-01-03</td><td>201901</td><td>0</td><td>0</td><td>1</td><td>null</td><td>null</td><td>null</td><td>null</td><td>null</td></tr><tr><td>1</td><td>2019-01-03</td><td>201901</td><td>0</td><td>0</td><td>1</td><td>null</td><td>null</td><td>null</td><td>null</td><td>null</td></tr><tr><td>2</td><td>2019-01-04</td><td>201901</td><td>0</td><td>0</td><td>1</td><td>null</td><td>&quot;PRIMARY_MOBILE…</td><td>null</td><td>0</td><td>0</td></tr><tr><td>2</td><td>2019-01-04</td><td>201901</td><td>0</td><td>0</td><td>1</td><td>null</td><td>&quot;EMPLOYMENT_PHO…</td><td>null</td><td>0</td><td>1</td></tr><tr><td>2</td><td>2019-01-04</td><td>201901</td><td>0</td><td>0</td><td>1</td><td>null</td><td>&quot;PRIMARY_MOBILE…</td><td>null</td><td>1</td><td>0</td></tr><tr><td>2</td><td>2019-01-04</td><td>201901</td><td>0</td><td>0</td><td>1</td><td>null</td><td>&quot;EMPLOYMENT_PHO…</td><td>null</td><td>1</td><td>1</td></tr><tr><td>3</td><td>2019-01-03</td><td>201901</td><td>0</td><td>0</td><td>1</td><td>null</td><td>&quot;PHONE&quot;</td><td>null</td><td>0</td><td>0</td></tr><tr><td>3</td><td>2019-01-03</td><td>201901</td><td>0</td><td>0</td><td>1</td><td>null</td><td>&quot;PRIMARY_MOBILE…</td><td>null</td><td>0</td><td>1</td></tr><tr><td>3</td><td>2019-01-03</td><td>201901</td><td>0</td><td>0</td><td>1</td><td>null</td><td>&quot;PRIMARY_EMAIL&quot;</td><td>null</td><td>0</td><td>2</td></tr><tr><td>4</td><td>2019-01-04</td><td>201901</td><td>0</td><td>1</td><td>1</td><td>null</td><td>&quot;PRIMARY_MOBILE…</td><td>null</td><td>0</td><td>0</td></tr><tr><td>4</td><td>2019-01-04</td><td>201901</td><td>0</td><td>1</td><td>1</td><td>null</td><td>&quot;HOME_PHONE&quot;</td><td>null</td><td>0</td><td>1</td></tr><tr><td>5</td><td>2019-01-02</td><td>201901</td><td>0</td><td>0</td><td>1</td><td>null</td><td>&quot;PRIMARY_MOBILE…</td><td>null</td><td>0</td><td>0</td></tr><tr><td>&hellip;</td><td>&hellip;</td><td>&hellip;</td><td>&hellip;</td><td>&hellip;</td><td>&hellip;</td><td>&hellip;</td><td>&hellip;</td><td>&hellip;</td><td>&hellip;</td><td>&hellip;</td></tr><tr><td>38</td><td>2019-01-03</td><td>201901</td><td>0</td><td>0</td><td>1</td><td>null</td><td>&quot;PRIMARY_MOBILE…</td><td>&quot;CANCELLED&quot;</td><td>0</td><td>0</td></tr><tr><td>38</td><td>2019-01-03</td><td>201901</td><td>0</td><td>0</td><td>1</td><td>null</td><td>&quot;HOME_PHONE&quot;</td><td>null</td><td>0</td><td>1</td></tr><tr><td>38</td><td>2019-01-03</td><td>201901</td><td>0</td><td>0</td><td>1</td><td>null</td><td>&quot;PHONE&quot;</td><td>null</td><td>0</td><td>2</td></tr><tr><td>39</td><td>2019-01-03</td><td>201901</td><td>0</td><td>0</td><td>1</td><td>null</td><td>&quot;PRIMARY_MOBILE…</td><td>null</td><td>0</td><td>0</td></tr><tr><td>40</td><td>2019-01-03</td><td>201901</td><td>0</td><td>0</td><td>1</td><td>null</td><td>null</td><td>null</td><td>null</td><td>null</td></tr><tr><td>41</td><td>2019-01-03</td><td>201901</td><td>0</td><td>0</td><td>1</td><td>null</td><td>&quot;PHONE&quot;</td><td>null</td><td>0</td><td>0</td></tr><tr><td>41</td><td>2019-01-03</td><td>201901</td><td>0</td><td>0</td><td>1</td><td>null</td><td>&quot;PRIMARY_MOBILE…</td><td>null</td><td>0</td><td>1</td></tr><tr><td>41</td><td>2019-01-03</td><td>201901</td><td>0</td><td>0</td><td>1</td><td>null</td><td>&quot;EMPLOYMENT_PHO…</td><td>null</td><td>1</td><td>0</td></tr><tr><td>41</td><td>2019-01-03</td><td>201901</td><td>0</td><td>0</td><td>1</td><td>null</td><td>&quot;PRIMARY_MOBILE…</td><td>null</td><td>1</td><td>1</td></tr><tr><td>42</td><td>2019-01-03</td><td>201901</td><td>0</td><td>0</td><td>1</td><td>null</td><td>null</td><td>null</td><td>null</td><td>null</td></tr><tr><td>43</td><td>2019-01-03</td><td>201901</td><td>0</td><td>0</td><td>1</td><td>null</td><td>null</td><td>null</td><td>null</td><td>null</td></tr><tr><td>44</td><td>2019-01-03</td><td>201901</td><td>0</td><td>0</td><td>1</td><td>null</td><td>null</td><td>null</td><td>null</td><td>null</td></tr></tbody></table></div>"
     },
     "execution_count": 17,
     "metadata": {},
     "output_type": "execute_result"
    }
   ],
   "source": [
    "data.head(100)"
   ],
   "metadata": {
    "collapsed": false,
    "ExecuteTime": {
     "start_time": "2024-03-06T17:15:51.226545Z",
     "end_time": "2024-03-06T17:15:51.240599Z"
    }
   }
  },
  {
   "cell_type": "code",
   "execution_count": 11,
   "outputs": [
    {
     "data": {
      "text/plain": "1526669"
     },
     "execution_count": 11,
     "metadata": {},
     "output_type": "execute_result"
    }
   ],
   "source": [
    "data['case_id'].n_unique()"
   ],
   "metadata": {
    "collapsed": false,
    "ExecuteTime": {
     "start_time": "2024-03-06T16:16:55.757934Z",
     "end_time": "2024-03-06T16:16:55.761957Z"
    }
   }
  },
  {
   "cell_type": "code",
   "execution_count": 15,
   "outputs": [
    {
     "data": {
      "text/plain": "10"
     },
     "execution_count": 15,
     "metadata": {},
     "output_type": "execute_result"
    }
   ],
   "source": [
    "# df_train.filter(pl.col(\"case_id\") == 57633)\n",
    "# data.select(['case_id', 'num_group1', 'target']).filter(pl.col('num_group1').is_not_null())\n",
    "# data.filter(pl.col('cacccardblochreas_147M').is_not_null())\n",
    "data['cacccardblochreas_147M'].n_unique()\n",
    "# df_train.shape"
   ],
   "metadata": {
    "collapsed": false,
    "ExecuteTime": {
     "start_time": "2024-03-06T17:13:46.472276Z",
     "end_time": "2024-03-06T17:13:46.479213Z"
    }
   }
  },
  {
   "cell_type": "code",
   "execution_count": 16,
   "outputs": [],
   "source": [
    "data = data.sort('case_id', 'num_group1', 'num_group2')"
   ],
   "metadata": {
    "collapsed": false,
    "ExecuteTime": {
     "start_time": "2024-03-06T17:15:44.891793Z",
     "end_time": "2024-03-06T17:15:45.904473Z"
    }
   }
  },
  {
   "cell_type": "code",
   "execution_count": 18,
   "outputs": [],
   "source": [
    "class Aggregator:\n",
    "    @staticmethod\n",
    "    def num_expr(df):\n",
    "        cols = [col for col in df.columns if col[-1] in (\"P\", \"A\")]\n",
    "\n",
    "        expr_num = []\n",
    "        # expr_num.extend([pl.max(col).alias(f\"max_{col}\") for col in cols])\n",
    "        # expr_num.extend([pl.min(col).alias(f\"min_{col}\") for col in cols])\n",
    "        # expr_num.extend([pl.mean(col).alias(f\"mean_{col}\") for col in cols])\n",
    "        # expr_num.extend([pl.count(col).alias(f\"count_{col}\") for col in cols])\n",
    "        expr_num.extend([pl.var(col).alias(f\"var_{col}\") for col in cols])\n",
    "        expr_num.extend([pl.last(col).alias(f\"last_{col}\") for col in cols])\n",
    "        expr_num.extend([pl.first(col).alias(f\"first_{col}\") for col in cols])\n",
    "\n",
    "        return expr_num\n",
    "\n",
    "    @staticmethod\n",
    "    def date_expr(df):\n",
    "        cols = [col for col in df.columns if col[-1] in (\"D\",)]\n",
    "\n",
    "        expr_date = []\n",
    "        expr_date.extend([pl.max(col).alias(f\"max_{col}\") for col in cols])\n",
    "        expr_date.extend([pl.min(col).alias(f\"min_{col}\") for col in cols])\n",
    "\n",
    "        return expr_date\n",
    "\n",
    "    @staticmethod\n",
    "    def str_expr(df):\n",
    "        cols = [col for col in df.columns if col[-1] in (\"M\",)]\n",
    "        cols.remove('WEEK_NUM')\n",
    "\n",
    "        expr_str = []\n",
    "        expr_str.extend([pl.last(col).alias(f\"last_{col}\") for col in cols])\n",
    "        expr_str.extend([pl.first(col).alias(f\"first_{col}\") for col in cols])\n",
    "        expr_str.extend([pl.n_unique(col).alias(f\"n_unique_{col}\") for col in cols])\n",
    "\n",
    "        return expr_str\n",
    "\n",
    "    @staticmethod\n",
    "    def other_expr(df):\n",
    "        cols = [col for col in df.columns if col[-1] in (\"T\", \"L\")]\n",
    "        expr_other = []\n",
    "        for col in cols:\n",
    "            if df[col].dtype == pl.String or df[col].dtype == pl.Boolean:\n",
    "                expr_other.append(pl.last(col).alias(f\"last_{col}\"))\n",
    "                expr_other.append(pl.first(col).alias(f\"first_{col}\"))\n",
    "                expr_other.append(pl.n_unique(col).alias(f\"n_unique_{col}\"))\n",
    "            elif df[col].dtype == pl.Int64 or df[col].dtype == pl.Float64:\n",
    "                expr_other.append(pl.mean(col).alias(f\"mean_{col}\"))\n",
    "                expr_other.append(pl.var(col).alias(f\"var_{col}\"))\n",
    "                expr_other.append(pl.last(col).alias(f\"last_{col}\"))\n",
    "                expr_other.append(pl.first(col).alias(f\"first_{col}\"))\n",
    "\n",
    "        return expr_other\n",
    "\n",
    "    @staticmethod\n",
    "    def count_expr(df):\n",
    "        cols = [col for col in df.columns if \"num_group\" in col]\n",
    "\n",
    "        expr_count = [pl.max(col).alias(f\"max_{col}\") for col in cols]\n",
    "\n",
    "        return expr_count\n",
    "\n",
    "    @staticmethod\n",
    "    def get_exprs(df):\n",
    "        exprs = Aggregator.num_expr(df) + \\\n",
    "                Aggregator.date_expr(df) + \\\n",
    "                Aggregator.str_expr(df) + \\\n",
    "                Aggregator.other_expr(df) + \\\n",
    "                Aggregator.count_expr(df)\n",
    "\n",
    "        return exprs"
   ],
   "metadata": {
    "collapsed": false,
    "ExecuteTime": {
     "start_time": "2024-03-06T17:16:34.845305Z",
     "end_time": "2024-03-06T17:16:34.861831Z"
    }
   }
  },
  {
   "cell_type": "code",
   "execution_count": 19,
   "outputs": [],
   "source": [
    "fea_agg = data.group_by(\"case_id\").agg(Aggregator.get_exprs(data))"
   ],
   "metadata": {
    "collapsed": false,
    "ExecuteTime": {
     "start_time": "2024-03-06T17:16:36.143446Z",
     "end_time": "2024-03-06T17:16:37.781210Z"
    }
   }
  },
  {
   "cell_type": "code",
   "execution_count": 20,
   "outputs": [
    {
     "data": {
      "text/plain": "(1526669, 12)"
     },
     "execution_count": 20,
     "metadata": {},
     "output_type": "execute_result"
    }
   ],
   "source": [
    "fea_agg.shape"
   ],
   "metadata": {
    "collapsed": false,
    "ExecuteTime": {
     "start_time": "2024-03-06T17:16:41.249617Z",
     "end_time": "2024-03-06T17:16:41.258995Z"
    }
   }
  },
  {
   "cell_type": "code",
   "execution_count": 21,
   "outputs": [
    {
     "data": {
      "text/plain": "shape: (20, 12)\n┌─────────┬────────────┬───────────┬───────────┬───┬───────────┬───────────┬───────────┬───────────┐\n│ case_id ┆ last_caccc ┆ first_cac ┆ n_unique_ ┆ … ┆ first_cre ┆ n_unique_ ┆ max_num_g ┆ max_num_g │\n│ ---     ┆ ardblochre ┆ ccardbloc ┆ cacccardb ┆   ┆ dacc_card ┆ credacc_c ┆ roup1     ┆ roup2     │\n│ i64     ┆ as_147M    ┆ hreas_147 ┆ lochreas_ ┆   ┆ s_status_ ┆ ards_stat ┆ ---       ┆ ---       │\n│         ┆ ---        ┆ M         ┆ 147M      ┆   ┆ 52L       ┆ us_52…    ┆ i64       ┆ i64       │\n│         ┆ str        ┆ ---       ┆ ---       ┆   ┆ ---       ┆ ---       ┆           ┆           │\n│         ┆            ┆ str       ┆ u32       ┆   ┆ str       ┆ u32       ┆           ┆           │\n╞═════════╪════════════╪═══════════╪═══════════╪═══╪═══════════╪═══════════╪═══════════╪═══════════╡\n│ 0       ┆ null       ┆ null      ┆ 1         ┆ … ┆ null      ┆ 1         ┆ null      ┆ null      │\n│ 1       ┆ null       ┆ null      ┆ 1         ┆ … ┆ null      ┆ 1         ┆ null      ┆ null      │\n│ 2       ┆ null       ┆ null      ┆ 1         ┆ … ┆ null      ┆ 1         ┆ 1         ┆ 1         │\n│ 3       ┆ null       ┆ null      ┆ 1         ┆ … ┆ null      ┆ 1         ┆ 0         ┆ 2         │\n│ 4       ┆ null       ┆ null      ┆ 1         ┆ … ┆ null      ┆ 1         ┆ 0         ┆ 1         │\n│ …       ┆ …          ┆ …         ┆ …         ┆ … ┆ …         ┆ …         ┆ …         ┆ …         │\n│ 15      ┆ null       ┆ null      ┆ 1         ┆ … ┆ null      ┆ 1         ┆ null      ┆ null      │\n│ 16      ┆ null       ┆ null      ┆ 1         ┆ … ┆ null      ┆ 1         ┆ 1         ┆ 1         │\n│ 17      ┆ null       ┆ null      ┆ 1         ┆ … ┆ null      ┆ 1         ┆ 0         ┆ 0         │\n│ 18      ┆ null       ┆ null      ┆ 1         ┆ … ┆ null      ┆ 1         ┆ 0         ┆ 1         │\n│ 19      ┆ null       ┆ null      ┆ 1         ┆ … ┆ null      ┆ 1         ┆ null      ┆ null      │\n└─────────┴────────────┴───────────┴───────────┴───┴───────────┴───────────┴───────────┴───────────┘",
      "text/html": "<div><style>\n.dataframe > thead > tr,\n.dataframe > tbody > tr {\n  text-align: right;\n  white-space: pre-wrap;\n}\n</style>\n<small>shape: (20, 12)</small><table border=\"1\" class=\"dataframe\"><thead><tr><th>case_id</th><th>last_cacccardblochreas_147M</th><th>first_cacccardblochreas_147M</th><th>n_unique_cacccardblochreas_147M</th><th>last_conts_type_509L</th><th>first_conts_type_509L</th><th>n_unique_conts_type_509L</th><th>last_credacc_cards_status_52L</th><th>first_credacc_cards_status_52L</th><th>n_unique_credacc_cards_status_52L</th><th>max_num_group1</th><th>max_num_group2</th></tr><tr><td>i64</td><td>str</td><td>str</td><td>u32</td><td>str</td><td>str</td><td>u32</td><td>str</td><td>str</td><td>u32</td><td>i64</td><td>i64</td></tr></thead><tbody><tr><td>0</td><td>null</td><td>null</td><td>1</td><td>null</td><td>null</td><td>1</td><td>null</td><td>null</td><td>1</td><td>null</td><td>null</td></tr><tr><td>1</td><td>null</td><td>null</td><td>1</td><td>null</td><td>null</td><td>1</td><td>null</td><td>null</td><td>1</td><td>null</td><td>null</td></tr><tr><td>2</td><td>null</td><td>null</td><td>1</td><td>&quot;EMPLOYMENT_PHO…</td><td>&quot;PRIMARY_MOBILE…</td><td>2</td><td>null</td><td>null</td><td>1</td><td>1</td><td>1</td></tr><tr><td>3</td><td>null</td><td>null</td><td>1</td><td>&quot;PRIMARY_EMAIL&quot;</td><td>&quot;PHONE&quot;</td><td>3</td><td>null</td><td>null</td><td>1</td><td>0</td><td>2</td></tr><tr><td>4</td><td>null</td><td>null</td><td>1</td><td>&quot;HOME_PHONE&quot;</td><td>&quot;PRIMARY_MOBILE…</td><td>2</td><td>null</td><td>null</td><td>1</td><td>0</td><td>1</td></tr><tr><td>5</td><td>null</td><td>null</td><td>1</td><td>&quot;PRIMARY_MOBILE…</td><td>&quot;PRIMARY_MOBILE…</td><td>1</td><td>null</td><td>null</td><td>1</td><td>0</td><td>0</td></tr><tr><td>6</td><td>null</td><td>null</td><td>1</td><td>&quot;EMPLOYMENT_PHO…</td><td>&quot;PRIMARY_MOBILE…</td><td>3</td><td>null</td><td>null</td><td>1</td><td>2</td><td>1</td></tr><tr><td>7</td><td>null</td><td>null</td><td>1</td><td>null</td><td>null</td><td>1</td><td>null</td><td>null</td><td>1</td><td>null</td><td>null</td></tr><tr><td>8</td><td>null</td><td>null</td><td>1</td><td>null</td><td>null</td><td>1</td><td>null</td><td>null</td><td>1</td><td>null</td><td>null</td></tr><tr><td>9</td><td>null</td><td>null</td><td>1</td><td>null</td><td>null</td><td>1</td><td>null</td><td>null</td><td>1</td><td>null</td><td>null</td></tr><tr><td>10</td><td>null</td><td>null</td><td>1</td><td>&quot;PRIMARY_MOBILE…</td><td>&quot;PRIMARY_MOBILE…</td><td>1</td><td>null</td><td>null</td><td>1</td><td>0</td><td>0</td></tr><tr><td>11</td><td>null</td><td>null</td><td>1</td><td>null</td><td>null</td><td>1</td><td>null</td><td>null</td><td>1</td><td>null</td><td>null</td></tr><tr><td>12</td><td>null</td><td>null</td><td>1</td><td>null</td><td>null</td><td>1</td><td>null</td><td>null</td><td>1</td><td>null</td><td>null</td></tr><tr><td>13</td><td>null</td><td>null</td><td>1</td><td>&quot;PRIMARY_MOBILE…</td><td>&quot;PRIMARY_MOBILE…</td><td>3</td><td>null</td><td>null</td><td>1</td><td>2</td><td>2</td></tr><tr><td>14</td><td>null</td><td>null</td><td>1</td><td>&quot;HOME_PHONE&quot;</td><td>&quot;PRIMARY_MOBILE…</td><td>3</td><td>null</td><td>null</td><td>1</td><td>2</td><td>2</td></tr><tr><td>15</td><td>null</td><td>null</td><td>1</td><td>null</td><td>null</td><td>1</td><td>null</td><td>null</td><td>1</td><td>null</td><td>null</td></tr><tr><td>16</td><td>null</td><td>null</td><td>1</td><td>&quot;PRIMARY_MOBILE…</td><td>&quot;PRIMARY_MOBILE…</td><td>2</td><td>null</td><td>null</td><td>1</td><td>1</td><td>1</td></tr><tr><td>17</td><td>null</td><td>null</td><td>1</td><td>&quot;PRIMARY_MOBILE…</td><td>&quot;PRIMARY_MOBILE…</td><td>1</td><td>null</td><td>null</td><td>1</td><td>0</td><td>0</td></tr><tr><td>18</td><td>null</td><td>null</td><td>1</td><td>&quot;PHONE&quot;</td><td>&quot;PRIMARY_MOBILE…</td><td>2</td><td>null</td><td>null</td><td>1</td><td>0</td><td>1</td></tr><tr><td>19</td><td>null</td><td>null</td><td>1</td><td>null</td><td>null</td><td>1</td><td>null</td><td>null</td><td>1</td><td>null</td><td>null</td></tr></tbody></table></div>"
     },
     "execution_count": 21,
     "metadata": {},
     "output_type": "execute_result"
    }
   ],
   "source": [
    "fea_agg.head(20)"
   ],
   "metadata": {
    "collapsed": false,
    "ExecuteTime": {
     "start_time": "2024-03-06T17:16:44.531611Z",
     "end_time": "2024-03-06T17:16:44.539751Z"
    }
   }
  },
  {
   "cell_type": "code",
   "execution_count": 22,
   "outputs": [],
   "source": [
    "data = data_base.join(fea_agg, how=\"left\", on=\"case_id\")"
   ],
   "metadata": {
    "collapsed": false,
    "ExecuteTime": {
     "start_time": "2024-03-06T17:17:16.962588Z",
     "end_time": "2024-03-06T17:17:17.166326Z"
    }
   }
  },
  {
   "cell_type": "code",
   "execution_count": 23,
   "outputs": [
    {
     "data": {
      "text/plain": "shape: (10, 17)\n┌─────────┬────────────┬────────┬──────────┬───┬────────────┬────────────┬────────────┬────────────┐\n│ case_id ┆ date_decis ┆ MONTH  ┆ WEEK_NUM ┆ … ┆ first_cred ┆ n_unique_c ┆ max_num_gr ┆ max_num_gr │\n│ ---     ┆ ion        ┆ ---    ┆ ---      ┆   ┆ acc_cards_ ┆ redacc_car ┆ oup1       ┆ oup2       │\n│ i64     ┆ ---        ┆ i64    ┆ i64      ┆   ┆ status_52L ┆ ds_status_ ┆ ---        ┆ ---        │\n│         ┆ date       ┆        ┆          ┆   ┆ ---        ┆ 52…        ┆ i64        ┆ i64        │\n│         ┆            ┆        ┆          ┆   ┆ str        ┆ ---        ┆            ┆            │\n│         ┆            ┆        ┆          ┆   ┆            ┆ u32        ┆            ┆            │\n╞═════════╪════════════╪════════╪══════════╪═══╪════════════╪════════════╪════════════╪════════════╡\n│ 0       ┆ 2019-01-03 ┆ 201901 ┆ 0        ┆ … ┆ null       ┆ 1          ┆ null       ┆ null       │\n│ 1       ┆ 2019-01-03 ┆ 201901 ┆ 0        ┆ … ┆ null       ┆ 1          ┆ null       ┆ null       │\n│ 2       ┆ 2019-01-04 ┆ 201901 ┆ 0        ┆ … ┆ null       ┆ 1          ┆ 1          ┆ 1          │\n│ 3       ┆ 2019-01-03 ┆ 201901 ┆ 0        ┆ … ┆ null       ┆ 1          ┆ 0          ┆ 2          │\n│ 4       ┆ 2019-01-04 ┆ 201901 ┆ 0        ┆ … ┆ null       ┆ 1          ┆ 0          ┆ 1          │\n│ 5       ┆ 2019-01-02 ┆ 201901 ┆ 0        ┆ … ┆ null       ┆ 1          ┆ 0          ┆ 0          │\n│ 6       ┆ 2019-01-03 ┆ 201901 ┆ 0        ┆ … ┆ null       ┆ 1          ┆ 2          ┆ 1          │\n│ 7       ┆ 2019-01-03 ┆ 201901 ┆ 0        ┆ … ┆ null       ┆ 1          ┆ null       ┆ null       │\n│ 8       ┆ 2019-01-03 ┆ 201901 ┆ 0        ┆ … ┆ null       ┆ 1          ┆ null       ┆ null       │\n│ 9       ┆ 2019-01-03 ┆ 201901 ┆ 0        ┆ … ┆ null       ┆ 1          ┆ null       ┆ null       │\n└─────────┴────────────┴────────┴──────────┴───┴────────────┴────────────┴────────────┴────────────┘",
      "text/html": "<div><style>\n.dataframe > thead > tr,\n.dataframe > tbody > tr {\n  text-align: right;\n  white-space: pre-wrap;\n}\n</style>\n<small>shape: (10, 17)</small><table border=\"1\" class=\"dataframe\"><thead><tr><th>case_id</th><th>date_decision</th><th>MONTH</th><th>WEEK_NUM</th><th>target</th><th>IS_TRAIN</th><th>last_cacccardblochreas_147M</th><th>first_cacccardblochreas_147M</th><th>n_unique_cacccardblochreas_147M</th><th>last_conts_type_509L</th><th>first_conts_type_509L</th><th>n_unique_conts_type_509L</th><th>last_credacc_cards_status_52L</th><th>first_credacc_cards_status_52L</th><th>n_unique_credacc_cards_status_52L</th><th>max_num_group1</th><th>max_num_group2</th></tr><tr><td>i64</td><td>date</td><td>i64</td><td>i64</td><td>i64</td><td>i32</td><td>str</td><td>str</td><td>u32</td><td>str</td><td>str</td><td>u32</td><td>str</td><td>str</td><td>u32</td><td>i64</td><td>i64</td></tr></thead><tbody><tr><td>0</td><td>2019-01-03</td><td>201901</td><td>0</td><td>0</td><td>1</td><td>null</td><td>null</td><td>1</td><td>null</td><td>null</td><td>1</td><td>null</td><td>null</td><td>1</td><td>null</td><td>null</td></tr><tr><td>1</td><td>2019-01-03</td><td>201901</td><td>0</td><td>0</td><td>1</td><td>null</td><td>null</td><td>1</td><td>null</td><td>null</td><td>1</td><td>null</td><td>null</td><td>1</td><td>null</td><td>null</td></tr><tr><td>2</td><td>2019-01-04</td><td>201901</td><td>0</td><td>0</td><td>1</td><td>null</td><td>null</td><td>1</td><td>&quot;EMPLOYMENT_PHO…</td><td>&quot;PRIMARY_MOBILE…</td><td>2</td><td>null</td><td>null</td><td>1</td><td>1</td><td>1</td></tr><tr><td>3</td><td>2019-01-03</td><td>201901</td><td>0</td><td>0</td><td>1</td><td>null</td><td>null</td><td>1</td><td>&quot;PRIMARY_EMAIL&quot;</td><td>&quot;PHONE&quot;</td><td>3</td><td>null</td><td>null</td><td>1</td><td>0</td><td>2</td></tr><tr><td>4</td><td>2019-01-04</td><td>201901</td><td>0</td><td>1</td><td>1</td><td>null</td><td>null</td><td>1</td><td>&quot;HOME_PHONE&quot;</td><td>&quot;PRIMARY_MOBILE…</td><td>2</td><td>null</td><td>null</td><td>1</td><td>0</td><td>1</td></tr><tr><td>5</td><td>2019-01-02</td><td>201901</td><td>0</td><td>0</td><td>1</td><td>null</td><td>null</td><td>1</td><td>&quot;PRIMARY_MOBILE…</td><td>&quot;PRIMARY_MOBILE…</td><td>1</td><td>null</td><td>null</td><td>1</td><td>0</td><td>0</td></tr><tr><td>6</td><td>2019-01-03</td><td>201901</td><td>0</td><td>0</td><td>1</td><td>null</td><td>null</td><td>1</td><td>&quot;EMPLOYMENT_PHO…</td><td>&quot;PRIMARY_MOBILE…</td><td>3</td><td>null</td><td>null</td><td>1</td><td>2</td><td>1</td></tr><tr><td>7</td><td>2019-01-03</td><td>201901</td><td>0</td><td>0</td><td>1</td><td>null</td><td>null</td><td>1</td><td>null</td><td>null</td><td>1</td><td>null</td><td>null</td><td>1</td><td>null</td><td>null</td></tr><tr><td>8</td><td>2019-01-03</td><td>201901</td><td>0</td><td>0</td><td>1</td><td>null</td><td>null</td><td>1</td><td>null</td><td>null</td><td>1</td><td>null</td><td>null</td><td>1</td><td>null</td><td>null</td></tr><tr><td>9</td><td>2019-01-03</td><td>201901</td><td>0</td><td>0</td><td>1</td><td>null</td><td>null</td><td>1</td><td>null</td><td>null</td><td>1</td><td>null</td><td>null</td><td>1</td><td>null</td><td>null</td></tr></tbody></table></div>"
     },
     "execution_count": 23,
     "metadata": {},
     "output_type": "execute_result"
    }
   ],
   "source": [
    "data.head(10)"
   ],
   "metadata": {
    "collapsed": false,
    "ExecuteTime": {
     "start_time": "2024-03-06T17:17:18.373316Z",
     "end_time": "2024-03-06T17:17:18.403114Z"
    }
   }
  },
  {
   "cell_type": "code",
   "execution_count": null,
   "outputs": [],
   "source": [
    "# def derived_features_between_cols(df, cols_list):\n",
    "#     for item in cols_list:\n",
    "#         print(item)\n",
    "#         col1 = item[0]\n",
    "#         col2 = item[1]\n",
    "#\n",
    "#         df = df.with_columns((pl.col(col2) - pl.col(col1)).alias(col2 + '_minus_' + col1))\n",
    "#         df = df.with_columns(operator.truediv(pl.col(col2), pl.col(col1)).alias(col2 + '_div_' + col1))\n",
    "#\n",
    "#     return df\n",
    "#\n",
    "# data = derived_features_between_cols(data, derive_list)"
   ],
   "metadata": {
    "collapsed": false
   }
  },
  {
   "cell_type": "code",
   "execution_count": 24,
   "outputs": [],
   "source": [
    "def handle_date(df):\n",
    "    for col in df.columns:\n",
    "        if col[-1] in (\"D\",) and df[col].dtype == pl.Date:\n",
    "            print(f'col [{col}] is date...')\n",
    "            df = df.with_columns(pl.col(col) - pl.col(\"date_decision\"))\n",
    "            df = df.with_columns(pl.col(col).dt.total_days())\n",
    "\n",
    "    # df = df.drop(\"date_decision\", \"MONTH\")\n",
    "    return df\n",
    "\n",
    "\n",
    "def handle_category(df):\n",
    "    dt_train = df.filter(pl.col('IS_TRAIN') == 1)\n",
    "    cols_list = df.columns\n",
    "    for col in cols_list:\n",
    "        if ((col[-1] in (\"M\",)) and ('WEEK_NUM' not in col) and (not col.startswith('n_unique'))) \\\n",
    "                or (col[-1] in (\"L\", \"P\") and (df[col].dtype == pl.String) or df[col].dtype == pl.Boolean):\n",
    "            freq = dt_train[col].n_unique()\n",
    "            if freq <= 10:\n",
    "                print(f'col [{col}] one hot encoded...')\n",
    "                encoder = OneHotEncoder(cols=[col], handle_unknown='indicator', handle_missing='indicator', use_cat_names=True)\n",
    "                encoder.fit(dt_train[col].to_pandas())\n",
    "                res_df = pl.from_pandas(encoder.transform(df[col].to_pandas()))\n",
    "                df = pl.concat([df, res_df], how=\"horizontal\")\n",
    "                df = df.drop(col)\n",
    "            else:\n",
    "                print(f'col [{col}] target encoded...')\n",
    "                encoder = TargetEncoder(cols=[col], handle_unknown='value', handle_missing='value') \\\n",
    "                            .fit(dt_train[col].to_pandas(), dt_train['target'].to_pandas())\n",
    "                df = df.with_columns(pl.from_pandas(encoder.transform(df[col].to_pandas())).to_series().alias(col + '_target_encoder'))\n",
    "                df = df.drop(col)\n",
    "\n",
    "    return df"
   ],
   "metadata": {
    "collapsed": false,
    "ExecuteTime": {
     "start_time": "2024-03-06T17:17:29.360873Z",
     "end_time": "2024-03-06T17:17:29.377946Z"
    }
   }
  },
  {
   "cell_type": "code",
   "execution_count": 25,
   "outputs": [
    {
     "name": "stdout",
     "output_type": "stream",
     "text": [
      "col [last_cacccardblochreas_147M] one hot encoded...\n",
      "col [first_cacccardblochreas_147M] one hot encoded...\n",
      "col [last_conts_type_509L] one hot encoded...\n",
      "col [first_conts_type_509L] one hot encoded...\n",
      "col [last_credacc_cards_status_52L] one hot encoded...\n",
      "col [first_credacc_cards_status_52L] one hot encoded...\n"
     ]
    }
   ],
   "source": [
    "data = data.pipe(handle_category)"
   ],
   "metadata": {
    "collapsed": false,
    "ExecuteTime": {
     "start_time": "2024-03-06T17:17:31.237786Z",
     "end_time": "2024-03-06T17:17:38.732848Z"
    }
   }
  },
  {
   "cell_type": "code",
   "execution_count": 26,
   "outputs": [],
   "source": [
    "data = data.pipe(handle_date)"
   ],
   "metadata": {
    "collapsed": false,
    "ExecuteTime": {
     "start_time": "2024-03-06T17:17:45.548623Z",
     "end_time": "2024-03-06T17:17:45.577115Z"
    }
   }
  },
  {
   "cell_type": "code",
   "execution_count": 27,
   "outputs": [
    {
     "data": {
      "text/plain": "(1526669, 67)"
     },
     "execution_count": 27,
     "metadata": {},
     "output_type": "execute_result"
    }
   ],
   "source": [
    "data.shape"
   ],
   "metadata": {
    "collapsed": false,
    "ExecuteTime": {
     "start_time": "2024-03-06T17:17:47.574089Z",
     "end_time": "2024-03-06T17:17:47.587474Z"
    }
   }
  },
  {
   "cell_type": "code",
   "execution_count": 28,
   "outputs": [],
   "source": [
    "def filter_cols(df):\n",
    "    dt_train = df.filter(pl.col('IS_TRAIN') == 1)\n",
    "    for col in df.columns:\n",
    "        if col not in [\"case_id\", \"WEEK_NUM\", \"date_decision\", \"MONTH\", \"IS_TRAIN\", \"target\"]:\n",
    "            isnull = dt_train[col].is_null().mean()\n",
    "\n",
    "            if isnull > 0.95:\n",
    "                print(f'col [{col}] to be null dropped...')\n",
    "                num_positive = dt_train.filter(pl.col(col).is_not_null() & pl.col(\"target\") == 1).shape[0]\n",
    "                if num_positive < 1000:\n",
    "                    df = df.drop(col)\n",
    "                    print(f'col [{col}] null dropped...')\n",
    "\n",
    "    for col in df.columns:\n",
    "        if (col not in [\"case_id\", \"WEEK_NUM\", \"date_decision\", \"MONTH\", \"IS_TRAIN\", \"target\"]) & (df[col].dtype == pl.String):\n",
    "            freq = dt_train[col].n_unique()\n",
    "\n",
    "            if freq == 1:\n",
    "                df = df.drop(col)\n",
    "                print(f'col [{col}] freq dropped...')\n",
    "\n",
    "    return df"
   ],
   "metadata": {
    "collapsed": false,
    "ExecuteTime": {
     "start_time": "2024-03-06T17:17:54.749600Z",
     "end_time": "2024-03-06T17:17:54.753879Z"
    }
   }
  },
  {
   "cell_type": "code",
   "execution_count": 29,
   "outputs": [],
   "source": [
    "data = data.pipe(filter_cols)"
   ],
   "metadata": {
    "collapsed": false,
    "ExecuteTime": {
     "start_time": "2024-03-06T17:17:58.858334Z",
     "end_time": "2024-03-06T17:17:59.522010Z"
    }
   }
  },
  {
   "cell_type": "code",
   "execution_count": 30,
   "outputs": [
    {
     "data": {
      "text/plain": "shape: (10, 67)\n┌─────────┬────────────┬────────┬──────────┬───┬────────────┬────────────┬────────────┬────────────┐\n│ case_id ┆ date_decis ┆ MONTH  ┆ WEEK_NUM ┆ … ┆ first_cred ┆ first_cred ┆ first_cred ┆ first_cred │\n│ ---     ┆ ion        ┆ ---    ┆ ---      ┆   ┆ acc_cards_ ┆ acc_cards_ ┆ acc_cards_ ┆ acc_cards_ │\n│ i64     ┆ ---        ┆ i64    ┆ i64      ┆   ┆ status_52L ┆ status_52L ┆ status_52L ┆ status_52L │\n│         ┆ date       ┆        ┆          ┆   ┆ _B…        ┆ _R…        ┆ _U…        ┆ _-…        │\n│         ┆            ┆        ┆          ┆   ┆ ---        ┆ ---        ┆ ---        ┆ ---        │\n│         ┆            ┆        ┆          ┆   ┆ i64        ┆ i64        ┆ i64        ┆ i64        │\n╞═════════╪════════════╪════════╪══════════╪═══╪════════════╪════════════╪════════════╪════════════╡\n│ 0       ┆ 2019-01-03 ┆ 201901 ┆ 0        ┆ … ┆ 0          ┆ 0          ┆ 0          ┆ 0          │\n│ 1       ┆ 2019-01-03 ┆ 201901 ┆ 0        ┆ … ┆ 0          ┆ 0          ┆ 0          ┆ 0          │\n│ 2       ┆ 2019-01-04 ┆ 201901 ┆ 0        ┆ … ┆ 0          ┆ 0          ┆ 0          ┆ 0          │\n│ 3       ┆ 2019-01-03 ┆ 201901 ┆ 0        ┆ … ┆ 0          ┆ 0          ┆ 0          ┆ 0          │\n│ 4       ┆ 2019-01-04 ┆ 201901 ┆ 0        ┆ … ┆ 0          ┆ 0          ┆ 0          ┆ 0          │\n│ 5       ┆ 2019-01-02 ┆ 201901 ┆ 0        ┆ … ┆ 0          ┆ 0          ┆ 0          ┆ 0          │\n│ 6       ┆ 2019-01-03 ┆ 201901 ┆ 0        ┆ … ┆ 0          ┆ 0          ┆ 0          ┆ 0          │\n│ 7       ┆ 2019-01-03 ┆ 201901 ┆ 0        ┆ … ┆ 0          ┆ 0          ┆ 0          ┆ 0          │\n│ 8       ┆ 2019-01-03 ┆ 201901 ┆ 0        ┆ … ┆ 0          ┆ 0          ┆ 0          ┆ 0          │\n│ 9       ┆ 2019-01-03 ┆ 201901 ┆ 0        ┆ … ┆ 0          ┆ 0          ┆ 0          ┆ 0          │\n└─────────┴────────────┴────────┴──────────┴───┴────────────┴────────────┴────────────┴────────────┘",
      "text/html": "<div><style>\n.dataframe > thead > tr,\n.dataframe > tbody > tr {\n  text-align: right;\n  white-space: pre-wrap;\n}\n</style>\n<small>shape: (10, 67)</small><table border=\"1\" class=\"dataframe\"><thead><tr><th>case_id</th><th>date_decision</th><th>MONTH</th><th>WEEK_NUM</th><th>target</th><th>IS_TRAIN</th><th>n_unique_cacccardblochreas_147M</th><th>n_unique_conts_type_509L</th><th>n_unique_credacc_cards_status_52L</th><th>max_num_group1</th><th>max_num_group2</th><th>last_cacccardblochreas_147M_nan</th><th>last_cacccardblochreas_147M_a55475b1</th><th>last_cacccardblochreas_147M_P33_145_161</th><th>last_cacccardblochreas_147M_P201_63_60</th><th>last_cacccardblochreas_147M_P19_60_110</th><th>last_cacccardblochreas_147M_P133_119_56</th><th>last_cacccardblochreas_147M_P17_56_144</th><th>last_cacccardblochreas_147M_P41_107_150</th><th>last_cacccardblochreas_147M_-1</th><th>first_cacccardblochreas_147M_nan</th><th>first_cacccardblochreas_147M_a55475b1</th><th>first_cacccardblochreas_147M_P201_63_60</th><th>first_cacccardblochreas_147M_P19_60_110</th><th>first_cacccardblochreas_147M_P33_145_161</th><th>first_cacccardblochreas_147M_P133_119_56</th><th>first_cacccardblochreas_147M_P23_105_103</th><th>first_cacccardblochreas_147M_P17_56_144</th><th>first_cacccardblochreas_147M_P41_107_150</th><th>first_cacccardblochreas_147M_P127_74_114</th><th>first_cacccardblochreas_147M_-1</th><th>last_conts_type_509L_nan</th><th>last_conts_type_509L_EMPLOYMENT_PHONE</th><th>last_conts_type_509L_PRIMARY_EMAIL</th><th>last_conts_type_509L_HOME_PHONE</th><th>last_conts_type_509L_PRIMARY_MOBILE</th><th>last_conts_type_509L_PHONE</th><th>last_conts_type_509L_ALTERNATIVE_PHONE</th><th>last_conts_type_509L_WHATSAPP</th><th>last_conts_type_509L_SECONDARY_MOBILE</th><th>last_conts_type_509L_-1</th><th>first_conts_type_509L_nan</th><th>first_conts_type_509L_PRIMARY_MOBILE</th><th>first_conts_type_509L_PHONE</th><th>first_conts_type_509L_EMPLOYMENT_PHONE</th><th>first_conts_type_509L_HOME_PHONE</th><th>first_conts_type_509L_SECONDARY_MOBILE</th><th>first_conts_type_509L_PRIMARY_EMAIL</th><th>first_conts_type_509L_ALTERNATIVE_PHONE</th><th>first_conts_type_509L_WHATSAPP</th><th>first_conts_type_509L_-1</th><th>last_credacc_cards_status_52L_nan</th><th>last_credacc_cards_status_52L_CANCELLED</th><th>last_credacc_cards_status_52L_INACTIVE</th><th>last_credacc_cards_status_52L_ACTIVE</th><th>last_credacc_cards_status_52L_RENEWED</th><th>last_credacc_cards_status_52L_BLOCKED</th><th>last_credacc_cards_status_52L_UNCONFIRMED</th><th>last_credacc_cards_status_52L_-1</th><th>first_credacc_cards_status_52L_nan</th><th>first_credacc_cards_status_52L_CANCELLED</th><th>first_credacc_cards_status_52L_ACTIVE</th><th>first_credacc_cards_status_52L_INACTIVE</th><th>first_credacc_cards_status_52L_BLOCKED</th><th>first_credacc_cards_status_52L_RENEWED</th><th>first_credacc_cards_status_52L_UNCONFIRMED</th><th>first_credacc_cards_status_52L_-1</th></tr><tr><td>i64</td><td>date</td><td>i64</td><td>i64</td><td>i64</td><td>i32</td><td>u32</td><td>u32</td><td>u32</td><td>i64</td><td>i64</td><td>i64</td><td>i64</td><td>i64</td><td>i64</td><td>i64</td><td>i64</td><td>i64</td><td>i64</td><td>i64</td><td>i64</td><td>i64</td><td>i64</td><td>i64</td><td>i64</td><td>i64</td><td>i64</td><td>i64</td><td>i64</td><td>i64</td><td>i64</td><td>i64</td><td>i64</td><td>i64</td><td>i64</td><td>i64</td><td>i64</td><td>i64</td><td>i64</td><td>i64</td><td>i64</td><td>i64</td><td>i64</td><td>i64</td><td>i64</td><td>i64</td><td>i64</td><td>i64</td><td>i64</td><td>i64</td><td>i64</td><td>i64</td><td>i64</td><td>i64</td><td>i64</td><td>i64</td><td>i64</td><td>i64</td><td>i64</td><td>i64</td><td>i64</td><td>i64</td><td>i64</td><td>i64</td><td>i64</td><td>i64</td><td>i64</td></tr></thead><tbody><tr><td>0</td><td>2019-01-03</td><td>201901</td><td>0</td><td>0</td><td>1</td><td>1</td><td>1</td><td>1</td><td>null</td><td>null</td><td>1</td><td>0</td><td>0</td><td>0</td><td>0</td><td>0</td><td>0</td><td>0</td><td>0</td><td>1</td><td>0</td><td>0</td><td>0</td><td>0</td><td>0</td><td>0</td><td>0</td><td>0</td><td>0</td><td>0</td><td>1</td><td>0</td><td>0</td><td>0</td><td>0</td><td>0</td><td>0</td><td>0</td><td>0</td><td>0</td><td>1</td><td>0</td><td>0</td><td>0</td><td>0</td><td>0</td><td>0</td><td>0</td><td>0</td><td>0</td><td>1</td><td>0</td><td>0</td><td>0</td><td>0</td><td>0</td><td>0</td><td>0</td><td>1</td><td>0</td><td>0</td><td>0</td><td>0</td><td>0</td><td>0</td><td>0</td></tr><tr><td>1</td><td>2019-01-03</td><td>201901</td><td>0</td><td>0</td><td>1</td><td>1</td><td>1</td><td>1</td><td>null</td><td>null</td><td>1</td><td>0</td><td>0</td><td>0</td><td>0</td><td>0</td><td>0</td><td>0</td><td>0</td><td>1</td><td>0</td><td>0</td><td>0</td><td>0</td><td>0</td><td>0</td><td>0</td><td>0</td><td>0</td><td>0</td><td>1</td><td>0</td><td>0</td><td>0</td><td>0</td><td>0</td><td>0</td><td>0</td><td>0</td><td>0</td><td>1</td><td>0</td><td>0</td><td>0</td><td>0</td><td>0</td><td>0</td><td>0</td><td>0</td><td>0</td><td>1</td><td>0</td><td>0</td><td>0</td><td>0</td><td>0</td><td>0</td><td>0</td><td>1</td><td>0</td><td>0</td><td>0</td><td>0</td><td>0</td><td>0</td><td>0</td></tr><tr><td>2</td><td>2019-01-04</td><td>201901</td><td>0</td><td>0</td><td>1</td><td>1</td><td>2</td><td>1</td><td>1</td><td>1</td><td>1</td><td>0</td><td>0</td><td>0</td><td>0</td><td>0</td><td>0</td><td>0</td><td>0</td><td>1</td><td>0</td><td>0</td><td>0</td><td>0</td><td>0</td><td>0</td><td>0</td><td>0</td><td>0</td><td>0</td><td>0</td><td>1</td><td>0</td><td>0</td><td>0</td><td>0</td><td>0</td><td>0</td><td>0</td><td>0</td><td>0</td><td>1</td><td>0</td><td>0</td><td>0</td><td>0</td><td>0</td><td>0</td><td>0</td><td>0</td><td>1</td><td>0</td><td>0</td><td>0</td><td>0</td><td>0</td><td>0</td><td>0</td><td>1</td><td>0</td><td>0</td><td>0</td><td>0</td><td>0</td><td>0</td><td>0</td></tr><tr><td>3</td><td>2019-01-03</td><td>201901</td><td>0</td><td>0</td><td>1</td><td>1</td><td>3</td><td>1</td><td>0</td><td>2</td><td>1</td><td>0</td><td>0</td><td>0</td><td>0</td><td>0</td><td>0</td><td>0</td><td>0</td><td>1</td><td>0</td><td>0</td><td>0</td><td>0</td><td>0</td><td>0</td><td>0</td><td>0</td><td>0</td><td>0</td><td>0</td><td>0</td><td>1</td><td>0</td><td>0</td><td>0</td><td>0</td><td>0</td><td>0</td><td>0</td><td>0</td><td>0</td><td>1</td><td>0</td><td>0</td><td>0</td><td>0</td><td>0</td><td>0</td><td>0</td><td>1</td><td>0</td><td>0</td><td>0</td><td>0</td><td>0</td><td>0</td><td>0</td><td>1</td><td>0</td><td>0</td><td>0</td><td>0</td><td>0</td><td>0</td><td>0</td></tr><tr><td>4</td><td>2019-01-04</td><td>201901</td><td>0</td><td>1</td><td>1</td><td>1</td><td>2</td><td>1</td><td>0</td><td>1</td><td>1</td><td>0</td><td>0</td><td>0</td><td>0</td><td>0</td><td>0</td><td>0</td><td>0</td><td>1</td><td>0</td><td>0</td><td>0</td><td>0</td><td>0</td><td>0</td><td>0</td><td>0</td><td>0</td><td>0</td><td>0</td><td>0</td><td>0</td><td>1</td><td>0</td><td>0</td><td>0</td><td>0</td><td>0</td><td>0</td><td>0</td><td>1</td><td>0</td><td>0</td><td>0</td><td>0</td><td>0</td><td>0</td><td>0</td><td>0</td><td>1</td><td>0</td><td>0</td><td>0</td><td>0</td><td>0</td><td>0</td><td>0</td><td>1</td><td>0</td><td>0</td><td>0</td><td>0</td><td>0</td><td>0</td><td>0</td></tr><tr><td>5</td><td>2019-01-02</td><td>201901</td><td>0</td><td>0</td><td>1</td><td>1</td><td>1</td><td>1</td><td>0</td><td>0</td><td>1</td><td>0</td><td>0</td><td>0</td><td>0</td><td>0</td><td>0</td><td>0</td><td>0</td><td>1</td><td>0</td><td>0</td><td>0</td><td>0</td><td>0</td><td>0</td><td>0</td><td>0</td><td>0</td><td>0</td><td>0</td><td>0</td><td>0</td><td>0</td><td>1</td><td>0</td><td>0</td><td>0</td><td>0</td><td>0</td><td>0</td><td>1</td><td>0</td><td>0</td><td>0</td><td>0</td><td>0</td><td>0</td><td>0</td><td>0</td><td>1</td><td>0</td><td>0</td><td>0</td><td>0</td><td>0</td><td>0</td><td>0</td><td>1</td><td>0</td><td>0</td><td>0</td><td>0</td><td>0</td><td>0</td><td>0</td></tr><tr><td>6</td><td>2019-01-03</td><td>201901</td><td>0</td><td>0</td><td>1</td><td>1</td><td>3</td><td>1</td><td>2</td><td>1</td><td>1</td><td>0</td><td>0</td><td>0</td><td>0</td><td>0</td><td>0</td><td>0</td><td>0</td><td>1</td><td>0</td><td>0</td><td>0</td><td>0</td><td>0</td><td>0</td><td>0</td><td>0</td><td>0</td><td>0</td><td>0</td><td>1</td><td>0</td><td>0</td><td>0</td><td>0</td><td>0</td><td>0</td><td>0</td><td>0</td><td>0</td><td>1</td><td>0</td><td>0</td><td>0</td><td>0</td><td>0</td><td>0</td><td>0</td><td>0</td><td>1</td><td>0</td><td>0</td><td>0</td><td>0</td><td>0</td><td>0</td><td>0</td><td>1</td><td>0</td><td>0</td><td>0</td><td>0</td><td>0</td><td>0</td><td>0</td></tr><tr><td>7</td><td>2019-01-03</td><td>201901</td><td>0</td><td>0</td><td>1</td><td>1</td><td>1</td><td>1</td><td>null</td><td>null</td><td>1</td><td>0</td><td>0</td><td>0</td><td>0</td><td>0</td><td>0</td><td>0</td><td>0</td><td>1</td><td>0</td><td>0</td><td>0</td><td>0</td><td>0</td><td>0</td><td>0</td><td>0</td><td>0</td><td>0</td><td>1</td><td>0</td><td>0</td><td>0</td><td>0</td><td>0</td><td>0</td><td>0</td><td>0</td><td>0</td><td>1</td><td>0</td><td>0</td><td>0</td><td>0</td><td>0</td><td>0</td><td>0</td><td>0</td><td>0</td><td>1</td><td>0</td><td>0</td><td>0</td><td>0</td><td>0</td><td>0</td><td>0</td><td>1</td><td>0</td><td>0</td><td>0</td><td>0</td><td>0</td><td>0</td><td>0</td></tr><tr><td>8</td><td>2019-01-03</td><td>201901</td><td>0</td><td>0</td><td>1</td><td>1</td><td>1</td><td>1</td><td>null</td><td>null</td><td>1</td><td>0</td><td>0</td><td>0</td><td>0</td><td>0</td><td>0</td><td>0</td><td>0</td><td>1</td><td>0</td><td>0</td><td>0</td><td>0</td><td>0</td><td>0</td><td>0</td><td>0</td><td>0</td><td>0</td><td>1</td><td>0</td><td>0</td><td>0</td><td>0</td><td>0</td><td>0</td><td>0</td><td>0</td><td>0</td><td>1</td><td>0</td><td>0</td><td>0</td><td>0</td><td>0</td><td>0</td><td>0</td><td>0</td><td>0</td><td>1</td><td>0</td><td>0</td><td>0</td><td>0</td><td>0</td><td>0</td><td>0</td><td>1</td><td>0</td><td>0</td><td>0</td><td>0</td><td>0</td><td>0</td><td>0</td></tr><tr><td>9</td><td>2019-01-03</td><td>201901</td><td>0</td><td>0</td><td>1</td><td>1</td><td>1</td><td>1</td><td>null</td><td>null</td><td>1</td><td>0</td><td>0</td><td>0</td><td>0</td><td>0</td><td>0</td><td>0</td><td>0</td><td>1</td><td>0</td><td>0</td><td>0</td><td>0</td><td>0</td><td>0</td><td>0</td><td>0</td><td>0</td><td>0</td><td>1</td><td>0</td><td>0</td><td>0</td><td>0</td><td>0</td><td>0</td><td>0</td><td>0</td><td>0</td><td>1</td><td>0</td><td>0</td><td>0</td><td>0</td><td>0</td><td>0</td><td>0</td><td>0</td><td>0</td><td>1</td><td>0</td><td>0</td><td>0</td><td>0</td><td>0</td><td>0</td><td>0</td><td>1</td><td>0</td><td>0</td><td>0</td><td>0</td><td>0</td><td>0</td><td>0</td></tr></tbody></table></div>"
     },
     "execution_count": 30,
     "metadata": {},
     "output_type": "execute_result"
    }
   ],
   "source": [
    "data.head(10)"
   ],
   "metadata": {
    "collapsed": false,
    "ExecuteTime": {
     "start_time": "2024-03-06T17:18:02.184821Z",
     "end_time": "2024-03-06T17:18:02.209549Z"
    }
   }
  },
  {
   "cell_type": "code",
   "execution_count": 31,
   "outputs": [],
   "source": [
    "data = data.drop('date_decision', 'MONTH', 'WEEK_NUM', 'target')"
   ],
   "metadata": {
    "collapsed": false,
    "ExecuteTime": {
     "start_time": "2024-03-06T17:18:07.628416Z",
     "end_time": "2024-03-06T17:18:07.633845Z"
    }
   }
  },
  {
   "cell_type": "code",
   "execution_count": 32,
   "outputs": [
    {
     "data": {
      "text/plain": "(1526669, 63)"
     },
     "execution_count": 32,
     "metadata": {},
     "output_type": "execute_result"
    }
   ],
   "source": [
    "data.shape"
   ],
   "metadata": {
    "collapsed": false,
    "ExecuteTime": {
     "start_time": "2024-03-06T17:18:08.819221Z",
     "end_time": "2024-03-06T17:18:08.828006Z"
    }
   }
  },
  {
   "cell_type": "code",
   "execution_count": 33,
   "outputs": [],
   "source": [
    "preprocess_dir_path = \"/Users/sophie/workspace/data/kaggle/home-credit-credit-risk-model-stability/preprocess\"\n",
    "preprocess_file = 'applprev_2.parquet'\n",
    "preprocess_file_path = Path(os.path.join(preprocess_dir_path, preprocess_file))\n",
    "data.write_parquet(preprocess_file_path)"
   ],
   "metadata": {
    "collapsed": false,
    "ExecuteTime": {
     "start_time": "2024-03-06T17:18:31.369190Z",
     "end_time": "2024-03-06T17:18:32.094521Z"
    }
   }
  },
  {
   "cell_type": "code",
   "execution_count": null,
   "outputs": [],
   "source": [],
   "metadata": {
    "collapsed": false
   }
  }
 ],
 "metadata": {
  "kernelspec": {
   "display_name": "Python 3",
   "language": "python",
   "name": "python3"
  },
  "language_info": {
   "codemirror_mode": {
    "name": "ipython",
    "version": 2
   },
   "file_extension": ".py",
   "mimetype": "text/x-python",
   "name": "python",
   "nbconvert_exporter": "python",
   "pygments_lexer": "ipython2",
   "version": "2.7.6"
  }
 },
 "nbformat": 4,
 "nbformat_minor": 0
}
